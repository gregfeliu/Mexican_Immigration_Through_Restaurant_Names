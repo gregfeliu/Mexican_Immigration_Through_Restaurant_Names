{
 "cells": [
  {
   "cell_type": "code",
   "execution_count": 265,
   "metadata": {},
   "outputs": [],
   "source": [
    "import pandas as pd\n",
    "import pickle\n",
    "import re\n",
    "# ^^^ pyforest auto-imports - don't write above this line\n"
   ]
  },
  {
   "cell_type": "markdown",
   "metadata": {},
   "source": [
    "# Imports"
   ]
  },
  {
   "cell_type": "markdown",
   "metadata": {},
   "source": [
    "## Libraries\n",
    "Now sure if pyforest would import them properly"
   ]
  },
  {
   "cell_type": "code",
   "execution_count": 1064,
   "metadata": {},
   "outputs": [],
   "source": [
    "import time\n",
    "import requests\n",
    "import folium\n",
    "import unidecode"
   ]
  },
  {
   "cell_type": "markdown",
   "metadata": {},
   "source": [
    "## Demonym Dictionary"
   ]
  },
  {
   "cell_type": "code",
   "execution_count": 1065,
   "metadata": {},
   "outputs": [],
   "source": [
    "with open(\"demonym_dictionary.pickle\", \"rb+\") as f:\n",
    "    demonym_dictionary = pickle.load(f)"
   ]
  },
  {
   "cell_type": "markdown",
   "metadata": {},
   "source": [
    "# Adding City (Restaurant Inspection) Data\n",
    "cities with most mexican immigrants in us: https://247wallst.com/economy/2017/01/27/us-cities-with-the-most-mexican-immigrants/"
   ]
  },
  {
   "cell_type": "markdown",
   "metadata": {},
   "source": [
    "## NYC"
   ]
  },
  {
   "cell_type": "code",
   "execution_count": 1066,
   "metadata": {},
   "outputs": [],
   "source": [
    "rest_insp = pd.read_csv(\"./food_inspections_data/DOHMH_New_York_City_Restaurant_Inspection_Results.csv\")"
   ]
  },
  {
   "cell_type": "code",
   "execution_count": 1067,
   "metadata": {},
   "outputs": [
    {
     "data": {
      "text/plain": [
       "Index(['CAMIS', 'DBA', 'BORO', 'BUILDING', 'STREET', 'ZIPCODE', 'PHONE',\n",
       "       'CUISINE DESCRIPTION', 'INSPECTION DATE', 'ACTION', 'VIOLATION CODE',\n",
       "       'VIOLATION DESCRIPTION', 'CRITICAL FLAG', 'SCORE', 'GRADE',\n",
       "       'GRADE DATE', 'RECORD DATE', 'INSPECTION TYPE', 'Latitude', 'Longitude',\n",
       "       'Community Board', 'Council District', 'Census Tract', 'BIN', 'BBL',\n",
       "       'NTA'],\n",
       "      dtype='object')"
      ]
     },
     "execution_count": 1067,
     "metadata": {},
     "output_type": "execute_result"
    }
   ],
   "source": [
    "rest_insp.columns"
   ]
  },
  {
   "cell_type": "code",
   "execution_count": 1068,
   "metadata": {},
   "outputs": [
    {
     "data": {
      "text/plain": [
       "84"
      ]
     },
     "execution_count": 1068,
     "metadata": {},
     "output_type": "execute_result"
    }
   ],
   "source": [
    "rest_insp['CUISINE DESCRIPTION'].nunique()"
   ]
  },
  {
   "cell_type": "code",
   "execution_count": 1069,
   "metadata": {},
   "outputs": [],
   "source": [
    "# rest_insp['CUISINE DESCRIPTION'].unique()"
   ]
  },
  {
   "cell_type": "code",
   "execution_count": 1070,
   "metadata": {},
   "outputs": [],
   "source": [
    "# tex-mex, mexican, latin\n",
    "mex_rest_insp = rest_insp[rest_insp['CUISINE DESCRIPTION'] == 'Mexican']"
   ]
  },
  {
   "cell_type": "code",
   "execution_count": 1071,
   "metadata": {},
   "outputs": [
    {
     "data": {
      "text/plain": [
       "(16656, 26)"
      ]
     },
     "execution_count": 1071,
     "metadata": {},
     "output_type": "execute_result"
    }
   ],
   "source": [
    "mex_rest_insp.shape"
   ]
  },
  {
   "cell_type": "code",
   "execution_count": 1072,
   "metadata": {
    "scrolled": true
   },
   "outputs": [
    {
     "data": {
      "text/html": [
       "<div>\n",
       "<style scoped>\n",
       "    .dataframe tbody tr th:only-of-type {\n",
       "        vertical-align: middle;\n",
       "    }\n",
       "\n",
       "    .dataframe tbody tr th {\n",
       "        vertical-align: top;\n",
       "    }\n",
       "\n",
       "    .dataframe thead th {\n",
       "        text-align: right;\n",
       "    }\n",
       "</style>\n",
       "<table border=\"1\" class=\"dataframe\">\n",
       "  <thead>\n",
       "    <tr style=\"text-align: right;\">\n",
       "      <th></th>\n",
       "      <th>CAMIS</th>\n",
       "      <th>DBA</th>\n",
       "      <th>BORO</th>\n",
       "      <th>BUILDING</th>\n",
       "      <th>STREET</th>\n",
       "      <th>ZIPCODE</th>\n",
       "      <th>PHONE</th>\n",
       "      <th>CUISINE DESCRIPTION</th>\n",
       "      <th>INSPECTION DATE</th>\n",
       "      <th>ACTION</th>\n",
       "      <th>...</th>\n",
       "      <th>RECORD DATE</th>\n",
       "      <th>INSPECTION TYPE</th>\n",
       "      <th>Latitude</th>\n",
       "      <th>Longitude</th>\n",
       "      <th>Community Board</th>\n",
       "      <th>Council District</th>\n",
       "      <th>Census Tract</th>\n",
       "      <th>BIN</th>\n",
       "      <th>BBL</th>\n",
       "      <th>NTA</th>\n",
       "    </tr>\n",
       "  </thead>\n",
       "  <tbody>\n",
       "    <tr>\n",
       "      <th>24</th>\n",
       "      <td>41571476</td>\n",
       "      <td>NATALIA BAR</td>\n",
       "      <td>Queens</td>\n",
       "      <td>62-10</td>\n",
       "      <td>39 AVENUE</td>\n",
       "      <td>11377.0</td>\n",
       "      <td>3477065942</td>\n",
       "      <td>Mexican</td>\n",
       "      <td>05/04/2018</td>\n",
       "      <td>Violations were cited in the following area(s).</td>\n",
       "      <td>...</td>\n",
       "      <td>06/14/2020</td>\n",
       "      <td>Cycle Inspection / Re-inspection</td>\n",
       "      <td>40.746844</td>\n",
       "      <td>-73.901406</td>\n",
       "      <td>402.0</td>\n",
       "      <td>26.0</td>\n",
       "      <td>26100.0</td>\n",
       "      <td>4028392.0</td>\n",
       "      <td>4.012320e+09</td>\n",
       "      <td>QN63</td>\n",
       "    </tr>\n",
       "    <tr>\n",
       "      <th>27</th>\n",
       "      <td>40996642</td>\n",
       "      <td>RECUERDOS MEXICANOS</td>\n",
       "      <td>Staten Island</td>\n",
       "      <td>232</td>\n",
       "      <td>PORT RICHMOND AVENUE</td>\n",
       "      <td>10302.0</td>\n",
       "      <td>7188155533</td>\n",
       "      <td>Mexican</td>\n",
       "      <td>10/22/2019</td>\n",
       "      <td>Violations were cited in the following area(s).</td>\n",
       "      <td>...</td>\n",
       "      <td>06/14/2020</td>\n",
       "      <td>Cycle Inspection / Initial Inspection</td>\n",
       "      <td>40.635784</td>\n",
       "      <td>-74.134935</td>\n",
       "      <td>501.0</td>\n",
       "      <td>49.0</td>\n",
       "      <td>20700.0</td>\n",
       "      <td>5025513.0</td>\n",
       "      <td>5.010820e+09</td>\n",
       "      <td>SI28</td>\n",
       "    </tr>\n",
       "  </tbody>\n",
       "</table>\n",
       "<p>2 rows × 26 columns</p>\n",
       "</div>"
      ],
      "text/plain": [
       "       CAMIS                  DBA           BORO BUILDING  \\\n",
       "24  41571476          NATALIA BAR         Queens    62-10   \n",
       "27  40996642  RECUERDOS MEXICANOS  Staten Island      232   \n",
       "\n",
       "                  STREET  ZIPCODE       PHONE CUISINE DESCRIPTION  \\\n",
       "24             39 AVENUE  11377.0  3477065942             Mexican   \n",
       "27  PORT RICHMOND AVENUE  10302.0  7188155533             Mexican   \n",
       "\n",
       "   INSPECTION DATE                                           ACTION  ...  \\\n",
       "24      05/04/2018  Violations were cited in the following area(s).  ...   \n",
       "27      10/22/2019  Violations were cited in the following area(s).  ...   \n",
       "\n",
       "   RECORD DATE                        INSPECTION TYPE   Latitude  Longitude  \\\n",
       "24  06/14/2020       Cycle Inspection / Re-inspection  40.746844 -73.901406   \n",
       "27  06/14/2020  Cycle Inspection / Initial Inspection  40.635784 -74.134935   \n",
       "\n",
       "   Community Board Council District Census Tract        BIN           BBL  \\\n",
       "24           402.0             26.0      26100.0  4028392.0  4.012320e+09   \n",
       "27           501.0             49.0      20700.0  5025513.0  5.010820e+09   \n",
       "\n",
       "     NTA  \n",
       "24  QN63  \n",
       "27  SI28  \n",
       "\n",
       "[2 rows x 26 columns]"
      ]
     },
     "execution_count": 1072,
     "metadata": {},
     "output_type": "execute_result"
    }
   ],
   "source": [
    "mex_rest_insp.head(2)"
   ]
  },
  {
   "cell_type": "markdown",
   "metadata": {},
   "source": [
    "### Removing duplicate restaurants from nyc mexican restaurants df"
   ]
  },
  {
   "cell_type": "code",
   "execution_count": 1073,
   "metadata": {},
   "outputs": [],
   "source": [
    "unique_nyc_mex = mex_rest_insp.drop_duplicates(subset=['DBA'], keep='first')"
   ]
  },
  {
   "cell_type": "code",
   "execution_count": 1074,
   "metadata": {},
   "outputs": [],
   "source": [
    "unique_nyc_mex.reset_index(inplace=True, drop=True)"
   ]
  },
  {
   "cell_type": "code",
   "execution_count": 1075,
   "metadata": {},
   "outputs": [
    {
     "data": {
      "text/plain": [
       "(849, 26)"
      ]
     },
     "execution_count": 1075,
     "metadata": {},
     "output_type": "execute_result"
    }
   ],
   "source": [
    "unique_nyc_mex.shape"
   ]
  },
  {
   "cell_type": "code",
   "execution_count": 1076,
   "metadata": {},
   "outputs": [
    {
     "data": {
      "text/plain": [
       "0.050972622478386166"
      ]
     },
     "execution_count": 1076,
     "metadata": {},
     "output_type": "execute_result"
    }
   ],
   "source": [
    "# a 95% reduction of the df!\n",
    "unique_nyc_mex.shape[0] / mex_rest_insp.shape[0]"
   ]
  },
  {
   "cell_type": "code",
   "execution_count": 1077,
   "metadata": {},
   "outputs": [],
   "source": [
    "# list of restaurant names to compare to values in demonym_dictionary\n",
    "nyc_rest_insp_names = [x.lower() for x in unique_nyc_mex['DBA']]"
   ]
  },
  {
   "cell_type": "markdown",
   "metadata": {},
   "source": [
    "### Getting matches "
   ]
  },
  {
   "cell_type": "code",
   "execution_count": 1078,
   "metadata": {},
   "outputs": [],
   "source": [
    "rest_matches_nyc = []\n",
    "# list of not-quite-real matches\n",
    "bad_matches = ['mexican', 'tequila', 'margarita', 'margaritas', 'mexico', 'pedro', 'azteca', 'paraiso'\n",
    "'mexico','rodeo','rio','maria','mexicanos','coyote','marcos','mama','bravo','viejo','perla','nuevo'\n",
    "'verde', 'gonzalez', 'corona', 'armadillo', 'arriba', 'palmas', 'delicias', 'blanco', 'crespo','tortuga']\n",
    "for item in nyc_rest_insp_names:\n",
    "    split_item = item.split()\n",
    "    for word in split_item:\n",
    "        for key, value in demonym_dictionary.items():\n",
    "            for city in value:\n",
    "                if word == city:\n",
    "                    if word not in bad_matches: # if not, the number of results is tripled\n",
    "                        rest_matches_nyc.append(item)"
   ]
  },
  {
   "cell_type": "code",
   "execution_count": 1079,
   "metadata": {},
   "outputs": [
    {
     "data": {
      "text/plain": [
       "259"
      ]
     },
     "execution_count": 1079,
     "metadata": {},
     "output_type": "execute_result"
    }
   ],
   "source": [
    "len(rest_matches_nyc)"
   ]
  },
  {
   "cell_type": "code",
   "execution_count": 1080,
   "metadata": {},
   "outputs": [
    {
     "data": {
      "text/plain": [
       "['puebla seafood',\n",
       " 'tacos puebla restaurant',\n",
       " 'guadalajara de dia no.  2',\n",
       " 'guadalajara de dia no.  2',\n",
       " 'el rincon grill & bar',\n",
       " 'el rincon grill & bar',\n",
       " 'el rincon grill & bar',\n",
       " 'nuevo mexico mexican restaurant',\n",
       " 'paraiso azteca restaurant',\n",
       " 'paraiso azteca restaurant',\n",
       " 'atlixco bakery & deli',\n",
       " 'el tenampa restaurant',\n",
       " 'el tenampa restaurant',\n",
       " 'guadalupe inn',\n",
       " 'guadalupe inn',\n",
       " 'guadalupe inn',\n",
       " 'guadalupe inn',\n",
       " 'guadalupe inn',\n",
       " 'guadalupe inn',\n",
       " 'guadalupe inn',\n",
       " 'guadalupe inn',\n",
       " 'guadalupe inn',\n",
       " 'guadalupe inn',\n",
       " 'guadalupe inn',\n",
       " 'guadalupe inn',\n",
       " 'guadalupe inn',\n",
       " 'guadalupe inn',\n",
       " 'guadalupe inn',\n",
       " 'noches de palenque',\n",
       " 'noches de palenque',\n",
       " 'mi pequena cholula deli restaurante',\n",
       " 'mi pequena cholula deli restaurante',\n",
       " 'piaxtla es mexico deli',\n",
       " 'sonora',\n",
       " 'tulcingo restaurant',\n",
       " 'mama  puebla',\n",
       " 'estrellita poblana # 1',\n",
       " 'atla',\n",
       " 'el barril restaurant',\n",
       " 'oaxaca taqueria',\n",
       " 'el tapatio mexican restaurant',\n",
       " 'cuautla morelos restaurant',\n",
       " 'cuautla morelos restaurant',\n",
       " 'cuautla morelos restaurant',\n",
       " 'cuautla morelos restaurant',\n",
       " 'cuautla morelos restaurant',\n",
       " 'cuautla morelos restaurant',\n",
       " 'cuautla morelos restaurant',\n",
       " 'rinconcito tepeyac',\n",
       " 'tacos tijuana',\n",
       " 'tacos tijuana',\n",
       " 'el nuevo tenampa restaurant',\n",
       " 'el nuevo tenampa restaurant',\n",
       " 'el nuevo tenampa restaurant',\n",
       " 'taqueria cocoyoc',\n",
       " 'nuevo tulcingo azteca',\n",
       " 'nuevo tulcingo azteca',\n",
       " 'coszcal de allende restaurant',\n",
       " 'coszcal de allende restaurant',\n",
       " 'coszcal de allende restaurant',\n",
       " 'coszcal de allende restaurant',\n",
       " 'coszcal de allende restaurant',\n",
       " 'coszcal de allende restaurant',\n",
       " 'coszcal de allende restaurant',\n",
       " 'coszcal de allende restaurant',\n",
       " 'coszcal de allende restaurant',\n",
       " 'coszcal de allende restaurant',\n",
       " 'coszcal de allende restaurant',\n",
       " 'coszcal de allende restaurant',\n",
       " 'oaxaca taqueria- murray hill',\n",
       " 'tacos matamoros restaurant',\n",
       " 'tacos matamoros restaurant',\n",
       " 'tacos matamoros restaurant',\n",
       " 'tacos matamoros restaurant',\n",
       " 'tacos matamoros restaurant',\n",
       " 'tacos matamoros restaurant',\n",
       " 'tacos matamoros restaurant',\n",
       " 'tacos matamoros restaurant',\n",
       " 'tacos matamoros restaurant',\n",
       " 'tacos matamoros restaurant',\n",
       " 'tulcingo cafe',\n",
       " 'new taqueria puebla',\n",
       " 'puebla puebla bar restaurant',\n",
       " 'puebla puebla bar restaurant',\n",
       " 'arcos de puebla',\n",
       " 'mi pueblito bakery/comida tipica mexicana',\n",
       " 'mi pueblito bakery/comida tipica mexicana',\n",
       " 'la esperanza mexican deli grocery & vegetables',\n",
       " 'la esperanza mexican deli grocery & vegetables',\n",
       " 'la esperanza mexican deli grocery & vegetables',\n",
       " 'la esperanza mexican deli grocery & vegetables',\n",
       " 'la esperanza mexican deli grocery & vegetables',\n",
       " 'el ranchito poblano restaurant',\n",
       " 'aqui en bella puebla mexican restaurant',\n",
       " 'los hermanos salazar restaurant',\n",
       " 'panaderia la mixteca poblana & deli',\n",
       " 'el paisa tepeaca',\n",
       " 'landin macaroni & cheese',\n",
       " 'tortas morelos',\n",
       " 'parilla azteca',\n",
       " 'regalo de juquila -2',\n",
       " 'la palapa',\n",
       " 'cafe morelos',\n",
       " 'taqueria coatzingo',\n",
       " 'the little chinantla restaurant',\n",
       " 'the little chinantla restaurant',\n",
       " 'cienega las tlayudas de oaxaca',\n",
       " 'cienega las tlayudas de oaxaca',\n",
       " 'cienega las tlayudas de oaxaca',\n",
       " 'cienega las tlayudas de oaxaca',\n",
       " 'cienega las tlayudas de oaxaca',\n",
       " 'mi lindo san miguelito',\n",
       " 'taqueria acatlan',\n",
       " 'taqueria acatlan',\n",
       " 'taqueria acatlan',\n",
       " 'taqueria acatlan',\n",
       " 'taqueria acatlan',\n",
       " 'taqueria acatlan',\n",
       " 'estrellita poblana',\n",
       " 'paraiso mexican restaurant',\n",
       " 'paraiso mexican restaurant',\n",
       " 'el mirador restaurant',\n",
       " 'delicias puebla',\n",
       " 'acapulco deli & restaurant',\n",
       " 'estrellita poblana ii',\n",
       " 'chilpancingo restaurant',\n",
       " 'chilpancingo restaurant',\n",
       " 'cholula deli grocery',\n",
       " 'cholula deli grocery',\n",
       " 'diamante poblano restaurant',\n",
       " 'las maravillas de mexico restaurant',\n",
       " 'las maravillas de mexico restaurant',\n",
       " 'las maravillas de mexico restaurant',\n",
       " 'las maravillas de mexico restaurant',\n",
       " 'las maravillas de mexico restaurant',\n",
       " \"jalisco taco's\",\n",
       " 'oaxaca taqueria, hoyt st',\n",
       " 'guadalupe bar and grill',\n",
       " 'guadalupe bar and grill',\n",
       " 'guadalupe bar and grill',\n",
       " 'guadalupe bar and grill',\n",
       " 'guadalupe bar and grill',\n",
       " 'guadalupe bar and grill',\n",
       " 'guadalupe bar and grill',\n",
       " 'guadalupe bar and grill',\n",
       " 'guadalupe bar and grill',\n",
       " 'guadalupe bar and grill',\n",
       " 'guadalupe bar and grill',\n",
       " 'guadalupe bar and grill',\n",
       " 'guadalupe bar and grill',\n",
       " 'guadalupe bar and grill',\n",
       " 'guadalupe bar and grill',\n",
       " 'plaza tulcingo restaurant',\n",
       " 'tacos el nopal',\n",
       " 'mi taco santana',\n",
       " 'el nuevo taco veloz',\n",
       " 'las banderas',\n",
       " 'las banderas',\n",
       " 'tepache',\n",
       " 'taqueria guerrero',\n",
       " 'tulcingo azteca restaurant',\n",
       " 'nealtican corner',\n",
       " 'tacos cuautla morales',\n",
       " 'tacos cuautla morales',\n",
       " 'tacos cuautla morales',\n",
       " 'tacos cuautla morales',\n",
       " 'tacos cuautla morales',\n",
       " 'tacos cuautla morales',\n",
       " 'tacos cuautla morales',\n",
       " 'rosarito fish shack & shelter pizza',\n",
       " 'rosarito fish shack & shelter pizza',\n",
       " 'taqueria guadalupe',\n",
       " 'taqueria guadalupe',\n",
       " 'taqueria guadalupe',\n",
       " 'taqueria guadalupe',\n",
       " 'taqueria guadalupe',\n",
       " 'taqueria guadalupe',\n",
       " 'taqueria guadalupe',\n",
       " 'taqueria guadalupe',\n",
       " 'taqueria guadalupe',\n",
       " 'taqueria guadalupe',\n",
       " 'taqueria guadalupe',\n",
       " 'taqueria guadalupe',\n",
       " 'taqueria guadalupe',\n",
       " 'taqueria guadalupe',\n",
       " 'taqueria guadalupe',\n",
       " 'el aguila',\n",
       " 'tijuana picnic',\n",
       " 'tijuana picnic',\n",
       " 'chinantla restaurant',\n",
       " 'chinantla restaurant',\n",
       " 'xochimilco family rest',\n",
       " 'xochimilco family rest',\n",
       " 'xochimilco family rest',\n",
       " 'xochimilco family rest',\n",
       " 'el rincon de mexico',\n",
       " 'el rincon de mexico',\n",
       " 'el rincon de mexico',\n",
       " 'chihuahua',\n",
       " 'puebla restaurant',\n",
       " 'vida verde',\n",
       " 'la flor de izucar bakery',\n",
       " 'tajin restaurant',\n",
       " 'cholula express deli & restaurant',\n",
       " 'cholula express deli & restaurant',\n",
       " 'mesa coyoacan',\n",
       " 'nuevo tacos al suadero',\n",
       " 'tacos morelos bar & restaurant',\n",
       " 'tacos california el reencuentro',\n",
       " 'tulcingo',\n",
       " 'san jose tulcingo deli',\n",
       " 'palomas',\n",
       " 'palomas',\n",
       " 'blue tijuana',\n",
       " 'blue tijuana',\n",
       " 'la mesa del rincon',\n",
       " 'la mesa del rincon',\n",
       " 'la mesa del rincon',\n",
       " '5 avenida tacos california',\n",
       " 'la guadalupe restaurant',\n",
       " 'la guadalupe restaurant',\n",
       " 'la guadalupe restaurant',\n",
       " 'la guadalupe restaurant',\n",
       " 'la guadalupe restaurant',\n",
       " 'la guadalupe restaurant',\n",
       " 'la guadalupe restaurant',\n",
       " 'la guadalupe restaurant',\n",
       " 'la guadalupe restaurant',\n",
       " 'la guadalupe restaurant',\n",
       " 'la guadalupe restaurant',\n",
       " 'la guadalupe restaurant',\n",
       " 'la guadalupe restaurant',\n",
       " 'la guadalupe restaurant',\n",
       " 'la guadalupe restaurant',\n",
       " 'la gran tijuana taqueria',\n",
       " 'la gran tijuana taqueria',\n",
       " 'taqueria sinaloense',\n",
       " 'la palapa tacos',\n",
       " 'cancun mexican restaurant',\n",
       " 'tepango restaurant',\n",
       " 'estrellita poblana taqueria express',\n",
       " 'coatzingo restaurant',\n",
       " 'los cuatro reyes',\n",
       " 'los cuatro reyes',\n",
       " 'los cuatro reyes',\n",
       " 'los cuatro reyes',\n",
       " 'los cuatro reyes',\n",
       " 'los cuatro reyes',\n",
       " 'santa fe veracruzano',\n",
       " 'viva juarez restaurant',\n",
       " 'viva juarez restaurant',\n",
       " 'viva juarez restaurant',\n",
       " 'viva juarez restaurant',\n",
       " 'viva juarez restaurant',\n",
       " 'viva juarez restaurant',\n",
       " 'mi delicias puebla',\n",
       " 'el paraiso lounge',\n",
       " 'el paraiso lounge',\n",
       " 'puebla mexican food']"
      ]
     },
     "execution_count": 1080,
     "metadata": {},
     "output_type": "execute_result"
    }
   ],
   "source": [
    "rest_matches_nyc"
   ]
  },
  {
   "cell_type": "code",
   "execution_count": 1081,
   "metadata": {},
   "outputs": [],
   "source": [
    "unique_rest_matches_nyc = set(rest_matches_nyc)"
   ]
  },
  {
   "cell_type": "code",
   "execution_count": 1082,
   "metadata": {},
   "outputs": [
    {
     "data": {
      "text/plain": [
       "111"
      ]
     },
     "execution_count": 1082,
     "metadata": {},
     "output_type": "execute_result"
    }
   ],
   "source": [
    "# was 44 before additions to demonym dict ... was 169 before word corrections\n",
    "len(unique_rest_matches_nyc)"
   ]
  },
  {
   "cell_type": "markdown",
   "metadata": {},
   "source": [
    "### Getting Regions for Matches"
   ]
  },
  {
   "cell_type": "code",
   "execution_count": 1083,
   "metadata": {},
   "outputs": [],
   "source": [
    "restaurant_matches_nyc = {key: None for key in set(unique_rest_matches_nyc)}"
   ]
  },
  {
   "cell_type": "code",
   "execution_count": 1084,
   "metadata": {},
   "outputs": [],
   "source": [
    "for key, value in restaurant_matches_nyc.items():\n",
    "    split_item = key.split()\n",
    "    for word in split_item:\n",
    "        for key1, value1 in demonym_dictionary.items():\n",
    "            for city in value1:\n",
    "                if word == city:\n",
    "                    value_info = [key1, city]\n",
    "                    restaurant_matches_nyc[key] = value_info"
   ]
  },
  {
   "cell_type": "code",
   "execution_count": 1085,
   "metadata": {
    "scrolled": true
   },
   "outputs": [
    {
     "data": {
      "text/plain": [
       "111"
      ]
     },
     "execution_count": 1085,
     "metadata": {},
     "output_type": "execute_result"
    }
   ],
   "source": [
    "len(restaurant_matches_nyc)"
   ]
  },
  {
   "cell_type": "markdown",
   "metadata": {},
   "source": [
    "#### Removing all entries that passed filter incorrectly"
   ]
  },
  {
   "cell_type": "code",
   "execution_count": 1086,
   "metadata": {},
   "outputs": [],
   "source": [
    "bad_keys = []\n",
    "bad_matches = ['mexican','mexico','mexicanos','azteca','esperanza','estrada','esperanzas','salero','pinos',\n",
    "                  'maria', 'bravo', 'nuevo', 'progreso', 'delicias', 'comales', 'palmas', 'palenque', 'concordia',\n",
    "                 'china', 'gym', 'paloma', 'rio', 'mex', 'tequila', 'colorado', 'ventana', 'lom', 'garcia', 'paz',\n",
    "                 'chavez', 'paraiso', 'senor', 'oriental', 'fronteras', 'tap', 'aca', 'purisima', 'rodriguez',\n",
    "                 'hernandez', 'sanchez', 'victoria', 'oasis', 'cash', 'pinas', 'yaa', 'tap', 'meson','agustin',\n",
    "                 'agustin', 'limon', 'alamo', 'slp', 'providencia', 'reyes', 'lom', 'verde', 'perla', 'madrid', \n",
    "                 'delta', 'mama', 'lopez', 'honey', 'laurel', 'california pizza kitchen', 'sauces', 'laguna', \n",
    "              'dolores', 'presidio', 'ver', 'bernal', 'rincon', 'marin', 'palma', 'potrero', 'mid', 'valencia',\n",
    "              'aura', 'kava', 'pueblito', 'castillo', 'tam', 'marcos', 'montecristo', 'tinajas', 'alvarado',\n",
    "              'porvenir', 'nieves', 'mina', 'marin', \"alamos\", 'reforma', 'jal', 'margaritas', 'california']\n",
    "for key, value in restaurant_matches_nyc.items():\n",
    "    if value[1] in bad_matches:\n",
    "        bad_keys.append(key)"
   ]
  },
  {
   "cell_type": "code",
   "execution_count": 1087,
   "metadata": {},
   "outputs": [
    {
     "data": {
      "text/plain": [
       "25"
      ]
     },
     "execution_count": 1087,
     "metadata": {},
     "output_type": "execute_result"
    }
   ],
   "source": [
    "len(bad_keys)"
   ]
  },
  {
   "cell_type": "code",
   "execution_count": 1088,
   "metadata": {},
   "outputs": [],
   "source": [
    "for x in bad_keys:\n",
    "    if restaurant_matches_nyc.get(x) != None:\n",
    "        del restaurant_matches_nyc[x]"
   ]
  },
  {
   "cell_type": "code",
   "execution_count": 1089,
   "metadata": {},
   "outputs": [
    {
     "data": {
      "text/plain": [
       "86"
      ]
     },
     "execution_count": 1089,
     "metadata": {},
     "output_type": "execute_result"
    }
   ],
   "source": [
    "len(restaurant_matches_nyc)"
   ]
  },
  {
   "cell_type": "code",
   "execution_count": 1090,
   "metadata": {},
   "outputs": [
    {
     "data": {
      "text/plain": [
       "[('estrellita poblana', ['Puebla', 'poblana']),\n",
       " ('estrellita poblana taqueria express', ['Puebla', 'poblana'])]"
      ]
     },
     "execution_count": 1090,
     "metadata": {},
     "output_type": "execute_result"
    }
   ],
   "source": [
    "list(restaurant_matches_nyc.items())[:2]"
   ]
  },
  {
   "cell_type": "markdown",
   "metadata": {},
   "source": [
    "### Getting coordinates for each restaurant"
   ]
  },
  {
   "cell_type": "code",
   "execution_count": 1091,
   "metadata": {},
   "outputs": [],
   "source": [
    "region_in_name = []\n",
    "for x in unique_nyc_mex['DBA']:\n",
    "    if x.lower() in restaurant_matches_nyc.keys():\n",
    "        region_in_name.append(1)\n",
    "    else:\n",
    "        region_in_name.append(0)"
   ]
  },
  {
   "cell_type": "code",
   "execution_count": 1092,
   "metadata": {},
   "outputs": [
    {
     "name": "stderr",
     "output_type": "stream",
     "text": [
      "/Users/gregfeliu/opt/anaconda3/envs/learn-env/lib/python3.6/site-packages/ipykernel_launcher.py:1: SettingWithCopyWarning: \n",
      "A value is trying to be set on a copy of a slice from a DataFrame.\n",
      "Try using .loc[row_indexer,col_indexer] = value instead\n",
      "\n",
      "See the caveats in the documentation: https://pandas.pydata.org/pandas-docs/stable/user_guide/indexing.html#returning-a-view-versus-a-copy\n",
      "  \"\"\"Entry point for launching an IPython kernel.\n"
     ]
    }
   ],
   "source": [
    "unique_nyc_mex['region_in_name'] = region_in_name"
   ]
  },
  {
   "cell_type": "code",
   "execution_count": 1093,
   "metadata": {},
   "outputs": [],
   "source": [
    "nyc_mex_rest_w_region = unique_nyc_mex[unique_nyc_mex['region_in_name'] == 1]"
   ]
  },
  {
   "cell_type": "code",
   "execution_count": 1094,
   "metadata": {},
   "outputs": [
    {
     "data": {
      "text/plain": [
       "(86, 27)"
      ]
     },
     "execution_count": 1094,
     "metadata": {},
     "output_type": "execute_result"
    }
   ],
   "source": [
    "nyc_mex_rest_w_region.shape"
   ]
  },
  {
   "cell_type": "code",
   "execution_count": 1095,
   "metadata": {},
   "outputs": [
    {
     "data": {
      "text/plain": [
       "86"
      ]
     },
     "execution_count": 1095,
     "metadata": {},
     "output_type": "execute_result"
    }
   ],
   "source": [
    "nyc_mex_rest_w_region.DBA.nunique()"
   ]
  },
  {
   "cell_type": "code",
   "execution_count": 1096,
   "metadata": {},
   "outputs": [],
   "source": [
    "nyc_mex_rest_w_region.reset_index(inplace=True, drop=True)"
   ]
  },
  {
   "cell_type": "code",
   "execution_count": 1097,
   "metadata": {},
   "outputs": [
    {
     "data": {
      "text/html": [
       "<div>\n",
       "<style scoped>\n",
       "    .dataframe tbody tr th:only-of-type {\n",
       "        vertical-align: middle;\n",
       "    }\n",
       "\n",
       "    .dataframe tbody tr th {\n",
       "        vertical-align: top;\n",
       "    }\n",
       "\n",
       "    .dataframe thead th {\n",
       "        text-align: right;\n",
       "    }\n",
       "</style>\n",
       "<table border=\"1\" class=\"dataframe\">\n",
       "  <thead>\n",
       "    <tr style=\"text-align: right;\">\n",
       "      <th></th>\n",
       "      <th>CAMIS</th>\n",
       "      <th>DBA</th>\n",
       "      <th>BORO</th>\n",
       "      <th>BUILDING</th>\n",
       "      <th>STREET</th>\n",
       "      <th>ZIPCODE</th>\n",
       "      <th>PHONE</th>\n",
       "      <th>CUISINE DESCRIPTION</th>\n",
       "      <th>INSPECTION DATE</th>\n",
       "      <th>ACTION</th>\n",
       "      <th>...</th>\n",
       "      <th>INSPECTION TYPE</th>\n",
       "      <th>Latitude</th>\n",
       "      <th>Longitude</th>\n",
       "      <th>Community Board</th>\n",
       "      <th>Council District</th>\n",
       "      <th>Census Tract</th>\n",
       "      <th>BIN</th>\n",
       "      <th>BBL</th>\n",
       "      <th>NTA</th>\n",
       "      <th>region_in_name</th>\n",
       "    </tr>\n",
       "  </thead>\n",
       "  <tbody>\n",
       "    <tr>\n",
       "      <th>0</th>\n",
       "      <td>40909425</td>\n",
       "      <td>PUEBLA SEAFOOD</td>\n",
       "      <td>Queens</td>\n",
       "      <td>95-27</td>\n",
       "      <td>ROOSEVELT AVENUE</td>\n",
       "      <td>11372.0</td>\n",
       "      <td>7186723556</td>\n",
       "      <td>Mexican</td>\n",
       "      <td>04/19/2019</td>\n",
       "      <td>Violations were cited in the following area(s).</td>\n",
       "      <td>...</td>\n",
       "      <td>Cycle Inspection / Initial Inspection</td>\n",
       "      <td>40.749015</td>\n",
       "      <td>-73.870844</td>\n",
       "      <td>403.0</td>\n",
       "      <td>21.0</td>\n",
       "      <td>27300.0</td>\n",
       "      <td>4036619.0</td>\n",
       "      <td>4.014830e+09</td>\n",
       "      <td>QN28</td>\n",
       "      <td>1</td>\n",
       "    </tr>\n",
       "    <tr>\n",
       "      <th>1</th>\n",
       "      <td>41292582</td>\n",
       "      <td>TACOS PUEBLA RESTAURANT</td>\n",
       "      <td>Bronx</td>\n",
       "      <td>2181</td>\n",
       "      <td>GRAND CONCOURSE</td>\n",
       "      <td>10453.0</td>\n",
       "      <td>7182205463</td>\n",
       "      <td>Mexican</td>\n",
       "      <td>08/13/2019</td>\n",
       "      <td>Violations were cited in the following area(s).</td>\n",
       "      <td>...</td>\n",
       "      <td>Cycle Inspection / Re-inspection</td>\n",
       "      <td>40.855330</td>\n",
       "      <td>-73.901288</td>\n",
       "      <td>205.0</td>\n",
       "      <td>14.0</td>\n",
       "      <td>23704.0</td>\n",
       "      <td>2013760.0</td>\n",
       "      <td>2.031620e+09</td>\n",
       "      <td>BX40</td>\n",
       "      <td>1</td>\n",
       "    </tr>\n",
       "  </tbody>\n",
       "</table>\n",
       "<p>2 rows × 27 columns</p>\n",
       "</div>"
      ],
      "text/plain": [
       "      CAMIS                      DBA    BORO BUILDING            STREET  \\\n",
       "0  40909425           PUEBLA SEAFOOD  Queens    95-27  ROOSEVELT AVENUE   \n",
       "1  41292582  TACOS PUEBLA RESTAURANT   Bronx     2181   GRAND CONCOURSE   \n",
       "\n",
       "   ZIPCODE       PHONE CUISINE DESCRIPTION INSPECTION DATE  \\\n",
       "0  11372.0  7186723556             Mexican      04/19/2019   \n",
       "1  10453.0  7182205463             Mexican      08/13/2019   \n",
       "\n",
       "                                            ACTION  ...  \\\n",
       "0  Violations were cited in the following area(s).  ...   \n",
       "1  Violations were cited in the following area(s).  ...   \n",
       "\n",
       "                         INSPECTION TYPE   Latitude  Longitude  \\\n",
       "0  Cycle Inspection / Initial Inspection  40.749015 -73.870844   \n",
       "1       Cycle Inspection / Re-inspection  40.855330 -73.901288   \n",
       "\n",
       "   Community Board Council District Census Tract        BIN           BBL  \\\n",
       "0            403.0             21.0      27300.0  4036619.0  4.014830e+09   \n",
       "1            205.0             14.0      23704.0  2013760.0  2.031620e+09   \n",
       "\n",
       "    NTA  region_in_name  \n",
       "0  QN28               1  \n",
       "1  BX40               1  \n",
       "\n",
       "[2 rows x 27 columns]"
      ]
     },
     "execution_count": 1097,
     "metadata": {},
     "output_type": "execute_result"
    }
   ],
   "source": [
    "nyc_mex_rest_w_region.head(2)"
   ]
  },
  {
   "cell_type": "markdown",
   "metadata": {},
   "source": [
    "### Count of regions represented in nyc mexican restaurant names"
   ]
  },
  {
   "cell_type": "code",
   "execution_count": 1098,
   "metadata": {},
   "outputs": [],
   "source": [
    "regions_represented = []\n",
    "for key, value in restaurant_matches_nyc.items():\n",
    "    if value[0] not in regions_represented:\n",
    "        regions_represented.append(value[0])"
   ]
  },
  {
   "cell_type": "code",
   "execution_count": 1099,
   "metadata": {},
   "outputs": [
    {
     "data": {
      "text/plain": [
       "['Puebla', 'Yucatan', 'Guerrero']"
      ]
     },
     "execution_count": 1099,
     "metadata": {},
     "output_type": "execute_result"
    }
   ],
   "source": [
    "regions_represented[0:3]"
   ]
  },
  {
   "cell_type": "code",
   "execution_count": 1100,
   "metadata": {},
   "outputs": [],
   "source": [
    "region_list = []\n",
    "for x in nyc_mex_rest_w_region['DBA']:\n",
    "    region_list.append(restaurant_matches_nyc[x.lower()][0])"
   ]
  },
  {
   "cell_type": "code",
   "execution_count": 1101,
   "metadata": {},
   "outputs": [
    {
     "data": {
      "text/plain": [
       "86"
      ]
     },
     "execution_count": 1101,
     "metadata": {},
     "output_type": "execute_result"
    }
   ],
   "source": [
    "len(region_list)"
   ]
  },
  {
   "cell_type": "code",
   "execution_count": 1102,
   "metadata": {},
   "outputs": [
    {
     "name": "stderr",
     "output_type": "stream",
     "text": [
      "/Users/gregfeliu/opt/anaconda3/envs/learn-env/lib/python3.6/site-packages/ipykernel_launcher.py:1: SettingWithCopyWarning: \n",
      "A value is trying to be set on a copy of a slice from a DataFrame.\n",
      "Try using .loc[row_indexer,col_indexer] = value instead\n",
      "\n",
      "See the caveats in the documentation: https://pandas.pydata.org/pandas-docs/stable/user_guide/indexing.html#returning-a-view-versus-a-copy\n",
      "  \"\"\"Entry point for launching an IPython kernel.\n"
     ]
    }
   ],
   "source": [
    "nyc_mex_rest_w_region['region'] = region_list"
   ]
  },
  {
   "cell_type": "code",
   "execution_count": 1103,
   "metadata": {},
   "outputs": [
    {
     "data": {
      "text/plain": [
       "Puebla                 32\n",
       "Yucatan                11\n",
       "Baja California         6\n",
       "Chihuahua               6\n",
       "Oaxaca                  4\n",
       "Morelos                 4\n",
       "Veracruz                3\n",
       "Tamaulipas              3\n",
       "Guerrero                2\n",
       "Quintana Roo            2\n",
       "Jalisco                 2\n",
       "Hidalgo                 2\n",
       "Mexico                  1\n",
       "Tlaxcala                1\n",
       "Sinaloa                 1\n",
       "Aguascalientes          1\n",
       "Durango                 1\n",
       "Tabasco                 1\n",
       "Sonora                  1\n",
       "Colima                  1\n",
       "Baja California Sur     1\n",
       "Name: region, dtype: int64"
      ]
     },
     "execution_count": 1103,
     "metadata": {},
     "output_type": "execute_result"
    }
   ],
   "source": [
    "# i get a lot of repeats with this method \n",
    "nyc_mex_rest_w_region['region'].value_counts()"
   ]
  },
  {
   "cell_type": "markdown",
   "metadata": {},
   "source": [
    "### Getting region counts as a percentage"
   ]
  },
  {
   "cell_type": "code",
   "execution_count": 1104,
   "metadata": {},
   "outputs": [],
   "source": [
    "nyc_region_counts_series = nyc_mex_rest_w_region['region'].value_counts()"
   ]
  },
  {
   "cell_type": "code",
   "execution_count": 1105,
   "metadata": {},
   "outputs": [],
   "source": [
    "nyc_region_counts_dict = nyc_region_counts_series.to_dict()"
   ]
  },
  {
   "cell_type": "code",
   "execution_count": 1106,
   "metadata": {},
   "outputs": [
    {
     "data": {
      "text/plain": [
       "dict"
      ]
     },
     "execution_count": 1106,
     "metadata": {},
     "output_type": "execute_result"
    }
   ],
   "source": [
    "type(nyc_region_counts_dict)"
   ]
  },
  {
   "cell_type": "code",
   "execution_count": 1107,
   "metadata": {},
   "outputs": [],
   "source": [
    "nyc_region_counts_dict_pct = {key: round(value/len(region_list), 2) \n",
    "                              for key, value in nyc_region_counts_dict.items()}"
   ]
  },
  {
   "cell_type": "code",
   "execution_count": 1108,
   "metadata": {},
   "outputs": [
    {
     "data": {
      "text/plain": [
       "[('Puebla', 0.37),\n",
       " ('Yucatan', 0.13),\n",
       " ('Baja California', 0.07),\n",
       " ('Chihuahua', 0.07),\n",
       " ('Oaxaca', 0.05)]"
      ]
     },
     "execution_count": 1108,
     "metadata": {},
     "output_type": "execute_result"
    }
   ],
   "source": [
    "list(nyc_region_counts_dict_pct.items())[0:5]"
   ]
  },
  {
   "cell_type": "markdown",
   "metadata": {},
   "source": [
    "### Getting Values that matches"
   ]
  },
  {
   "cell_type": "code",
   "execution_count": 1109,
   "metadata": {},
   "outputs": [],
   "source": [
    "nyc_values = {value[1]:0 for key, value in restaurant_matches_nyc.items()}"
   ]
  },
  {
   "cell_type": "code",
   "execution_count": 1110,
   "metadata": {},
   "outputs": [],
   "source": [
    "for key, value in restaurant_matches_nyc.items():\n",
    "    if value[1] in nyc_values.keys():\n",
    "        nyc_values[value[1]] += 1"
   ]
  },
  {
   "cell_type": "code",
   "execution_count": 1111,
   "metadata": {},
   "outputs": [
    {
     "name": "stdout",
     "output_type": "stream",
     "text": [
      "puebla 9\n",
      "poblana 5\n",
      "tulcingo 5\n",
      "guadalupe 4\n",
      "morelos 4\n"
     ]
    }
   ],
   "source": [
    "# https://careerkarma.com/blog/python-sort-a-dictionary-by-value/\n",
    "sort_values = sorted(nyc_values.items(), key=lambda x: x[1], reverse=True)\n",
    "for i in sort_values[0:5]:\n",
    "    print(i[0], i[1])"
   ]
  },
  {
   "cell_type": "markdown",
   "metadata": {},
   "source": [
    "### Adding to base_map"
   ]
  },
  {
   "cell_type": "code",
   "execution_count": 1112,
   "metadata": {},
   "outputs": [],
   "source": [
    "base_lat = 40.7128\n",
    "base_long = -74.0060\n",
    "base_map = folium.Map([base_lat, base_long], zoom_start=10, tiles=\"cartodbpositron\")"
   ]
  },
  {
   "cell_type": "code",
   "execution_count": 1113,
   "metadata": {},
   "outputs": [
    {
     "data": {
      "text/plain": [
       "21"
      ]
     },
     "execution_count": 1113,
     "metadata": {},
     "output_type": "execute_result"
    }
   ],
   "source": [
    "len(regions_represented)"
   ]
  },
  {
   "cell_type": "code",
   "execution_count": 1114,
   "metadata": {},
   "outputs": [
    {
     "data": {
      "text/plain": [
       "11"
      ]
     },
     "execution_count": 1114,
     "metadata": {},
     "output_type": "execute_result"
    }
   ],
   "source": [
    "# a color for each region\n",
    "color_list = [\"red\" 'blue', 'green', 'purple', 'orange', 'darkred',\n",
    "'lightred', 'beige', 'darkblue', 'darkgreen', 'cadetblue', 'darkpurple']\n",
    "#white’, ‘pink’, ‘lightblue’, ‘lightgreen’, ‘gray’, ‘black’, ‘lightgray’]\n",
    "len(color_list)"
   ]
  },
  {
   "cell_type": "code",
   "execution_count": 1117,
   "metadata": {},
   "outputs": [
    {
     "name": "stderr",
     "output_type": "stream",
     "text": [
      "/Users/gregfeliu/opt/anaconda3/envs/learn-env/lib/python3.6/site-packages/ipykernel_launcher.py:10: UserWarning: color argument of Icon should be one of: {'darkred', 'blue', 'lightgreen', 'darkblue', 'darkpurple', 'pink', 'purple', 'lightgrayblack', 'lightred', 'orange', 'beige', 'green', 'cadetblue', 'red', 'white', 'lightblue', 'darkgreen', 'gray'}.\n",
      "  # Remove the CWD from sys.path while we load stuff.\n"
     ]
    }
   ],
   "source": [
    "for x in range(nyc_mex_rest_w_region.shape[0]):\n",
    "    rest_name = nyc_mex_rest_w_region['DBA'][x].lower()\n",
    "    region_city_name = restaurant_matches_nyc[rest_name]\n",
    "    color_list_index = regions_represented.index(region_city_name[0])\n",
    "    if color_list_index >= 10: # to account for the most represented regions and use the colors available\n",
    "        color_list_index = 10\n",
    "    folium.Marker(\n",
    "            location = (nyc_mex_rest_w_region['Latitude'][x], nyc_mex_rest_w_region['Longitude'][x]),\n",
    "            popup = f\"name '{rest_name}', region '{region_city_name[0]}'\",\n",
    "            icon=folium.Icon(color=color_list[color_list_index])\n",
    "        ).add_to(base_map)"
   ]
  },
  {
   "cell_type": "code",
   "execution_count": 1118,
   "metadata": {
    "scrolled": true
   },
   "outputs": [
    {
     "data": {
      "text/html": [
       "<div style=\"width:100%;\"><div style=\"position:relative;width:100%;height:0;padding-bottom:60%;\"><iframe src=\"data:text/html;charset=utf-8;base64,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\" style=\"position:absolute;width:100%;height:100%;left:0;top:0;border:none !important;\" allowfullscreen webkitallowfullscreen mozallowfullscreen></iframe></div></div>"
      ],
      "text/plain": [
       "<folium.folium.Map at 0x128816b00>"
      ]
     },
     "execution_count": 1118,
     "metadata": {},
     "output_type": "execute_result"
    }
   ],
   "source": [
    "base_map"
   ]
  },
  {
   "cell_type": "markdown",
   "metadata": {},
   "source": [
    "### Saving the map"
   ]
  },
  {
   "cell_type": "code",
   "execution_count": 1119,
   "metadata": {},
   "outputs": [],
   "source": [
    "# base_map.save(\"mexican_restaurants_in_new_york_city_with_region_in_name.html\")"
   ]
  },
  {
   "cell_type": "markdown",
   "metadata": {
    "heading_collapsed": true
   },
   "source": [
    "### Map Legend"
   ]
  },
  {
   "cell_type": "code",
   "execution_count": 1120,
   "metadata": {
    "hidden": true
   },
   "outputs": [],
   "source": [
    "region_legend = []\n",
    "for key, value in restaurant_matches_nyc.items():\n",
    "    if value[0] not in region_legend:\n",
    "        region_legend.append(value[0])"
   ]
  },
  {
   "cell_type": "code",
   "execution_count": 1121,
   "metadata": {
    "hidden": true
   },
   "outputs": [],
   "source": [
    "full_legend = list(zip(region_legend, color_list[:-1]))"
   ]
  },
  {
   "cell_type": "code",
   "execution_count": 1122,
   "metadata": {
    "hidden": true
   },
   "outputs": [
    {
     "data": {
      "text/plain": [
       "[('Puebla', 'redblue'),\n",
       " ('Yucatan', 'green'),\n",
       " ('Guerrero', 'purple'),\n",
       " ('Tabasco', 'orange'),\n",
       " ('Chihuahua', 'darkred'),\n",
       " ('Hidalgo', 'lightred'),\n",
       " ('Sonora', 'beige'),\n",
       " ('Morelos', 'darkblue'),\n",
       " ('Baja California', 'darkgreen'),\n",
       " ('Tlaxcala', 'cadetblue')]"
      ]
     },
     "execution_count": 1122,
     "metadata": {},
     "output_type": "execute_result"
    }
   ],
   "source": [
    "# all other regions are \"darkpurple\"\n",
    "full_legend"
   ]
  },
  {
   "cell_type": "markdown",
   "metadata": {},
   "source": [
    "### Turning dictionary to df"
   ]
  },
  {
   "cell_type": "code",
   "execution_count": 1123,
   "metadata": {},
   "outputs": [],
   "source": [
    "rest_df = pd.DataFrame.from_dict(restaurant_matches_nyc, orient=\"index\")"
   ]
  },
  {
   "cell_type": "code",
   "execution_count": 1124,
   "metadata": {},
   "outputs": [],
   "source": [
    "rest_df.reset_index(inplace=True)"
   ]
  },
  {
   "cell_type": "code",
   "execution_count": 1125,
   "metadata": {},
   "outputs": [],
   "source": [
    "rest_df.columns = ['Restaurant_name', 'Region', 'Matching_word_w_region']"
   ]
  },
  {
   "cell_type": "code",
   "execution_count": 1380,
   "metadata": {},
   "outputs": [
    {
     "data": {
      "text/html": [
       "<div>\n",
       "<style scoped>\n",
       "    .dataframe tbody tr th:only-of-type {\n",
       "        vertical-align: middle;\n",
       "    }\n",
       "\n",
       "    .dataframe tbody tr th {\n",
       "        vertical-align: top;\n",
       "    }\n",
       "\n",
       "    .dataframe thead th {\n",
       "        text-align: right;\n",
       "    }\n",
       "</style>\n",
       "<table border=\"1\" class=\"dataframe\">\n",
       "  <thead>\n",
       "    <tr style=\"text-align: right;\">\n",
       "      <th></th>\n",
       "      <th>Region</th>\n",
       "      <th>Match</th>\n",
       "      <th>City</th>\n",
       "    </tr>\n",
       "    <tr>\n",
       "      <th>Restaurant_name</th>\n",
       "      <th></th>\n",
       "      <th></th>\n",
       "      <th></th>\n",
       "    </tr>\n",
       "  </thead>\n",
       "  <tbody>\n",
       "    <tr>\n",
       "      <th>estrellita poblana</th>\n",
       "      <td>Puebla</td>\n",
       "      <td>poblana</td>\n",
       "      <td>NYC</td>\n",
       "    </tr>\n",
       "    <tr>\n",
       "      <th>estrellita poblana taqueria express</th>\n",
       "      <td>Puebla</td>\n",
       "      <td>poblana</td>\n",
       "      <td>NYC</td>\n",
       "    </tr>\n",
       "    <tr>\n",
       "      <th>coszcal de allende restaurant</th>\n",
       "      <td>Yucatan</td>\n",
       "      <td>allende</td>\n",
       "      <td>NYC</td>\n",
       "    </tr>\n",
       "    <tr>\n",
       "      <th>chilpancingo restaurant</th>\n",
       "      <td>Guerrero</td>\n",
       "      <td>chilpancingo</td>\n",
       "      <td>NYC</td>\n",
       "    </tr>\n",
       "    <tr>\n",
       "      <th>mama  puebla</th>\n",
       "      <td>Puebla</td>\n",
       "      <td>puebla</td>\n",
       "      <td>NYC</td>\n",
       "    </tr>\n",
       "  </tbody>\n",
       "</table>\n",
       "</div>"
      ],
      "text/plain": [
       "                                       Region         Match City\n",
       "Restaurant_name                                                 \n",
       "estrellita poblana                     Puebla       poblana  NYC\n",
       "estrellita poblana taqueria express    Puebla       poblana  NYC\n",
       "coszcal de allende restaurant         Yucatan       allende  NYC\n",
       "chilpancingo restaurant              Guerrero  chilpancingo  NYC\n",
       "mama  puebla                           Puebla        puebla  NYC"
      ]
     },
     "execution_count": 1380,
     "metadata": {},
     "output_type": "execute_result"
    }
   ],
   "source": [
    "rest_df.head()"
   ]
  },
  {
   "cell_type": "code",
   "execution_count": 1379,
   "metadata": {},
   "outputs": [
    {
     "data": {
      "text/plain": [
       "Index(['Region', 'Match', 'City'], dtype='object')"
      ]
     },
     "execution_count": 1379,
     "metadata": {},
     "output_type": "execute_result"
    }
   ],
   "source": [
    "rest_df.columns"
   ]
  },
  {
   "cell_type": "markdown",
   "metadata": {},
   "source": [
    "#### Checking to see if \"Tulcingo Deli Grocery\" is in database"
   ]
  },
  {
   "cell_type": "code",
   "execution_count": 1128,
   "metadata": {},
   "outputs": [
    {
     "data": {
      "text/plain": [
       "True"
      ]
     },
     "execution_count": 1128,
     "metadata": {},
     "output_type": "execute_result"
    }
   ],
   "source": [
    "'TULCINGO' in list(nyc_mex_rest_w_region['DBA'].unique())"
   ]
  },
  {
   "cell_type": "code",
   "execution_count": 1383,
   "metadata": {},
   "outputs": [],
   "source": [
    "tulcingo_count = 0\n",
    "for x in rest_df.Match:\n",
    "    if x.lower() == 'tulcingo':\n",
    "        tulcingo_count += 1"
   ]
  },
  {
   "cell_type": "code",
   "execution_count": 1384,
   "metadata": {},
   "outputs": [
    {
     "data": {
      "text/plain": [
       "5"
      ]
     },
     "execution_count": 1384,
     "metadata": {},
     "output_type": "execute_result"
    }
   ],
   "source": [
    "tulcingo_count"
   ]
  },
  {
   "cell_type": "markdown",
   "metadata": {},
   "source": [
    "## LA"
   ]
  },
  {
   "cell_type": "code",
   "execution_count": 1130,
   "metadata": {},
   "outputs": [],
   "source": [
    "LA_data = pd.read_csv(\"./food_inspections_data/Map_of_Restaurants_LA.csv\")"
   ]
  },
  {
   "cell_type": "code",
   "execution_count": 1131,
   "metadata": {},
   "outputs": [
    {
     "data": {
      "text/plain": [
       "(7017, 16)"
      ]
     },
     "execution_count": 1131,
     "metadata": {},
     "output_type": "execute_result"
    }
   ],
   "source": [
    "LA_data.shape"
   ]
  },
  {
   "cell_type": "code",
   "execution_count": 1132,
   "metadata": {
    "scrolled": true
   },
   "outputs": [
    {
     "data": {
      "text/html": [
       "<div>\n",
       "<style scoped>\n",
       "    .dataframe tbody tr th:only-of-type {\n",
       "        vertical-align: middle;\n",
       "    }\n",
       "\n",
       "    .dataframe tbody tr th {\n",
       "        vertical-align: top;\n",
       "    }\n",
       "\n",
       "    .dataframe thead th {\n",
       "        text-align: right;\n",
       "    }\n",
       "</style>\n",
       "<table border=\"1\" class=\"dataframe\">\n",
       "  <thead>\n",
       "    <tr style=\"text-align: right;\">\n",
       "      <th></th>\n",
       "      <th>LOCATION ACCOUNT #</th>\n",
       "      <th>BUSINESS NAME</th>\n",
       "      <th>DBA NAME</th>\n",
       "      <th>STREET ADDRESS</th>\n",
       "      <th>CITY</th>\n",
       "      <th>ZIP CODE</th>\n",
       "      <th>LOCATION DESCRIPTION</th>\n",
       "      <th>MAILING ADDRESS</th>\n",
       "      <th>MAILING CITY</th>\n",
       "      <th>MAILING ZIP CODE</th>\n",
       "      <th>NAICS</th>\n",
       "      <th>PRIMARY NAICS DESCRIPTION</th>\n",
       "      <th>COUNCIL DISTRICT</th>\n",
       "      <th>LOCATION START DATE</th>\n",
       "      <th>LOCATION END DATE</th>\n",
       "      <th>LOCATION</th>\n",
       "    </tr>\n",
       "  </thead>\n",
       "  <tbody>\n",
       "    <tr>\n",
       "      <th>0</th>\n",
       "      <td>0003030535-0001-6</td>\n",
       "      <td>NIGHT MARKET 3, INC.</td>\n",
       "      <td>NaN</td>\n",
       "      <td>2533   LINCOLN BLVD</td>\n",
       "      <td>VENICE</td>\n",
       "      <td>90291-5042</td>\n",
       "      <td>2533 LINCOLN 90291</td>\n",
       "      <td>2533   LINCOLN BLVD</td>\n",
       "      <td>VENICE</td>\n",
       "      <td>90291-5042</td>\n",
       "      <td>722110</td>\n",
       "      <td>Full-service restaurants</td>\n",
       "      <td>11</td>\n",
       "      <td>02/01/2018</td>\n",
       "      <td>NaN</td>\n",
       "      <td>(33.9915, -118.449)</td>\n",
       "    </tr>\n",
       "    <tr>\n",
       "      <th>1</th>\n",
       "      <td>0002893692-0002-0</td>\n",
       "      <td>NORMA L DIAZ SANCHEZ</td>\n",
       "      <td>PLAYAS EL SALVADOR RESRAURANTE</td>\n",
       "      <td>4052  1/2 S CENTRAL AVENUE</td>\n",
       "      <td>LOS ANGELES</td>\n",
       "      <td>90011-2866</td>\n",
       "      <td>4052 Central 90011-2866</td>\n",
       "      <td>NaN</td>\n",
       "      <td>NaN</td>\n",
       "      <td>NaN</td>\n",
       "      <td>722110</td>\n",
       "      <td>Full-service restaurants</td>\n",
       "      <td>9</td>\n",
       "      <td>05/19/2020</td>\n",
       "      <td>NaN</td>\n",
       "      <td>(34.0101, -118.2563)</td>\n",
       "    </tr>\n",
       "  </tbody>\n",
       "</table>\n",
       "</div>"
      ],
      "text/plain": [
       "  LOCATION ACCOUNT #         BUSINESS NAME                        DBA NAME  \\\n",
       "0  0003030535-0001-6  NIGHT MARKET 3, INC.                             NaN   \n",
       "1  0002893692-0002-0  NORMA L DIAZ SANCHEZ  PLAYAS EL SALVADOR RESRAURANTE   \n",
       "\n",
       "               STREET ADDRESS         CITY    ZIP CODE  \\\n",
       "0         2533   LINCOLN BLVD       VENICE  90291-5042   \n",
       "1  4052  1/2 S CENTRAL AVENUE  LOS ANGELES  90011-2866   \n",
       "\n",
       "      LOCATION DESCRIPTION      MAILING ADDRESS MAILING CITY MAILING ZIP CODE  \\\n",
       "0       2533 LINCOLN 90291  2533   LINCOLN BLVD       VENICE       90291-5042   \n",
       "1  4052 Central 90011-2866                  NaN          NaN              NaN   \n",
       "\n",
       "    NAICS PRIMARY NAICS DESCRIPTION  COUNCIL DISTRICT LOCATION START DATE  \\\n",
       "0  722110  Full-service restaurants                11          02/01/2018   \n",
       "1  722110  Full-service restaurants                 9          05/19/2020   \n",
       "\n",
       "   LOCATION END DATE              LOCATION  \n",
       "0                NaN   (33.9915, -118.449)  \n",
       "1                NaN  (34.0101, -118.2563)  "
      ]
     },
     "execution_count": 1132,
     "metadata": {},
     "output_type": "execute_result"
    }
   ],
   "source": [
    "LA_data.head(2)"
   ]
  },
  {
   "cell_type": "code",
   "execution_count": 1133,
   "metadata": {},
   "outputs": [],
   "source": [
    "LA_data['LOCATION'].fillna(\"None\", inplace=True)"
   ]
  },
  {
   "cell_type": "code",
   "execution_count": 1134,
   "metadata": {},
   "outputs": [
    {
     "data": {
      "text/plain": [
       "dtype('O')"
      ]
     },
     "execution_count": 1134,
     "metadata": {},
     "output_type": "execute_result"
    }
   ],
   "source": [
    "LA_data['LOCATION'].dtype"
   ]
  },
  {
   "cell_type": "markdown",
   "metadata": {},
   "source": [
    "### Making sure that there aren't any duplicate restaurants"
   ]
  },
  {
   "cell_type": "code",
   "execution_count": 1135,
   "metadata": {},
   "outputs": [
    {
     "data": {
      "text/plain": [
       "False"
      ]
     },
     "execution_count": 1135,
     "metadata": {},
     "output_type": "execute_result"
    }
   ],
   "source": [
    "len(LA_data['BUSINESS NAME']) == len(set(LA_data['BUSINESS NAME']))"
   ]
  },
  {
   "cell_type": "code",
   "execution_count": 1136,
   "metadata": {},
   "outputs": [
    {
     "data": {
      "text/plain": [
       "7017"
      ]
     },
     "execution_count": 1136,
     "metadata": {},
     "output_type": "execute_result"
    }
   ],
   "source": [
    "len(LA_data['BUSINESS NAME'])"
   ]
  },
  {
   "cell_type": "code",
   "execution_count": 1137,
   "metadata": {},
   "outputs": [
    {
     "data": {
      "text/plain": [
       "6125"
      ]
     },
     "execution_count": 1137,
     "metadata": {},
     "output_type": "execute_result"
    }
   ],
   "source": [
    "len(set(LA_data['BUSINESS NAME']))"
   ]
  },
  {
   "cell_type": "code",
   "execution_count": 1138,
   "metadata": {},
   "outputs": [],
   "source": [
    "unique_LA_data = LA_data.drop_duplicates(subset=['DBA NAME'], keep='first')"
   ]
  },
  {
   "cell_type": "markdown",
   "metadata": {},
   "source": [
    "### Adding each name to a new column in LA_data"
   ]
  },
  {
   "cell_type": "code",
   "execution_count": 1139,
   "metadata": {},
   "outputs": [],
   "source": [
    "possible_biz_names = list(zip(unique_LA_data['BUSINESS NAME'],unique_LA_data['DBA NAME']))"
   ]
  },
  {
   "cell_type": "code",
   "execution_count": 1140,
   "metadata": {},
   "outputs": [],
   "source": [
    "list_possible_biz_names = []\n",
    "for x in possible_biz_names:\n",
    "    y = list(x)\n",
    "    if np.nan in y:\n",
    "        y.remove(np.nan)\n",
    "    lower_item_list = [item.lower() for item in y]        \n",
    "    list_possible_biz_names.append(lower_item_list)"
   ]
  },
  {
   "cell_type": "code",
   "execution_count": 1141,
   "metadata": {},
   "outputs": [
    {
     "name": "stderr",
     "output_type": "stream",
     "text": [
      "/Users/gregfeliu/opt/anaconda3/envs/learn-env/lib/python3.6/site-packages/ipykernel_launcher.py:1: SettingWithCopyWarning: \n",
      "A value is trying to be set on a copy of a slice from a DataFrame.\n",
      "Try using .loc[row_indexer,col_indexer] = value instead\n",
      "\n",
      "See the caveats in the documentation: https://pandas.pydata.org/pandas-docs/stable/user_guide/indexing.html#returning-a-view-versus-a-copy\n",
      "  \"\"\"Entry point for launching an IPython kernel.\n"
     ]
    }
   ],
   "source": [
    "unique_LA_data['biz_names'] = list_possible_biz_names"
   ]
  },
  {
   "cell_type": "markdown",
   "metadata": {},
   "source": [
    "### Getting Matches"
   ]
  },
  {
   "cell_type": "code",
   "execution_count": 1142,
   "metadata": {},
   "outputs": [
    {
     "data": {
      "text/plain": [
       "0                                [night market 3, inc.]\n",
       "1     [norma l diaz sanchez, playas el salvador resr...\n",
       "3         [bombay curry inc, bombay curry and pizzeria]\n",
       "4     [t & m finatic enterprise inc, sharky's fresh ...\n",
       "5          [la restaurant hope street inc, the counter]\n",
       "7     [sartori thai cuisine, inc., sartori thai cuis...\n",
       "9                [jm brothers inc, kalbis korean grill]\n",
       "10           [concordia development inc, subway #14900]\n",
       "13    [thistle and thorn hospitality inc, the whale ...\n",
       "14             [bibi trading inc, biriyani kabob house]\n",
       "Name: biz_names, dtype: object"
      ]
     },
     "execution_count": 1142,
     "metadata": {},
     "output_type": "execute_result"
    }
   ],
   "source": [
    "unique_LA_data['biz_names'][0:10]"
   ]
  },
  {
   "cell_type": "code",
   "execution_count": 1143,
   "metadata": {},
   "outputs": [
    {
     "data": {
      "text/plain": [
       "2"
      ]
     },
     "execution_count": 1143,
     "metadata": {},
     "output_type": "execute_result"
    }
   ],
   "source": [
    "len(unique_LA_data['biz_names'][1])"
   ]
  },
  {
   "cell_type": "code",
   "execution_count": 1144,
   "metadata": {},
   "outputs": [],
   "source": [
    "rest_matches_la = []\n",
    "# list of not-quite-real matches\n",
    "bad_matches = ['mexican', 'tequila', 'margarita', 'margaritas', 'mexico', 'pedro', 'azteca', 'paraiso'\n",
    "'mexico','rodeo','rio','maria','mexicanos','coyote','marcos','mama','bravo','viejo','perla','nuevo'\n",
    "'verde', 'gonzalez', 'corona', 'armadillo', 'arriba', 'palmas', 'delicias', 'blanco', 'crespo','tortuga']\n",
    "for item in unique_LA_data['biz_names']:\n",
    "    for word in item:\n",
    "        for key, value in demonym_dictionary.items():\n",
    "            for city in value:\n",
    "                if word == city:\n",
    "                    if word not in bad_matches: # if not, the number of results is tripled\n",
    "                        rest_matches_la.append(item)"
   ]
  },
  {
   "cell_type": "code",
   "execution_count": 1145,
   "metadata": {},
   "outputs": [],
   "source": [
    "unique_rest_matches_la = []\n",
    "for x in rest_matches_la:\n",
    "    if x not in unique_rest_matches_la:\n",
    "        unique_rest_matches_la.append(x)"
   ]
  },
  {
   "cell_type": "code",
   "execution_count": 1146,
   "metadata": {},
   "outputs": [
    {
     "data": {
      "text/plain": [
       "12"
      ]
     },
     "execution_count": 1146,
     "metadata": {},
     "output_type": "execute_result"
    }
   ],
   "source": [
    "len(unique_rest_matches_la)"
   ]
  },
  {
   "cell_type": "code",
   "execution_count": 1147,
   "metadata": {},
   "outputs": [
    {
     "data": {
      "text/plain": [
       "[['luis e ponce', 'los pilares'],\n",
       " ['rio nuevo, llc', 'salazar'],\n",
       " ['toshihiko t hoshi', 'toshi'],\n",
       " ['genoveva/guillermo padilla', 'la barca'],\n",
       " ['jesus del rio', 'el ranchito'],\n",
       " ['boca del rio inc', 'boca del rio'],\n",
       " ['fernando pena duenas', 'el caracol'],\n",
       " ['angel r montes', 'san marcos'],\n",
       " ['manuel gonzalez', 'manny mobile detailing'],\n",
       " ['tkla group inc', 'tekila'],\n",
       " ['pico productions', 'el cid'],\n",
       " ['holbox restaurant group inc', 'holbox']]"
      ]
     },
     "execution_count": 1147,
     "metadata": {},
     "output_type": "execute_result"
    }
   ],
   "source": [
    "unique_rest_matches_la"
   ]
  },
  {
   "cell_type": "code",
   "execution_count": 1148,
   "metadata": {},
   "outputs": [],
   "source": [
    "# most of this data looks like it's incorrectly matching so I will not use LA's data"
   ]
  },
  {
   "cell_type": "markdown",
   "metadata": {},
   "source": [
    "## Chicago "
   ]
  },
  {
   "cell_type": "code",
   "execution_count": 1294,
   "metadata": {},
   "outputs": [],
   "source": [
    "chi_data = pd.read_csv(\"./food_inspections_data/Food_Inspections_chicago.csv\")"
   ]
  },
  {
   "cell_type": "code",
   "execution_count": 1295,
   "metadata": {},
   "outputs": [
    {
     "data": {
      "text/plain": [
       "(206916, 17)"
      ]
     },
     "execution_count": 1295,
     "metadata": {},
     "output_type": "execute_result"
    }
   ],
   "source": [
    "chi_data.shape"
   ]
  },
  {
   "cell_type": "code",
   "execution_count": 1296,
   "metadata": {},
   "outputs": [
    {
     "data": {
      "text/html": [
       "<div>\n",
       "<style scoped>\n",
       "    .dataframe tbody tr th:only-of-type {\n",
       "        vertical-align: middle;\n",
       "    }\n",
       "\n",
       "    .dataframe tbody tr th {\n",
       "        vertical-align: top;\n",
       "    }\n",
       "\n",
       "    .dataframe thead th {\n",
       "        text-align: right;\n",
       "    }\n",
       "</style>\n",
       "<table border=\"1\" class=\"dataframe\">\n",
       "  <thead>\n",
       "    <tr style=\"text-align: right;\">\n",
       "      <th></th>\n",
       "      <th>Inspection ID</th>\n",
       "      <th>DBA Name</th>\n",
       "      <th>AKA Name</th>\n",
       "      <th>License #</th>\n",
       "      <th>Facility Type</th>\n",
       "      <th>Risk</th>\n",
       "      <th>Address</th>\n",
       "      <th>City</th>\n",
       "      <th>State</th>\n",
       "      <th>Zip</th>\n",
       "      <th>Inspection Date</th>\n",
       "      <th>Inspection Type</th>\n",
       "      <th>Results</th>\n",
       "      <th>Violations</th>\n",
       "      <th>Latitude</th>\n",
       "      <th>Longitude</th>\n",
       "      <th>Location</th>\n",
       "    </tr>\n",
       "  </thead>\n",
       "  <tbody>\n",
       "    <tr>\n",
       "      <th>0</th>\n",
       "      <td>2373714</td>\n",
       "      <td>CHIYA CHAI CAFE</td>\n",
       "      <td>CHIYA CHAI CAFE</td>\n",
       "      <td>2432644.0</td>\n",
       "      <td>Restaurant</td>\n",
       "      <td>Risk 1 (High)</td>\n",
       "      <td>2770 N MILWAUKEE AVE</td>\n",
       "      <td>CHICAGO</td>\n",
       "      <td>IL</td>\n",
       "      <td>60647.0</td>\n",
       "      <td>06/15/2020</td>\n",
       "      <td>Canvass Re-Inspection</td>\n",
       "      <td>Pass</td>\n",
       "      <td>NaN</td>\n",
       "      <td>41.931449</td>\n",
       "      <td>-87.711547</td>\n",
       "      <td>(-87.71154708820332, 41.93144884388019)</td>\n",
       "    </tr>\n",
       "    <tr>\n",
       "      <th>1</th>\n",
       "      <td>2373680</td>\n",
       "      <td>TROPI CUBA</td>\n",
       "      <td>TROPI CUBA</td>\n",
       "      <td>1422721.0</td>\n",
       "      <td>Restaurant</td>\n",
       "      <td>Risk 1 (High)</td>\n",
       "      <td>3000 W LYNDALE ST</td>\n",
       "      <td>CHICAGO</td>\n",
       "      <td>IL</td>\n",
       "      <td>60647.0</td>\n",
       "      <td>06/12/2020</td>\n",
       "      <td>Canvass Re-Inspection</td>\n",
       "      <td>Pass</td>\n",
       "      <td>47. FOOD &amp; NON-FOOD CONTACT SURFACES CLEANABLE...</td>\n",
       "      <td>41.922493</td>\n",
       "      <td>-87.702359</td>\n",
       "      <td>(-87.70235877406888, 41.92249266994513)</td>\n",
       "    </tr>\n",
       "  </tbody>\n",
       "</table>\n",
       "</div>"
      ],
      "text/plain": [
       "   Inspection ID         DBA Name         AKA Name  License # Facility Type  \\\n",
       "0        2373714  CHIYA CHAI CAFE  CHIYA CHAI CAFE  2432644.0    Restaurant   \n",
       "1        2373680       TROPI CUBA       TROPI CUBA  1422721.0    Restaurant   \n",
       "\n",
       "            Risk                Address     City State      Zip  \\\n",
       "0  Risk 1 (High)  2770 N MILWAUKEE AVE   CHICAGO    IL  60647.0   \n",
       "1  Risk 1 (High)     3000 W LYNDALE ST   CHICAGO    IL  60647.0   \n",
       "\n",
       "  Inspection Date        Inspection Type Results  \\\n",
       "0      06/15/2020  Canvass Re-Inspection    Pass   \n",
       "1      06/12/2020  Canvass Re-Inspection    Pass   \n",
       "\n",
       "                                          Violations   Latitude  Longitude  \\\n",
       "0                                                NaN  41.931449 -87.711547   \n",
       "1  47. FOOD & NON-FOOD CONTACT SURFACES CLEANABLE...  41.922493 -87.702359   \n",
       "\n",
       "                                  Location  \n",
       "0  (-87.71154708820332, 41.93144884388019)  \n",
       "1  (-87.70235877406888, 41.92249266994513)  "
      ]
     },
     "execution_count": 1296,
     "metadata": {},
     "output_type": "execute_result"
    }
   ],
   "source": [
    "chi_data.head(2)"
   ]
  },
  {
   "cell_type": "code",
   "execution_count": 1297,
   "metadata": {},
   "outputs": [],
   "source": [
    "chi_rest = chi_data[chi_data['Facility Type'] == 'Restaurant']"
   ]
  },
  {
   "cell_type": "code",
   "execution_count": 1298,
   "metadata": {},
   "outputs": [
    {
     "data": {
      "text/plain": [
       "(137853, 17)"
      ]
     },
     "execution_count": 1298,
     "metadata": {},
     "output_type": "execute_result"
    }
   ],
   "source": [
    "chi_rest.shape"
   ]
  },
  {
   "cell_type": "code",
   "execution_count": 1299,
   "metadata": {},
   "outputs": [
    {
     "data": {
      "text/plain": [
       "0.6662268746737806"
      ]
     },
     "execution_count": 1299,
     "metadata": {},
     "output_type": "execute_result"
    }
   ],
   "source": [
    "# reduce the size of df by 33% \n",
    "chi_rest.shape[0] / chi_data.shape[0] "
   ]
  },
  {
   "cell_type": "code",
   "execution_count": 1300,
   "metadata": {},
   "outputs": [
    {
     "data": {
      "text/html": [
       "<div>\n",
       "<style scoped>\n",
       "    .dataframe tbody tr th:only-of-type {\n",
       "        vertical-align: middle;\n",
       "    }\n",
       "\n",
       "    .dataframe tbody tr th {\n",
       "        vertical-align: top;\n",
       "    }\n",
       "\n",
       "    .dataframe thead th {\n",
       "        text-align: right;\n",
       "    }\n",
       "</style>\n",
       "<table border=\"1\" class=\"dataframe\">\n",
       "  <thead>\n",
       "    <tr style=\"text-align: right;\">\n",
       "      <th></th>\n",
       "      <th>Inspection ID</th>\n",
       "      <th>DBA Name</th>\n",
       "      <th>AKA Name</th>\n",
       "      <th>License #</th>\n",
       "      <th>Facility Type</th>\n",
       "      <th>Risk</th>\n",
       "      <th>Address</th>\n",
       "      <th>City</th>\n",
       "      <th>State</th>\n",
       "      <th>Zip</th>\n",
       "      <th>Inspection Date</th>\n",
       "      <th>Inspection Type</th>\n",
       "      <th>Results</th>\n",
       "      <th>Violations</th>\n",
       "      <th>Latitude</th>\n",
       "      <th>Longitude</th>\n",
       "      <th>Location</th>\n",
       "    </tr>\n",
       "  </thead>\n",
       "  <tbody>\n",
       "    <tr>\n",
       "      <th>0</th>\n",
       "      <td>2373714</td>\n",
       "      <td>CHIYA CHAI CAFE</td>\n",
       "      <td>CHIYA CHAI CAFE</td>\n",
       "      <td>2432644.0</td>\n",
       "      <td>Restaurant</td>\n",
       "      <td>Risk 1 (High)</td>\n",
       "      <td>2770 N MILWAUKEE AVE</td>\n",
       "      <td>CHICAGO</td>\n",
       "      <td>IL</td>\n",
       "      <td>60647.0</td>\n",
       "      <td>06/15/2020</td>\n",
       "      <td>Canvass Re-Inspection</td>\n",
       "      <td>Pass</td>\n",
       "      <td>NaN</td>\n",
       "      <td>41.931449</td>\n",
       "      <td>-87.711547</td>\n",
       "      <td>(-87.71154708820332, 41.93144884388019)</td>\n",
       "    </tr>\n",
       "  </tbody>\n",
       "</table>\n",
       "</div>"
      ],
      "text/plain": [
       "   Inspection ID         DBA Name         AKA Name  License # Facility Type  \\\n",
       "0        2373714  CHIYA CHAI CAFE  CHIYA CHAI CAFE  2432644.0    Restaurant   \n",
       "\n",
       "            Risk                Address     City State      Zip  \\\n",
       "0  Risk 1 (High)  2770 N MILWAUKEE AVE   CHICAGO    IL  60647.0   \n",
       "\n",
       "  Inspection Date        Inspection Type Results Violations   Latitude  \\\n",
       "0      06/15/2020  Canvass Re-Inspection    Pass        NaN  41.931449   \n",
       "\n",
       "   Longitude                                 Location  \n",
       "0 -87.711547  (-87.71154708820332, 41.93144884388019)  "
      ]
     },
     "execution_count": 1300,
     "metadata": {},
     "output_type": "execute_result"
    }
   ],
   "source": [
    "chi_rest.head(1)"
   ]
  },
  {
   "cell_type": "markdown",
   "metadata": {},
   "source": [
    "### Getting Names of restaurants"
   ]
  },
  {
   "cell_type": "code",
   "execution_count": 1301,
   "metadata": {},
   "outputs": [],
   "source": [
    "possible_chi_biz_names = list(zip(chi_rest['DBA Name'], chi_rest['AKA Name']))"
   ]
  },
  {
   "cell_type": "code",
   "execution_count": 1302,
   "metadata": {},
   "outputs": [],
   "source": [
    "chi_biz_names = []\n",
    "for x in possible_chi_biz_names:\n",
    "    x_list = list(x)\n",
    "    if x_list[0] == x_list[1]:\n",
    "        del x_list[1]\n",
    "    elif np.nan in x_list:\n",
    "        x_list.remove(np.nan)\n",
    "    lower_possible_chi_biz_names = [item.lower() for item in x_list]\n",
    "    chi_biz_names.append(lower_possible_chi_biz_names)"
   ]
  },
  {
   "cell_type": "code",
   "execution_count": 1303,
   "metadata": {},
   "outputs": [
    {
     "data": {
      "text/plain": [
       "[['chiya chai cafe'], ['tropi cuba'], ['china gourmet']]"
      ]
     },
     "execution_count": 1303,
     "metadata": {},
     "output_type": "execute_result"
    }
   ],
   "source": [
    "chi_biz_names[0:3]"
   ]
  },
  {
   "cell_type": "code",
   "execution_count": 1304,
   "metadata": {},
   "outputs": [
    {
     "name": "stderr",
     "output_type": "stream",
     "text": [
      "/Users/gregfeliu/opt/anaconda3/envs/learn-env/lib/python3.6/site-packages/ipykernel_launcher.py:1: SettingWithCopyWarning: \n",
      "A value is trying to be set on a copy of a slice from a DataFrame.\n",
      "Try using .loc[row_indexer,col_indexer] = value instead\n",
      "\n",
      "See the caveats in the documentation: https://pandas.pydata.org/pandas-docs/stable/user_guide/indexing.html#returning-a-view-versus-a-copy\n",
      "  \"\"\"Entry point for launching an IPython kernel.\n"
     ]
    }
   ],
   "source": [
    "chi_rest['biz_names'] = chi_biz_names"
   ]
  },
  {
   "cell_type": "markdown",
   "metadata": {},
   "source": [
    "### Getting Matches with Dem Dict"
   ]
  },
  {
   "cell_type": "code",
   "execution_count": 1305,
   "metadata": {},
   "outputs": [],
   "source": [
    "rest_matches_chi = []\n",
    "# list of not-quite-real matches\n",
    "bad_matches = ['mexican','mexico','mexicanos','azteca','esperanza','estrada','esperanzas','salero','pinos',\n",
    "                  'maria', 'bravo', 'nuevo', 'progreso', 'delicias', 'comales', 'palmas', 'palenque', 'concordia',\n",
    "                 'china', 'gym', 'paloma', 'rio', 'mex', 'tequila', 'colorado', 'ventana', 'lom', 'garcia', 'paz',\n",
    "                 'chavez', 'paraiso', 'senor', 'oriental', 'fronteras', 'tap', 'aca', 'purisima', 'rodriguez',\n",
    "                 'hernandez', 'sanchez', 'victoria', 'oasis', 'cash', 'pinas', 'yaa', 'tap', 'meson','agustin',\n",
    "                 'agustin', 'limon', 'alamo', 'slp', 'providencia', 'reyes', 'lom', 'verde', 'perla', 'madrid', \n",
    "                 'delta', 'mama', 'lopez', 'honey', 'laurel', 'california pizza kitchen', 'sauces', 'laguna', \n",
    "              'dolores', 'presidio', 'ver', 'bernal', 'rincon', 'marin', 'palma', 'potrero', 'mid', 'valencia',\n",
    "              'aura', 'kava', 'pueblito', 'castillo', 'tam', 'marcos', 'montecristo', 'tinajas', 'alvarado',\n",
    "              'porvenir', 'nieves', 'mina', 'marin']\n",
    "for item in chi_rest['biz_names']:\n",
    "    for word in item:\n",
    "        for key, value in demonym_dictionary.items():\n",
    "            for city in value:\n",
    "                if word == city:\n",
    "                    if word not in bad_matches: # if not, the number of results is tripled\n",
    "                        rest_matches_chi.append(item)"
   ]
  },
  {
   "cell_type": "code",
   "execution_count": 1306,
   "metadata": {},
   "outputs": [
    {
     "data": {
      "text/plain": [
       "765"
      ]
     },
     "execution_count": 1306,
     "metadata": {},
     "output_type": "execute_result"
    }
   ],
   "source": [
    "len(rest_matches_chi)"
   ]
  },
  {
   "cell_type": "code",
   "execution_count": 1307,
   "metadata": {},
   "outputs": [
    {
     "data": {
      "text/plain": [
       "[['los comales'],\n",
       " ['la amistad inc.', 'la amistad'],\n",
       " ['las palmas'],\n",
       " ['las palmas'],\n",
       " ['la fuente'],\n",
       " ['clark el ranchito corp', 'el ranchito'],\n",
       " ['clark el ranchito corp', 'el ranchito'],\n",
       " ['el milagro'],\n",
       " ['los mangos'],\n",
       " ['los mangos']]"
      ]
     },
     "execution_count": 1307,
     "metadata": {},
     "output_type": "execute_result"
    }
   ],
   "source": [
    "rest_matches_chi[0:10]"
   ]
  },
  {
   "cell_type": "code",
   "execution_count": 1308,
   "metadata": {},
   "outputs": [],
   "source": [
    "unique_rest_matches_chi = []\n",
    "for x in rest_matches_chi:\n",
    "    if x not in unique_rest_matches_chi:\n",
    "        unique_rest_matches_chi.append(x)"
   ]
  },
  {
   "cell_type": "code",
   "execution_count": 1309,
   "metadata": {},
   "outputs": [
    {
     "data": {
      "text/plain": [
       "43"
      ]
     },
     "execution_count": 1309,
     "metadata": {},
     "output_type": "execute_result"
    }
   ],
   "source": [
    "len(unique_rest_matches_chi)"
   ]
  },
  {
   "cell_type": "code",
   "execution_count": 1310,
   "metadata": {},
   "outputs": [
    {
     "data": {
      "text/plain": [
       "[['los comales'],\n",
       " ['la amistad inc.', 'la amistad'],\n",
       " ['las palmas'],\n",
       " ['la fuente'],\n",
       " ['clark el ranchito corp', 'el ranchito'],\n",
       " ['el milagro'],\n",
       " ['los mangos'],\n",
       " ['chilango', \"lito's empanadas\"],\n",
       " ['las esperanzas'],\n",
       " ['el milagro', 'el milagro taqueria']]"
      ]
     },
     "execution_count": 1310,
     "metadata": {},
     "output_type": "execute_result"
    }
   ],
   "source": [
    "unique_rest_matches_chi[0:10]"
   ]
  },
  {
   "cell_type": "markdown",
   "metadata": {},
   "source": [
    "### Getting Regions for Matches"
   ]
  },
  {
   "cell_type": "code",
   "execution_count": 1311,
   "metadata": {},
   "outputs": [],
   "source": [
    "# using the DBA Name as the key\n",
    "restaurant_matches_chi = {key[0]: None for key in unique_rest_matches_chi}"
   ]
  },
  {
   "cell_type": "code",
   "execution_count": 1312,
   "metadata": {},
   "outputs": [],
   "source": [
    "for key, value in restaurant_matches_chi.items():\n",
    "    split_item = key.split()\n",
    "    for word in split_item:\n",
    "        for key1, value1 in demonym_dictionary.items():\n",
    "            for city in value1:\n",
    "                if word == city:\n",
    "                    value_info = [key1, city]\n",
    "                    restaurant_matches_chi[key] = value_info"
   ]
  },
  {
   "cell_type": "code",
   "execution_count": 1313,
   "metadata": {
    "scrolled": false
   },
   "outputs": [
    {
     "data": {
      "text/plain": [
       "41"
      ]
     },
     "execution_count": 1313,
     "metadata": {},
     "output_type": "execute_result"
    }
   ],
   "source": [
    "len(restaurant_matches_chi)"
   ]
  },
  {
   "cell_type": "code",
   "execution_count": 1314,
   "metadata": {},
   "outputs": [],
   "source": [
    "for key, value in restaurant_matches_chi.items():\n",
    "    if value == None:\n",
    "        for x in unique_rest_matches_chi:\n",
    "            if x[0] == key:\n",
    "                if len(x) > 1:\n",
    "                    split_item = [x.split() for x in x[1:]]\n",
    "                    for word in split_item:\n",
    "                        for key1, value1 in demonym_dictionary.items():\n",
    "                            for city in value1:\n",
    "                                if word == city:\n",
    "                                    value_info = [key1, city]\n",
    "                                    nyc_mex_rest_w_region[key] = value_info"
   ]
  },
  {
   "cell_type": "code",
   "execution_count": 1315,
   "metadata": {},
   "outputs": [
    {
     "data": {
      "text/plain": [
       "20"
      ]
     },
     "execution_count": 1315,
     "metadata": {},
     "output_type": "execute_result"
    }
   ],
   "source": [
    "# not sure why some still equal None....\n",
    "none_counter = 0\n",
    "for key, value in restaurant_matches_chi.items():\n",
    "    if value == None:\n",
    "        none_counter += 1\n",
    "none_counter"
   ]
  },
  {
   "cell_type": "code",
   "execution_count": 1316,
   "metadata": {},
   "outputs": [
    {
     "data": {
      "text/plain": [
       "21"
      ]
     },
     "execution_count": 1316,
     "metadata": {},
     "output_type": "execute_result"
    }
   ],
   "source": [
    "# only 26 are genuine matches\n",
    "len(restaurant_matches_chi) - none_counter"
   ]
  },
  {
   "cell_type": "code",
   "execution_count": 1317,
   "metadata": {},
   "outputs": [],
   "source": [
    "# matching words\n",
    "matching_words_list = []\n",
    "for key, value in restaurant_matches_chi.items():\n",
    "    if value != None:\n",
    "        matching_words_list.append(value[1])"
   ]
  },
  {
   "cell_type": "code",
   "execution_count": 1318,
   "metadata": {},
   "outputs": [],
   "source": [
    "# matching_words_list"
   ]
  },
  {
   "cell_type": "markdown",
   "metadata": {},
   "source": [
    "#### Removing values with a value of None"
   ]
  },
  {
   "cell_type": "code",
   "execution_count": 1319,
   "metadata": {},
   "outputs": [],
   "source": [
    "bad_keys_chi = []\n",
    "for key, value in restaurant_matches_chi.items():\n",
    "    if value == None:\n",
    "        bad_keys_chi.append(key)"
   ]
  },
  {
   "cell_type": "markdown",
   "metadata": {},
   "source": [
    "#### Removing values that passed the filter incorrectly"
   ]
  },
  {
   "cell_type": "code",
   "execution_count": 1320,
   "metadata": {},
   "outputs": [],
   "source": [
    "# bad_values_chi = ['mexican','mexico','mexicanos','azteca','esperanza','estrada','esperanzas','salero','pinos',\n",
    "#                   'maria', 'bravo', 'nuevo', 'progreso', 'delicias', 'comales', 'palmas', 'palenque', 'concordia']\n",
    "for key, value in restaurant_matches_chi.items():\n",
    "    if value != None:\n",
    "        if value[1] in bad_matches:\n",
    "            bad_keys_chi.append(key)"
   ]
  },
  {
   "cell_type": "code",
   "execution_count": 1321,
   "metadata": {},
   "outputs": [],
   "source": [
    "# removing bad keys\n",
    "for x in bad_keys_chi:\n",
    "    if restaurant_matches_chi.get(x) != None:\n",
    "        del restaurant_matches_chi[x]\n",
    "    elif restaurant_matches_chi.get(x) == None:\n",
    "        del restaurant_matches_chi[x]"
   ]
  },
  {
   "cell_type": "code",
   "execution_count": 1322,
   "metadata": {},
   "outputs": [
    {
     "data": {
      "text/plain": [
       "6"
      ]
     },
     "execution_count": 1322,
     "metadata": {},
     "output_type": "execute_result"
    }
   ],
   "source": [
    "len(restaurant_matches_chi.keys())"
   ]
  },
  {
   "cell_type": "code",
   "execution_count": 1323,
   "metadata": {},
   "outputs": [
    {
     "data": {
      "text/plain": [
       "{'chilango': ['Ciudad de Mexico', 'chilango'],\n",
       " 'los alamos': ['Tabasco', 'alamos'],\n",
       " 'tecalitlan': ['Baja California', 'tecalitlan'],\n",
       " 'ocotlan': ['Puebla', 'ocotlan'],\n",
       " 'uruapan': ['Guerrero', 'uruapan'],\n",
       " 'teloloapan': ['Guerrero', 'teloloapan']}"
      ]
     },
     "execution_count": 1323,
     "metadata": {},
     "output_type": "execute_result"
    }
   ],
   "source": [
    "restaurant_matches_chi"
   ]
  },
  {
   "cell_type": "markdown",
   "metadata": {},
   "source": [
    "#### Correcting some errors in regions"
   ]
  },
  {
   "cell_type": "code",
   "execution_count": 1324,
   "metadata": {},
   "outputs": [],
   "source": [
    "restaurant_matches_chi['ocotlan'][0] = 'Jalisco'"
   ]
  },
  {
   "cell_type": "code",
   "execution_count": 1325,
   "metadata": {},
   "outputs": [],
   "source": [
    "restaurant_matches_chi['tecalitlan'][0] = \"Jalisco\""
   ]
  },
  {
   "cell_type": "code",
   "execution_count": 1326,
   "metadata": {},
   "outputs": [],
   "source": [
    "restaurant_matches_chi['uruapan'][0] = \"Michoacan\""
   ]
  },
  {
   "cell_type": "code",
   "execution_count": 1327,
   "metadata": {
    "scrolled": true
   },
   "outputs": [
    {
     "data": {
      "text/plain": [
       "{'chilango': ['Ciudad de Mexico', 'chilango'],\n",
       " 'los alamos': ['Tabasco', 'alamos'],\n",
       " 'tecalitlan': ['Jalisco', 'tecalitlan'],\n",
       " 'ocotlan': ['Jalisco', 'ocotlan'],\n",
       " 'uruapan': ['Michoacan', 'uruapan'],\n",
       " 'teloloapan': ['Guerrero', 'teloloapan']}"
      ]
     },
     "execution_count": 1327,
     "metadata": {},
     "output_type": "execute_result"
    }
   ],
   "source": [
    "restaurant_matches_chi"
   ]
  },
  {
   "cell_type": "markdown",
   "metadata": {},
   "source": [
    "### Getting regions count"
   ]
  },
  {
   "cell_type": "code",
   "execution_count": 1183,
   "metadata": {},
   "outputs": [],
   "source": [
    "regions_represented_chi = []\n",
    "for key, value in restaurant_matches_chi.items():\n",
    "    if value[0] not in regions_represented_chi:\n",
    "        regions_represented_chi.append(value[0])"
   ]
  },
  {
   "cell_type": "code",
   "execution_count": 1184,
   "metadata": {},
   "outputs": [
    {
     "data": {
      "text/plain": [
       "['Ciudad de Mexico', 'Tabasco', 'Jalisco']"
      ]
     },
     "execution_count": 1184,
     "metadata": {},
     "output_type": "execute_result"
    }
   ],
   "source": [
    "regions_represented_chi[0:3]"
   ]
  },
  {
   "cell_type": "code",
   "execution_count": 1185,
   "metadata": {},
   "outputs": [],
   "source": [
    "# getting the count of values\n",
    "region_dict_chi = {key: 0 for key in regions_represented_chi}"
   ]
  },
  {
   "cell_type": "code",
   "execution_count": 1186,
   "metadata": {},
   "outputs": [],
   "source": [
    "for key, value in restaurant_matches_chi.items():\n",
    "    if value[0] in region_dict_chi.keys():\n",
    "        region_dict_chi[value[0]] += 1"
   ]
  },
  {
   "cell_type": "code",
   "execution_count": 1187,
   "metadata": {},
   "outputs": [
    {
     "data": {
      "text/plain": [
       "{'Ciudad de Mexico': 1,\n",
       " 'Tabasco': 1,\n",
       " 'Jalisco': 2,\n",
       " 'Michoacan': 1,\n",
       " 'Guerrero': 1}"
      ]
     },
     "execution_count": 1187,
     "metadata": {},
     "output_type": "execute_result"
    }
   ],
   "source": [
    "region_dict_chi"
   ]
  },
  {
   "cell_type": "code",
   "execution_count": 1188,
   "metadata": {},
   "outputs": [],
   "source": [
    "chicago_regions_represented = []\n",
    "for key, value in region_dict_chi.items():\n",
    "    item = [key, round(value/7, 2)]\n",
    "    chicago_regions_represented.append(item)"
   ]
  },
  {
   "cell_type": "code",
   "execution_count": 1189,
   "metadata": {},
   "outputs": [
    {
     "data": {
      "text/plain": [
       "[['Ciudad de Mexico', 0.14],\n",
       " ['Tabasco', 0.14],\n",
       " ['Jalisco', 0.29],\n",
       " ['Michoacan', 0.14],\n",
       " ['Guerrero', 0.14]]"
      ]
     },
     "execution_count": 1189,
     "metadata": {},
     "output_type": "execute_result"
    }
   ],
   "source": [
    "chicago_regions_represented"
   ]
  },
  {
   "cell_type": "markdown",
   "metadata": {},
   "source": [
    "#### Making pct as a dict"
   ]
  },
  {
   "cell_type": "code",
   "execution_count": 1190,
   "metadata": {},
   "outputs": [],
   "source": [
    "chicago_regions_pct = {value[0]:value[1] for value in chicago_regions_represented}"
   ]
  },
  {
   "cell_type": "code",
   "execution_count": 1191,
   "metadata": {
    "scrolled": true
   },
   "outputs": [
    {
     "data": {
      "text/plain": [
       "{'Ciudad de Mexico': 0.14,\n",
       " 'Tabasco': 0.14,\n",
       " 'Jalisco': 0.29,\n",
       " 'Michoacan': 0.14,\n",
       " 'Guerrero': 0.14}"
      ]
     },
     "execution_count": 1191,
     "metadata": {},
     "output_type": "execute_result"
    }
   ],
   "source": [
    "chicago_regions_pct"
   ]
  },
  {
   "cell_type": "markdown",
   "metadata": {},
   "source": [
    "### Getting Values that matches"
   ]
  },
  {
   "cell_type": "code",
   "execution_count": 1192,
   "metadata": {},
   "outputs": [],
   "source": [
    "chi_values = {value[1]:0 for key, value in restaurant_matches_chi.items()}"
   ]
  },
  {
   "cell_type": "code",
   "execution_count": 1193,
   "metadata": {},
   "outputs": [],
   "source": [
    "for key, value in restaurant_matches_chi.items():\n",
    "    if value[1] in chi_values.keys():\n",
    "        chi_values[value[1]] += 1"
   ]
  },
  {
   "cell_type": "code",
   "execution_count": 1194,
   "metadata": {},
   "outputs": [
    {
     "name": "stdout",
     "output_type": "stream",
     "text": [
      "chilango 1\n",
      "alamos 1\n",
      "tecalitlan 1\n",
      "ocotlan 1\n",
      "uruapan 1\n"
     ]
    }
   ],
   "source": [
    "# https://careerkarma.com/blog/python-sort-a-dictionary-by-value/\n",
    "sort_values_chi = sorted(chi_values.items(), key=lambda x: x[1], reverse=True)\n",
    "for i in sort_values_chi[0:5]:\n",
    "    print(i[0], i[1])"
   ]
  },
  {
   "cell_type": "markdown",
   "metadata": {},
   "source": [
    "## Dallas"
   ]
  },
  {
   "cell_type": "code",
   "execution_count": 1195,
   "metadata": {},
   "outputs": [
    {
     "name": "stderr",
     "output_type": "stream",
     "text": [
      "/Users/gregfeliu/opt/anaconda3/envs/learn-env/lib/python3.6/site-packages/IPython/core/interactiveshell.py:3058: DtypeWarning: Columns (10,99,101,102,103,105,106,107,109,110) have mixed types.Specify dtype option on import or set low_memory=False.\n",
      "  interactivity=interactivity, compiler=compiler, result=result)\n"
     ]
    }
   ],
   "source": [
    "dallas_data = pd.read_csv(\"./food_inspections_data/Dallas_inspections_October_2016_to_Present_.csv\")"
   ]
  },
  {
   "cell_type": "code",
   "execution_count": 1196,
   "metadata": {},
   "outputs": [
    {
     "data": {
      "text/plain": [
       "(45844, 114)"
      ]
     },
     "execution_count": 1196,
     "metadata": {},
     "output_type": "execute_result"
    }
   ],
   "source": [
    "dallas_data.shape"
   ]
  },
  {
   "cell_type": "code",
   "execution_count": 1197,
   "metadata": {},
   "outputs": [
    {
     "data": {
      "text/plain": [
       "Index(['Restaurant Name', 'Inspection Type', 'Inspection Date',\n",
       "       'Inspection Score', 'Street Number', 'Street Name', 'Street Direction',\n",
       "       'Street Type', 'Street Unit', 'Street Address',\n",
       "       ...\n",
       "       'Violation Points - 24', 'Violation Detail - 24', 'Violation Memo - 24',\n",
       "       'Violation Description - 25', 'Violation Points - 25',\n",
       "       'Violation Detail - 25', 'Violation Memo - 25', 'Inspection Month',\n",
       "       'Inspection Year', 'Lat Long Location'],\n",
       "      dtype='object', length=114)"
      ]
     },
     "execution_count": 1197,
     "metadata": {},
     "output_type": "execute_result"
    }
   ],
   "source": [
    "dallas_data.columns"
   ]
  },
  {
   "cell_type": "markdown",
   "metadata": {},
   "source": [
    "### Only unique dallas restaurants"
   ]
  },
  {
   "cell_type": "code",
   "execution_count": 1198,
   "metadata": {},
   "outputs": [],
   "source": [
    "unique_dallas_data = dallas_data.drop_duplicates(subset=['Restaurant Name'], keep='first')"
   ]
  },
  {
   "cell_type": "code",
   "execution_count": 1199,
   "metadata": {},
   "outputs": [
    {
     "data": {
      "text/plain": [
       "(7474, 114)"
      ]
     },
     "execution_count": 1199,
     "metadata": {},
     "output_type": "execute_result"
    }
   ],
   "source": [
    "unique_dallas_data.shape"
   ]
  },
  {
   "cell_type": "code",
   "execution_count": 1200,
   "metadata": {},
   "outputs": [
    {
     "data": {
      "text/plain": [
       "0.16303114911438793"
      ]
     },
     "execution_count": 1200,
     "metadata": {},
     "output_type": "execute_result"
    }
   ],
   "source": [
    "# about an 84% reduction in size of df\n",
    "unique_dallas_data.shape[0] / dallas_data.shape[0]"
   ]
  },
  {
   "cell_type": "markdown",
   "metadata": {},
   "source": [
    "### Removing columns from data"
   ]
  },
  {
   "cell_type": "code",
   "execution_count": 1201,
   "metadata": {},
   "outputs": [],
   "source": [
    "# most of the columns relate to inspections\n",
    "col_names = list(unique_dallas_data.columns)"
   ]
  },
  {
   "cell_type": "code",
   "execution_count": 1202,
   "metadata": {},
   "outputs": [
    {
     "data": {
      "text/plain": [
       "['Restaurant Name',\n",
       " 'Inspection Type',\n",
       " 'Inspection Date',\n",
       " 'Inspection Score',\n",
       " 'Street Number',\n",
       " 'Street Name',\n",
       " 'Street Direction',\n",
       " 'Street Type',\n",
       " 'Street Unit',\n",
       " 'Street Address',\n",
       " 'Zip Code']"
      ]
     },
     "execution_count": 1202,
     "metadata": {},
     "output_type": "execute_result"
    }
   ],
   "source": [
    "col_names[0:11]"
   ]
  },
  {
   "cell_type": "code",
   "execution_count": 1203,
   "metadata": {},
   "outputs": [
    {
     "data": {
      "text/plain": [
       "['Inspection Month', 'Inspection Year', 'Lat Long Location']"
      ]
     },
     "execution_count": 1203,
     "metadata": {},
     "output_type": "execute_result"
    }
   ],
   "source": [
    "col_names[-3:]"
   ]
  },
  {
   "cell_type": "code",
   "execution_count": 1204,
   "metadata": {},
   "outputs": [
    {
     "name": "stderr",
     "output_type": "stream",
     "text": [
      "/Users/gregfeliu/opt/anaconda3/envs/learn-env/lib/python3.6/site-packages/pandas/core/frame.py:3997: SettingWithCopyWarning: \n",
      "A value is trying to be set on a copy of a slice from a DataFrame\n",
      "\n",
      "See the caveats in the documentation: https://pandas.pydata.org/pandas-docs/stable/user_guide/indexing.html#returning-a-view-versus-a-copy\n",
      "  errors=errors,\n"
     ]
    }
   ],
   "source": [
    "unique_dallas_data.drop(columns = [x for x in col_names[11:-4]], inplace=True)"
   ]
  },
  {
   "cell_type": "code",
   "execution_count": 1205,
   "metadata": {},
   "outputs": [
    {
     "data": {
      "text/html": [
       "<div>\n",
       "<style scoped>\n",
       "    .dataframe tbody tr th:only-of-type {\n",
       "        vertical-align: middle;\n",
       "    }\n",
       "\n",
       "    .dataframe tbody tr th {\n",
       "        vertical-align: top;\n",
       "    }\n",
       "\n",
       "    .dataframe thead th {\n",
       "        text-align: right;\n",
       "    }\n",
       "</style>\n",
       "<table border=\"1\" class=\"dataframe\">\n",
       "  <thead>\n",
       "    <tr style=\"text-align: right;\">\n",
       "      <th></th>\n",
       "      <th>Restaurant Name</th>\n",
       "      <th>Inspection Type</th>\n",
       "      <th>Inspection Date</th>\n",
       "      <th>Inspection Score</th>\n",
       "      <th>Street Number</th>\n",
       "      <th>Street Name</th>\n",
       "      <th>Street Direction</th>\n",
       "      <th>Street Type</th>\n",
       "      <th>Street Unit</th>\n",
       "      <th>Street Address</th>\n",
       "      <th>Zip Code</th>\n",
       "      <th>Violation Memo - 25</th>\n",
       "      <th>Inspection Month</th>\n",
       "      <th>Inspection Year</th>\n",
       "      <th>Lat Long Location</th>\n",
       "    </tr>\n",
       "  </thead>\n",
       "  <tbody>\n",
       "    <tr>\n",
       "      <th>0</th>\n",
       "      <td>FRESHII</td>\n",
       "      <td>Routine</td>\n",
       "      <td>10/31/2018</td>\n",
       "      <td>96</td>\n",
       "      <td>2414</td>\n",
       "      <td>VICTORY PARK</td>\n",
       "      <td>NaN</td>\n",
       "      <td>LN</td>\n",
       "      <td>NaN</td>\n",
       "      <td>2414 VICTORY PARK LN</td>\n",
       "      <td>75219</td>\n",
       "      <td>NaN</td>\n",
       "      <td>Oct 2018</td>\n",
       "      <td>FY2019</td>\n",
       "      <td>2414 VICTORY PARK LN\\n(32.787625, -96.809294)</td>\n",
       "    </tr>\n",
       "    <tr>\n",
       "      <th>1</th>\n",
       "      <td>MICKLE CHICKEN</td>\n",
       "      <td>Routine</td>\n",
       "      <td>10/30/2019</td>\n",
       "      <td>100</td>\n",
       "      <td>3203</td>\n",
       "      <td>CAMP WISDOM</td>\n",
       "      <td>W</td>\n",
       "      <td>RD</td>\n",
       "      <td>NaN</td>\n",
       "      <td>3203 W CAMP WISDOM RD</td>\n",
       "      <td>75237</td>\n",
       "      <td>NaN</td>\n",
       "      <td>Oct 2019</td>\n",
       "      <td>FY2020</td>\n",
       "      <td>3203 W CAMP WISDOM RD\\n(32.662584, -96.873446)</td>\n",
       "    </tr>\n",
       "  </tbody>\n",
       "</table>\n",
       "</div>"
      ],
      "text/plain": [
       "  Restaurant Name Inspection Type Inspection Date  Inspection Score  \\\n",
       "0         FRESHII         Routine      10/31/2018                96   \n",
       "1  MICKLE CHICKEN         Routine      10/30/2019               100   \n",
       "\n",
       "   Street Number   Street Name Street Direction Street Type Street Unit  \\\n",
       "0           2414  VICTORY PARK              NaN          LN         NaN   \n",
       "1           3203   CAMP WISDOM                W          RD         NaN   \n",
       "\n",
       "          Street Address Zip Code Violation Memo - 25 Inspection Month  \\\n",
       "0   2414 VICTORY PARK LN    75219                 NaN         Oct 2018   \n",
       "1  3203 W CAMP WISDOM RD    75237                 NaN         Oct 2019   \n",
       "\n",
       "  Inspection Year                               Lat Long Location  \n",
       "0          FY2019   2414 VICTORY PARK LN\\n(32.787625, -96.809294)  \n",
       "1          FY2020  3203 W CAMP WISDOM RD\\n(32.662584, -96.873446)  "
      ]
     },
     "execution_count": 1205,
     "metadata": {},
     "output_type": "execute_result"
    }
   ],
   "source": [
    "unique_dallas_data.head(2)"
   ]
  },
  {
   "cell_type": "markdown",
   "metadata": {},
   "source": [
    "### Getting matches to dem dict"
   ]
  },
  {
   "cell_type": "code",
   "execution_count": 1206,
   "metadata": {},
   "outputs": [],
   "source": [
    "# using the DBA Name as the key\n",
    "restaurant_matches_dal = {key.lower(): None for key in unique_dallas_data['Restaurant Name'] if type(key) == str}"
   ]
  },
  {
   "cell_type": "code",
   "execution_count": 1207,
   "metadata": {},
   "outputs": [],
   "source": [
    "for key, value in restaurant_matches_dal.items():\n",
    "    if type(key) == str:\n",
    "        split_item = key.split()\n",
    "        for word in split_item:\n",
    "            for key1, value1 in demonym_dictionary.items():\n",
    "                for city in value1:\n",
    "                    if word.lower() == city:\n",
    "                        value_info = [key1, city]\n",
    "                        restaurant_matches_dal[key] = value_info"
   ]
  },
  {
   "cell_type": "code",
   "execution_count": 1208,
   "metadata": {},
   "outputs": [],
   "source": [
    "bad_keys_dal = []\n",
    "for key, value in restaurant_matches_dal.items():\n",
    "    if value == None:\n",
    "        bad_keys_dal.append(key)"
   ]
  },
  {
   "cell_type": "code",
   "execution_count": 1209,
   "metadata": {},
   "outputs": [
    {
     "data": {
      "text/plain": [
       "7084"
      ]
     },
     "execution_count": 1209,
     "metadata": {},
     "output_type": "execute_result"
    }
   ],
   "source": [
    "len(bad_keys_dal)"
   ]
  },
  {
   "cell_type": "code",
   "execution_count": 1210,
   "metadata": {
    "scrolled": false
   },
   "outputs": [
    {
     "data": {
      "text/plain": [
       "7472"
      ]
     },
     "execution_count": 1210,
     "metadata": {},
     "output_type": "execute_result"
    }
   ],
   "source": [
    "len(restaurant_matches_dal)"
   ]
  },
  {
   "cell_type": "code",
   "execution_count": 1211,
   "metadata": {},
   "outputs": [
    {
     "data": {
      "text/plain": [
       "[('freshii', None),\n",
       " ('mickle chicken', None),\n",
       " ('world trade center market', None)]"
      ]
     },
     "execution_count": 1211,
     "metadata": {},
     "output_type": "execute_result"
    }
   ],
   "source": [
    "list(restaurant_matches_dal.items())[0:3]"
   ]
  },
  {
   "cell_type": "markdown",
   "metadata": {},
   "source": [
    "### Removing restaurants with no matches"
   ]
  },
  {
   "cell_type": "code",
   "execution_count": 1212,
   "metadata": {},
   "outputs": [],
   "source": [
    "for x in bad_keys_dal:\n",
    "    if restaurant_matches_dal.get(x) != None:\n",
    "        del restaurant_matches_dal[x]\n",
    "    elif restaurant_matches_dal.get(x) == None:\n",
    "        del restaurant_matches_dal[x]"
   ]
  },
  {
   "cell_type": "code",
   "execution_count": 1213,
   "metadata": {},
   "outputs": [
    {
     "data": {
      "text/plain": [
       "388"
      ]
     },
     "execution_count": 1213,
     "metadata": {},
     "output_type": "execute_result"
    }
   ],
   "source": [
    "len(list(restaurant_matches_dal.items()))"
   ]
  },
  {
   "cell_type": "markdown",
   "metadata": {},
   "source": [
    "### Removing Bad Matches"
   ]
  },
  {
   "cell_type": "code",
   "execution_count": 1214,
   "metadata": {},
   "outputs": [],
   "source": [
    "bad_keys_dal2 = []\n",
    "for key, value in restaurant_matches_dal.items():\n",
    "    if value != None:\n",
    "        if value[1] in bad_matches:\n",
    "            bad_keys_dal2.append(key)"
   ]
  },
  {
   "cell_type": "code",
   "execution_count": 1215,
   "metadata": {},
   "outputs": [],
   "source": [
    "# removing bad keys\n",
    "for x in bad_keys_dal2:\n",
    "    if restaurant_matches_dal.get(x) != None:\n",
    "        del restaurant_matches_dal[x]\n",
    "    elif restaurant_matches_dal.get(x) == None:\n",
    "        del restaurant_matches_dal[x]"
   ]
  },
  {
   "cell_type": "code",
   "execution_count": 1216,
   "metadata": {},
   "outputs": [
    {
     "data": {
      "text/plain": [
       "140"
      ]
     },
     "execution_count": 1216,
     "metadata": {},
     "output_type": "execute_result"
    }
   ],
   "source": [
    "len(restaurant_matches_dal)"
   ]
  },
  {
   "cell_type": "code",
   "execution_count": 1217,
   "metadata": {},
   "outputs": [
    {
     "data": {
      "text/plain": [
       "{'la michoacana grocery/produce': ['Michoacan de Ocampo', 'michoacana'],\n",
       " 'acapulco': ['Tamaulipas', 'acapulco'],\n",
       " 'cathedral santuario de guadalupe': ['Chihuahua', 'guadalupe'],\n",
       " 'la michoacana meat mkt': ['Michoacan de Ocampo', 'michoacana'],\n",
       " 'supermercado teloloapan #17, inc (grocery)': ['Guerrero', 'teloloapan'],\n",
       " 'la michoacana meat mkt/carniceria': ['Michoacan de Ocampo', 'michoacana'],\n",
       " 'mariscos la riviera nayarit': ['Nayarit', 'nayarit'],\n",
       " 'la michoacana meat market- bakery': ['Michoacan de Ocampo', 'michoacana'],\n",
       " 'martinez elem school': ['Durango', 'martinez'],\n",
       " 'la michoacana meat market - taqueria': ['Michoacan de Ocampo', 'michoacana'],\n",
       " 'mi lindo oaxaca (fl 1)': ['Oaxaca', 'oaxaca'],\n",
       " 'taqueria fondita celaya': ['Veracruz', 'celaya'],\n",
       " 'el pollo regio': ['Nuevo Leon', 'regio'],\n",
       " 'paleteria neveria la china poblana': ['Puebla', 'poblana'],\n",
       " 'el molino tortilleria': ['Yucatan', 'molino'],\n",
       " 'monterrey restaurant & bbq': ['Campeche', 'monterrey'],\n",
       " 'charco broiler steak #2': ['Veracruz', 'charco'],\n",
       " 'taqueria los altos de jalisco': ['Jalisco', 'jalisco'],\n",
       " 'y carniceria guanajuato': ['Guanajuato', 'guanajuato'],\n",
       " 'zaragoza elementaryschool': ['Yucatan', 'zaragoza'],\n",
       " 'pollo regio': ['Nuevo Leon', 'regio'],\n",
       " 'mi lindo oaxaca (fl 2)': ['Oaxaca', 'oaxaca'],\n",
       " 'el michoacano restaurante': ['Michoacan de Ocampo', 'michoacano'],\n",
       " 'taqueria los altos de jalisco #3': ['Jalisco', 'jalisco'],\n",
       " 'taqueria el aquila real': ['Yucatan', 'aquila'],\n",
       " 'taqueria acambaro': ['Veracruz', 'acambaro'],\n",
       " 'restaurant & bar monterrey': ['Campeche', 'monterrey'],\n",
       " 'tacos el regio': ['Nuevo Leon', 'regio'],\n",
       " 'sundown at granada upstair bar': ['Morelos', 'granada'],\n",
       " 'honduras fresh coffee': ['Baja California Sur', 'honduras'],\n",
       " 'cabritos los cavazos restaurant': ['Mexico', 'cavazos'],\n",
       " 'tortilleria tuzantla': ['Guerrero', 'tuzantla'],\n",
       " 'la michoacana meat market grocery': ['Michoacan de Ocampo', 'michoacana'],\n",
       " 'salazar elementary': ['Quintana Roo', 'salazar'],\n",
       " 'sundown at granada': ['Morelos', 'granada'],\n",
       " 'neveria el regio': ['Nuevo Leon', 'regio'],\n",
       " 'trinidad garza early college': ['Baja California Sur', 'trinidad'],\n",
       " 'billares reforma': ['Hidalgo', 'reforma'],\n",
       " 'margaritas restaurant': ['Baja California', 'margaritas'],\n",
       " 'taqueria los arcos de jal': ['Yucatan', 'jal'],\n",
       " 'maravatio restaurant': ['Guerrero', 'maravatio'],\n",
       " 'la michoacana meat market #7': ['Michoacan de Ocampo', 'michoacana'],\n",
       " 'tortilleria y molino de nixtamal la potosina': ['San Luis Potosi',\n",
       "  'potosina'],\n",
       " 'torteria guerrero': ['Guerrero', 'guerrero'],\n",
       " 'mercado durango': ['Durango', 'durango'],\n",
       " 'taqueria la veracruzana': ['Veracruz', 'veracruzana'],\n",
       " 'la frontera restaurant + bar': ['Hidalgo', 'frontera'],\n",
       " 'torteria potosina': ['San Luis Potosi', 'potosina'],\n",
       " 'jalisco': ['Jalisco', 'jalisco'],\n",
       " 'la michoacana bakery & tacos': ['Michoacan de Ocampo', 'michoacana'],\n",
       " 'tostadas y micheladas el camaron loco': ['Yucatan', 'camaron'],\n",
       " 'rodeo goat': ['Tabasco', 'rodeo'],\n",
       " 'morales restaurant 2': ['Veracruz', 'morales'],\n",
       " 'taqueria mi zacatecas': ['Zacatecas', 'zacatecas'],\n",
       " 'mexicali restaurant': ['Baja California', 'mexicali'],\n",
       " 'mirador': ['Yucatan', 'mirador'],\n",
       " 'tortilleria galindo': ['Tlaxcala', 'galindo'],\n",
       " 'gonzalez restaurant': ['Mexico', 'gonzalez'],\n",
       " 'walt garrison rodeo bar': ['Tabasco', 'rodeo'],\n",
       " 'irma lerma rangel school': ['Sinaloa', 'lerma'],\n",
       " 'agave hidalgo inc': ['Hidalgo', 'hidalgo'],\n",
       " 'tortilleria quiroga': ['Guerrero', 'quiroga'],\n",
       " 'la michoacana taqueria': ['Michoacan de Ocampo', 'michoacana'],\n",
       " 'taqueria taxco': ['Hidalgo', 'taxco'],\n",
       " 'apatzingan taqueria': ['Hidalgo', 'apatzingan'],\n",
       " 'super mercado monterrey kitchen': ['Campeche', 'monterrey'],\n",
       " 'la michoacana (taqueria)': ['Michoacan de Ocampo', 'michoacana'],\n",
       " 'super mercado monterrey taqueria': ['Campeche', 'monterrey'],\n",
       " 'la michoacana meat market-taqueria': ['Michoacan de Ocampo', 'michoacana'],\n",
       " 'medina oven & bar': ['Veracruz', 'medina'],\n",
       " 'super mercado monterrey grocery/grill': ['Campeche', 'monterrey'],\n",
       " 'taqueria tiquicheo': ['Guerrero', 'tiquicheo'],\n",
       " 'la michoacana (restaurant)': ['Michoacan de Ocampo', 'michoacana'],\n",
       " 'super mercado monterrey bakery &tor': ['Campeche', 'monterrey'],\n",
       " 'mariscos y reposteria guadalajara': ['Baja California', 'guadalajara'],\n",
       " 'el rincon tapatio': ['Jalisco', 'tapatio'],\n",
       " 'ascension coffee': ['Campeche', 'ascension'],\n",
       " 'el regio': ['Nuevo Leon', 'regio'],\n",
       " 'food concepcion llc': ['Chihuahua', 'concepcion'],\n",
       " 'la michoacana meat market taqueria deli': ['Michoacan de Ocampo',\n",
       "  'michoacana'],\n",
       " 'corrientes 348': ['Ciudad de Mexico', 'corrientes'],\n",
       " 'ixtapa bay restaurant': ['Chiapas', 'ixtapa'],\n",
       " 'california pizza kitchen': ['Guanajuato', 'california'],\n",
       " 'rodeo catfish ii': ['Tabasco', 'rodeo'],\n",
       " 'veracruz cafe': ['Veracruz', 'veracruz'],\n",
       " 'la panaderia chichen-itza': ['Sonora', 'chichen-itza'],\n",
       " 'charco broiler steak': ['Veracruz', 'charco'],\n",
       " 'la michoacana meat market-meat market': ['Michoacan de Ocampo',\n",
       "  'michoacana'],\n",
       " 'm. tacubaya': ['Morelos', 'tacubaya'],\n",
       " 'taqueria los alsos de jalisco': ['Jalisco', 'jalisco'],\n",
       " 'agu a ramen bistro': ['Michoacan de Ocampo', 'agu'],\n",
       " 'granada theater': ['Morelos', 'granada'],\n",
       " 'mi honduras': ['Baja California Sur', 'honduras'],\n",
       " 'mariscos acapulco': ['Tamaulipas', 'acapulco'],\n",
       " 'la michoacana premier ice cream': ['Michoacan de Ocampo', 'michoacana'],\n",
       " 'h b gonzalez elementary school': ['Mexico', 'gonzalez'],\n",
       " 'casa cavazos': ['Mexico', 'cavazos'],\n",
       " 'el guerrerense': ['Guerrero', 'guerrerense'],\n",
       " 'la real michoacana': ['Michoacan de Ocampo', 'michoacana'],\n",
       " 'barbacoa agave hidalguense': ['Hidalgo', 'hidalguense'],\n",
       " 'lto restaurant concepts, llc dba junction': ['San Luis Potosi', 'lto'],\n",
       " 'la michoacana meat market/grocery': ['Michoacan de Ocampo', 'michoacana'],\n",
       " \"antojito's jalisco\": ['Jalisco', 'jalisco'],\n",
       " 'chamoyadas guerrero': ['Guerrero', 'guerrero'],\n",
       " 'eldorado cafe': ['Chiapas', 'eldorado'],\n",
       " 'la michoacana (bakery)': ['Michoacan de Ocampo', 'michoacana'],\n",
       " 'monterrey bakery': ['Campeche', 'monterrey'],\n",
       " 'la michoacana meat market bakery': ['Michoacan de Ocampo', 'michoacana'],\n",
       " 'la michoacana estilo chicago': ['Michoacan de Ocampo', 'michoacana'],\n",
       " 'la michoacana (meat market)': ['Michoacan de Ocampo', 'michoacana'],\n",
       " 'la real michoacana ice cream parlor': ['Michoacan de Ocampo', 'michoacana'],\n",
       " 'pasteleria comonfort': ['Veracruz', 'comonfort'],\n",
       " 'toluca': ['Mexico', 'toluca'],\n",
       " 'la michoacana meat market - meat': ['Michoacan de Ocampo', 'michoacana'],\n",
       " '84 point by ascension coffee': ['Campeche', 'ascension'],\n",
       " 'la michoacana meat market': ['Michoacan de Ocampo', 'michoacana'],\n",
       " 'la michoacana (carnitas)': ['Michoacan de Ocampo', 'michoacana'],\n",
       " 'monterrey super market': ['Campeche', 'monterrey'],\n",
       " 'fruteria guerrero': ['Guerrero', 'guerrero'],\n",
       " 'taqueria taxco buffet': ['Hidalgo', 'taxco'],\n",
       " 'mercado juarez cafe': ['Mexico', 'juarez'],\n",
       " 'taqueria ramirez': ['Mexico', 'ramirez'],\n",
       " 'supermercado teloloapan #17 (meat market)': ['Guerrero', 'teloloapan'],\n",
       " 'corazon chilango': ['Ciudad de Mexico', 'chilango'],\n",
       " 'tacoz toluka': ['Sinaloa', 'toluka'],\n",
       " 'chalmita': ['Sinaloa', 'chalmita'],\n",
       " 'la michoacana grocery': ['Michoacan de Ocampo', 'michoacana'],\n",
       " 'paleteria y neveria la michoacana': ['Michoacan de Ocampo', 'michoacana'],\n",
       " 'panaderia celaya 2': ['Veracruz', 'celaya'],\n",
       " 'church of the ascension': ['Campeche', 'ascension'],\n",
       " 'linares nuevo leon': ['Veracruz', 'leon'],\n",
       " 'tacos frontera': ['Hidalgo', 'frontera'],\n",
       " 'super mercado monterrey #5 tortilla/deli': ['Campeche', 'monterrey'],\n",
       " 'super mercado monterrey meat mkt': ['Campeche', 'monterrey'],\n",
       " \"d' carbo catering\": ['Tabasco', 'carbo'],\n",
       " 'midnight rodeo': ['Tabasco', 'rodeo'],\n",
       " 'super mercado monterrey #5 bakery': ['Campeche', 'monterrey'],\n",
       " 'la chihuahuita': ['Chiapas', 'chihuahuita'],\n",
       " 'la chula michoacana': ['Michoacan de Ocampo', 'michoacana'],\n",
       " 'medranos restaurant': ['Veracruz', 'medranos']}"
      ]
     },
     "execution_count": 1217,
     "metadata": {},
     "output_type": "execute_result"
    }
   ],
   "source": [
    "restaurant_matches_dal"
   ]
  },
  {
   "cell_type": "markdown",
   "metadata": {},
   "source": [
    "### Getting the number of restaurants for each region"
   ]
  },
  {
   "cell_type": "code",
   "execution_count": 1218,
   "metadata": {},
   "outputs": [],
   "source": [
    "regions_represented_dal = []\n",
    "for key, value in restaurant_matches_dal.items():\n",
    "    if value[0] not in regions_represented_dal:\n",
    "        regions_represented_dal.append(value[0])"
   ]
  },
  {
   "cell_type": "code",
   "execution_count": 1219,
   "metadata": {},
   "outputs": [],
   "source": [
    "# getting the count of values\n",
    "region_dict_dal = {key: 0 for key in regions_represented_dal}"
   ]
  },
  {
   "cell_type": "code",
   "execution_count": 1220,
   "metadata": {},
   "outputs": [
    {
     "data": {
      "text/plain": [
       "['Michoacan de Ocampo',\n",
       " 'Tamaulipas',\n",
       " 'Chihuahua',\n",
       " 'Guerrero',\n",
       " 'Nayarit',\n",
       " 'Durango',\n",
       " 'Oaxaca',\n",
       " 'Veracruz',\n",
       " 'Nuevo Leon',\n",
       " 'Puebla']"
      ]
     },
     "execution_count": 1220,
     "metadata": {},
     "output_type": "execute_result"
    }
   ],
   "source": [
    "regions_represented_dal[0:10]"
   ]
  },
  {
   "cell_type": "code",
   "execution_count": 1221,
   "metadata": {},
   "outputs": [],
   "source": [
    "for key, value in restaurant_matches_dal.items():\n",
    "    if value[0] in region_dict_dal.keys():\n",
    "        region_dict_dal[value[0]] += 1"
   ]
  },
  {
   "cell_type": "code",
   "execution_count": 1222,
   "metadata": {},
   "outputs": [
    {
     "data": {
      "text/plain": [
       "{'Michoacan de Ocampo': 30,\n",
       " 'Tamaulipas': 2,\n",
       " 'Chihuahua': 2,\n",
       " 'Guerrero': 10,\n",
       " 'Nayarit': 1,\n",
       " 'Durango': 2,\n",
       " 'Oaxaca': 2,\n",
       " 'Veracruz': 12,\n",
       " 'Nuevo Leon': 5,\n",
       " 'Puebla': 1,\n",
       " 'Yucatan': 6,\n",
       " 'Campeche': 14,\n",
       " 'Jalisco': 6,\n",
       " 'Guanajuato': 2,\n",
       " 'Morelos': 4,\n",
       " 'Baja California Sur': 3,\n",
       " 'Mexico': 7,\n",
       " 'Quintana Roo': 1,\n",
       " 'Hidalgo': 8,\n",
       " 'Baja California': 3,\n",
       " 'San Luis Potosi': 3,\n",
       " 'Tabasco': 5,\n",
       " 'Zacatecas': 1,\n",
       " 'Tlaxcala': 1,\n",
       " 'Sinaloa': 3,\n",
       " 'Ciudad de Mexico': 2,\n",
       " 'Chiapas': 3,\n",
       " 'Sonora': 1}"
      ]
     },
     "execution_count": 1222,
     "metadata": {},
     "output_type": "execute_result"
    }
   ],
   "source": [
    "region_dict_dal"
   ]
  },
  {
   "cell_type": "markdown",
   "metadata": {},
   "source": [
    "### Getting Counts as percentages"
   ]
  },
  {
   "cell_type": "code",
   "execution_count": 1223,
   "metadata": {},
   "outputs": [],
   "source": [
    "region_dict_dal_pct = {key:round(value/len(restaurant_matches_dal), 2) \n",
    "                       for key, value in region_dict_dal.items()}"
   ]
  },
  {
   "cell_type": "code",
   "execution_count": 1224,
   "metadata": {},
   "outputs": [
    {
     "data": {
      "text/plain": [
       "{'Michoacan de Ocampo': 0.21,\n",
       " 'Tamaulipas': 0.01,\n",
       " 'Chihuahua': 0.01,\n",
       " 'Guerrero': 0.07,\n",
       " 'Nayarit': 0.01,\n",
       " 'Durango': 0.01,\n",
       " 'Oaxaca': 0.01,\n",
       " 'Veracruz': 0.09,\n",
       " 'Nuevo Leon': 0.04,\n",
       " 'Puebla': 0.01,\n",
       " 'Yucatan': 0.04,\n",
       " 'Campeche': 0.1,\n",
       " 'Jalisco': 0.04,\n",
       " 'Guanajuato': 0.01,\n",
       " 'Morelos': 0.03,\n",
       " 'Baja California Sur': 0.02,\n",
       " 'Mexico': 0.05,\n",
       " 'Quintana Roo': 0.01,\n",
       " 'Hidalgo': 0.06,\n",
       " 'Baja California': 0.02,\n",
       " 'San Luis Potosi': 0.02,\n",
       " 'Tabasco': 0.04,\n",
       " 'Zacatecas': 0.01,\n",
       " 'Tlaxcala': 0.01,\n",
       " 'Sinaloa': 0.02,\n",
       " 'Ciudad de Mexico': 0.01,\n",
       " 'Chiapas': 0.02,\n",
       " 'Sonora': 0.01}"
      ]
     },
     "execution_count": 1224,
     "metadata": {},
     "output_type": "execute_result"
    }
   ],
   "source": [
    "region_dict_dal_pct"
   ]
  },
  {
   "cell_type": "markdown",
   "metadata": {},
   "source": [
    "### Getting Values that matches"
   ]
  },
  {
   "cell_type": "code",
   "execution_count": 1225,
   "metadata": {},
   "outputs": [],
   "source": [
    "dal_values = {value[1]:0 for key, value in restaurant_matches_dal.items()}"
   ]
  },
  {
   "cell_type": "code",
   "execution_count": 1226,
   "metadata": {},
   "outputs": [],
   "source": [
    "for key, value in restaurant_matches_dal.items():\n",
    "    if value[1] in dal_values.keys():\n",
    "        dal_values[value[1]] += 1"
   ]
  },
  {
   "cell_type": "code",
   "execution_count": 1227,
   "metadata": {
    "scrolled": true
   },
   "outputs": [
    {
     "name": "stdout",
     "output_type": "stream",
     "text": [
      "michoacana 28\n",
      "monterrey 11\n",
      "regio 5\n",
      "jalisco 5\n",
      "rodeo 4\n"
     ]
    }
   ],
   "source": [
    "# https://careerkarma.com/blog/python-sort-a-dictionary-by-value/\n",
    "sort_values_dal = sorted(dal_values.items(), key=lambda x: x[1], reverse=True)\n",
    "for i in sort_values_dal[0:5]:\n",
    "    print(i[0], i[1])"
   ]
  },
  {
   "cell_type": "markdown",
   "metadata": {},
   "source": [
    "## San Francisco "
   ]
  },
  {
   "cell_type": "code",
   "execution_count": 1228,
   "metadata": {},
   "outputs": [],
   "source": [
    "sf_data = pd.read_csv(\"./food_inspections_data/san_fran_Restaurant_Scores_-_LIVES_Standard.csv\")"
   ]
  },
  {
   "cell_type": "code",
   "execution_count": 1229,
   "metadata": {},
   "outputs": [
    {
     "data": {
      "text/html": [
       "<div>\n",
       "<style scoped>\n",
       "    .dataframe tbody tr th:only-of-type {\n",
       "        vertical-align: middle;\n",
       "    }\n",
       "\n",
       "    .dataframe tbody tr th {\n",
       "        vertical-align: top;\n",
       "    }\n",
       "\n",
       "    .dataframe thead th {\n",
       "        text-align: right;\n",
       "    }\n",
       "</style>\n",
       "<table border=\"1\" class=\"dataframe\">\n",
       "  <thead>\n",
       "    <tr style=\"text-align: right;\">\n",
       "      <th></th>\n",
       "      <th>business_id</th>\n",
       "      <th>business_name</th>\n",
       "      <th>business_address</th>\n",
       "      <th>business_city</th>\n",
       "      <th>business_state</th>\n",
       "      <th>business_postal_code</th>\n",
       "      <th>business_latitude</th>\n",
       "      <th>business_longitude</th>\n",
       "      <th>business_location</th>\n",
       "      <th>business_phone_number</th>\n",
       "      <th>...</th>\n",
       "      <th>inspection_type</th>\n",
       "      <th>violation_id</th>\n",
       "      <th>violation_description</th>\n",
       "      <th>risk_category</th>\n",
       "      <th>Neighborhoods (old)</th>\n",
       "      <th>Police Districts</th>\n",
       "      <th>Supervisor Districts</th>\n",
       "      <th>Fire Prevention Districts</th>\n",
       "      <th>Zip Codes</th>\n",
       "      <th>Analysis Neighborhoods</th>\n",
       "    </tr>\n",
       "  </thead>\n",
       "  <tbody>\n",
       "    <tr>\n",
       "      <th>0</th>\n",
       "      <td>69618</td>\n",
       "      <td>Fancy Wheatfield Bakery</td>\n",
       "      <td>1362 Stockton St</td>\n",
       "      <td>San Francisco</td>\n",
       "      <td>CA</td>\n",
       "      <td>94133</td>\n",
       "      <td>NaN</td>\n",
       "      <td>NaN</td>\n",
       "      <td>NaN</td>\n",
       "      <td>NaN</td>\n",
       "      <td>...</td>\n",
       "      <td>Complaint</td>\n",
       "      <td>69618_20190304_103130</td>\n",
       "      <td>Inadequate sewage or wastewater disposal</td>\n",
       "      <td>Moderate Risk</td>\n",
       "      <td>NaN</td>\n",
       "      <td>NaN</td>\n",
       "      <td>NaN</td>\n",
       "      <td>NaN</td>\n",
       "      <td>NaN</td>\n",
       "      <td>NaN</td>\n",
       "    </tr>\n",
       "    <tr>\n",
       "      <th>1</th>\n",
       "      <td>97975</td>\n",
       "      <td>BREADBELLY</td>\n",
       "      <td>1408 Clement St</td>\n",
       "      <td>San Francisco</td>\n",
       "      <td>CA</td>\n",
       "      <td>94118</td>\n",
       "      <td>NaN</td>\n",
       "      <td>NaN</td>\n",
       "      <td>NaN</td>\n",
       "      <td>1.415724e+10</td>\n",
       "      <td>...</td>\n",
       "      <td>Routine - Unscheduled</td>\n",
       "      <td>97975_20190725_103124</td>\n",
       "      <td>Inadequately cleaned or sanitized food contact...</td>\n",
       "      <td>Moderate Risk</td>\n",
       "      <td>NaN</td>\n",
       "      <td>NaN</td>\n",
       "      <td>NaN</td>\n",
       "      <td>NaN</td>\n",
       "      <td>NaN</td>\n",
       "      <td>NaN</td>\n",
       "    </tr>\n",
       "  </tbody>\n",
       "</table>\n",
       "<p>2 rows × 23 columns</p>\n",
       "</div>"
      ],
      "text/plain": [
       "   business_id            business_name  business_address  business_city  \\\n",
       "0        69618  Fancy Wheatfield Bakery  1362 Stockton St  San Francisco   \n",
       "1        97975               BREADBELLY   1408 Clement St  San Francisco   \n",
       "\n",
       "  business_state business_postal_code  business_latitude  business_longitude  \\\n",
       "0             CA                94133                NaN                 NaN   \n",
       "1             CA                94118                NaN                 NaN   \n",
       "\n",
       "  business_location  business_phone_number  ...        inspection_type  \\\n",
       "0               NaN                    NaN  ...              Complaint   \n",
       "1               NaN           1.415724e+10  ...  Routine - Unscheduled   \n",
       "\n",
       "            violation_id                              violation_description  \\\n",
       "0  69618_20190304_103130           Inadequate sewage or wastewater disposal   \n",
       "1  97975_20190725_103124  Inadequately cleaned or sanitized food contact...   \n",
       "\n",
       "   risk_category Neighborhoods (old) Police Districts Supervisor Districts  \\\n",
       "0  Moderate Risk                 NaN              NaN                  NaN   \n",
       "1  Moderate Risk                 NaN              NaN                  NaN   \n",
       "\n",
       "   Fire Prevention Districts  Zip Codes  Analysis Neighborhoods  \n",
       "0                        NaN        NaN                     NaN  \n",
       "1                        NaN        NaN                     NaN  \n",
       "\n",
       "[2 rows x 23 columns]"
      ]
     },
     "execution_count": 1229,
     "metadata": {},
     "output_type": "execute_result"
    }
   ],
   "source": [
    "sf_data.head(2)"
   ]
  },
  {
   "cell_type": "code",
   "execution_count": 1230,
   "metadata": {},
   "outputs": [
    {
     "data": {
      "text/plain": [
       "(53973, 23)"
      ]
     },
     "execution_count": 1230,
     "metadata": {},
     "output_type": "execute_result"
    }
   ],
   "source": [
    "sf_data.shape"
   ]
  },
  {
   "cell_type": "code",
   "execution_count": 1231,
   "metadata": {},
   "outputs": [],
   "source": [
    "sf_data_unique = sf_data.drop_duplicates(subset=['business_name'], keep='first')"
   ]
  },
  {
   "cell_type": "code",
   "execution_count": 1232,
   "metadata": {
    "scrolled": true
   },
   "outputs": [
    {
     "data": {
      "text/plain": [
       "(5775, 23)"
      ]
     },
     "execution_count": 1232,
     "metadata": {},
     "output_type": "execute_result"
    }
   ],
   "source": [
    "sf_data_unique.shape"
   ]
  },
  {
   "cell_type": "code",
   "execution_count": 1233,
   "metadata": {},
   "outputs": [],
   "source": [
    "lower_biz_name = [x.lower() for x in sf_data['business_name']]"
   ]
  },
  {
   "cell_type": "code",
   "execution_count": 1234,
   "metadata": {},
   "outputs": [
    {
     "data": {
      "text/plain": [
       "5672"
      ]
     },
     "execution_count": 1234,
     "metadata": {},
     "output_type": "execute_result"
    }
   ],
   "source": [
    "# this is slightly smaller than the set of unique business names without lowering all of the characters (by 1000)\n",
    "len(set(lower_biz_name)) "
   ]
  },
  {
   "cell_type": "markdown",
   "metadata": {},
   "source": [
    "### Getting Names of Restaurants"
   ]
  },
  {
   "cell_type": "code",
   "execution_count": 1235,
   "metadata": {},
   "outputs": [],
   "source": [
    "rest_matches_sf = []\n",
    "for item in set(lower_biz_name):\n",
    "    split_item = item.split()\n",
    "    for word in split_item:\n",
    "        for key, value in demonym_dictionary.items():\n",
    "            for city in value:\n",
    "                if word == city:\n",
    "                    if word not in bad_matches: # if not, the number of results is tripled\n",
    "                        rest_matches_sf.append(item)"
   ]
  },
  {
   "cell_type": "code",
   "execution_count": 1236,
   "metadata": {},
   "outputs": [],
   "source": [
    "unique_sf_matches = list(set(rest_matches_sf))"
   ]
  },
  {
   "cell_type": "code",
   "execution_count": 1237,
   "metadata": {},
   "outputs": [
    {
     "data": {
      "text/plain": [
       "46"
      ]
     },
     "execution_count": 1237,
     "metadata": {},
     "output_type": "execute_result"
    }
   ],
   "source": [
    "len(unique_sf_matches)"
   ]
  },
  {
   "cell_type": "code",
   "execution_count": 1238,
   "metadata": {},
   "outputs": [
    {
     "data": {
      "text/plain": [
       "['lucky california #755',\n",
       " 'la taqueria guadalajara',\n",
       " 'california grocery',\n",
       " 'california pizza kitchen, inc.',\n",
       " 'fei tian academy of the arts california',\n",
       " 'peralta',\n",
       " 'bi-rite divisadero',\n",
       " 'california garlic noodles',\n",
       " 'el rincon yucateco',\n",
       " '23rd & guerrero liquor store']"
      ]
     },
     "execution_count": 1238,
     "metadata": {},
     "output_type": "execute_result"
    }
   ],
   "source": [
    "unique_sf_matches[0:10]"
   ]
  },
  {
   "cell_type": "markdown",
   "metadata": {},
   "source": [
    "### Getting Regions for Matches"
   ]
  },
  {
   "cell_type": "code",
   "execution_count": 1239,
   "metadata": {},
   "outputs": [],
   "source": [
    "restaurant_matches_sf = {key: None for key in set(unique_sf_matches)}"
   ]
  },
  {
   "cell_type": "code",
   "execution_count": 1240,
   "metadata": {},
   "outputs": [],
   "source": [
    "for key, value in restaurant_matches_sf.items():\n",
    "    split_item = key.split()\n",
    "    for word in split_item:\n",
    "        for key1, value1 in demonym_dictionary.items():\n",
    "            for city in value1:\n",
    "                if word == city:\n",
    "                    value_info = [key1, city]\n",
    "                    restaurant_matches_sf[key] = value_info"
   ]
  },
  {
   "cell_type": "code",
   "execution_count": 1241,
   "metadata": {
    "scrolled": true
   },
   "outputs": [
    {
     "data": {
      "text/plain": [
       "46"
      ]
     },
     "execution_count": 1241,
     "metadata": {},
     "output_type": "execute_result"
    }
   ],
   "source": [
    "len(restaurant_matches_sf)"
   ]
  },
  {
   "cell_type": "markdown",
   "metadata": {},
   "source": [
    "#### Removing all entries that passed filter incorrectly"
   ]
  },
  {
   "cell_type": "code",
   "execution_count": 1243,
   "metadata": {},
   "outputs": [],
   "source": [
    "bad_keys = []\n",
    "for key, value in restaurant_matches_nyc.items():\n",
    "    if value[1] in bad_matches:\n",
    "        bad_keys.append(key)"
   ]
  },
  {
   "cell_type": "code",
   "execution_count": 1244,
   "metadata": {},
   "outputs": [
    {
     "data": {
      "text/plain": [
       "0"
      ]
     },
     "execution_count": 1244,
     "metadata": {},
     "output_type": "execute_result"
    }
   ],
   "source": [
    "len(bad_keys)"
   ]
  },
  {
   "cell_type": "code",
   "execution_count": 1245,
   "metadata": {},
   "outputs": [],
   "source": [
    "for x in bad_keys:\n",
    "    if restaurant_matches_sf.get(x) != None:\n",
    "        del restaurant_matches_sf[x]"
   ]
  },
  {
   "cell_type": "code",
   "execution_count": 1246,
   "metadata": {},
   "outputs": [],
   "source": [
    "if restaurant_matches_sf.get('guadalupe elementary school'):\n",
    "    del restaurant_matches_sf['guadalupe elementary school'] # probably refers to a neighborhood, not something in mex."
   ]
  },
  {
   "cell_type": "code",
   "execution_count": 1247,
   "metadata": {},
   "outputs": [
    {
     "data": {
      "text/plain": [
       "45"
      ]
     },
     "execution_count": 1247,
     "metadata": {},
     "output_type": "execute_result"
    }
   ],
   "source": [
    "len(restaurant_matches_sf)"
   ]
  },
  {
   "cell_type": "code",
   "execution_count": 1248,
   "metadata": {
    "scrolled": true
   },
   "outputs": [
    {
     "data": {
      "text/plain": [
       "{'lucky california #755': ['Guanajuato', 'california'],\n",
       " 'la taqueria guadalajara': ['Baja California', 'guadalajara'],\n",
       " 'california grocery': ['Guanajuato', 'california'],\n",
       " 'california pizza kitchen, inc.': ['Guanajuato', 'california'],\n",
       " 'fei tian academy of the arts california': ['Guanajuato', 'california'],\n",
       " 'peralta': ['Veracruz', 'peralta'],\n",
       " 'bi-rite divisadero': ['Tabasco', 'divisadero'],\n",
       " 'california garlic noodles': ['Guanajuato', 'california'],\n",
       " 'el rincon yucateco': ['Yucatan', 'yucateco'],\n",
       " 'california shell': ['Guanajuato', 'california'],\n",
       " '23rd & guerrero liquor store': ['Guerrero', 'guerrero'],\n",
       " 'la loma produce nos. 3 & 9 inc': ['Yucatan', 'loma'],\n",
       " 'taqueria gonzalez': ['Mexico', 'gonzalez'],\n",
       " 'taqueria cazadores': ['Chihuahua', 'cazadores'],\n",
       " 'joe & the juice 50 california': ['Guanajuato', 'california'],\n",
       " 'the little chihuahua mexican': ['Mexico', 'mexican'],\n",
       " 'wines of california wine bar': ['Guanajuato', 'california'],\n",
       " 'taqueria cancun': ['Oaxaca', 'cancun'],\n",
       " 'grand lodge of california': ['Guanajuato', 'california'],\n",
       " 'california pacific medical center-van ness campus': ['Guanajuato',\n",
       "  'california'],\n",
       " 'california pacific medical center-mission bernal campus': ['Tlaxcala',\n",
       "  'bernal'],\n",
       " '94947 california cookout cart': ['Guanajuato', 'california'],\n",
       " 'california pacific medical center': ['Guanajuato', 'california'],\n",
       " 'california pacific medical center - cafe': ['Guanajuato', 'california'],\n",
       " '6001 california market': ['Guanajuato', 'california'],\n",
       " 'barranco catering': ['Durango', 'barranco'],\n",
       " 'loving cup divisadero': ['Tabasco', 'divisadero'],\n",
       " 'the little chihuahua mexican restaurant': ['Mexico', 'mexican'],\n",
       " 'the little chihuahua': ['Chihuahua', 'chihuahua'],\n",
       " 'monterey pizza and asian zap': ['Campeche', 'monterey'],\n",
       " 'taqueria guadalajara': ['Baja California', 'guadalajara'],\n",
       " 'california tennis club': ['Guanajuato', 'california'],\n",
       " 'pisces california cuisine': ['Guanajuato', 'california'],\n",
       " 'guerrero market': ['Guerrero', 'guerrero'],\n",
       " 'casa guadalupe #3': ['Chihuahua', 'guadalupe'],\n",
       " 'san jalisco': ['Jalisco', 'jalisco'],\n",
       " 'monterey deli': ['Campeche', 'monterey'],\n",
       " 'california wine merchant': ['Guanajuato', 'california'],\n",
       " 'el picacho': ['Durango', 'picacho'],\n",
       " 'la loma produce #8': ['Yucatan', 'loma'],\n",
       " 'mi yucatan': ['Yucatan', 'yucatan'],\n",
       " 'california pacific medical ctr - hospital kitchen': ['Guanajuato',\n",
       "  'california'],\n",
       " 'la loma produce #7': ['Yucatan', 'loma'],\n",
       " 'mariscos frescos estilo masatlan': ['Chiapas', 'masatlan'],\n",
       " 'alfaro truck': ['Veracruz', 'alfaro']}"
      ]
     },
     "execution_count": 1248,
     "metadata": {},
     "output_type": "execute_result"
    }
   ],
   "source": [
    "restaurant_matches_sf"
   ]
  },
  {
   "cell_type": "markdown",
   "metadata": {},
   "source": [
    "### Getting Region Counts"
   ]
  },
  {
   "cell_type": "code",
   "execution_count": 1249,
   "metadata": {},
   "outputs": [],
   "source": [
    "region_dict_sf = {value[0]: 0 for key, value in restaurant_matches_sf.items()}"
   ]
  },
  {
   "cell_type": "code",
   "execution_count": 1250,
   "metadata": {},
   "outputs": [],
   "source": [
    "for key, value in restaurant_matches_sf.items():\n",
    "    if value[0] in region_dict_sf.keys():\n",
    "        region_dict_sf[value[0]] += 1"
   ]
  },
  {
   "cell_type": "code",
   "execution_count": 1251,
   "metadata": {},
   "outputs": [
    {
     "data": {
      "text/plain": [
       "{'Guanajuato': 18,\n",
       " 'Baja California': 2,\n",
       " 'Veracruz': 2,\n",
       " 'Tabasco': 2,\n",
       " 'Yucatan': 5,\n",
       " 'Guerrero': 2,\n",
       " 'Mexico': 3,\n",
       " 'Chihuahua': 3,\n",
       " 'Oaxaca': 1,\n",
       " 'Tlaxcala': 1,\n",
       " 'Durango': 2,\n",
       " 'Campeche': 2,\n",
       " 'Jalisco': 1,\n",
       " 'Chiapas': 1}"
      ]
     },
     "execution_count": 1251,
     "metadata": {},
     "output_type": "execute_result"
    }
   ],
   "source": [
    "region_dict_sf"
   ]
  },
  {
   "cell_type": "markdown",
   "metadata": {},
   "source": [
    "### Getting Region Counts as Percentages"
   ]
  },
  {
   "cell_type": "code",
   "execution_count": 1252,
   "metadata": {},
   "outputs": [],
   "source": [
    "region_dict_sf_pct = {value[0]: 0 for key, value in restaurant_matches_sf.items()}"
   ]
  },
  {
   "cell_type": "code",
   "execution_count": 1253,
   "metadata": {},
   "outputs": [],
   "source": [
    "for key, value in region_dict_sf.items():\n",
    "    region_dict_sf_pct[key] = round(value/len(restaurant_matches_sf), 2)"
   ]
  },
  {
   "cell_type": "code",
   "execution_count": 1254,
   "metadata": {},
   "outputs": [
    {
     "data": {
      "text/plain": [
       "{'Guanajuato': 0.4,\n",
       " 'Baja California': 0.04,\n",
       " 'Veracruz': 0.04,\n",
       " 'Tabasco': 0.04,\n",
       " 'Yucatan': 0.11,\n",
       " 'Guerrero': 0.04,\n",
       " 'Mexico': 0.07,\n",
       " 'Chihuahua': 0.07,\n",
       " 'Oaxaca': 0.02,\n",
       " 'Tlaxcala': 0.02,\n",
       " 'Durango': 0.04,\n",
       " 'Campeche': 0.04,\n",
       " 'Jalisco': 0.02,\n",
       " 'Chiapas': 0.02}"
      ]
     },
     "execution_count": 1254,
     "metadata": {},
     "output_type": "execute_result"
    }
   ],
   "source": [
    "region_dict_sf_pct"
   ]
  },
  {
   "cell_type": "markdown",
   "metadata": {},
   "source": [
    "### Getting Values that matches"
   ]
  },
  {
   "cell_type": "code",
   "execution_count": 1255,
   "metadata": {},
   "outputs": [],
   "source": [
    "sf_values = {value[1]:0 for key, value in restaurant_matches_sf.items()}"
   ]
  },
  {
   "cell_type": "code",
   "execution_count": 1256,
   "metadata": {},
   "outputs": [],
   "source": [
    "for key, value in restaurant_matches_sf.items():\n",
    "    if value[1] in sf_values.keys():\n",
    "        sf_values[value[1]] += 1"
   ]
  },
  {
   "cell_type": "code",
   "execution_count": 1257,
   "metadata": {
    "scrolled": true
   },
   "outputs": [
    {
     "name": "stdout",
     "output_type": "stream",
     "text": [
      "california 18\n",
      "loma 3\n",
      "guadalajara 2\n",
      "divisadero 2\n",
      "guerrero 2\n"
     ]
    }
   ],
   "source": [
    "# https://careerkarma.com/blog/python-sort-a-dictionary-by-value/\n",
    "sort_values_sf = sorted(sf_values.items(), key=lambda x: x[1], reverse=True)\n",
    "for i in sort_values_sf[0:5]:\n",
    "    print(i[0], i[1])"
   ]
  },
  {
   "cell_type": "markdown",
   "metadata": {},
   "source": [
    "# Combining All Restaurant Matches into One df"
   ]
  },
  {
   "cell_type": "code",
   "execution_count": null,
   "metadata": {},
   "outputs": [],
   "source": [
    "# rest_df has all of the NYC results"
   ]
  },
  {
   "cell_type": "markdown",
   "metadata": {},
   "source": [
    "## dict data"
   ]
  },
  {
   "cell_type": "code",
   "execution_count": 1350,
   "metadata": {},
   "outputs": [],
   "source": [
    "chi_reg_w_pct = pd.DataFrame.from_dict(restaurant_matches_chi, orient='index', columns = ['Region', 'Match'])\n",
    "chi_reg_w_pct.sort_index(axis=0, inplace=True)\n",
    "chi_reg_w_pct['City'] = 'Chicago'\n",
    "\n",
    "dal_reg_w_pct= pd.DataFrame.from_dict(restaurant_matches_dal, orient='index', columns = ['Region', 'Match'])\n",
    "dal_reg_w_pct.sort_index(axis=0, inplace=True)\n",
    "dal_reg_w_pct['City'] = 'Dallas'\n",
    "\n",
    "sf_reg_w_pct= pd.DataFrame.from_dict(restaurant_matches_sf, orient='index', columns = ['Region', 'Match'])\n",
    "sf_reg_w_pct.sort_index(axis=0, inplace=True)\n",
    "sf_reg_w_pct['City'] = 'SF'\n",
    "\n",
    "all_rest_df = pd.concat([chi_reg_w_pct, dal_reg_w_pct, sf_reg_w_pct], sort=True)"
   ]
  },
  {
   "cell_type": "code",
   "execution_count": 1362,
   "metadata": {},
   "outputs": [
    {
     "data": {
      "text/html": [
       "<div>\n",
       "<style scoped>\n",
       "    .dataframe tbody tr th:only-of-type {\n",
       "        vertical-align: middle;\n",
       "    }\n",
       "\n",
       "    .dataframe tbody tr th {\n",
       "        vertical-align: top;\n",
       "    }\n",
       "\n",
       "    .dataframe thead th {\n",
       "        text-align: right;\n",
       "    }\n",
       "</style>\n",
       "<table border=\"1\" class=\"dataframe\">\n",
       "  <thead>\n",
       "    <tr style=\"text-align: right;\">\n",
       "      <th></th>\n",
       "      <th>City</th>\n",
       "      <th>Match</th>\n",
       "      <th>Region</th>\n",
       "    </tr>\n",
       "  </thead>\n",
       "  <tbody>\n",
       "    <tr>\n",
       "      <th>chilango</th>\n",
       "      <td>Chicago</td>\n",
       "      <td>chilango</td>\n",
       "      <td>Ciudad de Mexico</td>\n",
       "    </tr>\n",
       "    <tr>\n",
       "      <th>los alamos</th>\n",
       "      <td>Chicago</td>\n",
       "      <td>alamos</td>\n",
       "      <td>Tabasco</td>\n",
       "    </tr>\n",
       "  </tbody>\n",
       "</table>\n",
       "</div>"
      ],
      "text/plain": [
       "               City     Match            Region\n",
       "chilango    Chicago  chilango  Ciudad de Mexico\n",
       "los alamos  Chicago    alamos           Tabasco"
      ]
     },
     "execution_count": 1362,
     "metadata": {},
     "output_type": "execute_result"
    }
   ],
   "source": [
    "all_rest_df.head(2)"
   ]
  },
  {
   "cell_type": "markdown",
   "metadata": {},
   "source": [
    "## NYC data"
   ]
  },
  {
   "cell_type": "code",
   "execution_count": 1354,
   "metadata": {},
   "outputs": [],
   "source": [
    "rest_df['City'] = 'NYC'"
   ]
  },
  {
   "cell_type": "code",
   "execution_count": 1359,
   "metadata": {},
   "outputs": [
    {
     "data": {
      "text/html": [
       "<div>\n",
       "<style scoped>\n",
       "    .dataframe tbody tr th:only-of-type {\n",
       "        vertical-align: middle;\n",
       "    }\n",
       "\n",
       "    .dataframe tbody tr th {\n",
       "        vertical-align: top;\n",
       "    }\n",
       "\n",
       "    .dataframe thead th {\n",
       "        text-align: right;\n",
       "    }\n",
       "</style>\n",
       "<table border=\"1\" class=\"dataframe\">\n",
       "  <thead>\n",
       "    <tr style=\"text-align: right;\">\n",
       "      <th></th>\n",
       "      <th>Region</th>\n",
       "      <th>Matching_word_w_region</th>\n",
       "      <th>City</th>\n",
       "    </tr>\n",
       "    <tr>\n",
       "      <th>Restaurant_name</th>\n",
       "      <th></th>\n",
       "      <th></th>\n",
       "      <th></th>\n",
       "    </tr>\n",
       "  </thead>\n",
       "  <tbody>\n",
       "    <tr>\n",
       "      <th>estrellita poblana</th>\n",
       "      <td>Puebla</td>\n",
       "      <td>poblana</td>\n",
       "      <td>NYC</td>\n",
       "    </tr>\n",
       "    <tr>\n",
       "      <th>estrellita poblana taqueria express</th>\n",
       "      <td>Puebla</td>\n",
       "      <td>poblana</td>\n",
       "      <td>NYC</td>\n",
       "    </tr>\n",
       "    <tr>\n",
       "      <th>coszcal de allende restaurant</th>\n",
       "      <td>Yucatan</td>\n",
       "      <td>allende</td>\n",
       "      <td>NYC</td>\n",
       "    </tr>\n",
       "    <tr>\n",
       "      <th>chilpancingo restaurant</th>\n",
       "      <td>Guerrero</td>\n",
       "      <td>chilpancingo</td>\n",
       "      <td>NYC</td>\n",
       "    </tr>\n",
       "    <tr>\n",
       "      <th>mama  puebla</th>\n",
       "      <td>Puebla</td>\n",
       "      <td>puebla</td>\n",
       "      <td>NYC</td>\n",
       "    </tr>\n",
       "  </tbody>\n",
       "</table>\n",
       "</div>"
      ],
      "text/plain": [
       "                                       Region Matching_word_w_region City\n",
       "Restaurant_name                                                          \n",
       "estrellita poblana                     Puebla                poblana  NYC\n",
       "estrellita poblana taqueria express    Puebla                poblana  NYC\n",
       "coszcal de allende restaurant         Yucatan                allende  NYC\n",
       "chilpancingo restaurant              Guerrero           chilpancingo  NYC\n",
       "mama  puebla                           Puebla                 puebla  NYC"
      ]
     },
     "execution_count": 1359,
     "metadata": {},
     "output_type": "execute_result"
    }
   ],
   "source": [
    "rest_df.head()"
   ]
  },
  {
   "cell_type": "code",
   "execution_count": 1358,
   "metadata": {},
   "outputs": [],
   "source": [
    "rest_df.set_index(keys=['Restaurant_name'], inplace=True)"
   ]
  },
  {
   "cell_type": "code",
   "execution_count": 1360,
   "metadata": {},
   "outputs": [],
   "source": [
    "rest_df.columns = ['Region', 'Match', 'City']"
   ]
  },
  {
   "cell_type": "code",
   "execution_count": 1363,
   "metadata": {},
   "outputs": [
    {
     "data": {
      "text/plain": [
       "Index(['Region', 'Match', 'City'], dtype='object')"
      ]
     },
     "execution_count": 1363,
     "metadata": {},
     "output_type": "execute_result"
    }
   ],
   "source": [
    "rest_df.columns"
   ]
  },
  {
   "cell_type": "markdown",
   "metadata": {},
   "source": [
    "## Merging the two dfs"
   ]
  },
  {
   "cell_type": "code",
   "execution_count": 1373,
   "metadata": {},
   "outputs": [],
   "source": [
    "all_restaurants = pd.concat([all_rest_df,rest_df])"
   ]
  },
  {
   "cell_type": "code",
   "execution_count": 1374,
   "metadata": {},
   "outputs": [
    {
     "data": {
      "text/html": [
       "<div>\n",
       "<style scoped>\n",
       "    .dataframe tbody tr th:only-of-type {\n",
       "        vertical-align: middle;\n",
       "    }\n",
       "\n",
       "    .dataframe tbody tr th {\n",
       "        vertical-align: top;\n",
       "    }\n",
       "\n",
       "    .dataframe thead th {\n",
       "        text-align: right;\n",
       "    }\n",
       "</style>\n",
       "<table border=\"1\" class=\"dataframe\">\n",
       "  <thead>\n",
       "    <tr style=\"text-align: right;\">\n",
       "      <th></th>\n",
       "      <th>City</th>\n",
       "      <th>Match</th>\n",
       "      <th>Region</th>\n",
       "    </tr>\n",
       "  </thead>\n",
       "  <tbody>\n",
       "    <tr>\n",
       "      <th>chilango</th>\n",
       "      <td>Chicago</td>\n",
       "      <td>chilango</td>\n",
       "      <td>Ciudad de Mexico</td>\n",
       "    </tr>\n",
       "    <tr>\n",
       "      <th>los alamos</th>\n",
       "      <td>Chicago</td>\n",
       "      <td>alamos</td>\n",
       "      <td>Tabasco</td>\n",
       "    </tr>\n",
       "    <tr>\n",
       "      <th>ocotlan</th>\n",
       "      <td>Chicago</td>\n",
       "      <td>ocotlan</td>\n",
       "      <td>Jalisco</td>\n",
       "    </tr>\n",
       "    <tr>\n",
       "      <th>tecalitlan</th>\n",
       "      <td>Chicago</td>\n",
       "      <td>tecalitlan</td>\n",
       "      <td>Jalisco</td>\n",
       "    </tr>\n",
       "    <tr>\n",
       "      <th>teloloapan</th>\n",
       "      <td>Chicago</td>\n",
       "      <td>teloloapan</td>\n",
       "      <td>Guerrero</td>\n",
       "    </tr>\n",
       "    <tr>\n",
       "      <th>...</th>\n",
       "      <td>...</td>\n",
       "      <td>...</td>\n",
       "      <td>...</td>\n",
       "    </tr>\n",
       "    <tr>\n",
       "      <th>tacos cuautla morales</th>\n",
       "      <td>NYC</td>\n",
       "      <td>morales</td>\n",
       "      <td>Veracruz</td>\n",
       "    </tr>\n",
       "    <tr>\n",
       "      <th>los hermanos salazar restaurant</th>\n",
       "      <td>NYC</td>\n",
       "      <td>salazar</td>\n",
       "      <td>Quintana Roo</td>\n",
       "    </tr>\n",
       "    <tr>\n",
       "      <th>acapulco deli &amp; restaurant</th>\n",
       "      <td>NYC</td>\n",
       "      <td>acapulco</td>\n",
       "      <td>Tamaulipas</td>\n",
       "    </tr>\n",
       "    <tr>\n",
       "      <th>regalo de juquila -2</th>\n",
       "      <td>NYC</td>\n",
       "      <td>juquila</td>\n",
       "      <td>Baja California Sur</td>\n",
       "    </tr>\n",
       "    <tr>\n",
       "      <th>cholula deli grocery</th>\n",
       "      <td>NYC</td>\n",
       "      <td>cholula</td>\n",
       "      <td>Puebla</td>\n",
       "    </tr>\n",
       "  </tbody>\n",
       "</table>\n",
       "<p>277 rows × 3 columns</p>\n",
       "</div>"
      ],
      "text/plain": [
       "                                    City       Match               Region\n",
       "chilango                         Chicago    chilango     Ciudad de Mexico\n",
       "los alamos                       Chicago      alamos              Tabasco\n",
       "ocotlan                          Chicago     ocotlan              Jalisco\n",
       "tecalitlan                       Chicago  tecalitlan              Jalisco\n",
       "teloloapan                       Chicago  teloloapan             Guerrero\n",
       "...                                  ...         ...                  ...\n",
       "tacos cuautla morales                NYC     morales             Veracruz\n",
       "los hermanos salazar restaurant      NYC     salazar         Quintana Roo\n",
       "acapulco deli & restaurant           NYC    acapulco           Tamaulipas\n",
       "regalo de juquila -2                 NYC     juquila  Baja California Sur\n",
       "cholula deli grocery                 NYC     cholula               Puebla\n",
       "\n",
       "[277 rows x 3 columns]"
      ]
     },
     "execution_count": 1374,
     "metadata": {},
     "output_type": "execute_result"
    }
   ],
   "source": [
    "all_restaurants"
   ]
  },
  {
   "cell_type": "markdown",
   "metadata": {},
   "source": [
    "## Saving df"
   ]
  },
  {
   "cell_type": "code",
   "execution_count": 1376,
   "metadata": {},
   "outputs": [],
   "source": [
    "# all_restaurants.to_csv(\"./my_saved_data/Final_restaurant_list.csv\")"
   ]
  },
  {
   "cell_type": "markdown",
   "metadata": {},
   "source": [
    "# combining all pct results to a df "
   ]
  },
  {
   "cell_type": "markdown",
   "metadata": {},
   "source": [
    "- nyc_region_counts_dict_pct\n",
    "- chicago_regions_pct\n",
    "- region_dict_dal_pct\n",
    "- region_dict_sf_pct"
   ]
  },
  {
   "cell_type": "markdown",
   "metadata": {},
   "source": [
    "### Making them all have the same length"
   ]
  },
  {
   "cell_type": "code",
   "execution_count": 1258,
   "metadata": {},
   "outputs": [],
   "source": [
    "regions_used = []"
   ]
  },
  {
   "cell_type": "code",
   "execution_count": 1259,
   "metadata": {},
   "outputs": [],
   "source": [
    "def track_regions_found(dictionary, regions_used):\n",
    "    for key, value in dictionary.items():\n",
    "        if key not in regions_used:\n",
    "            regions_used.append(key)\n",
    "    return regions_used"
   ]
  },
  {
   "cell_type": "code",
   "execution_count": 1260,
   "metadata": {},
   "outputs": [],
   "source": [
    "regions_used1 = track_regions_found(nyc_region_counts_dict_pct, regions_used)"
   ]
  },
  {
   "cell_type": "code",
   "execution_count": 1261,
   "metadata": {},
   "outputs": [],
   "source": [
    "regions_used2 = track_regions_found(chicago_regions_pct, regions_used1)"
   ]
  },
  {
   "cell_type": "code",
   "execution_count": 1262,
   "metadata": {},
   "outputs": [],
   "source": [
    "regions_used3 = track_regions_found(region_dict_dal_pct, regions_used2)"
   ]
  },
  {
   "cell_type": "code",
   "execution_count": 1263,
   "metadata": {},
   "outputs": [],
   "source": [
    "regions_used4 = track_regions_found(region_dict_sf_pct, regions_used3)"
   ]
  },
  {
   "cell_type": "code",
   "execution_count": 1264,
   "metadata": {},
   "outputs": [
    {
     "data": {
      "text/plain": [
       "31"
      ]
     },
     "execution_count": 1264,
     "metadata": {},
     "output_type": "execute_result"
    }
   ],
   "source": [
    "# all but one region was found in these datasets (well 2 since michoacan was counted twice)\n",
    "len(regions_used4)"
   ]
  },
  {
   "cell_type": "code",
   "execution_count": 1265,
   "metadata": {},
   "outputs": [],
   "source": [
    "def add_keys_to_dict(dict_w_pct, regions_used = regions_used4):\n",
    "    for region in regions_used:\n",
    "        if region not in dict_w_pct.keys():\n",
    "            dict_w_pct[region] = 0\n",
    "    return dict_w_pct"
   ]
  },
  {
   "cell_type": "code",
   "execution_count": 1266,
   "metadata": {},
   "outputs": [],
   "source": [
    "nyc_reg_w_pct = add_keys_to_dict(nyc_region_counts_dict_pct, regions_used4)"
   ]
  },
  {
   "cell_type": "code",
   "execution_count": 1267,
   "metadata": {},
   "outputs": [],
   "source": [
    "chi_reg_w_pct = add_keys_to_dict(chicago_regions_pct, regions_used4)"
   ]
  },
  {
   "cell_type": "code",
   "execution_count": 1268,
   "metadata": {},
   "outputs": [],
   "source": [
    "dal_reg_w_pct = add_keys_to_dict(region_dict_dal_pct)"
   ]
  },
  {
   "cell_type": "code",
   "execution_count": 1269,
   "metadata": {},
   "outputs": [],
   "source": [
    "sf_reg_w_pct = add_keys_to_dict(region_dict_sf_pct)"
   ]
  },
  {
   "cell_type": "markdown",
   "metadata": {},
   "source": [
    "### Making into df"
   ]
  },
  {
   "cell_type": "code",
   "execution_count": 1270,
   "metadata": {},
   "outputs": [],
   "source": [
    "nyc_reg_w_pct_df = pd.DataFrame.from_dict(nyc_reg_w_pct, orient='index', columns = ['NYC'])\n",
    "nyc_reg_w_pct_df.sort_index(axis=0, inplace=True)"
   ]
  },
  {
   "cell_type": "code",
   "execution_count": 1271,
   "metadata": {},
   "outputs": [],
   "source": [
    "chi_reg_w_pct_df = pd.DataFrame.from_dict(chi_reg_w_pct, orient='index', columns = ['Chi'])\n",
    "chi_reg_w_pct_df.sort_index(axis=0, inplace=True)"
   ]
  },
  {
   "cell_type": "code",
   "execution_count": 1272,
   "metadata": {},
   "outputs": [],
   "source": [
    "dal_reg_w_pct_df = pd.DataFrame.from_dict(dal_reg_w_pct, orient='index', columns = ['Dal'])\n",
    "dal_reg_w_pct_df.sort_index(axis=0, inplace=True)"
   ]
  },
  {
   "cell_type": "code",
   "execution_count": 1273,
   "metadata": {},
   "outputs": [],
   "source": [
    "sf_reg_w_pct_df = pd.DataFrame.from_dict(sf_reg_w_pct, orient='index', columns = ['SF'])\n",
    "sf_reg_w_pct_df.sort_index(axis=0, inplace=True)"
   ]
  },
  {
   "cell_type": "code",
   "execution_count": 1274,
   "metadata": {},
   "outputs": [],
   "source": [
    "reg_rep_df = pd.concat([nyc_reg_w_pct_df, chi_reg_w_pct_df, dal_reg_w_pct_df, sf_reg_w_pct_df], sort=True, axis=1)"
   ]
  },
  {
   "cell_type": "markdown",
   "metadata": {},
   "source": [
    "#### Fixing 2 Misnamed columns"
   ]
  },
  {
   "cell_type": "code",
   "execution_count": 1275,
   "metadata": {},
   "outputs": [],
   "source": [
    "reg_rep_df.reset_index(inplace=True)"
   ]
  },
  {
   "cell_type": "code",
   "execution_count": 1276,
   "metadata": {},
   "outputs": [
    {
     "name": "stderr",
     "output_type": "stream",
     "text": [
      "/Users/gregfeliu/opt/anaconda3/envs/learn-env/lib/python3.6/site-packages/ipykernel_launcher.py:1: SettingWithCopyWarning: \n",
      "A value is trying to be set on a copy of a slice from a DataFrame\n",
      "\n",
      "See the caveats in the documentation: https://pandas.pydata.org/pandas-docs/stable/user_guide/indexing.html#returning-a-view-versus-a-copy\n",
      "  \"\"\"Entry point for launching an IPython kernel.\n"
     ]
    }
   ],
   "source": [
    "reg_rep_df['Chi'][15] = reg_rep_df['Chi'][14]"
   ]
  },
  {
   "cell_type": "code",
   "execution_count": 1277,
   "metadata": {},
   "outputs": [],
   "source": [
    "reg_rep_df.drop(index=14, inplace=True)"
   ]
  },
  {
   "cell_type": "code",
   "execution_count": 1278,
   "metadata": {},
   "outputs": [
    {
     "name": "stderr",
     "output_type": "stream",
     "text": [
      "/Users/gregfeliu/opt/anaconda3/envs/learn-env/lib/python3.6/site-packages/ipykernel_launcher.py:1: SettingWithCopyWarning: \n",
      "A value is trying to be set on a copy of a slice from a DataFrame\n",
      "\n",
      "See the caveats in the documentation: https://pandas.pydata.org/pandas-docs/stable/user_guide/indexing.html#returning-a-view-versus-a-copy\n",
      "  \"\"\"Entry point for launching an IPython kernel.\n"
     ]
    }
   ],
   "source": [
    "reg_rep_df['Chi'][20] = reg_rep_df['Chi'][21]"
   ]
  },
  {
   "cell_type": "code",
   "execution_count": 1279,
   "metadata": {},
   "outputs": [],
   "source": [
    "reg_rep_df.drop(index=21, inplace=True)"
   ]
  },
  {
   "cell_type": "markdown",
   "metadata": {},
   "source": [
    "### Getting the count of the number of restaurants for each column"
   ]
  },
  {
   "cell_type": "code",
   "execution_count": 1339,
   "metadata": {},
   "outputs": [],
   "source": [
    "rest_count_dict = {}\n",
    "for col in reg_rep_df.columns[1:]:\n",
    "    counter = 0\n",
    "    for item in reg_rep_df[col]:\n",
    "        if item > 0:\n",
    "            counter += 1\n",
    "    rest_count_dict[col] = counter   "
   ]
  },
  {
   "cell_type": "code",
   "execution_count": 1340,
   "metadata": {},
   "outputs": [
    {
     "data": {
      "text/plain": [
       "{'NYC': 20, 'Chi': 5, 'Dal': 27, 'SF': 14}"
      ]
     },
     "execution_count": 1340,
     "metadata": {},
     "output_type": "execute_result"
    }
   ],
   "source": [
    "# despite all cities having more than 1.3 million people, \n",
    "# there is a vastly different number of mex. restaurants in each that have names referring to a city or region in mex.\n",
    "rest_count_dict"
   ]
  },
  {
   "cell_type": "markdown",
   "metadata": {},
   "source": [
    "#### Saving restaurant count dict"
   ]
  },
  {
   "cell_type": "code",
   "execution_count": 1342,
   "metadata": {},
   "outputs": [],
   "source": [
    "# with open ('restaurant_counts.pickle', 'wb+') as f:\n",
    "#     pickle.dump(rest_count_dict, f)"
   ]
  },
  {
   "cell_type": "markdown",
   "metadata": {},
   "source": [
    "# Conclusions"
   ]
  },
  {
   "cell_type": "markdown",
   "metadata": {},
   "source": [
    "All 4 cities have large Mexican immigrant populations (250k and above according to: https://247wallst.com/economy/2017/01/27/us-cities-with-the-most-mexican-immigrants/). Despite this surface similarity, it turns out that these immigrants do not all come from similar regions in Mexico. No region was in the top 5 most popular region for more than 2 of these cities. This suggests that immigration from Mexico was not dominated by one region but came from all regions of Mexico. Similarly, we see that there are no single region that makes up the majority of any US city's Mexican population: in all cases, no region accounted for more than 36% of the restaurants with regions associated with their names. This did have some variation, however: in San Francisco Guanajuato accounts for 40% of the restaurants while in Dallas the most dominant group accounts for 21%."
   ]
  },
  {
   "cell_type": "markdown",
   "metadata": {},
   "source": [
    "Some shortcomings of this project are the quality of this data: both for the demonym dictionary and the inspection data. The demonym dictionary had many entries, but there were some clear errors, e.g.: the restaurant 'jalisco' in Dallas was associated with \"Ciudad de Mexico\" instead of the region Jalisco. Additionally, it is not clear if **all** restaurants in each city are included in this data, or only restaurants that failed the inspection. In a similar vein, some cities had data that had too low of a quality to be useful (LA). Another problem with this project is deciding when a \"match\" is legitimate. For example, \"Pueblito\" (\"little town\") appeared often and is a town in Queretáro, but do these restaurants refer to the former or the latter? This was decided on an ad hoc basis and was founded solely on my (non-native) discretion. Lastly, the obvious issue of immediate representation being a marker of the true number of people from a certain region is certainly flawed. Just because there are say, a lot of Italian restaurants in a certain area, does not necessarily mean that there are many italian (recent) immigrants to that area. The popularity of food from certain regions may skew the data. "
   ]
  },
  {
   "cell_type": "markdown",
   "metadata": {},
   "source": [
    "Anecdotally, it appears that chain migration happens at a micro level. \"Tulcingo\" appears 5 times in the NYC data despite the fact that the town that it refers to in Mexico, Tulcingo del Valle, has only 9,000 people living in it (source: https://es.wikipedia.org/wiki/Municipio_de_Tulcingo)! "
   ]
  }
 ],
 "metadata": {
  "kernelspec": {
   "display_name": "Python [conda env:learn-env] *",
   "language": "python",
   "name": "conda-env-learn-env-py"
  },
  "language_info": {
   "codemirror_mode": {
    "name": "ipython",
    "version": 3
   },
   "file_extension": ".py",
   "mimetype": "text/x-python",
   "name": "python",
   "nbconvert_exporter": "python",
   "pygments_lexer": "ipython3",
   "version": "3.6.9"
  },
  "toc": {
   "base_numbering": 1,
   "nav_menu": {},
   "number_sections": true,
   "sideBar": true,
   "skip_h1_title": false,
   "title_cell": "Table of Contents",
   "title_sidebar": "Contents",
   "toc_cell": false,
   "toc_position": {
    "height": "calc(100% - 180px)",
    "left": "10px",
    "top": "150px",
    "width": "330.1875px"
   },
   "toc_section_display": true,
   "toc_window_display": true
  },
  "varInspector": {
   "cols": {
    "lenName": 16,
    "lenType": 16,
    "lenVar": 40
   },
   "kernels_config": {
    "python": {
     "delete_cmd_postfix": "",
     "delete_cmd_prefix": "del ",
     "library": "var_list.py",
     "varRefreshCmd": "print(var_dic_list())"
    },
    "r": {
     "delete_cmd_postfix": ") ",
     "delete_cmd_prefix": "rm(",
     "library": "var_list.r",
     "varRefreshCmd": "cat(var_dic_list()) "
    }
   },
   "types_to_exclude": [
    "module",
    "function",
    "builtin_function_or_method",
    "instance",
    "_Feature"
   ],
   "window_display": false
  }
 },
 "nbformat": 4,
 "nbformat_minor": 2
}
