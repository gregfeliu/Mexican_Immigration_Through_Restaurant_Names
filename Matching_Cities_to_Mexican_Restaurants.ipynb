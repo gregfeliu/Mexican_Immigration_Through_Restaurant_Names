{
 "cells": [
  {
   "cell_type": "code",
   "execution_count": 244,
   "metadata": {
    "ExecuteTime": {
     "end_time": "2020-08-14T16:42:00.128783Z",
     "start_time": "2020-08-14T16:42:00.089932Z"
    }
   },
   "outputs": [],
   "source": [
    "import pandas as pd\n",
    "import pickle\n",
    "import re\n",
    "# ^^^ pyforest auto-imports - don't write above this line"
   ]
  },
  {
   "cell_type": "markdown",
   "metadata": {},
   "source": [
    "# Imports"
   ]
  },
  {
   "cell_type": "markdown",
   "metadata": {},
   "source": [
    "## Libraries"
   ]
  },
  {
   "cell_type": "code",
   "execution_count": 4,
   "metadata": {
    "ExecuteTime": {
     "end_time": "2020-08-12T19:13:18.092733Z",
     "start_time": "2020-08-12T19:13:18.089002Z"
    }
   },
   "outputs": [],
   "source": [
    "import folium\n",
    "import unidecode\n",
    "import warnings\n",
    "warnings.filterwarnings('ignore')"
   ]
  },
  {
   "cell_type": "markdown",
   "metadata": {},
   "source": [
    "## Demonym Dictionary"
   ]
  },
  {
   "cell_type": "code",
   "execution_count": 6,
   "metadata": {
    "ExecuteTime": {
     "end_time": "2020-08-12T19:13:36.940563Z",
     "start_time": "2020-08-12T19:13:36.931811Z"
    }
   },
   "outputs": [],
   "source": [
    "with open(\"./my_saved_data/demonym_dictionary.pickle\", \"rb+\") as f:\n",
    "    demonym_dictionary = pickle.load(f)"
   ]
  },
  {
   "cell_type": "markdown",
   "metadata": {},
   "source": [
    "# Adding City (Restaurant Inspection) Data\n",
    "cities with most mexican immigrants in us: https://247wallst.com/economy/2017/01/27/us-cities-with-the-most-mexican-immigrants/"
   ]
  },
  {
   "cell_type": "markdown",
   "metadata": {},
   "source": [
    "## NYC"
   ]
  },
  {
   "cell_type": "code",
   "execution_count": 7,
   "metadata": {
    "ExecuteTime": {
     "end_time": "2020-08-12T19:13:40.933697Z",
     "start_time": "2020-08-12T19:13:38.567558Z"
    }
   },
   "outputs": [],
   "source": [
    "rest_insp = pd.read_csv(\"./food_inspections_data/DOHMH_New_York_City_Restaurant_Inspection_Results.csv\")"
   ]
  },
  {
   "cell_type": "code",
   "execution_count": 9,
   "metadata": {
    "ExecuteTime": {
     "end_time": "2020-08-12T19:13:45.120528Z",
     "start_time": "2020-08-12T19:13:45.093601Z"
    }
   },
   "outputs": [
    {
     "data": {
      "text/plain": [
       "84"
      ]
     },
     "execution_count": 9,
     "metadata": {},
     "output_type": "execute_result"
    }
   ],
   "source": [
    "rest_insp['CUISINE DESCRIPTION'].nunique()"
   ]
  },
  {
   "cell_type": "code",
   "execution_count": 10,
   "metadata": {
    "ExecuteTime": {
     "end_time": "2020-08-12T19:13:53.842993Z",
     "start_time": "2020-08-12T19:13:53.805364Z"
    }
   },
   "outputs": [],
   "source": [
    "# tex-mex, mexican, latin\n",
    "mex_rest_insp = rest_insp[rest_insp['CUISINE DESCRIPTION'] == 'Mexican']"
   ]
  },
  {
   "cell_type": "code",
   "execution_count": 11,
   "metadata": {
    "ExecuteTime": {
     "end_time": "2020-08-12T19:13:54.218691Z",
     "start_time": "2020-08-12T19:13:54.214757Z"
    }
   },
   "outputs": [
    {
     "data": {
      "text/plain": [
       "(16656, 26)"
      ]
     },
     "execution_count": 11,
     "metadata": {},
     "output_type": "execute_result"
    }
   ],
   "source": [
    "mex_rest_insp.shape"
   ]
  },
  {
   "cell_type": "code",
   "execution_count": 12,
   "metadata": {
    "ExecuteTime": {
     "end_time": "2020-08-12T19:13:57.055658Z",
     "start_time": "2020-08-12T19:13:57.030481Z"
    },
    "scrolled": true
   },
   "outputs": [
    {
     "data": {
      "text/html": [
       "<div>\n",
       "<style scoped>\n",
       "    .dataframe tbody tr th:only-of-type {\n",
       "        vertical-align: middle;\n",
       "    }\n",
       "\n",
       "    .dataframe tbody tr th {\n",
       "        vertical-align: top;\n",
       "    }\n",
       "\n",
       "    .dataframe thead th {\n",
       "        text-align: right;\n",
       "    }\n",
       "</style>\n",
       "<table border=\"1\" class=\"dataframe\">\n",
       "  <thead>\n",
       "    <tr style=\"text-align: right;\">\n",
       "      <th></th>\n",
       "      <th>CAMIS</th>\n",
       "      <th>DBA</th>\n",
       "      <th>BORO</th>\n",
       "      <th>BUILDING</th>\n",
       "      <th>STREET</th>\n",
       "      <th>ZIPCODE</th>\n",
       "      <th>PHONE</th>\n",
       "      <th>CUISINE DESCRIPTION</th>\n",
       "      <th>INSPECTION DATE</th>\n",
       "      <th>ACTION</th>\n",
       "      <th>...</th>\n",
       "      <th>RECORD DATE</th>\n",
       "      <th>INSPECTION TYPE</th>\n",
       "      <th>Latitude</th>\n",
       "      <th>Longitude</th>\n",
       "      <th>Community Board</th>\n",
       "      <th>Council District</th>\n",
       "      <th>Census Tract</th>\n",
       "      <th>BIN</th>\n",
       "      <th>BBL</th>\n",
       "      <th>NTA</th>\n",
       "    </tr>\n",
       "  </thead>\n",
       "  <tbody>\n",
       "    <tr>\n",
       "      <th>24</th>\n",
       "      <td>41571476</td>\n",
       "      <td>NATALIA BAR</td>\n",
       "      <td>Queens</td>\n",
       "      <td>62-10</td>\n",
       "      <td>39 AVENUE</td>\n",
       "      <td>11377.0</td>\n",
       "      <td>3477065942</td>\n",
       "      <td>Mexican</td>\n",
       "      <td>05/04/2018</td>\n",
       "      <td>Violations were cited in the following area(s).</td>\n",
       "      <td>...</td>\n",
       "      <td>06/14/2020</td>\n",
       "      <td>Cycle Inspection / Re-inspection</td>\n",
       "      <td>40.746844</td>\n",
       "      <td>-73.901406</td>\n",
       "      <td>402.0</td>\n",
       "      <td>26.0</td>\n",
       "      <td>26100.0</td>\n",
       "      <td>4028392.0</td>\n",
       "      <td>4.012320e+09</td>\n",
       "      <td>QN63</td>\n",
       "    </tr>\n",
       "    <tr>\n",
       "      <th>27</th>\n",
       "      <td>40996642</td>\n",
       "      <td>RECUERDOS MEXICANOS</td>\n",
       "      <td>Staten Island</td>\n",
       "      <td>232</td>\n",
       "      <td>PORT RICHMOND AVENUE</td>\n",
       "      <td>10302.0</td>\n",
       "      <td>7188155533</td>\n",
       "      <td>Mexican</td>\n",
       "      <td>10/22/2019</td>\n",
       "      <td>Violations were cited in the following area(s).</td>\n",
       "      <td>...</td>\n",
       "      <td>06/14/2020</td>\n",
       "      <td>Cycle Inspection / Initial Inspection</td>\n",
       "      <td>40.635784</td>\n",
       "      <td>-74.134935</td>\n",
       "      <td>501.0</td>\n",
       "      <td>49.0</td>\n",
       "      <td>20700.0</td>\n",
       "      <td>5025513.0</td>\n",
       "      <td>5.010820e+09</td>\n",
       "      <td>SI28</td>\n",
       "    </tr>\n",
       "  </tbody>\n",
       "</table>\n",
       "<p>2 rows × 26 columns</p>\n",
       "</div>"
      ],
      "text/plain": [
       "       CAMIS                  DBA           BORO BUILDING  \\\n",
       "24  41571476          NATALIA BAR         Queens    62-10   \n",
       "27  40996642  RECUERDOS MEXICANOS  Staten Island      232   \n",
       "\n",
       "                  STREET  ZIPCODE       PHONE CUISINE DESCRIPTION  \\\n",
       "24             39 AVENUE  11377.0  3477065942             Mexican   \n",
       "27  PORT RICHMOND AVENUE  10302.0  7188155533             Mexican   \n",
       "\n",
       "   INSPECTION DATE                                           ACTION  ...  \\\n",
       "24      05/04/2018  Violations were cited in the following area(s).  ...   \n",
       "27      10/22/2019  Violations were cited in the following area(s).  ...   \n",
       "\n",
       "   RECORD DATE                        INSPECTION TYPE   Latitude  Longitude  \\\n",
       "24  06/14/2020       Cycle Inspection / Re-inspection  40.746844 -73.901406   \n",
       "27  06/14/2020  Cycle Inspection / Initial Inspection  40.635784 -74.134935   \n",
       "\n",
       "   Community Board Council District Census Tract        BIN           BBL  \\\n",
       "24           402.0             26.0      26100.0  4028392.0  4.012320e+09   \n",
       "27           501.0             49.0      20700.0  5025513.0  5.010820e+09   \n",
       "\n",
       "     NTA  \n",
       "24  QN63  \n",
       "27  SI28  \n",
       "\n",
       "[2 rows x 26 columns]"
      ]
     },
     "execution_count": 12,
     "metadata": {},
     "output_type": "execute_result"
    }
   ],
   "source": [
    "mex_rest_insp.head(2)"
   ]
  },
  {
   "cell_type": "markdown",
   "metadata": {},
   "source": [
    "### Removing duplicate restaurants from nyc mexican restaurants df"
   ]
  },
  {
   "cell_type": "code",
   "execution_count": 15,
   "metadata": {
    "ExecuteTime": {
     "end_time": "2020-08-12T19:14:11.700307Z",
     "start_time": "2020-08-12T19:14:11.684440Z"
    }
   },
   "outputs": [
    {
     "data": {
      "text/plain": [
       "(849, 26)"
      ]
     },
     "execution_count": 15,
     "metadata": {},
     "output_type": "execute_result"
    }
   ],
   "source": [
    "unique_nyc_mex = mex_rest_insp.drop_duplicates(subset=['DBA'], keep='first')\n",
    "unique_nyc_mex.reset_index(inplace=True, drop=True)\n",
    "unique_nyc_mex.shape"
   ]
  },
  {
   "cell_type": "code",
   "execution_count": 16,
   "metadata": {
    "ExecuteTime": {
     "end_time": "2020-08-12T19:14:14.933188Z",
     "start_time": "2020-08-12T19:14:14.928131Z"
    }
   },
   "outputs": [
    {
     "data": {
      "text/plain": [
       "0.050972622478386166"
      ]
     },
     "execution_count": 16,
     "metadata": {},
     "output_type": "execute_result"
    }
   ],
   "source": [
    "# a 95% reduction of the df!\n",
    "unique_nyc_mex.shape[0] / mex_rest_insp.shape[0]"
   ]
  },
  {
   "cell_type": "code",
   "execution_count": 17,
   "metadata": {
    "ExecuteTime": {
     "end_time": "2020-08-12T19:14:17.384946Z",
     "start_time": "2020-08-12T19:14:17.381045Z"
    }
   },
   "outputs": [],
   "source": [
    "# list of restaurant names to compare to values in demonym_dictionary\n",
    "nyc_rest_insp_names = [x.lower() for x in unique_nyc_mex['DBA']]"
   ]
  },
  {
   "cell_type": "markdown",
   "metadata": {},
   "source": [
    "### Getting matches "
   ]
  },
  {
   "cell_type": "code",
   "execution_count": 18,
   "metadata": {
    "ExecuteTime": {
     "end_time": "2020-08-12T19:14:27.291437Z",
     "start_time": "2020-08-12T19:14:24.285725Z"
    }
   },
   "outputs": [],
   "source": [
    "rest_matches_nyc = []\n",
    "# list of not-quite-real matches\n",
    "bad_matches = ['mexican', 'tequila', 'margarita', 'margaritas', 'mexico', 'pedro', 'azteca', 'paraiso'\n",
    "'mexico','rodeo','rio','maria','mexicanos','coyote','marcos','mama','bravo','viejo','perla','nuevo'\n",
    "'verde', 'gonzalez', 'corona', 'armadillo', 'arriba', 'palmas', 'delicias', 'blanco', 'crespo','tortuga']\n",
    "for item in nyc_rest_insp_names:\n",
    "    split_item = item.split()\n",
    "    for word in split_item:\n",
    "        for key, value in demonym_dictionary.items():\n",
    "            for city in value:\n",
    "                if word == city:\n",
    "                    if word not in bad_matches: # if not, the number of results is tripled\n",
    "                        rest_matches_nyc.append(item)"
   ]
  },
  {
   "cell_type": "code",
   "execution_count": 19,
   "metadata": {
    "ExecuteTime": {
     "end_time": "2020-08-12T19:14:27.492645Z",
     "start_time": "2020-08-12T19:14:27.488239Z"
    }
   },
   "outputs": [
    {
     "data": {
      "text/plain": [
       "259"
      ]
     },
     "execution_count": 19,
     "metadata": {},
     "output_type": "execute_result"
    }
   ],
   "source": [
    "len(rest_matches_nyc)"
   ]
  },
  {
   "cell_type": "code",
   "execution_count": 20,
   "metadata": {
    "ExecuteTime": {
     "end_time": "2020-08-12T19:14:31.869229Z",
     "start_time": "2020-08-12T19:14:31.865633Z"
    }
   },
   "outputs": [],
   "source": [
    "unique_rest_matches_nyc = set(rest_matches_nyc)"
   ]
  },
  {
   "cell_type": "code",
   "execution_count": 21,
   "metadata": {
    "ExecuteTime": {
     "end_time": "2020-08-12T19:14:32.177256Z",
     "start_time": "2020-08-12T19:14:32.173385Z"
    }
   },
   "outputs": [
    {
     "data": {
      "text/plain": [
       "111"
      ]
     },
     "execution_count": 21,
     "metadata": {},
     "output_type": "execute_result"
    }
   ],
   "source": [
    "# was 44 before additions to demonym dict ... was 169 before word corrections\n",
    "len(unique_rest_matches_nyc)"
   ]
  },
  {
   "cell_type": "markdown",
   "metadata": {},
   "source": [
    "### Getting Regions for Matches"
   ]
  },
  {
   "cell_type": "code",
   "execution_count": 22,
   "metadata": {
    "ExecuteTime": {
     "end_time": "2020-08-12T19:14:35.614320Z",
     "start_time": "2020-08-12T19:14:35.610175Z"
    }
   },
   "outputs": [],
   "source": [
    "restaurant_matches_nyc = {key: None for key in set(unique_rest_matches_nyc)}"
   ]
  },
  {
   "cell_type": "code",
   "execution_count": 23,
   "metadata": {
    "ExecuteTime": {
     "end_time": "2020-08-12T19:14:36.771005Z",
     "start_time": "2020-08-12T19:14:36.342472Z"
    }
   },
   "outputs": [],
   "source": [
    "for key, value in restaurant_matches_nyc.items():\n",
    "    split_item = key.split()\n",
    "    for word in split_item:\n",
    "        for key1, value1 in demonym_dictionary.items():\n",
    "            for city in value1:\n",
    "                if word == city:\n",
    "                    value_info = [key1, city]\n",
    "                    restaurant_matches_nyc[key] = value_info"
   ]
  },
  {
   "cell_type": "code",
   "execution_count": 24,
   "metadata": {
    "ExecuteTime": {
     "end_time": "2020-08-12T19:14:36.960574Z",
     "start_time": "2020-08-12T19:14:36.956604Z"
    },
    "scrolled": true
   },
   "outputs": [
    {
     "data": {
      "text/plain": [
       "111"
      ]
     },
     "execution_count": 24,
     "metadata": {},
     "output_type": "execute_result"
    }
   ],
   "source": [
    "len(restaurant_matches_nyc)"
   ]
  },
  {
   "cell_type": "markdown",
   "metadata": {},
   "source": [
    "#### Removing all entries that passed filter incorrectly"
   ]
  },
  {
   "cell_type": "code",
   "execution_count": 25,
   "metadata": {
    "ExecuteTime": {
     "end_time": "2020-08-12T19:14:41.750332Z",
     "start_time": "2020-08-12T19:14:41.742957Z"
    }
   },
   "outputs": [],
   "source": [
    "bad_keys = []\n",
    "bad_matches = ['mexican','mexico','mexicanos','azteca','esperanza','estrada','esperanzas','salero','pinos',\n",
    "                  'maria', 'bravo', 'nuevo', 'progreso', 'delicias', 'comales', 'palmas', 'palenque', 'concordia',\n",
    "                 'china', 'gym', 'paloma', 'rio', 'mex', 'tequila', 'colorado', 'ventana', 'lom', 'garcia', 'paz',\n",
    "                 'chavez', 'paraiso', 'senor', 'oriental', 'fronteras', 'tap', 'aca', 'purisima', 'rodriguez',\n",
    "                 'hernandez', 'sanchez', 'victoria', 'oasis', 'cash', 'pinas', 'yaa', 'tap', 'meson','agustin',\n",
    "                 'agustin', 'limon', 'alamo', 'slp', 'providencia', 'reyes', 'lom', 'verde', 'perla', 'madrid', \n",
    "                 'delta', 'mama', 'lopez', 'honey', 'laurel', 'california pizza kitchen', 'sauces', 'laguna', \n",
    "              'dolores', 'presidio', 'ver', 'bernal', 'rincon', 'marin', 'palma', 'potrero', 'mid', 'valencia',\n",
    "              'aura', 'kava', 'pueblito', 'castillo', 'tam', 'marcos', 'montecristo', 'tinajas', 'alvarado',\n",
    "              'porvenir', 'nieves', 'mina', 'marin', \"alamos\", 'reforma', 'jal', 'margaritas', 'california']\n",
    "for key, value in restaurant_matches_nyc.items():\n",
    "    if value[1] in bad_matches:\n",
    "        bad_keys.append(key)"
   ]
  },
  {
   "cell_type": "code",
   "execution_count": 26,
   "metadata": {
    "ExecuteTime": {
     "end_time": "2020-08-12T19:14:42.209748Z",
     "start_time": "2020-08-12T19:14:42.205291Z"
    }
   },
   "outputs": [
    {
     "data": {
      "text/plain": [
       "25"
      ]
     },
     "execution_count": 26,
     "metadata": {},
     "output_type": "execute_result"
    }
   ],
   "source": [
    "len(bad_keys)"
   ]
  },
  {
   "cell_type": "code",
   "execution_count": 27,
   "metadata": {
    "ExecuteTime": {
     "end_time": "2020-08-12T19:14:42.904291Z",
     "start_time": "2020-08-12T19:14:42.900046Z"
    }
   },
   "outputs": [],
   "source": [
    "for x in bad_keys:\n",
    "    if restaurant_matches_nyc.get(x) != None:\n",
    "        del restaurant_matches_nyc[x]"
   ]
  },
  {
   "cell_type": "code",
   "execution_count": 28,
   "metadata": {
    "ExecuteTime": {
     "end_time": "2020-08-12T19:14:43.649644Z",
     "start_time": "2020-08-12T19:14:43.644080Z"
    }
   },
   "outputs": [
    {
     "data": {
      "text/plain": [
       "86"
      ]
     },
     "execution_count": 28,
     "metadata": {},
     "output_type": "execute_result"
    }
   ],
   "source": [
    "len(restaurant_matches_nyc)"
   ]
  },
  {
   "cell_type": "code",
   "execution_count": 29,
   "metadata": {
    "ExecuteTime": {
     "end_time": "2020-08-12T19:14:44.213925Z",
     "start_time": "2020-08-12T19:14:44.208545Z"
    }
   },
   "outputs": [
    {
     "data": {
      "text/plain": [
       "[('la guadalupe restaurant', ['Chihuahua', 'guadalupe']),\n",
       " ('tacos cuautla morales', ['Veracruz', 'morales'])]"
      ]
     },
     "execution_count": 29,
     "metadata": {},
     "output_type": "execute_result"
    }
   ],
   "source": [
    "list(restaurant_matches_nyc.items())[:2]"
   ]
  },
  {
   "cell_type": "markdown",
   "metadata": {},
   "source": [
    "### Getting coordinates for each restaurant"
   ]
  },
  {
   "cell_type": "code",
   "execution_count": 30,
   "metadata": {
    "ExecuteTime": {
     "end_time": "2020-08-12T19:14:47.633613Z",
     "start_time": "2020-08-12T19:14:47.628403Z"
    }
   },
   "outputs": [],
   "source": [
    "region_in_name = []\n",
    "for x in unique_nyc_mex['DBA']:\n",
    "    if x.lower() in restaurant_matches_nyc.keys():\n",
    "        region_in_name.append(1)\n",
    "    else:\n",
    "        region_in_name.append(0)"
   ]
  },
  {
   "cell_type": "code",
   "execution_count": 31,
   "metadata": {
    "ExecuteTime": {
     "end_time": "2020-08-12T19:14:48.142745Z",
     "start_time": "2020-08-12T19:14:48.138695Z"
    }
   },
   "outputs": [],
   "source": [
    "unique_nyc_mex['region_in_name'] = region_in_name"
   ]
  },
  {
   "cell_type": "code",
   "execution_count": 34,
   "metadata": {
    "ExecuteTime": {
     "end_time": "2020-08-12T19:15:09.050015Z",
     "start_time": "2020-08-12T19:15:09.043155Z"
    }
   },
   "outputs": [
    {
     "data": {
      "text/plain": [
       "(86, 27)"
      ]
     },
     "execution_count": 34,
     "metadata": {},
     "output_type": "execute_result"
    }
   ],
   "source": [
    "nyc_mex_rest_w_region = unique_nyc_mex[unique_nyc_mex['region_in_name'] == 1]\n",
    "nyc_mex_rest_w_region.reset_index(inplace=True, drop=True)\n",
    "nyc_mex_rest_w_region.shape"
   ]
  },
  {
   "cell_type": "code",
   "execution_count": 1095,
   "metadata": {},
   "outputs": [
    {
     "data": {
      "text/plain": [
       "86"
      ]
     },
     "execution_count": 1095,
     "metadata": {},
     "output_type": "execute_result"
    }
   ],
   "source": [
    "nyc_mex_rest_w_region.DBA.nunique()"
   ]
  },
  {
   "cell_type": "code",
   "execution_count": 35,
   "metadata": {
    "ExecuteTime": {
     "end_time": "2020-08-12T19:15:11.370262Z",
     "start_time": "2020-08-12T19:15:11.346199Z"
    }
   },
   "outputs": [
    {
     "data": {
      "text/html": [
       "<div>\n",
       "<style scoped>\n",
       "    .dataframe tbody tr th:only-of-type {\n",
       "        vertical-align: middle;\n",
       "    }\n",
       "\n",
       "    .dataframe tbody tr th {\n",
       "        vertical-align: top;\n",
       "    }\n",
       "\n",
       "    .dataframe thead th {\n",
       "        text-align: right;\n",
       "    }\n",
       "</style>\n",
       "<table border=\"1\" class=\"dataframe\">\n",
       "  <thead>\n",
       "    <tr style=\"text-align: right;\">\n",
       "      <th></th>\n",
       "      <th>CAMIS</th>\n",
       "      <th>DBA</th>\n",
       "      <th>BORO</th>\n",
       "      <th>BUILDING</th>\n",
       "      <th>STREET</th>\n",
       "      <th>ZIPCODE</th>\n",
       "      <th>PHONE</th>\n",
       "      <th>CUISINE DESCRIPTION</th>\n",
       "      <th>INSPECTION DATE</th>\n",
       "      <th>ACTION</th>\n",
       "      <th>...</th>\n",
       "      <th>INSPECTION TYPE</th>\n",
       "      <th>Latitude</th>\n",
       "      <th>Longitude</th>\n",
       "      <th>Community Board</th>\n",
       "      <th>Council District</th>\n",
       "      <th>Census Tract</th>\n",
       "      <th>BIN</th>\n",
       "      <th>BBL</th>\n",
       "      <th>NTA</th>\n",
       "      <th>region_in_name</th>\n",
       "    </tr>\n",
       "  </thead>\n",
       "  <tbody>\n",
       "    <tr>\n",
       "      <th>0</th>\n",
       "      <td>40909425</td>\n",
       "      <td>PUEBLA SEAFOOD</td>\n",
       "      <td>Queens</td>\n",
       "      <td>95-27</td>\n",
       "      <td>ROOSEVELT AVENUE</td>\n",
       "      <td>11372.0</td>\n",
       "      <td>7186723556</td>\n",
       "      <td>Mexican</td>\n",
       "      <td>04/19/2019</td>\n",
       "      <td>Violations were cited in the following area(s).</td>\n",
       "      <td>...</td>\n",
       "      <td>Cycle Inspection / Initial Inspection</td>\n",
       "      <td>40.749015</td>\n",
       "      <td>-73.870844</td>\n",
       "      <td>403.0</td>\n",
       "      <td>21.0</td>\n",
       "      <td>27300.0</td>\n",
       "      <td>4036619.0</td>\n",
       "      <td>4.014830e+09</td>\n",
       "      <td>QN28</td>\n",
       "      <td>1</td>\n",
       "    </tr>\n",
       "    <tr>\n",
       "      <th>1</th>\n",
       "      <td>41292582</td>\n",
       "      <td>TACOS PUEBLA RESTAURANT</td>\n",
       "      <td>Bronx</td>\n",
       "      <td>2181</td>\n",
       "      <td>GRAND CONCOURSE</td>\n",
       "      <td>10453.0</td>\n",
       "      <td>7182205463</td>\n",
       "      <td>Mexican</td>\n",
       "      <td>08/13/2019</td>\n",
       "      <td>Violations were cited in the following area(s).</td>\n",
       "      <td>...</td>\n",
       "      <td>Cycle Inspection / Re-inspection</td>\n",
       "      <td>40.855330</td>\n",
       "      <td>-73.901288</td>\n",
       "      <td>205.0</td>\n",
       "      <td>14.0</td>\n",
       "      <td>23704.0</td>\n",
       "      <td>2013760.0</td>\n",
       "      <td>2.031620e+09</td>\n",
       "      <td>BX40</td>\n",
       "      <td>1</td>\n",
       "    </tr>\n",
       "  </tbody>\n",
       "</table>\n",
       "<p>2 rows × 27 columns</p>\n",
       "</div>"
      ],
      "text/plain": [
       "      CAMIS                      DBA    BORO BUILDING            STREET  \\\n",
       "0  40909425           PUEBLA SEAFOOD  Queens    95-27  ROOSEVELT AVENUE   \n",
       "1  41292582  TACOS PUEBLA RESTAURANT   Bronx     2181   GRAND CONCOURSE   \n",
       "\n",
       "   ZIPCODE       PHONE CUISINE DESCRIPTION INSPECTION DATE  \\\n",
       "0  11372.0  7186723556             Mexican      04/19/2019   \n",
       "1  10453.0  7182205463             Mexican      08/13/2019   \n",
       "\n",
       "                                            ACTION  ...  \\\n",
       "0  Violations were cited in the following area(s).  ...   \n",
       "1  Violations were cited in the following area(s).  ...   \n",
       "\n",
       "                         INSPECTION TYPE   Latitude  Longitude  \\\n",
       "0  Cycle Inspection / Initial Inspection  40.749015 -73.870844   \n",
       "1       Cycle Inspection / Re-inspection  40.855330 -73.901288   \n",
       "\n",
       "   Community Board Council District Census Tract        BIN           BBL  \\\n",
       "0            403.0             21.0      27300.0  4036619.0  4.014830e+09   \n",
       "1            205.0             14.0      23704.0  2013760.0  2.031620e+09   \n",
       "\n",
       "    NTA  region_in_name  \n",
       "0  QN28               1  \n",
       "1  BX40               1  \n",
       "\n",
       "[2 rows x 27 columns]"
      ]
     },
     "execution_count": 35,
     "metadata": {},
     "output_type": "execute_result"
    }
   ],
   "source": [
    "nyc_mex_rest_w_region.head(2)"
   ]
  },
  {
   "cell_type": "markdown",
   "metadata": {},
   "source": [
    "### Count of regions represented in nyc mexican restaurant names"
   ]
  },
  {
   "cell_type": "code",
   "execution_count": 36,
   "metadata": {
    "ExecuteTime": {
     "end_time": "2020-08-12T19:15:22.848137Z",
     "start_time": "2020-08-12T19:15:22.841202Z"
    }
   },
   "outputs": [
    {
     "data": {
      "text/plain": [
       "['Chihuahua', 'Veracruz', 'Tamaulipas']"
      ]
     },
     "execution_count": 36,
     "metadata": {},
     "output_type": "execute_result"
    }
   ],
   "source": [
    "regions_represented = []\n",
    "for key, value in restaurant_matches_nyc.items():\n",
    "    if value[0] not in regions_represented:\n",
    "        regions_represented.append(value[0])\n",
    "regions_represented[0:3]"
   ]
  },
  {
   "cell_type": "code",
   "execution_count": 40,
   "metadata": {
    "ExecuteTime": {
     "end_time": "2020-08-12T19:15:40.321597Z",
     "start_time": "2020-08-12T19:15:40.315734Z"
    }
   },
   "outputs": [
    {
     "data": {
      "text/plain": [
       "86"
      ]
     },
     "execution_count": 40,
     "metadata": {},
     "output_type": "execute_result"
    }
   ],
   "source": [
    "region_list = []\n",
    "for x in nyc_mex_rest_w_region['DBA']:\n",
    "    region_list.append(restaurant_matches_nyc[x.lower()][0])\n",
    "len(region_list)"
   ]
  },
  {
   "cell_type": "code",
   "execution_count": 39,
   "metadata": {
    "ExecuteTime": {
     "end_time": "2020-08-12T19:15:28.047982Z",
     "start_time": "2020-08-12T19:15:28.043564Z"
    }
   },
   "outputs": [],
   "source": [
    "nyc_mex_rest_w_region['region'] = region_list"
   ]
  },
  {
   "cell_type": "code",
   "execution_count": 41,
   "metadata": {
    "ExecuteTime": {
     "end_time": "2020-08-12T19:15:42.966366Z",
     "start_time": "2020-08-12T19:15:42.958195Z"
    }
   },
   "outputs": [
    {
     "data": {
      "text/plain": [
       "Puebla                 32\n",
       "Yucatan                11\n",
       "Chihuahua               6\n",
       "Baja California         6\n",
       "Morelos                 4\n",
       "Oaxaca                  4\n",
       "Veracruz                3\n",
       "Tamaulipas              3\n",
       "Hidalgo                 2\n",
       "Quintana Roo            2\n",
       "Guerrero                2\n",
       "Jalisco                 2\n",
       "Mexico                  1\n",
       "Baja California Sur     1\n",
       "Sinaloa                 1\n",
       "Sonora                  1\n",
       "Colima                  1\n",
       "Tabasco                 1\n",
       "Aguascalientes          1\n",
       "Tlaxcala                1\n",
       "Durango                 1\n",
       "Name: region, dtype: int64"
      ]
     },
     "execution_count": 41,
     "metadata": {},
     "output_type": "execute_result"
    }
   ],
   "source": [
    "# i get a lot of repeats with this method \n",
    "nyc_mex_rest_w_region['region'].value_counts()"
   ]
  },
  {
   "cell_type": "markdown",
   "metadata": {},
   "source": [
    "### Getting region counts as a percentage"
   ]
  },
  {
   "cell_type": "code",
   "execution_count": 42,
   "metadata": {
    "ExecuteTime": {
     "end_time": "2020-08-12T19:15:51.548744Z",
     "start_time": "2020-08-12T19:15:51.543644Z"
    }
   },
   "outputs": [],
   "source": [
    "nyc_region_counts_series = nyc_mex_rest_w_region['region'].value_counts()"
   ]
  },
  {
   "cell_type": "code",
   "execution_count": 43,
   "metadata": {
    "ExecuteTime": {
     "end_time": "2020-08-12T19:15:51.855746Z",
     "start_time": "2020-08-12T19:15:51.853240Z"
    }
   },
   "outputs": [],
   "source": [
    "nyc_region_counts_dict = nyc_region_counts_series.to_dict()"
   ]
  },
  {
   "cell_type": "code",
   "execution_count": 45,
   "metadata": {
    "ExecuteTime": {
     "end_time": "2020-08-12T19:15:56.533142Z",
     "start_time": "2020-08-12T19:15:56.529002Z"
    }
   },
   "outputs": [],
   "source": [
    "nyc_region_counts_dict_pct = {key: round(value/len(region_list), 2) \n",
    "                              for key, value in nyc_region_counts_dict.items()}"
   ]
  },
  {
   "cell_type": "code",
   "execution_count": 46,
   "metadata": {
    "ExecuteTime": {
     "end_time": "2020-08-12T19:15:58.385330Z",
     "start_time": "2020-08-12T19:15:58.379510Z"
    }
   },
   "outputs": [
    {
     "data": {
      "text/plain": [
       "[('Puebla', 0.37), ('Yucatan', 0.13)]"
      ]
     },
     "execution_count": 46,
     "metadata": {},
     "output_type": "execute_result"
    }
   ],
   "source": [
    "list(nyc_region_counts_dict_pct.items())[0:2]"
   ]
  },
  {
   "cell_type": "markdown",
   "metadata": {},
   "source": [
    "### Getting Values that matches"
   ]
  },
  {
   "cell_type": "code",
   "execution_count": 47,
   "metadata": {
    "ExecuteTime": {
     "end_time": "2020-08-12T19:16:04.160180Z",
     "start_time": "2020-08-12T19:16:04.156714Z"
    }
   },
   "outputs": [],
   "source": [
    "nyc_values = {value[1]:0 for key, value in restaurant_matches_nyc.items()}"
   ]
  },
  {
   "cell_type": "code",
   "execution_count": 48,
   "metadata": {
    "ExecuteTime": {
     "end_time": "2020-08-12T19:16:04.590719Z",
     "start_time": "2020-08-12T19:16:04.587811Z"
    }
   },
   "outputs": [],
   "source": [
    "for key, value in restaurant_matches_nyc.items():\n",
    "    if value[1] in nyc_values.keys():\n",
    "        nyc_values[value[1]] += 1"
   ]
  },
  {
   "cell_type": "code",
   "execution_count": 49,
   "metadata": {
    "ExecuteTime": {
     "end_time": "2020-08-12T19:16:05.126522Z",
     "start_time": "2020-08-12T19:16:05.121266Z"
    }
   },
   "outputs": [
    {
     "name": "stdout",
     "output_type": "stream",
     "text": [
      "puebla 9\n",
      "tulcingo 5\n",
      "poblana 5\n",
      "guadalupe 4\n",
      "oaxaca 4\n"
     ]
    }
   ],
   "source": [
    "# https://careerkarma.com/blog/python-sort-a-dictionary-by-value/\n",
    "sort_values = sorted(nyc_values.items(), key=lambda x: x[1], reverse=True)\n",
    "for i in sort_values[0:5]:\n",
    "    print(i[0], i[1])"
   ]
  },
  {
   "cell_type": "markdown",
   "metadata": {},
   "source": [
    "### Adding to base_map"
   ]
  },
  {
   "cell_type": "code",
   "execution_count": 50,
   "metadata": {
    "ExecuteTime": {
     "end_time": "2020-08-12T19:16:08.388581Z",
     "start_time": "2020-08-12T19:16:08.376560Z"
    }
   },
   "outputs": [],
   "source": [
    "base_lat = 40.7128\n",
    "base_long = -74.0060\n",
    "base_map = folium.Map([base_lat, base_long], zoom_start=10, tiles=\"cartodbpositron\")"
   ]
  },
  {
   "cell_type": "code",
   "execution_count": 51,
   "metadata": {
    "ExecuteTime": {
     "end_time": "2020-08-12T19:16:08.833820Z",
     "start_time": "2020-08-12T19:16:08.829334Z"
    }
   },
   "outputs": [
    {
     "data": {
      "text/plain": [
       "21"
      ]
     },
     "execution_count": 51,
     "metadata": {},
     "output_type": "execute_result"
    }
   ],
   "source": [
    "len(regions_represented)"
   ]
  },
  {
   "cell_type": "code",
   "execution_count": 52,
   "metadata": {
    "ExecuteTime": {
     "end_time": "2020-08-12T19:16:09.388950Z",
     "start_time": "2020-08-12T19:16:09.383386Z"
    }
   },
   "outputs": [
    {
     "data": {
      "text/plain": [
       "11"
      ]
     },
     "execution_count": 52,
     "metadata": {},
     "output_type": "execute_result"
    }
   ],
   "source": [
    "# a color for each region\n",
    "color_list = [\"red\" 'blue', 'green', 'purple', 'orange', 'darkred',\n",
    "'lightred', 'beige', 'darkblue', 'darkgreen', 'cadetblue', 'darkpurple']\n",
    "#white’, ‘pink’, ‘lightblue’, ‘lightgreen’, ‘gray’, ‘black’, ‘lightgray’]\n",
    "len(color_list)"
   ]
  },
  {
   "cell_type": "code",
   "execution_count": 53,
   "metadata": {
    "ExecuteTime": {
     "end_time": "2020-08-12T19:16:09.998781Z",
     "start_time": "2020-08-12T19:16:09.971530Z"
    }
   },
   "outputs": [],
   "source": [
    "for x in range(nyc_mex_rest_w_region.shape[0]):\n",
    "    rest_name = nyc_mex_rest_w_region['DBA'][x].lower()\n",
    "    region_city_name = restaurant_matches_nyc[rest_name]\n",
    "    color_list_index = regions_represented.index(region_city_name[0])\n",
    "    if color_list_index >= 10: # to account for the most represented regions and use the colors available\n",
    "        color_list_index = 10\n",
    "    folium.Marker(\n",
    "            location = (nyc_mex_rest_w_region['Latitude'][x], nyc_mex_rest_w_region['Longitude'][x]),\n",
    "            popup = f\"name '{rest_name}', region '{region_city_name[0]}'\",\n",
    "            icon=folium.Icon(color=color_list[color_list_index])\n",
    "        ).add_to(base_map)"
   ]
  },
  {
   "cell_type": "code",
   "execution_count": 54,
   "metadata": {
    "ExecuteTime": {
     "end_time": "2020-08-12T19:16:12.916337Z",
     "start_time": "2020-08-12T19:16:12.750006Z"
    },
    "scrolled": true
   },
   "outputs": [
    {
     "data": {
      "text/html": [
       "<div style=\"width:100%;\"><div style=\"position:relative;width:100%;height:0;padding-bottom:60%;\"><iframe src=\"data:text/html;charset=utf-8;base64,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\" style=\"position:absolute;width:100%;height:100%;left:0;top:0;border:none !important;\" allowfullscreen webkitallowfullscreen mozallowfullscreen></iframe></div></div>"
      ],
      "text/plain": [
       "<folium.folium.Map at 0x7faa5a4acac8>"
      ]
     },
     "execution_count": 54,
     "metadata": {},
     "output_type": "execute_result"
    }
   ],
   "source": [
    "base_map"
   ]
  },
  {
   "cell_type": "markdown",
   "metadata": {},
   "source": [
    "### Saving the map"
   ]
  },
  {
   "cell_type": "code",
   "execution_count": 1119,
   "metadata": {},
   "outputs": [],
   "source": [
    "# base_map.save(\"mexican_restaurants_in_new_york_city_with_region_in_name.html\")"
   ]
  },
  {
   "cell_type": "markdown",
   "metadata": {},
   "source": [
    "### Map Legend"
   ]
  },
  {
   "cell_type": "code",
   "execution_count": 55,
   "metadata": {
    "ExecuteTime": {
     "end_time": "2020-08-12T19:16:22.288329Z",
     "start_time": "2020-08-12T19:16:22.284302Z"
    }
   },
   "outputs": [],
   "source": [
    "region_legend = []\n",
    "for key, value in restaurant_matches_nyc.items():\n",
    "    if value[0] not in region_legend:\n",
    "        region_legend.append(value[0])"
   ]
  },
  {
   "cell_type": "code",
   "execution_count": 56,
   "metadata": {
    "ExecuteTime": {
     "end_time": "2020-08-12T19:16:24.994592Z",
     "start_time": "2020-08-12T19:16:24.991249Z"
    }
   },
   "outputs": [],
   "source": [
    "full_legend = list(zip(region_legend, color_list[:-1]))"
   ]
  },
  {
   "cell_type": "code",
   "execution_count": 57,
   "metadata": {
    "ExecuteTime": {
     "end_time": "2020-08-12T19:16:25.435574Z",
     "start_time": "2020-08-12T19:16:25.430615Z"
    }
   },
   "outputs": [
    {
     "data": {
      "text/plain": [
       "[('Chihuahua', 'redblue'),\n",
       " ('Veracruz', 'green'),\n",
       " ('Tamaulipas', 'purple'),\n",
       " ('Colima', 'orange'),\n",
       " ('Puebla', 'darkred'),\n",
       " ('Oaxaca', 'lightred'),\n",
       " ('Baja California', 'beige'),\n",
       " ('Morelos', 'darkblue'),\n",
       " ('Tlaxcala', 'darkgreen'),\n",
       " ('Jalisco', 'cadetblue')]"
      ]
     },
     "execution_count": 57,
     "metadata": {},
     "output_type": "execute_result"
    }
   ],
   "source": [
    "# all other regions are \"darkpurple\"\n",
    "full_legend"
   ]
  },
  {
   "cell_type": "markdown",
   "metadata": {},
   "source": [
    "### Turning dictionary to df"
   ]
  },
  {
   "cell_type": "code",
   "execution_count": 58,
   "metadata": {
    "ExecuteTime": {
     "end_time": "2020-08-12T19:16:51.663876Z",
     "start_time": "2020-08-12T19:16:51.656813Z"
    }
   },
   "outputs": [],
   "source": [
    "rest_df = pd.DataFrame.from_dict(restaurant_matches_nyc, orient=\"index\")\n",
    "rest_df.reset_index(inplace=True)\n",
    "rest_df.columns = ['Restaurant_name', 'Region', 'Matching_word_w_region']"
   ]
  },
  {
   "cell_type": "code",
   "execution_count": 59,
   "metadata": {
    "ExecuteTime": {
     "end_time": "2020-08-12T19:16:53.364329Z",
     "start_time": "2020-08-12T19:16:53.354659Z"
    }
   },
   "outputs": [
    {
     "data": {
      "text/html": [
       "<div>\n",
       "<style scoped>\n",
       "    .dataframe tbody tr th:only-of-type {\n",
       "        vertical-align: middle;\n",
       "    }\n",
       "\n",
       "    .dataframe tbody tr th {\n",
       "        vertical-align: top;\n",
       "    }\n",
       "\n",
       "    .dataframe thead th {\n",
       "        text-align: right;\n",
       "    }\n",
       "</style>\n",
       "<table border=\"1\" class=\"dataframe\">\n",
       "  <thead>\n",
       "    <tr style=\"text-align: right;\">\n",
       "      <th></th>\n",
       "      <th>Restaurant_name</th>\n",
       "      <th>Region</th>\n",
       "      <th>Matching_word_w_region</th>\n",
       "    </tr>\n",
       "  </thead>\n",
       "  <tbody>\n",
       "    <tr>\n",
       "      <th>0</th>\n",
       "      <td>la guadalupe restaurant</td>\n",
       "      <td>Chihuahua</td>\n",
       "      <td>guadalupe</td>\n",
       "    </tr>\n",
       "    <tr>\n",
       "      <th>1</th>\n",
       "      <td>tacos cuautla morales</td>\n",
       "      <td>Veracruz</td>\n",
       "      <td>morales</td>\n",
       "    </tr>\n",
       "    <tr>\n",
       "      <th>2</th>\n",
       "      <td>acapulco deli &amp; restaurant</td>\n",
       "      <td>Tamaulipas</td>\n",
       "      <td>acapulco</td>\n",
       "    </tr>\n",
       "    <tr>\n",
       "      <th>3</th>\n",
       "      <td>rinconcito tepeyac</td>\n",
       "      <td>Colima</td>\n",
       "      <td>tepeyac</td>\n",
       "    </tr>\n",
       "    <tr>\n",
       "      <th>4</th>\n",
       "      <td>tulcingo restaurant</td>\n",
       "      <td>Puebla</td>\n",
       "      <td>tulcingo</td>\n",
       "    </tr>\n",
       "  </tbody>\n",
       "</table>\n",
       "</div>"
      ],
      "text/plain": [
       "              Restaurant_name      Region Matching_word_w_region\n",
       "0     la guadalupe restaurant   Chihuahua              guadalupe\n",
       "1       tacos cuautla morales    Veracruz                morales\n",
       "2  acapulco deli & restaurant  Tamaulipas               acapulco\n",
       "3          rinconcito tepeyac      Colima                tepeyac\n",
       "4         tulcingo restaurant      Puebla               tulcingo"
      ]
     },
     "execution_count": 59,
     "metadata": {},
     "output_type": "execute_result"
    }
   ],
   "source": [
    "rest_df.head()"
   ]
  },
  {
   "cell_type": "code",
   "execution_count": 60,
   "metadata": {
    "ExecuteTime": {
     "end_time": "2020-08-12T19:16:59.709618Z",
     "start_time": "2020-08-12T19:16:59.705355Z"
    }
   },
   "outputs": [
    {
     "data": {
      "text/plain": [
       "Index(['Restaurant_name', 'Region', 'Matching_word_w_region'], dtype='object')"
      ]
     },
     "execution_count": 60,
     "metadata": {},
     "output_type": "execute_result"
    }
   ],
   "source": [
    "rest_df.columns"
   ]
  },
  {
   "cell_type": "markdown",
   "metadata": {},
   "source": [
    "#### Checking to see if \"Tulcingo Deli Grocery\" is in database"
   ]
  },
  {
   "cell_type": "code",
   "execution_count": 61,
   "metadata": {
    "ExecuteTime": {
     "end_time": "2020-08-12T19:17:05.241177Z",
     "start_time": "2020-08-12T19:17:05.234953Z"
    }
   },
   "outputs": [
    {
     "data": {
      "text/plain": [
       "True"
      ]
     },
     "execution_count": 61,
     "metadata": {},
     "output_type": "execute_result"
    }
   ],
   "source": [
    "'TULCINGO' in list(nyc_mex_rest_w_region['DBA'].unique())"
   ]
  },
  {
   "cell_type": "code",
   "execution_count": 65,
   "metadata": {
    "ExecuteTime": {
     "end_time": "2020-08-12T19:17:30.196702Z",
     "start_time": "2020-08-12T19:17:30.191034Z"
    }
   },
   "outputs": [
    {
     "data": {
      "text/plain": [
       "5"
      ]
     },
     "execution_count": 65,
     "metadata": {},
     "output_type": "execute_result"
    }
   ],
   "source": [
    "tulcingo_count = 0\n",
    "for x in rest_df.Matching_word_w_region:\n",
    "    if x.lower() == 'tulcingo':\n",
    "        tulcingo_count += 1\n",
    "tulcingo_count"
   ]
  },
  {
   "cell_type": "markdown",
   "metadata": {},
   "source": [
    "## LA"
   ]
  },
  {
   "cell_type": "code",
   "execution_count": 66,
   "metadata": {
    "ExecuteTime": {
     "end_time": "2020-08-12T19:17:47.507892Z",
     "start_time": "2020-08-12T19:17:47.455214Z"
    }
   },
   "outputs": [
    {
     "data": {
      "text/plain": [
       "(7017, 16)"
      ]
     },
     "execution_count": 66,
     "metadata": {},
     "output_type": "execute_result"
    }
   ],
   "source": [
    "LA_data = pd.read_csv(\"./food_inspections_data/Map_of_Restaurants_LA.csv\")\n",
    "LA_data.shape"
   ]
  },
  {
   "cell_type": "code",
   "execution_count": 67,
   "metadata": {
    "ExecuteTime": {
     "end_time": "2020-08-12T19:17:49.302415Z",
     "start_time": "2020-08-12T19:17:49.285543Z"
    },
    "scrolled": true
   },
   "outputs": [
    {
     "data": {
      "text/html": [
       "<div>\n",
       "<style scoped>\n",
       "    .dataframe tbody tr th:only-of-type {\n",
       "        vertical-align: middle;\n",
       "    }\n",
       "\n",
       "    .dataframe tbody tr th {\n",
       "        vertical-align: top;\n",
       "    }\n",
       "\n",
       "    .dataframe thead th {\n",
       "        text-align: right;\n",
       "    }\n",
       "</style>\n",
       "<table border=\"1\" class=\"dataframe\">\n",
       "  <thead>\n",
       "    <tr style=\"text-align: right;\">\n",
       "      <th></th>\n",
       "      <th>LOCATION ACCOUNT #</th>\n",
       "      <th>BUSINESS NAME</th>\n",
       "      <th>DBA NAME</th>\n",
       "      <th>STREET ADDRESS</th>\n",
       "      <th>CITY</th>\n",
       "      <th>ZIP CODE</th>\n",
       "      <th>LOCATION DESCRIPTION</th>\n",
       "      <th>MAILING ADDRESS</th>\n",
       "      <th>MAILING CITY</th>\n",
       "      <th>MAILING ZIP CODE</th>\n",
       "      <th>NAICS</th>\n",
       "      <th>PRIMARY NAICS DESCRIPTION</th>\n",
       "      <th>COUNCIL DISTRICT</th>\n",
       "      <th>LOCATION START DATE</th>\n",
       "      <th>LOCATION END DATE</th>\n",
       "      <th>LOCATION</th>\n",
       "    </tr>\n",
       "  </thead>\n",
       "  <tbody>\n",
       "    <tr>\n",
       "      <th>0</th>\n",
       "      <td>0003030535-0001-6</td>\n",
       "      <td>NIGHT MARKET 3, INC.</td>\n",
       "      <td>NaN</td>\n",
       "      <td>2533   LINCOLN BLVD</td>\n",
       "      <td>VENICE</td>\n",
       "      <td>90291-5042</td>\n",
       "      <td>2533 LINCOLN 90291</td>\n",
       "      <td>2533   LINCOLN BLVD</td>\n",
       "      <td>VENICE</td>\n",
       "      <td>90291-5042</td>\n",
       "      <td>722110</td>\n",
       "      <td>Full-service restaurants</td>\n",
       "      <td>11</td>\n",
       "      <td>02/01/2018</td>\n",
       "      <td>NaN</td>\n",
       "      <td>(33.9915, -118.449)</td>\n",
       "    </tr>\n",
       "    <tr>\n",
       "      <th>1</th>\n",
       "      <td>0002893692-0002-0</td>\n",
       "      <td>NORMA L DIAZ SANCHEZ</td>\n",
       "      <td>PLAYAS EL SALVADOR RESRAURANTE</td>\n",
       "      <td>4052  1/2 S CENTRAL AVENUE</td>\n",
       "      <td>LOS ANGELES</td>\n",
       "      <td>90011-2866</td>\n",
       "      <td>4052 Central 90011-2866</td>\n",
       "      <td>NaN</td>\n",
       "      <td>NaN</td>\n",
       "      <td>NaN</td>\n",
       "      <td>722110</td>\n",
       "      <td>Full-service restaurants</td>\n",
       "      <td>9</td>\n",
       "      <td>05/19/2020</td>\n",
       "      <td>NaN</td>\n",
       "      <td>(34.0101, -118.2563)</td>\n",
       "    </tr>\n",
       "  </tbody>\n",
       "</table>\n",
       "</div>"
      ],
      "text/plain": [
       "  LOCATION ACCOUNT #         BUSINESS NAME                        DBA NAME  \\\n",
       "0  0003030535-0001-6  NIGHT MARKET 3, INC.                             NaN   \n",
       "1  0002893692-0002-0  NORMA L DIAZ SANCHEZ  PLAYAS EL SALVADOR RESRAURANTE   \n",
       "\n",
       "               STREET ADDRESS         CITY    ZIP CODE  \\\n",
       "0         2533   LINCOLN BLVD       VENICE  90291-5042   \n",
       "1  4052  1/2 S CENTRAL AVENUE  LOS ANGELES  90011-2866   \n",
       "\n",
       "      LOCATION DESCRIPTION      MAILING ADDRESS MAILING CITY MAILING ZIP CODE  \\\n",
       "0       2533 LINCOLN 90291  2533   LINCOLN BLVD       VENICE       90291-5042   \n",
       "1  4052 Central 90011-2866                  NaN          NaN              NaN   \n",
       "\n",
       "    NAICS PRIMARY NAICS DESCRIPTION  COUNCIL DISTRICT LOCATION START DATE  \\\n",
       "0  722110  Full-service restaurants                11          02/01/2018   \n",
       "1  722110  Full-service restaurants                 9          05/19/2020   \n",
       "\n",
       "   LOCATION END DATE              LOCATION  \n",
       "0                NaN   (33.9915, -118.449)  \n",
       "1                NaN  (34.0101, -118.2563)  "
      ]
     },
     "execution_count": 67,
     "metadata": {},
     "output_type": "execute_result"
    }
   ],
   "source": [
    "LA_data.head(2)"
   ]
  },
  {
   "cell_type": "code",
   "execution_count": 68,
   "metadata": {
    "ExecuteTime": {
     "end_time": "2020-08-12T19:17:50.758813Z",
     "start_time": "2020-08-12T19:17:50.750540Z"
    }
   },
   "outputs": [],
   "source": [
    "LA_data['LOCATION'].fillna(\"None\", inplace=True)"
   ]
  },
  {
   "cell_type": "code",
   "execution_count": 69,
   "metadata": {
    "ExecuteTime": {
     "end_time": "2020-08-12T19:17:51.149395Z",
     "start_time": "2020-08-12T19:17:51.145372Z"
    }
   },
   "outputs": [
    {
     "data": {
      "text/plain": [
       "dtype('O')"
      ]
     },
     "execution_count": 69,
     "metadata": {},
     "output_type": "execute_result"
    }
   ],
   "source": [
    "LA_data['LOCATION'].dtype"
   ]
  },
  {
   "cell_type": "markdown",
   "metadata": {},
   "source": [
    "### Making sure that there aren't any duplicate restaurants"
   ]
  },
  {
   "cell_type": "code",
   "execution_count": 70,
   "metadata": {
    "ExecuteTime": {
     "end_time": "2020-08-12T19:17:52.367382Z",
     "start_time": "2020-08-12T19:17:52.357312Z"
    }
   },
   "outputs": [
    {
     "data": {
      "text/plain": [
       "False"
      ]
     },
     "execution_count": 70,
     "metadata": {},
     "output_type": "execute_result"
    }
   ],
   "source": [
    "len(LA_data['BUSINESS NAME']) == len(set(LA_data['BUSINESS NAME']))"
   ]
  },
  {
   "cell_type": "code",
   "execution_count": 71,
   "metadata": {
    "ExecuteTime": {
     "end_time": "2020-08-12T19:17:55.687166Z",
     "start_time": "2020-08-12T19:17:55.682068Z"
    }
   },
   "outputs": [
    {
     "data": {
      "text/plain": [
       "7017"
      ]
     },
     "execution_count": 71,
     "metadata": {},
     "output_type": "execute_result"
    }
   ],
   "source": [
    "len(LA_data['BUSINESS NAME'])"
   ]
  },
  {
   "cell_type": "code",
   "execution_count": 72,
   "metadata": {
    "ExecuteTime": {
     "end_time": "2020-08-12T19:17:56.208562Z",
     "start_time": "2020-08-12T19:17:56.199913Z"
    }
   },
   "outputs": [
    {
     "data": {
      "text/plain": [
       "6125"
      ]
     },
     "execution_count": 72,
     "metadata": {},
     "output_type": "execute_result"
    }
   ],
   "source": [
    "len(set(LA_data['BUSINESS NAME']))"
   ]
  },
  {
   "cell_type": "code",
   "execution_count": 73,
   "metadata": {
    "ExecuteTime": {
     "end_time": "2020-08-12T19:17:56.725567Z",
     "start_time": "2020-08-12T19:17:56.713816Z"
    }
   },
   "outputs": [],
   "source": [
    "unique_LA_data = LA_data.drop_duplicates(subset=['DBA NAME'], keep='first')"
   ]
  },
  {
   "cell_type": "markdown",
   "metadata": {},
   "source": [
    "### Adding each name to a new column in LA_data"
   ]
  },
  {
   "cell_type": "code",
   "execution_count": 74,
   "metadata": {
    "ExecuteTime": {
     "end_time": "2020-08-12T19:18:04.172394Z",
     "start_time": "2020-08-12T19:18:04.166272Z"
    }
   },
   "outputs": [],
   "source": [
    "possible_biz_names = list(zip(unique_LA_data['BUSINESS NAME'],unique_LA_data['DBA NAME']))"
   ]
  },
  {
   "cell_type": "code",
   "execution_count": 75,
   "metadata": {
    "ExecuteTime": {
     "end_time": "2020-08-12T19:18:04.660778Z",
     "start_time": "2020-08-12T19:18:04.650239Z"
    }
   },
   "outputs": [],
   "source": [
    "list_possible_biz_names = []\n",
    "for x in possible_biz_names:\n",
    "    y = list(x)\n",
    "    if np.nan in y:\n",
    "        y.remove(np.nan)\n",
    "    lower_item_list = [item.lower() for item in y]        \n",
    "    list_possible_biz_names.append(lower_item_list)"
   ]
  },
  {
   "cell_type": "code",
   "execution_count": 76,
   "metadata": {
    "ExecuteTime": {
     "end_time": "2020-08-12T19:18:05.418340Z",
     "start_time": "2020-08-12T19:18:05.412988Z"
    }
   },
   "outputs": [],
   "source": [
    "unique_LA_data['biz_names'] = list_possible_biz_names"
   ]
  },
  {
   "cell_type": "markdown",
   "metadata": {},
   "source": [
    "### Getting Matches"
   ]
  },
  {
   "cell_type": "code",
   "execution_count": 78,
   "metadata": {
    "ExecuteTime": {
     "end_time": "2020-08-12T19:18:11.644911Z",
     "start_time": "2020-08-12T19:18:11.638422Z"
    }
   },
   "outputs": [
    {
     "data": {
      "text/plain": [
       "0                               [night market 3, inc.]\n",
       "1    [norma l diaz sanchez, playas el salvador resr...\n",
       "3        [bombay curry inc, bombay curry and pizzeria]\n",
       "4    [t & m finatic enterprise inc, sharky's fresh ...\n",
       "Name: biz_names, dtype: object"
      ]
     },
     "execution_count": 78,
     "metadata": {},
     "output_type": "execute_result"
    }
   ],
   "source": [
    "unique_LA_data['biz_names'][0:4]"
   ]
  },
  {
   "cell_type": "code",
   "execution_count": 79,
   "metadata": {
    "ExecuteTime": {
     "end_time": "2020-08-12T19:18:12.638646Z",
     "start_time": "2020-08-12T19:18:12.632682Z"
    }
   },
   "outputs": [
    {
     "data": {
      "text/plain": [
       "2"
      ]
     },
     "execution_count": 79,
     "metadata": {},
     "output_type": "execute_result"
    }
   ],
   "source": [
    "len(unique_LA_data['biz_names'][1])"
   ]
  },
  {
   "cell_type": "code",
   "execution_count": 80,
   "metadata": {
    "ExecuteTime": {
     "end_time": "2020-08-12T19:18:25.037613Z",
     "start_time": "2020-08-12T19:18:13.798820Z"
    }
   },
   "outputs": [],
   "source": [
    "rest_matches_la = []\n",
    "# list of not-quite-real matches\n",
    "bad_matches = ['mexican', 'tequila', 'margarita', 'margaritas', 'mexico', 'pedro', 'azteca', 'paraiso'\n",
    "'mexico','rodeo','rio','maria','mexicanos','coyote','marcos','mama','bravo','viejo','perla','nuevo'\n",
    "'verde', 'gonzalez', 'corona', 'armadillo', 'arriba', 'palmas', 'delicias', 'blanco', 'crespo','tortuga']\n",
    "for item in unique_LA_data['biz_names']:\n",
    "    for word in item:\n",
    "        for key, value in demonym_dictionary.items():\n",
    "            for city in value:\n",
    "                if word == city:\n",
    "                    if word not in bad_matches: # if not, the number of results is tripled\n",
    "                        rest_matches_la.append(item)"
   ]
  },
  {
   "cell_type": "code",
   "execution_count": 83,
   "metadata": {
    "ExecuteTime": {
     "end_time": "2020-08-12T19:18:29.303158Z",
     "start_time": "2020-08-12T19:18:29.298607Z"
    }
   },
   "outputs": [
    {
     "data": {
      "text/plain": [
       "12"
      ]
     },
     "execution_count": 83,
     "metadata": {},
     "output_type": "execute_result"
    }
   ],
   "source": [
    "unique_rest_matches_la = []\n",
    "for x in rest_matches_la:\n",
    "    if x not in unique_rest_matches_la:\n",
    "        unique_rest_matches_la.append(x)\n",
    "len(unique_rest_matches_la)"
   ]
  },
  {
   "cell_type": "code",
   "execution_count": 84,
   "metadata": {
    "ExecuteTime": {
     "end_time": "2020-08-12T19:18:34.614890Z",
     "start_time": "2020-08-12T19:18:34.609550Z"
    }
   },
   "outputs": [
    {
     "data": {
      "text/plain": [
       "[['luis e ponce', 'los pilares'],\n",
       " ['rio nuevo, llc', 'salazar'],\n",
       " ['toshihiko t hoshi', 'toshi'],\n",
       " ['genoveva/guillermo padilla', 'la barca']]"
      ]
     },
     "execution_count": 84,
     "metadata": {},
     "output_type": "execute_result"
    }
   ],
   "source": [
    "# most of this data looks like it's incorrectly matching so I will not use LA's data\n",
    "unique_rest_matches_la[0:4]"
   ]
  },
  {
   "cell_type": "markdown",
   "metadata": {},
   "source": [
    "## Chicago "
   ]
  },
  {
   "cell_type": "code",
   "execution_count": 85,
   "metadata": {
    "ExecuteTime": {
     "end_time": "2020-08-12T19:18:49.211611Z",
     "start_time": "2020-08-12T19:18:47.109747Z"
    }
   },
   "outputs": [
    {
     "data": {
      "text/plain": [
       "(206916, 17)"
      ]
     },
     "execution_count": 85,
     "metadata": {},
     "output_type": "execute_result"
    }
   ],
   "source": [
    "chi_data = pd.read_csv(\"./food_inspections_data/Food_Inspections_chicago.csv\")\n",
    "chi_data.shape"
   ]
  },
  {
   "cell_type": "code",
   "execution_count": 86,
   "metadata": {
    "ExecuteTime": {
     "end_time": "2020-08-12T19:18:49.465693Z",
     "start_time": "2020-08-12T19:18:49.449870Z"
    }
   },
   "outputs": [
    {
     "data": {
      "text/html": [
       "<div>\n",
       "<style scoped>\n",
       "    .dataframe tbody tr th:only-of-type {\n",
       "        vertical-align: middle;\n",
       "    }\n",
       "\n",
       "    .dataframe tbody tr th {\n",
       "        vertical-align: top;\n",
       "    }\n",
       "\n",
       "    .dataframe thead th {\n",
       "        text-align: right;\n",
       "    }\n",
       "</style>\n",
       "<table border=\"1\" class=\"dataframe\">\n",
       "  <thead>\n",
       "    <tr style=\"text-align: right;\">\n",
       "      <th></th>\n",
       "      <th>Inspection ID</th>\n",
       "      <th>DBA Name</th>\n",
       "      <th>AKA Name</th>\n",
       "      <th>License #</th>\n",
       "      <th>Facility Type</th>\n",
       "      <th>Risk</th>\n",
       "      <th>Address</th>\n",
       "      <th>City</th>\n",
       "      <th>State</th>\n",
       "      <th>Zip</th>\n",
       "      <th>Inspection Date</th>\n",
       "      <th>Inspection Type</th>\n",
       "      <th>Results</th>\n",
       "      <th>Violations</th>\n",
       "      <th>Latitude</th>\n",
       "      <th>Longitude</th>\n",
       "      <th>Location</th>\n",
       "    </tr>\n",
       "  </thead>\n",
       "  <tbody>\n",
       "    <tr>\n",
       "      <th>0</th>\n",
       "      <td>2373714</td>\n",
       "      <td>CHIYA CHAI CAFE</td>\n",
       "      <td>CHIYA CHAI CAFE</td>\n",
       "      <td>2432644.0</td>\n",
       "      <td>Restaurant</td>\n",
       "      <td>Risk 1 (High)</td>\n",
       "      <td>2770 N MILWAUKEE AVE</td>\n",
       "      <td>CHICAGO</td>\n",
       "      <td>IL</td>\n",
       "      <td>60647.0</td>\n",
       "      <td>06/15/2020</td>\n",
       "      <td>Canvass Re-Inspection</td>\n",
       "      <td>Pass</td>\n",
       "      <td>NaN</td>\n",
       "      <td>41.931449</td>\n",
       "      <td>-87.711547</td>\n",
       "      <td>(-87.71154708820332, 41.93144884388019)</td>\n",
       "    </tr>\n",
       "    <tr>\n",
       "      <th>1</th>\n",
       "      <td>2373680</td>\n",
       "      <td>TROPI CUBA</td>\n",
       "      <td>TROPI CUBA</td>\n",
       "      <td>1422721.0</td>\n",
       "      <td>Restaurant</td>\n",
       "      <td>Risk 1 (High)</td>\n",
       "      <td>3000 W LYNDALE ST</td>\n",
       "      <td>CHICAGO</td>\n",
       "      <td>IL</td>\n",
       "      <td>60647.0</td>\n",
       "      <td>06/12/2020</td>\n",
       "      <td>Canvass Re-Inspection</td>\n",
       "      <td>Pass</td>\n",
       "      <td>47. FOOD &amp; NON-FOOD CONTACT SURFACES CLEANABLE...</td>\n",
       "      <td>41.922493</td>\n",
       "      <td>-87.702359</td>\n",
       "      <td>(-87.70235877406888, 41.92249266994513)</td>\n",
       "    </tr>\n",
       "  </tbody>\n",
       "</table>\n",
       "</div>"
      ],
      "text/plain": [
       "   Inspection ID         DBA Name         AKA Name  License # Facility Type  \\\n",
       "0        2373714  CHIYA CHAI CAFE  CHIYA CHAI CAFE  2432644.0    Restaurant   \n",
       "1        2373680       TROPI CUBA       TROPI CUBA  1422721.0    Restaurant   \n",
       "\n",
       "            Risk                Address     City State      Zip  \\\n",
       "0  Risk 1 (High)  2770 N MILWAUKEE AVE   CHICAGO    IL  60647.0   \n",
       "1  Risk 1 (High)     3000 W LYNDALE ST   CHICAGO    IL  60647.0   \n",
       "\n",
       "  Inspection Date        Inspection Type Results  \\\n",
       "0      06/15/2020  Canvass Re-Inspection    Pass   \n",
       "1      06/12/2020  Canvass Re-Inspection    Pass   \n",
       "\n",
       "                                          Violations   Latitude  Longitude  \\\n",
       "0                                                NaN  41.931449 -87.711547   \n",
       "1  47. FOOD & NON-FOOD CONTACT SURFACES CLEANABLE...  41.922493 -87.702359   \n",
       "\n",
       "                                  Location  \n",
       "0  (-87.71154708820332, 41.93144884388019)  \n",
       "1  (-87.70235877406888, 41.92249266994513)  "
      ]
     },
     "execution_count": 86,
     "metadata": {},
     "output_type": "execute_result"
    }
   ],
   "source": [
    "chi_data.head(2)"
   ]
  },
  {
   "cell_type": "code",
   "execution_count": 87,
   "metadata": {
    "ExecuteTime": {
     "end_time": "2020-08-12T19:18:59.388754Z",
     "start_time": "2020-08-12T19:18:59.348768Z"
    }
   },
   "outputs": [
    {
     "data": {
      "text/plain": [
       "(137853, 17)"
      ]
     },
     "execution_count": 87,
     "metadata": {},
     "output_type": "execute_result"
    }
   ],
   "source": [
    "chi_rest = chi_data[chi_data['Facility Type'] == 'Restaurant']\n",
    "chi_rest.shape"
   ]
  },
  {
   "cell_type": "code",
   "execution_count": 88,
   "metadata": {
    "ExecuteTime": {
     "end_time": "2020-08-12T19:19:02.173591Z",
     "start_time": "2020-08-12T19:19:02.168981Z"
    }
   },
   "outputs": [
    {
     "data": {
      "text/plain": [
       "0.6662268746737806"
      ]
     },
     "execution_count": 88,
     "metadata": {},
     "output_type": "execute_result"
    }
   ],
   "source": [
    "# reduce the size of df by 33% \n",
    "chi_rest.shape[0] / chi_data.shape[0] "
   ]
  },
  {
   "cell_type": "code",
   "execution_count": 89,
   "metadata": {
    "ExecuteTime": {
     "end_time": "2020-08-12T19:19:05.472791Z",
     "start_time": "2020-08-12T19:19:05.455363Z"
    }
   },
   "outputs": [
    {
     "data": {
      "text/html": [
       "<div>\n",
       "<style scoped>\n",
       "    .dataframe tbody tr th:only-of-type {\n",
       "        vertical-align: middle;\n",
       "    }\n",
       "\n",
       "    .dataframe tbody tr th {\n",
       "        vertical-align: top;\n",
       "    }\n",
       "\n",
       "    .dataframe thead th {\n",
       "        text-align: right;\n",
       "    }\n",
       "</style>\n",
       "<table border=\"1\" class=\"dataframe\">\n",
       "  <thead>\n",
       "    <tr style=\"text-align: right;\">\n",
       "      <th></th>\n",
       "      <th>Inspection ID</th>\n",
       "      <th>DBA Name</th>\n",
       "      <th>AKA Name</th>\n",
       "      <th>License #</th>\n",
       "      <th>Facility Type</th>\n",
       "      <th>Risk</th>\n",
       "      <th>Address</th>\n",
       "      <th>City</th>\n",
       "      <th>State</th>\n",
       "      <th>Zip</th>\n",
       "      <th>Inspection Date</th>\n",
       "      <th>Inspection Type</th>\n",
       "      <th>Results</th>\n",
       "      <th>Violations</th>\n",
       "      <th>Latitude</th>\n",
       "      <th>Longitude</th>\n",
       "      <th>Location</th>\n",
       "    </tr>\n",
       "  </thead>\n",
       "  <tbody>\n",
       "    <tr>\n",
       "      <th>0</th>\n",
       "      <td>2373714</td>\n",
       "      <td>CHIYA CHAI CAFE</td>\n",
       "      <td>CHIYA CHAI CAFE</td>\n",
       "      <td>2432644.0</td>\n",
       "      <td>Restaurant</td>\n",
       "      <td>Risk 1 (High)</td>\n",
       "      <td>2770 N MILWAUKEE AVE</td>\n",
       "      <td>CHICAGO</td>\n",
       "      <td>IL</td>\n",
       "      <td>60647.0</td>\n",
       "      <td>06/15/2020</td>\n",
       "      <td>Canvass Re-Inspection</td>\n",
       "      <td>Pass</td>\n",
       "      <td>NaN</td>\n",
       "      <td>41.931449</td>\n",
       "      <td>-87.711547</td>\n",
       "      <td>(-87.71154708820332, 41.93144884388019)</td>\n",
       "    </tr>\n",
       "  </tbody>\n",
       "</table>\n",
       "</div>"
      ],
      "text/plain": [
       "   Inspection ID         DBA Name         AKA Name  License # Facility Type  \\\n",
       "0        2373714  CHIYA CHAI CAFE  CHIYA CHAI CAFE  2432644.0    Restaurant   \n",
       "\n",
       "            Risk                Address     City State      Zip  \\\n",
       "0  Risk 1 (High)  2770 N MILWAUKEE AVE   CHICAGO    IL  60647.0   \n",
       "\n",
       "  Inspection Date        Inspection Type Results Violations   Latitude  \\\n",
       "0      06/15/2020  Canvass Re-Inspection    Pass        NaN  41.931449   \n",
       "\n",
       "   Longitude                                 Location  \n",
       "0 -87.711547  (-87.71154708820332, 41.93144884388019)  "
      ]
     },
     "execution_count": 89,
     "metadata": {},
     "output_type": "execute_result"
    }
   ],
   "source": [
    "chi_rest.head(1)"
   ]
  },
  {
   "cell_type": "markdown",
   "metadata": {},
   "source": [
    "### Getting Names of restaurants"
   ]
  },
  {
   "cell_type": "code",
   "execution_count": 90,
   "metadata": {
    "ExecuteTime": {
     "end_time": "2020-08-12T19:19:07.095801Z",
     "start_time": "2020-08-12T19:19:06.987197Z"
    }
   },
   "outputs": [],
   "source": [
    "possible_chi_biz_names = list(zip(chi_rest['DBA Name'], chi_rest['AKA Name']))"
   ]
  },
  {
   "cell_type": "code",
   "execution_count": 91,
   "metadata": {
    "ExecuteTime": {
     "end_time": "2020-08-12T19:19:07.620237Z",
     "start_time": "2020-08-12T19:19:07.421425Z"
    }
   },
   "outputs": [],
   "source": [
    "chi_biz_names = []\n",
    "for x in possible_chi_biz_names:\n",
    "    x_list = list(x)\n",
    "    if x_list[0] == x_list[1]:\n",
    "        del x_list[1]\n",
    "    elif np.nan in x_list:\n",
    "        x_list.remove(np.nan)\n",
    "    lower_possible_chi_biz_names = [item.lower() for item in x_list]\n",
    "    chi_biz_names.append(lower_possible_chi_biz_names)"
   ]
  },
  {
   "cell_type": "code",
   "execution_count": 92,
   "metadata": {
    "ExecuteTime": {
     "end_time": "2020-08-12T19:19:08.079393Z",
     "start_time": "2020-08-12T19:19:08.075656Z"
    }
   },
   "outputs": [
    {
     "data": {
      "text/plain": [
       "[['chiya chai cafe'], ['tropi cuba'], ['china gourmet']]"
      ]
     },
     "execution_count": 92,
     "metadata": {},
     "output_type": "execute_result"
    }
   ],
   "source": [
    "chi_biz_names[0:3]"
   ]
  },
  {
   "cell_type": "code",
   "execution_count": 93,
   "metadata": {
    "ExecuteTime": {
     "end_time": "2020-08-12T19:19:08.768637Z",
     "start_time": "2020-08-12T19:19:08.748232Z"
    }
   },
   "outputs": [],
   "source": [
    "chi_rest['biz_names'] = chi_biz_names"
   ]
  },
  {
   "cell_type": "markdown",
   "metadata": {},
   "source": [
    "### Getting Matches with Dem Dict"
   ]
  },
  {
   "cell_type": "code",
   "execution_count": 94,
   "metadata": {
    "ExecuteTime": {
     "end_time": "2020-08-12T19:22:19.167463Z",
     "start_time": "2020-08-12T19:19:13.351374Z"
    }
   },
   "outputs": [],
   "source": [
    "rest_matches_chi = []\n",
    "# list of not-quite-real matches\n",
    "bad_matches = ['mexican','mexico','mexicanos','azteca','esperanza','estrada','esperanzas','salero','pinos',\n",
    "                  'maria', 'bravo', 'nuevo', 'progreso', 'delicias', 'comales', 'palmas', 'palenque', 'concordia',\n",
    "                 'china', 'gym', 'paloma', 'rio', 'mex', 'tequila', 'colorado', 'ventana', 'lom', 'garcia', 'paz',\n",
    "                 'chavez', 'paraiso', 'senor', 'oriental', 'fronteras', 'tap', 'aca', 'purisima', 'rodriguez',\n",
    "                 'hernandez', 'sanchez', 'victoria', 'oasis', 'cash', 'pinas', 'yaa', 'tap', 'meson','agustin',\n",
    "                 'agustin', 'limon', 'alamo', 'slp', 'providencia', 'reyes', 'lom', 'verde', 'perla', 'madrid', \n",
    "                 'delta', 'mama', 'lopez', 'honey', 'laurel', 'california pizza kitchen', 'sauces', 'laguna', \n",
    "              'dolores', 'presidio', 'ver', 'bernal', 'rincon', 'marin', 'palma', 'potrero', 'mid', 'valencia',\n",
    "              'aura', 'kava', 'pueblito', 'castillo', 'tam', 'marcos', 'montecristo', 'tinajas', 'alvarado',\n",
    "              'porvenir', 'nieves', 'mina', 'marin']\n",
    "for item in chi_rest['biz_names']:\n",
    "    for word in item:\n",
    "        for key, value in demonym_dictionary.items():\n",
    "            for city in value:\n",
    "                if word == city:\n",
    "                    if word not in bad_matches: # if not, the number of results is tripled\n",
    "                        rest_matches_chi.append(item)"
   ]
  },
  {
   "cell_type": "code",
   "execution_count": 95,
   "metadata": {
    "ExecuteTime": {
     "end_time": "2020-08-12T19:22:19.546925Z",
     "start_time": "2020-08-12T19:22:19.542849Z"
    }
   },
   "outputs": [
    {
     "data": {
      "text/plain": [
       "765"
      ]
     },
     "execution_count": 95,
     "metadata": {},
     "output_type": "execute_result"
    }
   ],
   "source": [
    "len(rest_matches_chi)"
   ]
  },
  {
   "cell_type": "code",
   "execution_count": 96,
   "metadata": {
    "ExecuteTime": {
     "end_time": "2020-08-12T19:22:19.930041Z",
     "start_time": "2020-08-12T19:22:19.925934Z"
    }
   },
   "outputs": [
    {
     "data": {
      "text/plain": [
       "[['los comales'],\n",
       " ['la amistad inc.', 'la amistad'],\n",
       " ['las palmas'],\n",
       " ['las palmas'],\n",
       " ['la fuente']]"
      ]
     },
     "execution_count": 96,
     "metadata": {},
     "output_type": "execute_result"
    }
   ],
   "source": [
    "rest_matches_chi[0:5]"
   ]
  },
  {
   "cell_type": "code",
   "execution_count": 100,
   "metadata": {
    "ExecuteTime": {
     "end_time": "2020-08-12T19:29:01.415120Z",
     "start_time": "2020-08-12T19:29:01.408124Z"
    }
   },
   "outputs": [
    {
     "data": {
      "text/plain": [
       "43"
      ]
     },
     "execution_count": 100,
     "metadata": {},
     "output_type": "execute_result"
    }
   ],
   "source": [
    "unique_rest_matches_chi = []\n",
    "for x in rest_matches_chi:\n",
    "    if x not in unique_rest_matches_chi:\n",
    "        unique_rest_matches_chi.append(x)\n",
    "len(unique_rest_matches_chi)"
   ]
  },
  {
   "cell_type": "code",
   "execution_count": 102,
   "metadata": {
    "ExecuteTime": {
     "end_time": "2020-08-12T19:29:06.329849Z",
     "start_time": "2020-08-12T19:29:06.324559Z"
    }
   },
   "outputs": [
    {
     "data": {
      "text/plain": [
       "[['los comales'],\n",
       " ['la amistad inc.', 'la amistad'],\n",
       " ['las palmas'],\n",
       " ['la fuente'],\n",
       " ['clark el ranchito corp', 'el ranchito']]"
      ]
     },
     "execution_count": 102,
     "metadata": {},
     "output_type": "execute_result"
    }
   ],
   "source": [
    "unique_rest_matches_chi[0:5]"
   ]
  },
  {
   "cell_type": "markdown",
   "metadata": {},
   "source": [
    "### Getting Regions for Matches"
   ]
  },
  {
   "cell_type": "code",
   "execution_count": 103,
   "metadata": {
    "ExecuteTime": {
     "end_time": "2020-08-12T19:29:07.627109Z",
     "start_time": "2020-08-12T19:29:07.623393Z"
    }
   },
   "outputs": [],
   "source": [
    "# using the DBA Name as the key\n",
    "restaurant_matches_chi = {key[0]: None for key in unique_rest_matches_chi}"
   ]
  },
  {
   "cell_type": "code",
   "execution_count": 106,
   "metadata": {
    "ExecuteTime": {
     "end_time": "2020-08-12T19:29:18.263831Z",
     "start_time": "2020-08-12T19:29:18.138461Z"
    }
   },
   "outputs": [
    {
     "data": {
      "text/plain": [
       "41"
      ]
     },
     "execution_count": 106,
     "metadata": {},
     "output_type": "execute_result"
    }
   ],
   "source": [
    "for key, value in restaurant_matches_chi.items():\n",
    "    split_item = key.split()\n",
    "    for word in split_item:\n",
    "        for key1, value1 in demonym_dictionary.items():\n",
    "            for city in value1:\n",
    "                if word == city:\n",
    "                    value_info = [key1, city]\n",
    "                    restaurant_matches_chi[key] = value_info\n",
    "len(restaurant_matches_chi)"
   ]
  },
  {
   "cell_type": "code",
   "execution_count": 107,
   "metadata": {
    "ExecuteTime": {
     "end_time": "2020-08-12T19:29:21.192788Z",
     "start_time": "2020-08-12T19:29:21.173625Z"
    }
   },
   "outputs": [],
   "source": [
    "for key, value in restaurant_matches_chi.items():\n",
    "    if value == None:\n",
    "        for x in unique_rest_matches_chi:\n",
    "            if x[0] == key:\n",
    "                if len(x) > 1:\n",
    "                    split_item = [x.split() for x in x[1:]]\n",
    "                    for word in split_item:\n",
    "                        for key1, value1 in demonym_dictionary.items():\n",
    "                            for city in value1:\n",
    "                                if word == city:\n",
    "                                    value_info = [key1, city]\n",
    "                                    nyc_mex_rest_w_region[key] = value_info"
   ]
  },
  {
   "cell_type": "code",
   "execution_count": 108,
   "metadata": {
    "ExecuteTime": {
     "end_time": "2020-08-12T19:29:21.704674Z",
     "start_time": "2020-08-12T19:29:21.700652Z"
    }
   },
   "outputs": [
    {
     "data": {
      "text/plain": [
       "20"
      ]
     },
     "execution_count": 108,
     "metadata": {},
     "output_type": "execute_result"
    }
   ],
   "source": [
    "# not sure why some still equal None....\n",
    "none_counter = 0\n",
    "for key, value in restaurant_matches_chi.items():\n",
    "    if value == None:\n",
    "        none_counter += 1\n",
    "none_counter"
   ]
  },
  {
   "cell_type": "code",
   "execution_count": 109,
   "metadata": {
    "ExecuteTime": {
     "end_time": "2020-08-12T19:29:22.566553Z",
     "start_time": "2020-08-12T19:29:22.561746Z"
    }
   },
   "outputs": [
    {
     "data": {
      "text/plain": [
       "21"
      ]
     },
     "execution_count": 109,
     "metadata": {},
     "output_type": "execute_result"
    }
   ],
   "source": [
    "# only 26 are genuine matches\n",
    "len(restaurant_matches_chi) - none_counter"
   ]
  },
  {
   "cell_type": "code",
   "execution_count": 110,
   "metadata": {
    "ExecuteTime": {
     "end_time": "2020-08-12T19:29:24.808646Z",
     "start_time": "2020-08-12T19:29:24.804365Z"
    }
   },
   "outputs": [],
   "source": [
    "# matching words\n",
    "matching_words_list = []\n",
    "for key, value in restaurant_matches_chi.items():\n",
    "    if value != None:\n",
    "        matching_words_list.append(value[1])"
   ]
  },
  {
   "cell_type": "markdown",
   "metadata": {},
   "source": [
    "#### Removing values with a value of None"
   ]
  },
  {
   "cell_type": "code",
   "execution_count": 111,
   "metadata": {
    "ExecuteTime": {
     "end_time": "2020-08-12T19:29:28.138652Z",
     "start_time": "2020-08-12T19:29:28.134472Z"
    }
   },
   "outputs": [],
   "source": [
    "bad_keys_chi = []\n",
    "for key, value in restaurant_matches_chi.items():\n",
    "    if value == None:\n",
    "        bad_keys_chi.append(key)"
   ]
  },
  {
   "cell_type": "markdown",
   "metadata": {},
   "source": [
    "#### Removing values that passed the filter incorrectly"
   ]
  },
  {
   "cell_type": "code",
   "execution_count": 112,
   "metadata": {
    "ExecuteTime": {
     "end_time": "2020-08-12T19:29:44.092694Z",
     "start_time": "2020-08-12T19:29:44.088299Z"
    }
   },
   "outputs": [],
   "source": [
    "for key, value in restaurant_matches_chi.items():\n",
    "    if value != None:\n",
    "        if value[1] in bad_matches:\n",
    "            bad_keys_chi.append(key)"
   ]
  },
  {
   "cell_type": "code",
   "execution_count": 113,
   "metadata": {
    "ExecuteTime": {
     "end_time": "2020-08-12T19:29:45.860422Z",
     "start_time": "2020-08-12T19:29:45.856444Z"
    }
   },
   "outputs": [],
   "source": [
    "# removing bad keys\n",
    "for x in bad_keys_chi:\n",
    "    if restaurant_matches_chi.get(x) != None:\n",
    "        del restaurant_matches_chi[x]\n",
    "    elif restaurant_matches_chi.get(x) == None:\n",
    "        del restaurant_matches_chi[x]"
   ]
  },
  {
   "cell_type": "code",
   "execution_count": 114,
   "metadata": {
    "ExecuteTime": {
     "end_time": "2020-08-12T19:29:46.350472Z",
     "start_time": "2020-08-12T19:29:46.346456Z"
    }
   },
   "outputs": [
    {
     "data": {
      "text/plain": [
       "6"
      ]
     },
     "execution_count": 114,
     "metadata": {},
     "output_type": "execute_result"
    }
   ],
   "source": [
    "len(restaurant_matches_chi.keys())"
   ]
  },
  {
   "cell_type": "code",
   "execution_count": 115,
   "metadata": {
    "ExecuteTime": {
     "end_time": "2020-08-12T19:29:47.063045Z",
     "start_time": "2020-08-12T19:29:47.057817Z"
    }
   },
   "outputs": [
    {
     "data": {
      "text/plain": [
       "{'chilango': ['Ciudad de Mexico', 'chilango'],\n",
       " 'los alamos': ['Tabasco', 'alamos'],\n",
       " 'tecalitlan': ['Baja California', 'tecalitlan'],\n",
       " 'ocotlan': ['Puebla', 'ocotlan'],\n",
       " 'uruapan': ['Guerrero', 'uruapan'],\n",
       " 'teloloapan': ['Guerrero', 'teloloapan']}"
      ]
     },
     "execution_count": 115,
     "metadata": {},
     "output_type": "execute_result"
    }
   ],
   "source": [
    "restaurant_matches_chi"
   ]
  },
  {
   "cell_type": "markdown",
   "metadata": {},
   "source": [
    "#### Correcting some errors in regions"
   ]
  },
  {
   "cell_type": "code",
   "execution_count": 116,
   "metadata": {
    "ExecuteTime": {
     "end_time": "2020-08-12T19:29:53.824392Z",
     "start_time": "2020-08-12T19:29:53.820802Z"
    }
   },
   "outputs": [],
   "source": [
    "restaurant_matches_chi['ocotlan'][0] = 'Jalisco'"
   ]
  },
  {
   "cell_type": "code",
   "execution_count": 117,
   "metadata": {
    "ExecuteTime": {
     "end_time": "2020-08-12T19:29:56.785126Z",
     "start_time": "2020-08-12T19:29:56.781390Z"
    }
   },
   "outputs": [],
   "source": [
    "restaurant_matches_chi['tecalitlan'][0] = \"Jalisco\""
   ]
  },
  {
   "cell_type": "code",
   "execution_count": 118,
   "metadata": {
    "ExecuteTime": {
     "end_time": "2020-08-12T19:29:58.037190Z",
     "start_time": "2020-08-12T19:29:58.033640Z"
    }
   },
   "outputs": [],
   "source": [
    "restaurant_matches_chi['uruapan'][0] = \"Michoacan\""
   ]
  },
  {
   "cell_type": "code",
   "execution_count": 119,
   "metadata": {
    "ExecuteTime": {
     "end_time": "2020-08-12T19:30:00.860090Z",
     "start_time": "2020-08-12T19:30:00.854652Z"
    },
    "scrolled": true
   },
   "outputs": [
    {
     "data": {
      "text/plain": [
       "{'chilango': ['Ciudad de Mexico', 'chilango'],\n",
       " 'los alamos': ['Tabasco', 'alamos'],\n",
       " 'tecalitlan': ['Jalisco', 'tecalitlan'],\n",
       " 'ocotlan': ['Jalisco', 'ocotlan'],\n",
       " 'uruapan': ['Michoacan', 'uruapan'],\n",
       " 'teloloapan': ['Guerrero', 'teloloapan']}"
      ]
     },
     "execution_count": 119,
     "metadata": {},
     "output_type": "execute_result"
    }
   ],
   "source": [
    "restaurant_matches_chi"
   ]
  },
  {
   "cell_type": "markdown",
   "metadata": {},
   "source": [
    "### Getting regions count"
   ]
  },
  {
   "cell_type": "code",
   "execution_count": 120,
   "metadata": {
    "ExecuteTime": {
     "end_time": "2020-08-12T19:30:09.800195Z",
     "start_time": "2020-08-12T19:30:09.795865Z"
    }
   },
   "outputs": [],
   "source": [
    "regions_represented_chi = []\n",
    "for key, value in restaurant_matches_chi.items():\n",
    "    if value[0] not in regions_represented_chi:\n",
    "        regions_represented_chi.append(value[0])"
   ]
  },
  {
   "cell_type": "code",
   "execution_count": 121,
   "metadata": {
    "ExecuteTime": {
     "end_time": "2020-08-12T19:30:10.345201Z",
     "start_time": "2020-08-12T19:30:10.341358Z"
    }
   },
   "outputs": [
    {
     "data": {
      "text/plain": [
       "['Ciudad de Mexico', 'Tabasco', 'Jalisco']"
      ]
     },
     "execution_count": 121,
     "metadata": {},
     "output_type": "execute_result"
    }
   ],
   "source": [
    "regions_represented_chi[0:3]"
   ]
  },
  {
   "cell_type": "code",
   "execution_count": 122,
   "metadata": {
    "ExecuteTime": {
     "end_time": "2020-08-12T19:30:10.858934Z",
     "start_time": "2020-08-12T19:30:10.856394Z"
    }
   },
   "outputs": [],
   "source": [
    "# getting the count of values\n",
    "region_dict_chi = {key: 0 for key in regions_represented_chi}"
   ]
  },
  {
   "cell_type": "code",
   "execution_count": 123,
   "metadata": {
    "ExecuteTime": {
     "end_time": "2020-08-12T19:30:12.402767Z",
     "start_time": "2020-08-12T19:30:12.399312Z"
    }
   },
   "outputs": [],
   "source": [
    "for key, value in restaurant_matches_chi.items():\n",
    "    if value[0] in region_dict_chi.keys():\n",
    "        region_dict_chi[value[0]] += 1"
   ]
  },
  {
   "cell_type": "code",
   "execution_count": 124,
   "metadata": {
    "ExecuteTime": {
     "end_time": "2020-08-12T19:30:12.928564Z",
     "start_time": "2020-08-12T19:30:12.924395Z"
    }
   },
   "outputs": [
    {
     "data": {
      "text/plain": [
       "{'Ciudad de Mexico': 1,\n",
       " 'Tabasco': 1,\n",
       " 'Jalisco': 2,\n",
       " 'Michoacan': 1,\n",
       " 'Guerrero': 1}"
      ]
     },
     "execution_count": 124,
     "metadata": {},
     "output_type": "execute_result"
    }
   ],
   "source": [
    "region_dict_chi"
   ]
  },
  {
   "cell_type": "code",
   "execution_count": 125,
   "metadata": {
    "ExecuteTime": {
     "end_time": "2020-08-12T19:30:17.933690Z",
     "start_time": "2020-08-12T19:30:17.930199Z"
    }
   },
   "outputs": [],
   "source": [
    "chicago_regions_represented = []\n",
    "for key, value in region_dict_chi.items():\n",
    "    item = [key, round(value/7, 2)]\n",
    "    chicago_regions_represented.append(item)"
   ]
  },
  {
   "cell_type": "code",
   "execution_count": 126,
   "metadata": {
    "ExecuteTime": {
     "end_time": "2020-08-12T19:30:18.759664Z",
     "start_time": "2020-08-12T19:30:18.754323Z"
    }
   },
   "outputs": [
    {
     "data": {
      "text/plain": [
       "[['Ciudad de Mexico', 0.14],\n",
       " ['Tabasco', 0.14],\n",
       " ['Jalisco', 0.29],\n",
       " ['Michoacan', 0.14],\n",
       " ['Guerrero', 0.14]]"
      ]
     },
     "execution_count": 126,
     "metadata": {},
     "output_type": "execute_result"
    }
   ],
   "source": [
    "chicago_regions_represented"
   ]
  },
  {
   "cell_type": "markdown",
   "metadata": {},
   "source": [
    "#### Making pct as a dict"
   ]
  },
  {
   "cell_type": "code",
   "execution_count": 127,
   "metadata": {
    "ExecuteTime": {
     "end_time": "2020-08-12T19:30:29.248090Z",
     "start_time": "2020-08-12T19:30:29.244678Z"
    }
   },
   "outputs": [],
   "source": [
    "chicago_regions_pct = {value[0]:value[1] for value in chicago_regions_represented}"
   ]
  },
  {
   "cell_type": "markdown",
   "metadata": {},
   "source": [
    "### Getting Values that matches"
   ]
  },
  {
   "cell_type": "code",
   "execution_count": 129,
   "metadata": {
    "ExecuteTime": {
     "end_time": "2020-08-12T19:30:41.859153Z",
     "start_time": "2020-08-12T19:30:41.855749Z"
    }
   },
   "outputs": [],
   "source": [
    "chi_values = {value[1]:0 for key, value in restaurant_matches_chi.items()}"
   ]
  },
  {
   "cell_type": "code",
   "execution_count": 130,
   "metadata": {
    "ExecuteTime": {
     "end_time": "2020-08-12T19:30:42.334775Z",
     "start_time": "2020-08-12T19:30:42.331694Z"
    }
   },
   "outputs": [],
   "source": [
    "for key, value in restaurant_matches_chi.items():\n",
    "    if value[1] in chi_values.keys():\n",
    "        chi_values[value[1]] += 1"
   ]
  },
  {
   "cell_type": "code",
   "execution_count": 131,
   "metadata": {
    "ExecuteTime": {
     "end_time": "2020-08-12T19:30:42.875958Z",
     "start_time": "2020-08-12T19:30:42.871871Z"
    }
   },
   "outputs": [
    {
     "name": "stdout",
     "output_type": "stream",
     "text": [
      "chilango 1\n",
      "alamos 1\n",
      "tecalitlan 1\n",
      "ocotlan 1\n",
      "uruapan 1\n"
     ]
    }
   ],
   "source": [
    "# https://careerkarma.com/blog/python-sort-a-dictionary-by-value/\n",
    "sort_values_chi = sorted(chi_values.items(), key=lambda x: x[1], reverse=True)\n",
    "for i in sort_values_chi[0:5]:\n",
    "    print(i[0], i[1])"
   ]
  },
  {
   "cell_type": "markdown",
   "metadata": {},
   "source": [
    "## Dallas"
   ]
  },
  {
   "cell_type": "code",
   "execution_count": 153,
   "metadata": {
    "ExecuteTime": {
     "end_time": "2020-08-13T15:27:06.178172Z",
     "start_time": "2020-08-13T15:27:05.013781Z"
    }
   },
   "outputs": [
    {
     "data": {
      "text/plain": [
       "(45844, 114)"
      ]
     },
     "execution_count": 153,
     "metadata": {},
     "output_type": "execute_result"
    }
   ],
   "source": [
    "dallas_data = pd.read_csv(\"./food_inspections_data/Dallas_inspections_October_2016_to_Present_.csv\")\n",
    "dallas_data.shape"
   ]
  },
  {
   "cell_type": "code",
   "execution_count": 154,
   "metadata": {
    "ExecuteTime": {
     "end_time": "2020-08-13T15:27:06.592047Z",
     "start_time": "2020-08-13T15:27:06.587589Z"
    }
   },
   "outputs": [
    {
     "data": {
      "text/plain": [
       "Index(['Restaurant Name', 'Inspection Type', 'Inspection Date',\n",
       "       'Inspection Score', 'Street Number', 'Street Name', 'Street Direction',\n",
       "       'Street Type', 'Street Unit', 'Street Address',\n",
       "       ...\n",
       "       'Violation Points - 24', 'Violation Detail - 24', 'Violation Memo - 24',\n",
       "       'Violation Description - 25', 'Violation Points - 25',\n",
       "       'Violation Detail - 25', 'Violation Memo - 25', 'Inspection Month',\n",
       "       'Inspection Year', 'Lat Long Location'],\n",
       "      dtype='object', length=114)"
      ]
     },
     "execution_count": 154,
     "metadata": {},
     "output_type": "execute_result"
    }
   ],
   "source": [
    "dallas_data.columns"
   ]
  },
  {
   "cell_type": "markdown",
   "metadata": {},
   "source": [
    "### Only unique dallas restaurants"
   ]
  },
  {
   "cell_type": "code",
   "execution_count": 155,
   "metadata": {
    "ExecuteTime": {
     "end_time": "2020-08-13T15:27:07.037981Z",
     "start_time": "2020-08-13T15:27:07.014605Z"
    }
   },
   "outputs": [],
   "source": [
    "unique_dallas_data = dallas_data.drop_duplicates(subset=['Restaurant Name'], keep='first')"
   ]
  },
  {
   "cell_type": "code",
   "execution_count": 156,
   "metadata": {
    "ExecuteTime": {
     "end_time": "2020-08-13T15:27:07.486649Z",
     "start_time": "2020-08-13T15:27:07.482667Z"
    }
   },
   "outputs": [
    {
     "data": {
      "text/plain": [
       "(7474, 114)"
      ]
     },
     "execution_count": 156,
     "metadata": {},
     "output_type": "execute_result"
    }
   ],
   "source": [
    "unique_dallas_data.shape"
   ]
  },
  {
   "cell_type": "code",
   "execution_count": 157,
   "metadata": {
    "ExecuteTime": {
     "end_time": "2020-08-13T15:27:07.929466Z",
     "start_time": "2020-08-13T15:27:07.925446Z"
    }
   },
   "outputs": [
    {
     "data": {
      "text/plain": [
       "0.16303114911438793"
      ]
     },
     "execution_count": 157,
     "metadata": {},
     "output_type": "execute_result"
    }
   ],
   "source": [
    "# about an 84% reduction in size of df\n",
    "unique_dallas_data.shape[0] / dallas_data.shape[0]"
   ]
  },
  {
   "cell_type": "markdown",
   "metadata": {},
   "source": [
    "### Removing columns from data"
   ]
  },
  {
   "cell_type": "code",
   "execution_count": 158,
   "metadata": {
    "ExecuteTime": {
     "end_time": "2020-08-13T15:27:08.362400Z",
     "start_time": "2020-08-13T15:27:08.359782Z"
    }
   },
   "outputs": [],
   "source": [
    "# most of the columns relate to inspections\n",
    "col_names = list(unique_dallas_data.columns)"
   ]
  },
  {
   "cell_type": "code",
   "execution_count": 159,
   "metadata": {
    "ExecuteTime": {
     "end_time": "2020-08-13T15:27:08.793191Z",
     "start_time": "2020-08-13T15:27:08.789069Z"
    }
   },
   "outputs": [
    {
     "data": {
      "text/plain": [
       "['Restaurant Name',\n",
       " 'Inspection Type',\n",
       " 'Inspection Date',\n",
       " 'Inspection Score',\n",
       " 'Street Number',\n",
       " 'Street Name',\n",
       " 'Street Direction',\n",
       " 'Street Type',\n",
       " 'Street Unit',\n",
       " 'Street Address',\n",
       " 'Zip Code']"
      ]
     },
     "execution_count": 159,
     "metadata": {},
     "output_type": "execute_result"
    }
   ],
   "source": [
    "col_names[0:11]"
   ]
  },
  {
   "cell_type": "code",
   "execution_count": 160,
   "metadata": {
    "ExecuteTime": {
     "end_time": "2020-08-13T15:27:09.213066Z",
     "start_time": "2020-08-13T15:27:09.204293Z"
    }
   },
   "outputs": [],
   "source": [
    "col_names[-3:]\n",
    "unique_dallas_data.drop(columns = [x for x in col_names[11:-4]], inplace=True)"
   ]
  },
  {
   "cell_type": "code",
   "execution_count": 161,
   "metadata": {
    "ExecuteTime": {
     "end_time": "2020-08-13T15:27:09.651413Z",
     "start_time": "2020-08-13T15:27:09.636771Z"
    }
   },
   "outputs": [
    {
     "data": {
      "text/html": [
       "<div>\n",
       "<style scoped>\n",
       "    .dataframe tbody tr th:only-of-type {\n",
       "        vertical-align: middle;\n",
       "    }\n",
       "\n",
       "    .dataframe tbody tr th {\n",
       "        vertical-align: top;\n",
       "    }\n",
       "\n",
       "    .dataframe thead th {\n",
       "        text-align: right;\n",
       "    }\n",
       "</style>\n",
       "<table border=\"1\" class=\"dataframe\">\n",
       "  <thead>\n",
       "    <tr style=\"text-align: right;\">\n",
       "      <th></th>\n",
       "      <th>Restaurant Name</th>\n",
       "      <th>Inspection Type</th>\n",
       "      <th>Inspection Date</th>\n",
       "      <th>Inspection Score</th>\n",
       "      <th>Street Number</th>\n",
       "      <th>Street Name</th>\n",
       "      <th>Street Direction</th>\n",
       "      <th>Street Type</th>\n",
       "      <th>Street Unit</th>\n",
       "      <th>Street Address</th>\n",
       "      <th>Zip Code</th>\n",
       "      <th>Violation Memo - 25</th>\n",
       "      <th>Inspection Month</th>\n",
       "      <th>Inspection Year</th>\n",
       "      <th>Lat Long Location</th>\n",
       "    </tr>\n",
       "  </thead>\n",
       "  <tbody>\n",
       "    <tr>\n",
       "      <th>0</th>\n",
       "      <td>FRESHII</td>\n",
       "      <td>Routine</td>\n",
       "      <td>10/31/2018</td>\n",
       "      <td>96</td>\n",
       "      <td>2414</td>\n",
       "      <td>VICTORY PARK</td>\n",
       "      <td>NaN</td>\n",
       "      <td>LN</td>\n",
       "      <td>NaN</td>\n",
       "      <td>2414 VICTORY PARK LN</td>\n",
       "      <td>75219</td>\n",
       "      <td>NaN</td>\n",
       "      <td>Oct 2018</td>\n",
       "      <td>FY2019</td>\n",
       "      <td>2414 VICTORY PARK LN\\n(32.787625, -96.809294)</td>\n",
       "    </tr>\n",
       "    <tr>\n",
       "      <th>1</th>\n",
       "      <td>MICKLE CHICKEN</td>\n",
       "      <td>Routine</td>\n",
       "      <td>10/30/2019</td>\n",
       "      <td>100</td>\n",
       "      <td>3203</td>\n",
       "      <td>CAMP WISDOM</td>\n",
       "      <td>W</td>\n",
       "      <td>RD</td>\n",
       "      <td>NaN</td>\n",
       "      <td>3203 W CAMP WISDOM RD</td>\n",
       "      <td>75237</td>\n",
       "      <td>NaN</td>\n",
       "      <td>Oct 2019</td>\n",
       "      <td>FY2020</td>\n",
       "      <td>3203 W CAMP WISDOM RD\\n(32.662584, -96.873446)</td>\n",
       "    </tr>\n",
       "  </tbody>\n",
       "</table>\n",
       "</div>"
      ],
      "text/plain": [
       "  Restaurant Name Inspection Type Inspection Date  Inspection Score  \\\n",
       "0         FRESHII         Routine      10/31/2018                96   \n",
       "1  MICKLE CHICKEN         Routine      10/30/2019               100   \n",
       "\n",
       "   Street Number   Street Name Street Direction Street Type Street Unit  \\\n",
       "0           2414  VICTORY PARK              NaN          LN         NaN   \n",
       "1           3203   CAMP WISDOM                W          RD         NaN   \n",
       "\n",
       "          Street Address Zip Code Violation Memo - 25 Inspection Month  \\\n",
       "0   2414 VICTORY PARK LN    75219                 NaN         Oct 2018   \n",
       "1  3203 W CAMP WISDOM RD    75237                 NaN         Oct 2019   \n",
       "\n",
       "  Inspection Year                               Lat Long Location  \n",
       "0          FY2019   2414 VICTORY PARK LN\\n(32.787625, -96.809294)  \n",
       "1          FY2020  3203 W CAMP WISDOM RD\\n(32.662584, -96.873446)  "
      ]
     },
     "execution_count": 161,
     "metadata": {},
     "output_type": "execute_result"
    }
   ],
   "source": [
    "unique_dallas_data.head(2)"
   ]
  },
  {
   "cell_type": "markdown",
   "metadata": {},
   "source": [
    "### Getting matches to dem dict"
   ]
  },
  {
   "cell_type": "code",
   "execution_count": 162,
   "metadata": {
    "ExecuteTime": {
     "end_time": "2020-08-13T15:27:09.666104Z",
     "start_time": "2020-08-13T15:27:09.656072Z"
    }
   },
   "outputs": [],
   "source": [
    "# using the DBA Name as the key\n",
    "restaurant_matches_dal = {key.lower(): None for key in unique_dallas_data['Restaurant Name'] if type(key) == str}"
   ]
  },
  {
   "cell_type": "code",
   "execution_count": 163,
   "metadata": {
    "ExecuteTime": {
     "end_time": "2020-08-13T15:28:10.312536Z",
     "start_time": "2020-08-13T15:27:09.668212Z"
    }
   },
   "outputs": [],
   "source": [
    "for key, value in restaurant_matches_dal.items():\n",
    "    if type(key) == str:\n",
    "        split_item = key.split()\n",
    "        for word in split_item:\n",
    "            for key1, value1 in demonym_dictionary.items():\n",
    "                for city in value1:\n",
    "                    if word.lower() == city:\n",
    "                        value_info = [key1, city]\n",
    "                        restaurant_matches_dal[key] = value_info"
   ]
  },
  {
   "cell_type": "code",
   "execution_count": 164,
   "metadata": {
    "ExecuteTime": {
     "end_time": "2020-08-13T15:28:11.489985Z",
     "start_time": "2020-08-13T15:28:11.482943Z"
    }
   },
   "outputs": [
    {
     "data": {
      "text/plain": [
       "7084"
      ]
     },
     "execution_count": 164,
     "metadata": {},
     "output_type": "execute_result"
    }
   ],
   "source": [
    "bad_keys_dal = []\n",
    "for key, value in restaurant_matches_dal.items():\n",
    "    if value == None:\n",
    "        bad_keys_dal.append(key)\n",
    "len(bad_keys_dal)"
   ]
  },
  {
   "cell_type": "code",
   "execution_count": 165,
   "metadata": {
    "ExecuteTime": {
     "end_time": "2020-08-13T15:28:11.886450Z",
     "start_time": "2020-08-13T15:28:11.882407Z"
    },
    "scrolled": false
   },
   "outputs": [
    {
     "data": {
      "text/plain": [
       "7472"
      ]
     },
     "execution_count": 165,
     "metadata": {},
     "output_type": "execute_result"
    }
   ],
   "source": [
    "len(restaurant_matches_dal)"
   ]
  },
  {
   "cell_type": "code",
   "execution_count": 166,
   "metadata": {
    "ExecuteTime": {
     "end_time": "2020-08-13T15:28:12.298302Z",
     "start_time": "2020-08-13T15:28:12.290772Z"
    }
   },
   "outputs": [
    {
     "data": {
      "text/plain": [
       "[('freshii', None),\n",
       " ('mickle chicken', None),\n",
       " ('world trade center market', None)]"
      ]
     },
     "execution_count": 166,
     "metadata": {},
     "output_type": "execute_result"
    }
   ],
   "source": [
    "list(restaurant_matches_dal.items())[0:3]"
   ]
  },
  {
   "cell_type": "markdown",
   "metadata": {},
   "source": [
    "### Removing restaurants with no matches"
   ]
  },
  {
   "cell_type": "code",
   "execution_count": 167,
   "metadata": {
    "ExecuteTime": {
     "end_time": "2020-08-13T15:28:12.705900Z",
     "start_time": "2020-08-13T15:28:12.697418Z"
    }
   },
   "outputs": [
    {
     "data": {
      "text/plain": [
       "388"
      ]
     },
     "execution_count": 167,
     "metadata": {},
     "output_type": "execute_result"
    }
   ],
   "source": [
    "for x in bad_keys_dal:\n",
    "    if restaurant_matches_dal.get(x) != None:\n",
    "        del restaurant_matches_dal[x]\n",
    "    elif restaurant_matches_dal.get(x) == None:\n",
    "        del restaurant_matches_dal[x]\n",
    "len(list(restaurant_matches_dal.items()))"
   ]
  },
  {
   "cell_type": "markdown",
   "metadata": {},
   "source": [
    "### Removing Bad Matches"
   ]
  },
  {
   "cell_type": "code",
   "execution_count": 168,
   "metadata": {
    "ExecuteTime": {
     "end_time": "2020-08-13T15:28:13.110776Z",
     "start_time": "2020-08-13T15:28:13.107041Z"
    }
   },
   "outputs": [],
   "source": [
    "bad_keys_dal2 = []\n",
    "for key, value in restaurant_matches_dal.items():\n",
    "    if value != None:\n",
    "        if value[1] in bad_matches:\n",
    "            bad_keys_dal2.append(key)"
   ]
  },
  {
   "cell_type": "code",
   "execution_count": 169,
   "metadata": {
    "ExecuteTime": {
     "end_time": "2020-08-13T15:28:13.510836Z",
     "start_time": "2020-08-13T15:28:13.506090Z"
    }
   },
   "outputs": [
    {
     "data": {
      "text/plain": [
       "140"
      ]
     },
     "execution_count": 169,
     "metadata": {},
     "output_type": "execute_result"
    }
   ],
   "source": [
    "# removing bad keys\n",
    "for x in bad_keys_dal2:\n",
    "    if restaurant_matches_dal.get(x) != None:\n",
    "        del restaurant_matches_dal[x]\n",
    "    elif restaurant_matches_dal.get(x) == None:\n",
    "        del restaurant_matches_dal[x]\n",
    "len(restaurant_matches_dal)"
   ]
  },
  {
   "cell_type": "markdown",
   "metadata": {},
   "source": [
    "### Getting the number of restaurants for each region"
   ]
  },
  {
   "cell_type": "code",
   "execution_count": 170,
   "metadata": {
    "ExecuteTime": {
     "end_time": "2020-08-13T15:28:13.911900Z",
     "start_time": "2020-08-13T15:28:13.908034Z"
    }
   },
   "outputs": [],
   "source": [
    "regions_represented_dal = []\n",
    "for key, value in restaurant_matches_dal.items():\n",
    "    if value[0] not in regions_represented_dal:\n",
    "        regions_represented_dal.append(value[0])"
   ]
  },
  {
   "cell_type": "code",
   "execution_count": 171,
   "metadata": {
    "ExecuteTime": {
     "end_time": "2020-08-13T15:28:14.326828Z",
     "start_time": "2020-08-13T15:28:14.322534Z"
    }
   },
   "outputs": [
    {
     "data": {
      "text/plain": [
       "['Michoacan de Ocampo', 'Tamaulipas', 'Chihuahua', 'Guerrero']"
      ]
     },
     "execution_count": 171,
     "metadata": {},
     "output_type": "execute_result"
    }
   ],
   "source": [
    "# getting the count of values\n",
    "region_dict_dal = {key: 0 for key in regions_represented_dal}\n",
    "regions_represented_dal[0:4]"
   ]
  },
  {
   "cell_type": "code",
   "execution_count": 172,
   "metadata": {
    "ExecuteTime": {
     "end_time": "2020-08-13T15:28:14.744857Z",
     "start_time": "2020-08-13T15:28:14.739535Z"
    }
   },
   "outputs": [
    {
     "data": {
      "text/plain": [
       "{'Michoacan de Ocampo': 30,\n",
       " 'Tamaulipas': 2,\n",
       " 'Chihuahua': 2,\n",
       " 'Guerrero': 10,\n",
       " 'Nayarit': 1,\n",
       " 'Durango': 2,\n",
       " 'Oaxaca': 2,\n",
       " 'Veracruz': 12,\n",
       " 'Nuevo Leon': 5,\n",
       " 'Puebla': 1,\n",
       " 'Yucatan': 6,\n",
       " 'Campeche': 14,\n",
       " 'Jalisco': 6,\n",
       " 'Guanajuato': 2,\n",
       " 'Morelos': 4,\n",
       " 'Baja California Sur': 3,\n",
       " 'Mexico': 7,\n",
       " 'Quintana Roo': 1,\n",
       " 'Hidalgo': 8,\n",
       " 'Baja California': 3,\n",
       " 'San Luis Potosi': 3,\n",
       " 'Tabasco': 5,\n",
       " 'Zacatecas': 1,\n",
       " 'Tlaxcala': 1,\n",
       " 'Sinaloa': 3,\n",
       " 'Ciudad de Mexico': 2,\n",
       " 'Chiapas': 3,\n",
       " 'Sonora': 1}"
      ]
     },
     "execution_count": 172,
     "metadata": {},
     "output_type": "execute_result"
    }
   ],
   "source": [
    "for key, value in restaurant_matches_dal.items():\n",
    "    if value[0] in region_dict_dal.keys():\n",
    "        region_dict_dal[value[0]] += 1\n",
    "region_dict_dal"
   ]
  },
  {
   "cell_type": "markdown",
   "metadata": {},
   "source": [
    "### Getting Counts as percentages"
   ]
  },
  {
   "cell_type": "code",
   "execution_count": 173,
   "metadata": {
    "ExecuteTime": {
     "end_time": "2020-08-13T15:28:15.160442Z",
     "start_time": "2020-08-13T15:28:15.157302Z"
    }
   },
   "outputs": [],
   "source": [
    "region_dict_dal_pct = {key:round(value/len(restaurant_matches_dal), 2) \n",
    "                       for key, value in region_dict_dal.items()}"
   ]
  },
  {
   "cell_type": "markdown",
   "metadata": {},
   "source": [
    "### Getting Values that matches"
   ]
  },
  {
   "cell_type": "code",
   "execution_count": 174,
   "metadata": {
    "ExecuteTime": {
     "end_time": "2020-08-13T15:28:15.560052Z",
     "start_time": "2020-08-13T15:28:15.556576Z"
    }
   },
   "outputs": [],
   "source": [
    "dal_values = {value[1]:0 for key, value in restaurant_matches_dal.items()}"
   ]
  },
  {
   "cell_type": "code",
   "execution_count": 175,
   "metadata": {
    "ExecuteTime": {
     "end_time": "2020-08-13T15:28:15.957941Z",
     "start_time": "2020-08-13T15:28:15.954635Z"
    }
   },
   "outputs": [],
   "source": [
    "for key, value in restaurant_matches_dal.items():\n",
    "    if value[1] in dal_values.keys():\n",
    "        dal_values[value[1]] += 1"
   ]
  },
  {
   "cell_type": "code",
   "execution_count": 176,
   "metadata": {
    "ExecuteTime": {
     "end_time": "2020-08-13T15:28:16.373926Z",
     "start_time": "2020-08-13T15:28:16.369705Z"
    },
    "scrolled": false
   },
   "outputs": [
    {
     "name": "stdout",
     "output_type": "stream",
     "text": [
      "michoacana 28\n",
      "monterrey 11\n",
      "regio 5\n",
      "jalisco 5\n",
      "rodeo 4\n"
     ]
    }
   ],
   "source": [
    "# https://careerkarma.com/blog/python-sort-a-dictionary-by-value/\n",
    "sort_values_dal = sorted(dal_values.items(), key=lambda x: x[1], reverse=True)\n",
    "for i in sort_values_dal[0:5]:\n",
    "    print(i[0], i[1])"
   ]
  },
  {
   "cell_type": "markdown",
   "metadata": {},
   "source": [
    "## San Francisco "
   ]
  },
  {
   "cell_type": "code",
   "execution_count": 180,
   "metadata": {
    "ExecuteTime": {
     "end_time": "2020-08-13T15:28:32.132270Z",
     "start_time": "2020-08-13T15:28:31.887512Z"
    }
   },
   "outputs": [
    {
     "data": {
      "text/plain": [
       "(53973, 23)"
      ]
     },
     "execution_count": 180,
     "metadata": {},
     "output_type": "execute_result"
    }
   ],
   "source": [
    "sf_data = pd.read_csv(\"./food_inspections_data/san_fran_Restaurant_Scores_-_LIVES_Standard.csv\")\n",
    "sf_data.shape"
   ]
  },
  {
   "cell_type": "code",
   "execution_count": 181,
   "metadata": {
    "ExecuteTime": {
     "end_time": "2020-08-13T15:28:32.593174Z",
     "start_time": "2020-08-13T15:28:32.571310Z"
    }
   },
   "outputs": [
    {
     "data": {
      "text/html": [
       "<div>\n",
       "<style scoped>\n",
       "    .dataframe tbody tr th:only-of-type {\n",
       "        vertical-align: middle;\n",
       "    }\n",
       "\n",
       "    .dataframe tbody tr th {\n",
       "        vertical-align: top;\n",
       "    }\n",
       "\n",
       "    .dataframe thead th {\n",
       "        text-align: right;\n",
       "    }\n",
       "</style>\n",
       "<table border=\"1\" class=\"dataframe\">\n",
       "  <thead>\n",
       "    <tr style=\"text-align: right;\">\n",
       "      <th></th>\n",
       "      <th>business_id</th>\n",
       "      <th>business_name</th>\n",
       "      <th>business_address</th>\n",
       "      <th>business_city</th>\n",
       "      <th>business_state</th>\n",
       "      <th>business_postal_code</th>\n",
       "      <th>business_latitude</th>\n",
       "      <th>business_longitude</th>\n",
       "      <th>business_location</th>\n",
       "      <th>business_phone_number</th>\n",
       "      <th>...</th>\n",
       "      <th>inspection_type</th>\n",
       "      <th>violation_id</th>\n",
       "      <th>violation_description</th>\n",
       "      <th>risk_category</th>\n",
       "      <th>Neighborhoods (old)</th>\n",
       "      <th>Police Districts</th>\n",
       "      <th>Supervisor Districts</th>\n",
       "      <th>Fire Prevention Districts</th>\n",
       "      <th>Zip Codes</th>\n",
       "      <th>Analysis Neighborhoods</th>\n",
       "    </tr>\n",
       "  </thead>\n",
       "  <tbody>\n",
       "    <tr>\n",
       "      <th>0</th>\n",
       "      <td>69618</td>\n",
       "      <td>Fancy Wheatfield Bakery</td>\n",
       "      <td>1362 Stockton St</td>\n",
       "      <td>San Francisco</td>\n",
       "      <td>CA</td>\n",
       "      <td>94133</td>\n",
       "      <td>NaN</td>\n",
       "      <td>NaN</td>\n",
       "      <td>NaN</td>\n",
       "      <td>NaN</td>\n",
       "      <td>...</td>\n",
       "      <td>Complaint</td>\n",
       "      <td>69618_20190304_103130</td>\n",
       "      <td>Inadequate sewage or wastewater disposal</td>\n",
       "      <td>Moderate Risk</td>\n",
       "      <td>NaN</td>\n",
       "      <td>NaN</td>\n",
       "      <td>NaN</td>\n",
       "      <td>NaN</td>\n",
       "      <td>NaN</td>\n",
       "      <td>NaN</td>\n",
       "    </tr>\n",
       "    <tr>\n",
       "      <th>1</th>\n",
       "      <td>97975</td>\n",
       "      <td>BREADBELLY</td>\n",
       "      <td>1408 Clement St</td>\n",
       "      <td>San Francisco</td>\n",
       "      <td>CA</td>\n",
       "      <td>94118</td>\n",
       "      <td>NaN</td>\n",
       "      <td>NaN</td>\n",
       "      <td>NaN</td>\n",
       "      <td>1.415724e+10</td>\n",
       "      <td>...</td>\n",
       "      <td>Routine - Unscheduled</td>\n",
       "      <td>97975_20190725_103124</td>\n",
       "      <td>Inadequately cleaned or sanitized food contact...</td>\n",
       "      <td>Moderate Risk</td>\n",
       "      <td>NaN</td>\n",
       "      <td>NaN</td>\n",
       "      <td>NaN</td>\n",
       "      <td>NaN</td>\n",
       "      <td>NaN</td>\n",
       "      <td>NaN</td>\n",
       "    </tr>\n",
       "  </tbody>\n",
       "</table>\n",
       "<p>2 rows × 23 columns</p>\n",
       "</div>"
      ],
      "text/plain": [
       "   business_id            business_name  business_address  business_city  \\\n",
       "0        69618  Fancy Wheatfield Bakery  1362 Stockton St  San Francisco   \n",
       "1        97975               BREADBELLY   1408 Clement St  San Francisco   \n",
       "\n",
       "  business_state business_postal_code  business_latitude  business_longitude  \\\n",
       "0             CA                94133                NaN                 NaN   \n",
       "1             CA                94118                NaN                 NaN   \n",
       "\n",
       "  business_location  business_phone_number  ...        inspection_type  \\\n",
       "0               NaN                    NaN  ...              Complaint   \n",
       "1               NaN           1.415724e+10  ...  Routine - Unscheduled   \n",
       "\n",
       "            violation_id                              violation_description  \\\n",
       "0  69618_20190304_103130           Inadequate sewage or wastewater disposal   \n",
       "1  97975_20190725_103124  Inadequately cleaned or sanitized food contact...   \n",
       "\n",
       "   risk_category Neighborhoods (old) Police Districts Supervisor Districts  \\\n",
       "0  Moderate Risk                 NaN              NaN                  NaN   \n",
       "1  Moderate Risk                 NaN              NaN                  NaN   \n",
       "\n",
       "   Fire Prevention Districts  Zip Codes  Analysis Neighborhoods  \n",
       "0                        NaN        NaN                     NaN  \n",
       "1                        NaN        NaN                     NaN  \n",
       "\n",
       "[2 rows x 23 columns]"
      ]
     },
     "execution_count": 181,
     "metadata": {},
     "output_type": "execute_result"
    }
   ],
   "source": [
    "sf_data.head(2)"
   ]
  },
  {
   "cell_type": "code",
   "execution_count": 182,
   "metadata": {
    "ExecuteTime": {
     "end_time": "2020-08-13T15:28:38.794875Z",
     "start_time": "2020-08-13T15:28:38.778006Z"
    }
   },
   "outputs": [
    {
     "data": {
      "text/plain": [
       "(5775, 23)"
      ]
     },
     "execution_count": 182,
     "metadata": {},
     "output_type": "execute_result"
    }
   ],
   "source": [
    "sf_data_unique = sf_data.drop_duplicates(subset=['business_name'], keep='first')\n",
    "sf_data_unique.shape"
   ]
  },
  {
   "cell_type": "code",
   "execution_count": 183,
   "metadata": {
    "ExecuteTime": {
     "end_time": "2020-08-13T15:28:47.231572Z",
     "start_time": "2020-08-13T15:28:47.207791Z"
    }
   },
   "outputs": [
    {
     "data": {
      "text/plain": [
       "5672"
      ]
     },
     "execution_count": 183,
     "metadata": {},
     "output_type": "execute_result"
    }
   ],
   "source": [
    "lower_biz_name = [x.lower() for x in sf_data['business_name']]\n",
    "# this is slightly smaller than the set of unique business names without lowering all of the characters (by 1000)\n",
    "len(set(lower_biz_name)) "
   ]
  },
  {
   "cell_type": "markdown",
   "metadata": {},
   "source": [
    "### Getting Names of Restaurants"
   ]
  },
  {
   "cell_type": "code",
   "execution_count": 184,
   "metadata": {
    "ExecuteTime": {
     "end_time": "2020-08-13T15:29:08.640196Z",
     "start_time": "2020-08-13T15:28:49.442269Z"
    }
   },
   "outputs": [],
   "source": [
    "rest_matches_sf = []\n",
    "for item in set(lower_biz_name):\n",
    "    split_item = item.split()\n",
    "    for word in split_item:\n",
    "        for key, value in demonym_dictionary.items():\n",
    "            for city in value:\n",
    "                if word == city:\n",
    "                    if word not in bad_matches: # if not, the number of results is tripled\n",
    "                        rest_matches_sf.append(item)"
   ]
  },
  {
   "cell_type": "code",
   "execution_count": 185,
   "metadata": {
    "ExecuteTime": {
     "end_time": "2020-08-13T15:29:09.106468Z",
     "start_time": "2020-08-13T15:29:09.102432Z"
    }
   },
   "outputs": [
    {
     "data": {
      "text/plain": [
       "46"
      ]
     },
     "execution_count": 185,
     "metadata": {},
     "output_type": "execute_result"
    }
   ],
   "source": [
    "unique_sf_matches = list(set(rest_matches_sf))\n",
    "len(unique_sf_matches)"
   ]
  },
  {
   "cell_type": "code",
   "execution_count": 186,
   "metadata": {
    "ExecuteTime": {
     "end_time": "2020-08-13T15:29:09.559822Z",
     "start_time": "2020-08-13T15:29:09.555934Z"
    }
   },
   "outputs": [
    {
     "data": {
      "text/plain": [
       "['la loma produce #8',\n",
       " 'california pacific medical center',\n",
       " 'california grocery']"
      ]
     },
     "execution_count": 186,
     "metadata": {},
     "output_type": "execute_result"
    }
   ],
   "source": [
    "unique_sf_matches[0:3]"
   ]
  },
  {
   "cell_type": "markdown",
   "metadata": {},
   "source": [
    "### Getting Regions for Matches"
   ]
  },
  {
   "cell_type": "code",
   "execution_count": 187,
   "metadata": {
    "ExecuteTime": {
     "end_time": "2020-08-13T15:29:10.030646Z",
     "start_time": "2020-08-13T15:29:10.027642Z"
    }
   },
   "outputs": [],
   "source": [
    "restaurant_matches_sf = {key: None for key in set(unique_sf_matches)}"
   ]
  },
  {
   "cell_type": "code",
   "execution_count": 188,
   "metadata": {
    "ExecuteTime": {
     "end_time": "2020-08-13T15:29:10.719924Z",
     "start_time": "2020-08-13T15:29:10.515546Z"
    }
   },
   "outputs": [
    {
     "data": {
      "text/plain": [
       "46"
      ]
     },
     "execution_count": 188,
     "metadata": {},
     "output_type": "execute_result"
    }
   ],
   "source": [
    "for key, value in restaurant_matches_sf.items():\n",
    "    split_item = key.split()\n",
    "    for word in split_item:\n",
    "        for key1, value1 in demonym_dictionary.items():\n",
    "            for city in value1:\n",
    "                if word == city:\n",
    "                    value_info = [key1, city]\n",
    "                    restaurant_matches_sf[key] = value_info\n",
    "len(restaurant_matches_sf)"
   ]
  },
  {
   "cell_type": "markdown",
   "metadata": {},
   "source": [
    "#### Removing all entries that passed filter incorrectly"
   ]
  },
  {
   "cell_type": "code",
   "execution_count": 189,
   "metadata": {
    "ExecuteTime": {
     "end_time": "2020-08-13T15:29:11.802961Z",
     "start_time": "2020-08-13T15:29:11.796625Z"
    }
   },
   "outputs": [
    {
     "data": {
      "text/plain": [
       "0"
      ]
     },
     "execution_count": 189,
     "metadata": {},
     "output_type": "execute_result"
    }
   ],
   "source": [
    "bad_keys = []\n",
    "for key, value in restaurant_matches_nyc.items():\n",
    "    if value[1] in bad_matches:\n",
    "        bad_keys.append(key)\n",
    "len(bad_keys)"
   ]
  },
  {
   "cell_type": "code",
   "execution_count": 190,
   "metadata": {
    "ExecuteTime": {
     "end_time": "2020-08-13T15:29:13.570577Z",
     "start_time": "2020-08-13T15:29:13.566537Z"
    }
   },
   "outputs": [],
   "source": [
    "for x in bad_keys:\n",
    "    if restaurant_matches_sf.get(x) != None:\n",
    "        del restaurant_matches_sf[x]"
   ]
  },
  {
   "cell_type": "code",
   "execution_count": 191,
   "metadata": {
    "ExecuteTime": {
     "end_time": "2020-08-13T15:29:19.120956Z",
     "start_time": "2020-08-13T15:29:19.118060Z"
    }
   },
   "outputs": [],
   "source": [
    "if restaurant_matches_sf.get('guadalupe elementary school'):\n",
    "    del restaurant_matches_sf['guadalupe elementary school'] # probably refers to a neighborhood, not something in mex."
   ]
  },
  {
   "cell_type": "code",
   "execution_count": 192,
   "metadata": {
    "ExecuteTime": {
     "end_time": "2020-08-13T15:29:19.726501Z",
     "start_time": "2020-08-13T15:29:19.722440Z"
    }
   },
   "outputs": [
    {
     "data": {
      "text/plain": [
       "45"
      ]
     },
     "execution_count": 192,
     "metadata": {},
     "output_type": "execute_result"
    }
   ],
   "source": [
    "len(restaurant_matches_sf)"
   ]
  },
  {
   "cell_type": "markdown",
   "metadata": {},
   "source": [
    "### Getting Region Counts"
   ]
  },
  {
   "cell_type": "code",
   "execution_count": 194,
   "metadata": {
    "ExecuteTime": {
     "end_time": "2020-08-13T15:29:31.292608Z",
     "start_time": "2020-08-13T15:29:31.288478Z"
    }
   },
   "outputs": [],
   "source": [
    "region_dict_sf = {value[0]: 0 for key, value in restaurant_matches_sf.items()}"
   ]
  },
  {
   "cell_type": "code",
   "execution_count": 195,
   "metadata": {
    "ExecuteTime": {
     "end_time": "2020-08-13T15:29:31.820555Z",
     "start_time": "2020-08-13T15:29:31.816950Z"
    }
   },
   "outputs": [],
   "source": [
    "for key, value in restaurant_matches_sf.items():\n",
    "    if value[0] in region_dict_sf.keys():\n",
    "        region_dict_sf[value[0]] += 1"
   ]
  },
  {
   "cell_type": "markdown",
   "metadata": {},
   "source": [
    "### Getting Region Counts as Percentages"
   ]
  },
  {
   "cell_type": "code",
   "execution_count": 197,
   "metadata": {
    "ExecuteTime": {
     "end_time": "2020-08-13T15:29:45.537639Z",
     "start_time": "2020-08-13T15:29:45.533607Z"
    }
   },
   "outputs": [],
   "source": [
    "region_dict_sf_pct = {value[0]: 0 for key, value in restaurant_matches_sf.items()}"
   ]
  },
  {
   "cell_type": "code",
   "execution_count": 198,
   "metadata": {
    "ExecuteTime": {
     "end_time": "2020-08-13T15:29:46.068323Z",
     "start_time": "2020-08-13T15:29:46.065192Z"
    }
   },
   "outputs": [],
   "source": [
    "for key, value in region_dict_sf.items():\n",
    "    region_dict_sf_pct[key] = round(value/len(restaurant_matches_sf), 2)"
   ]
  },
  {
   "cell_type": "code",
   "execution_count": 199,
   "metadata": {
    "ExecuteTime": {
     "end_time": "2020-08-13T15:29:46.544116Z",
     "start_time": "2020-08-13T15:29:46.539878Z"
    }
   },
   "outputs": [
    {
     "data": {
      "text/plain": [
       "{'Yucatan': 0.11,\n",
       " 'Guanajuato': 0.4,\n",
       " 'Chihuahua': 0.07,\n",
       " 'Baja California': 0.04,\n",
       " 'Tlaxcala': 0.02,\n",
       " 'Campeche': 0.04,\n",
       " 'Guerrero': 0.04,\n",
       " 'Mexico': 0.07,\n",
       " 'Tabasco': 0.04,\n",
       " 'Durango': 0.04,\n",
       " 'Jalisco': 0.02,\n",
       " 'Veracruz': 0.04,\n",
       " 'Oaxaca': 0.02,\n",
       " 'Chiapas': 0.02}"
      ]
     },
     "execution_count": 199,
     "metadata": {},
     "output_type": "execute_result"
    }
   ],
   "source": [
    "region_dict_sf_pct"
   ]
  },
  {
   "cell_type": "markdown",
   "metadata": {},
   "source": [
    "### Getting Values that matches"
   ]
  },
  {
   "cell_type": "code",
   "execution_count": 200,
   "metadata": {
    "ExecuteTime": {
     "end_time": "2020-08-13T15:29:56.895110Z",
     "start_time": "2020-08-13T15:29:56.890989Z"
    }
   },
   "outputs": [],
   "source": [
    "sf_values = {value[1]:0 for key, value in restaurant_matches_sf.items()}"
   ]
  },
  {
   "cell_type": "code",
   "execution_count": 201,
   "metadata": {
    "ExecuteTime": {
     "end_time": "2020-08-13T15:29:57.434575Z",
     "start_time": "2020-08-13T15:29:57.431271Z"
    }
   },
   "outputs": [],
   "source": [
    "for key, value in restaurant_matches_sf.items():\n",
    "    if value[1] in sf_values.keys():\n",
    "        sf_values[value[1]] += 1"
   ]
  },
  {
   "cell_type": "code",
   "execution_count": 202,
   "metadata": {
    "ExecuteTime": {
     "end_time": "2020-08-13T15:29:57.904939Z",
     "start_time": "2020-08-13T15:29:57.900790Z"
    },
    "scrolled": true
   },
   "outputs": [
    {
     "name": "stdout",
     "output_type": "stream",
     "text": [
      "california 18\n",
      "loma 3\n",
      "guadalajara 2\n",
      "monterey 2\n",
      "guerrero 2\n"
     ]
    }
   ],
   "source": [
    "# https://careerkarma.com/blog/python-sort-a-dictionary-by-value/\n",
    "sort_values_sf = sorted(sf_values.items(), key=lambda x: x[1], reverse=True)\n",
    "for i in sort_values_sf[0:5]:\n",
    "    print(i[0], i[1])"
   ]
  },
  {
   "cell_type": "markdown",
   "metadata": {},
   "source": [
    "# Combining All Restaurant Matches into One df"
   ]
  },
  {
   "cell_type": "code",
   "execution_count": 203,
   "metadata": {
    "ExecuteTime": {
     "end_time": "2020-08-13T15:30:12.799628Z",
     "start_time": "2020-08-13T15:30:12.797081Z"
    }
   },
   "outputs": [],
   "source": [
    "# rest_df has all of the NYC results"
   ]
  },
  {
   "cell_type": "markdown",
   "metadata": {},
   "source": [
    "## dict data"
   ]
  },
  {
   "cell_type": "code",
   "execution_count": 204,
   "metadata": {
    "ExecuteTime": {
     "end_time": "2020-08-13T15:30:13.690567Z",
     "start_time": "2020-08-13T15:30:13.670950Z"
    }
   },
   "outputs": [],
   "source": [
    "chi_reg_w_pct = pd.DataFrame.from_dict(restaurant_matches_chi, orient='index', columns = ['Region', 'Match'])\n",
    "chi_reg_w_pct.sort_index(axis=0, inplace=True)\n",
    "chi_reg_w_pct['City'] = 'Chicago'\n",
    "\n",
    "dal_reg_w_pct= pd.DataFrame.from_dict(restaurant_matches_dal, orient='index', columns = ['Region', 'Match'])\n",
    "dal_reg_w_pct.sort_index(axis=0, inplace=True)\n",
    "dal_reg_w_pct['City'] = 'Dallas'\n",
    "\n",
    "sf_reg_w_pct= pd.DataFrame.from_dict(restaurant_matches_sf, orient='index', columns = ['Region', 'Match'])\n",
    "sf_reg_w_pct.sort_index(axis=0, inplace=True)\n",
    "sf_reg_w_pct['City'] = 'SF'\n",
    "\n",
    "all_rest_df = pd.concat([chi_reg_w_pct, dal_reg_w_pct, sf_reg_w_pct], sort=True)"
   ]
  },
  {
   "cell_type": "code",
   "execution_count": 205,
   "metadata": {
    "ExecuteTime": {
     "end_time": "2020-08-13T15:30:14.250436Z",
     "start_time": "2020-08-13T15:30:14.243543Z"
    }
   },
   "outputs": [
    {
     "data": {
      "text/html": [
       "<div>\n",
       "<style scoped>\n",
       "    .dataframe tbody tr th:only-of-type {\n",
       "        vertical-align: middle;\n",
       "    }\n",
       "\n",
       "    .dataframe tbody tr th {\n",
       "        vertical-align: top;\n",
       "    }\n",
       "\n",
       "    .dataframe thead th {\n",
       "        text-align: right;\n",
       "    }\n",
       "</style>\n",
       "<table border=\"1\" class=\"dataframe\">\n",
       "  <thead>\n",
       "    <tr style=\"text-align: right;\">\n",
       "      <th></th>\n",
       "      <th>City</th>\n",
       "      <th>Match</th>\n",
       "      <th>Region</th>\n",
       "    </tr>\n",
       "  </thead>\n",
       "  <tbody>\n",
       "    <tr>\n",
       "      <th>chilango</th>\n",
       "      <td>Chicago</td>\n",
       "      <td>chilango</td>\n",
       "      <td>Ciudad de Mexico</td>\n",
       "    </tr>\n",
       "    <tr>\n",
       "      <th>los alamos</th>\n",
       "      <td>Chicago</td>\n",
       "      <td>alamos</td>\n",
       "      <td>Tabasco</td>\n",
       "    </tr>\n",
       "  </tbody>\n",
       "</table>\n",
       "</div>"
      ],
      "text/plain": [
       "               City     Match            Region\n",
       "chilango    Chicago  chilango  Ciudad de Mexico\n",
       "los alamos  Chicago    alamos           Tabasco"
      ]
     },
     "execution_count": 205,
     "metadata": {},
     "output_type": "execute_result"
    }
   ],
   "source": [
    "all_rest_df.head(2)"
   ]
  },
  {
   "cell_type": "markdown",
   "metadata": {},
   "source": [
    "## NYC data"
   ]
  },
  {
   "cell_type": "code",
   "execution_count": 206,
   "metadata": {
    "ExecuteTime": {
     "end_time": "2020-08-13T15:30:17.551718Z",
     "start_time": "2020-08-13T15:30:17.548034Z"
    }
   },
   "outputs": [],
   "source": [
    "rest_df['City'] = 'NYC'"
   ]
  },
  {
   "cell_type": "code",
   "execution_count": 207,
   "metadata": {
    "ExecuteTime": {
     "end_time": "2020-08-13T15:30:18.103754Z",
     "start_time": "2020-08-13T15:30:18.095158Z"
    }
   },
   "outputs": [
    {
     "data": {
      "text/html": [
       "<div>\n",
       "<style scoped>\n",
       "    .dataframe tbody tr th:only-of-type {\n",
       "        vertical-align: middle;\n",
       "    }\n",
       "\n",
       "    .dataframe tbody tr th {\n",
       "        vertical-align: top;\n",
       "    }\n",
       "\n",
       "    .dataframe thead th {\n",
       "        text-align: right;\n",
       "    }\n",
       "</style>\n",
       "<table border=\"1\" class=\"dataframe\">\n",
       "  <thead>\n",
       "    <tr style=\"text-align: right;\">\n",
       "      <th></th>\n",
       "      <th>Restaurant_name</th>\n",
       "      <th>Region</th>\n",
       "      <th>Matching_word_w_region</th>\n",
       "      <th>City</th>\n",
       "    </tr>\n",
       "  </thead>\n",
       "  <tbody>\n",
       "    <tr>\n",
       "      <th>0</th>\n",
       "      <td>la guadalupe restaurant</td>\n",
       "      <td>Chihuahua</td>\n",
       "      <td>guadalupe</td>\n",
       "      <td>NYC</td>\n",
       "    </tr>\n",
       "    <tr>\n",
       "      <th>1</th>\n",
       "      <td>tacos cuautla morales</td>\n",
       "      <td>Veracruz</td>\n",
       "      <td>morales</td>\n",
       "      <td>NYC</td>\n",
       "    </tr>\n",
       "    <tr>\n",
       "      <th>2</th>\n",
       "      <td>acapulco deli &amp; restaurant</td>\n",
       "      <td>Tamaulipas</td>\n",
       "      <td>acapulco</td>\n",
       "      <td>NYC</td>\n",
       "    </tr>\n",
       "    <tr>\n",
       "      <th>3</th>\n",
       "      <td>rinconcito tepeyac</td>\n",
       "      <td>Colima</td>\n",
       "      <td>tepeyac</td>\n",
       "      <td>NYC</td>\n",
       "    </tr>\n",
       "    <tr>\n",
       "      <th>4</th>\n",
       "      <td>tulcingo restaurant</td>\n",
       "      <td>Puebla</td>\n",
       "      <td>tulcingo</td>\n",
       "      <td>NYC</td>\n",
       "    </tr>\n",
       "  </tbody>\n",
       "</table>\n",
       "</div>"
      ],
      "text/plain": [
       "              Restaurant_name      Region Matching_word_w_region City\n",
       "0     la guadalupe restaurant   Chihuahua              guadalupe  NYC\n",
       "1       tacos cuautla morales    Veracruz                morales  NYC\n",
       "2  acapulco deli & restaurant  Tamaulipas               acapulco  NYC\n",
       "3          rinconcito tepeyac      Colima                tepeyac  NYC\n",
       "4         tulcingo restaurant      Puebla               tulcingo  NYC"
      ]
     },
     "execution_count": 207,
     "metadata": {},
     "output_type": "execute_result"
    }
   ],
   "source": [
    "rest_df.head()"
   ]
  },
  {
   "cell_type": "code",
   "execution_count": 208,
   "metadata": {
    "ExecuteTime": {
     "end_time": "2020-08-13T15:30:25.647111Z",
     "start_time": "2020-08-13T15:30:25.642702Z"
    }
   },
   "outputs": [],
   "source": [
    "rest_df.set_index(keys=['Restaurant_name'], inplace=True)"
   ]
  },
  {
   "cell_type": "code",
   "execution_count": 209,
   "metadata": {
    "ExecuteTime": {
     "end_time": "2020-08-13T15:30:26.205284Z",
     "start_time": "2020-08-13T15:30:26.202531Z"
    }
   },
   "outputs": [],
   "source": [
    "rest_df.columns = ['Region', 'Match', 'City']"
   ]
  },
  {
   "cell_type": "code",
   "execution_count": 210,
   "metadata": {
    "ExecuteTime": {
     "end_time": "2020-08-13T15:30:26.948913Z",
     "start_time": "2020-08-13T15:30:26.945574Z"
    }
   },
   "outputs": [
    {
     "data": {
      "text/plain": [
       "Index(['Region', 'Match', 'City'], dtype='object')"
      ]
     },
     "execution_count": 210,
     "metadata": {},
     "output_type": "execute_result"
    }
   ],
   "source": [
    "rest_df.columns"
   ]
  },
  {
   "cell_type": "markdown",
   "metadata": {},
   "source": [
    "## Merging the two dfs"
   ]
  },
  {
   "cell_type": "code",
   "execution_count": 211,
   "metadata": {
    "ExecuteTime": {
     "end_time": "2020-08-13T15:30:27.914165Z",
     "start_time": "2020-08-13T15:30:27.909256Z"
    }
   },
   "outputs": [],
   "source": [
    "all_restaurants = pd.concat([all_rest_df,rest_df])"
   ]
  },
  {
   "cell_type": "markdown",
   "metadata": {},
   "source": [
    "## Saving df"
   ]
  },
  {
   "cell_type": "code",
   "execution_count": 1376,
   "metadata": {},
   "outputs": [],
   "source": [
    "# all_restaurants.to_csv(\"./my_saved_data/Final_restaurant_list.csv\")"
   ]
  },
  {
   "cell_type": "markdown",
   "metadata": {},
   "source": [
    "# combining all pct results to a df "
   ]
  },
  {
   "cell_type": "markdown",
   "metadata": {},
   "source": [
    "- nyc_region_counts_dict_pct\n",
    "- chicago_regions_pct\n",
    "- region_dict_dal_pct\n",
    "- region_dict_sf_pct"
   ]
  },
  {
   "cell_type": "markdown",
   "metadata": {},
   "source": [
    "### Making them all have the same length"
   ]
  },
  {
   "cell_type": "code",
   "execution_count": 219,
   "metadata": {
    "ExecuteTime": {
     "end_time": "2020-08-13T15:31:50.250983Z",
     "start_time": "2020-08-13T15:31:50.248205Z"
    }
   },
   "outputs": [],
   "source": [
    "regions_used = []"
   ]
  },
  {
   "cell_type": "code",
   "execution_count": 220,
   "metadata": {
    "ExecuteTime": {
     "end_time": "2020-08-13T15:31:50.798981Z",
     "start_time": "2020-08-13T15:31:50.795609Z"
    }
   },
   "outputs": [],
   "source": [
    "def track_regions_found(dictionary, regions_used):\n",
    "    for key, value in dictionary.items():\n",
    "        if key not in regions_used:\n",
    "            regions_used.append(key)\n",
    "    return regions_used"
   ]
  },
  {
   "cell_type": "code",
   "execution_count": 221,
   "metadata": {
    "ExecuteTime": {
     "end_time": "2020-08-13T15:32:22.860075Z",
     "start_time": "2020-08-13T15:32:22.855895Z"
    }
   },
   "outputs": [],
   "source": [
    "regions_used1 = track_regions_found(nyc_region_counts_dict_pct, regions_used)\n",
    "regions_used2 = track_regions_found(chicago_regions_pct, regions_used1)\n",
    "regions_used3 = track_regions_found(region_dict_dal_pct, regions_used2)\n",
    "regions_used4 = track_regions_found(region_dict_sf_pct, regions_used3)"
   ]
  },
  {
   "cell_type": "code",
   "execution_count": 222,
   "metadata": {
    "ExecuteTime": {
     "end_time": "2020-08-13T15:32:24.379623Z",
     "start_time": "2020-08-13T15:32:24.374601Z"
    }
   },
   "outputs": [
    {
     "data": {
      "text/plain": [
       "31"
      ]
     },
     "execution_count": 222,
     "metadata": {},
     "output_type": "execute_result"
    }
   ],
   "source": [
    "# all but one region was found in these datasets (well 2 since michoacan was counted twice)\n",
    "len(regions_used4)"
   ]
  },
  {
   "cell_type": "code",
   "execution_count": 223,
   "metadata": {
    "ExecuteTime": {
     "end_time": "2020-08-13T15:32:26.370222Z",
     "start_time": "2020-08-13T15:32:26.365889Z"
    }
   },
   "outputs": [],
   "source": [
    "def add_keys_to_dict(dict_w_pct, regions_used = regions_used4):\n",
    "    for region in regions_used:\n",
    "        if region not in dict_w_pct.keys():\n",
    "            dict_w_pct[region] = 0\n",
    "    return dict_w_pct"
   ]
  },
  {
   "cell_type": "code",
   "execution_count": 224,
   "metadata": {
    "ExecuteTime": {
     "end_time": "2020-08-13T15:32:35.922538Z",
     "start_time": "2020-08-13T15:32:35.918438Z"
    }
   },
   "outputs": [],
   "source": [
    "nyc_reg_w_pct = add_keys_to_dict(nyc_region_counts_dict_pct, regions_used4)\n",
    "chi_reg_w_pct = add_keys_to_dict(chicago_regions_pct, regions_used4)\n",
    "dal_reg_w_pct = add_keys_to_dict(region_dict_dal_pct)\n",
    "sf_reg_w_pct = add_keys_to_dict(region_dict_sf_pct)"
   ]
  },
  {
   "cell_type": "markdown",
   "metadata": {},
   "source": [
    "### Making into df"
   ]
  },
  {
   "cell_type": "code",
   "execution_count": 225,
   "metadata": {
    "ExecuteTime": {
     "end_time": "2020-08-13T15:32:43.843815Z",
     "start_time": "2020-08-13T15:32:43.832596Z"
    }
   },
   "outputs": [],
   "source": [
    "nyc_reg_w_pct_df = pd.DataFrame.from_dict(nyc_reg_w_pct, orient='index', columns = ['NYC'])\n",
    "nyc_reg_w_pct_df.sort_index(axis=0, inplace=True)\n",
    "\n",
    "chi_reg_w_pct_df = pd.DataFrame.from_dict(chi_reg_w_pct, orient='index', columns = ['Chi'])\n",
    "chi_reg_w_pct_df.sort_index(axis=0, inplace=True)\n",
    "\n",
    "dal_reg_w_pct_df = pd.DataFrame.from_dict(dal_reg_w_pct, orient='index', columns = ['Dal'])\n",
    "dal_reg_w_pct_df.sort_index(axis=0, inplace=True)\n",
    "\n",
    "sf_reg_w_pct_df = pd.DataFrame.from_dict(sf_reg_w_pct, orient='index', columns = ['SF'])\n",
    "sf_reg_w_pct_df.sort_index(axis=0, inplace=True)"
   ]
  },
  {
   "cell_type": "code",
   "execution_count": 226,
   "metadata": {
    "ExecuteTime": {
     "end_time": "2020-08-13T15:32:44.385321Z",
     "start_time": "2020-08-13T15:32:44.382065Z"
    }
   },
   "outputs": [],
   "source": [
    "reg_rep_df = pd.concat([nyc_reg_w_pct_df, chi_reg_w_pct_df, dal_reg_w_pct_df, sf_reg_w_pct_df], sort=True, axis=1)"
   ]
  },
  {
   "cell_type": "markdown",
   "metadata": {},
   "source": [
    "#### Fixing 2 Misnamed columns"
   ]
  },
  {
   "cell_type": "code",
   "execution_count": 227,
   "metadata": {
    "ExecuteTime": {
     "end_time": "2020-08-13T15:32:46.704659Z",
     "start_time": "2020-08-13T15:32:46.699962Z"
    }
   },
   "outputs": [],
   "source": [
    "reg_rep_df.reset_index(inplace=True)"
   ]
  },
  {
   "cell_type": "code",
   "execution_count": 228,
   "metadata": {
    "ExecuteTime": {
     "end_time": "2020-08-13T15:32:47.290444Z",
     "start_time": "2020-08-13T15:32:47.286687Z"
    }
   },
   "outputs": [],
   "source": [
    "reg_rep_df['Chi'][15] = reg_rep_df['Chi'][14]"
   ]
  },
  {
   "cell_type": "code",
   "execution_count": 229,
   "metadata": {
    "ExecuteTime": {
     "end_time": "2020-08-13T15:32:47.783483Z",
     "start_time": "2020-08-13T15:32:47.779886Z"
    }
   },
   "outputs": [],
   "source": [
    "reg_rep_df.drop(index=14, inplace=True)"
   ]
  },
  {
   "cell_type": "code",
   "execution_count": 230,
   "metadata": {
    "ExecuteTime": {
     "end_time": "2020-08-13T15:32:48.273881Z",
     "start_time": "2020-08-13T15:32:48.270491Z"
    }
   },
   "outputs": [],
   "source": [
    "reg_rep_df['Chi'][20] = reg_rep_df['Chi'][21]"
   ]
  },
  {
   "cell_type": "code",
   "execution_count": 231,
   "metadata": {
    "ExecuteTime": {
     "end_time": "2020-08-13T15:32:48.764755Z",
     "start_time": "2020-08-13T15:32:48.761241Z"
    }
   },
   "outputs": [],
   "source": [
    "reg_rep_df.drop(index=21, inplace=True)"
   ]
  },
  {
   "cell_type": "markdown",
   "metadata": {},
   "source": [
    "### Getting the count of the number of restaurants for each column"
   ]
  },
  {
   "cell_type": "code",
   "execution_count": 232,
   "metadata": {
    "ExecuteTime": {
     "end_time": "2020-08-13T15:32:51.934264Z",
     "start_time": "2020-08-13T15:32:51.929121Z"
    }
   },
   "outputs": [],
   "source": [
    "rest_count_dict = {}\n",
    "for col in reg_rep_df.columns[1:]:\n",
    "    counter = 0\n",
    "    for item in reg_rep_df[col]:\n",
    "        if item > 0:\n",
    "            counter += 1\n",
    "    rest_count_dict[col] = counter   "
   ]
  },
  {
   "cell_type": "code",
   "execution_count": 233,
   "metadata": {
    "ExecuteTime": {
     "end_time": "2020-08-13T15:32:52.526125Z",
     "start_time": "2020-08-13T15:32:52.521710Z"
    }
   },
   "outputs": [
    {
     "data": {
      "text/plain": [
       "{'NYC': 20, 'Chi': 5, 'Dal': 27, 'SF': 14}"
      ]
     },
     "execution_count": 233,
     "metadata": {},
     "output_type": "execute_result"
    }
   ],
   "source": [
    "# despite all cities having more than 1.3 million people, \n",
    "# there is a vastly different number of mex. restaurants in each that have names referring to a city or region in mex.\n",
    "rest_count_dict"
   ]
  },
  {
   "cell_type": "markdown",
   "metadata": {},
   "source": [
    "#### Saving restaurant count dict"
   ]
  },
  {
   "cell_type": "code",
   "execution_count": 235,
   "metadata": {
    "ExecuteTime": {
     "end_time": "2020-08-13T15:33:19.787046Z",
     "start_time": "2020-08-13T15:33:19.784523Z"
    }
   },
   "outputs": [],
   "source": [
    "# with open ('restaurant_counts.pickle', 'wb+') as f:\n",
    "#     pickle.dump(rest_count_dict, f)"
   ]
  },
  {
   "cell_type": "markdown",
   "metadata": {},
   "source": [
    "# Percent Matches for Each City"
   ]
  },
  {
   "cell_type": "code",
   "execution_count": 236,
   "metadata": {
    "ExecuteTime": {
     "end_time": "2020-08-13T15:34:10.861267Z",
     "start_time": "2020-08-13T15:34:10.858248Z"
    }
   },
   "outputs": [],
   "source": [
    "# how many unique mexican restaurants were there for each city and how many were matched in the end"
   ]
  },
  {
   "cell_type": "code",
   "execution_count": 248,
   "metadata": {
    "ExecuteTime": {
     "end_time": "2020-08-14T16:45:34.208767Z",
     "start_time": "2020-08-14T16:45:34.201457Z"
    }
   },
   "outputs": [
    {
     "data": {
      "text/plain": [
       "86"
      ]
     },
     "execution_count": 248,
     "metadata": {},
     "output_type": "execute_result"
    }
   ],
   "source": [
    "num_nyc_restaurants = 0\n",
    "for key, value in nyc_region_counts_dict.items():\n",
    "    num_nyc_restaurants += value\n",
    "num_nyc_restaurants"
   ]
  },
  {
   "cell_type": "code",
   "execution_count": 249,
   "metadata": {
    "ExecuteTime": {
     "end_time": "2020-08-14T16:45:37.933951Z",
     "start_time": "2020-08-14T16:45:37.928522Z"
    }
   },
   "outputs": [
    {
     "data": {
      "text/plain": [
       "0.10129564193168433"
      ]
     },
     "execution_count": 249,
     "metadata": {},
     "output_type": "execute_result"
    }
   ],
   "source": [
    "num_nyc_restaurants / unique_nyc_mex.shape[0]\n",
    "# chicago, dallas SF did not sort restaurants by cuisine type "
   ]
  },
  {
   "cell_type": "markdown",
   "metadata": {},
   "source": [
    "# total count df for all cities combined"
   ]
  },
  {
   "cell_type": "code",
   "execution_count": 257,
   "metadata": {
    "ExecuteTime": {
     "end_time": "2020-08-14T16:48:23.157192Z",
     "start_time": "2020-08-14T16:48:23.151487Z"
    }
   },
   "outputs": [],
   "source": [
    "all_restaurants_cities_dict = {}\n",
    "for dictionary in [nyc_region_counts_dict, region_dict_chi, region_dict_dal, region_dict_sf]:\n",
    "    for key, value in dictionary.items():\n",
    "        if key not in all_restaurants_cities_dict.keys():\n",
    "            all_restaurants_cities_dict[key] = value\n",
    "        elif key in all_restaurants_cities_dict.keys():\n",
    "            all_restaurants_cities_dict[key] += value"
   ]
  },
  {
   "cell_type": "code",
   "execution_count": 282,
   "metadata": {
    "ExecuteTime": {
     "end_time": "2020-08-14T16:55:55.074797Z",
     "start_time": "2020-08-14T16:55:55.071931Z"
    }
   },
   "outputs": [],
   "source": [
    "# moving michoacan to the key Michoacan de Ocampo\n",
    "all_restaurants_cities_dict['Michoacan de Ocampo'] += all_restaurants_cities_dict['Michoacan']\n",
    "del all_restaurants_cities_dict['Michoacan']"
   ]
  },
  {
   "cell_type": "code",
   "execution_count": 286,
   "metadata": {
    "ExecuteTime": {
     "end_time": "2020-08-14T16:56:36.175675Z",
     "start_time": "2020-08-14T16:56:36.171207Z"
    }
   },
   "outputs": [],
   "source": [
    "all_rest_df = pd.DataFrame.from_dict(all_restaurants_cities_dict, orient='index', columns = ['Count_of_restaurants'])\n"
   ]
  },
  {
   "cell_type": "code",
   "execution_count": 287,
   "metadata": {
    "ExecuteTime": {
     "end_time": "2020-08-14T16:56:36.782328Z",
     "start_time": "2020-08-14T16:56:36.778093Z"
    }
   },
   "outputs": [
    {
     "data": {
      "text/plain": [
       "277"
      ]
     },
     "execution_count": 287,
     "metadata": {},
     "output_type": "execute_result"
    }
   ],
   "source": [
    "all_rest_df.Count_of_restaurants.sum()"
   ]
  },
  {
   "cell_type": "code",
   "execution_count": 288,
   "metadata": {
    "ExecuteTime": {
     "end_time": "2020-08-14T16:56:37.302478Z",
     "start_time": "2020-08-14T16:56:37.298607Z"
    }
   },
   "outputs": [],
   "source": [
    "all_rest_df['Percent_of_all_restaurants'] = round(all_rest_df['Count_of_restaurants'] / \\\n",
    "                                                  all_rest_df.Count_of_restaurants.sum(), 2)"
   ]
  },
  {
   "cell_type": "code",
   "execution_count": 289,
   "metadata": {
    "ExecuteTime": {
     "end_time": "2020-08-14T16:56:37.820700Z",
     "start_time": "2020-08-14T16:56:37.812229Z"
    }
   },
   "outputs": [
    {
     "data": {
      "text/html": [
       "<div>\n",
       "<style scoped>\n",
       "    .dataframe tbody tr th:only-of-type {\n",
       "        vertical-align: middle;\n",
       "    }\n",
       "\n",
       "    .dataframe tbody tr th {\n",
       "        vertical-align: top;\n",
       "    }\n",
       "\n",
       "    .dataframe thead th {\n",
       "        text-align: right;\n",
       "    }\n",
       "</style>\n",
       "<table border=\"1\" class=\"dataframe\">\n",
       "  <thead>\n",
       "    <tr style=\"text-align: right;\">\n",
       "      <th></th>\n",
       "      <th>Count_of_restaurants</th>\n",
       "      <th>Percent_of_all_restaurants</th>\n",
       "    </tr>\n",
       "  </thead>\n",
       "  <tbody>\n",
       "    <tr>\n",
       "      <th>Puebla</th>\n",
       "      <td>33</td>\n",
       "      <td>0.12</td>\n",
       "    </tr>\n",
       "    <tr>\n",
       "      <th>Michoacan de Ocampo</th>\n",
       "      <td>31</td>\n",
       "      <td>0.11</td>\n",
       "    </tr>\n",
       "    <tr>\n",
       "      <th>Yucatan</th>\n",
       "      <td>22</td>\n",
       "      <td>0.08</td>\n",
       "    </tr>\n",
       "    <tr>\n",
       "      <th>Guanajuato</th>\n",
       "      <td>20</td>\n",
       "      <td>0.07</td>\n",
       "    </tr>\n",
       "    <tr>\n",
       "      <th>Veracruz</th>\n",
       "      <td>17</td>\n",
       "      <td>0.06</td>\n",
       "    </tr>\n",
       "  </tbody>\n",
       "</table>\n",
       "</div>"
      ],
      "text/plain": [
       "                     Count_of_restaurants  Percent_of_all_restaurants\n",
       "Puebla                                 33                        0.12\n",
       "Michoacan de Ocampo                    31                        0.11\n",
       "Yucatan                                22                        0.08\n",
       "Guanajuato                             20                        0.07\n",
       "Veracruz                               17                        0.06"
      ]
     },
     "execution_count": 289,
     "metadata": {},
     "output_type": "execute_result"
    }
   ],
   "source": [
    "all_rest_df.sort_values(by = ['Percent_of_all_restaurants'], ascending=False).head()"
   ]
  },
  {
   "cell_type": "code",
   "execution_count": 290,
   "metadata": {
    "ExecuteTime": {
     "end_time": "2020-08-14T16:56:42.594525Z",
     "start_time": "2020-08-14T16:56:42.587819Z"
    }
   },
   "outputs": [],
   "source": [
    "# all_rest_df.to_csv(\"./my_saved_data/all_restaurants_df.csv\")"
   ]
  },
  {
   "cell_type": "markdown",
   "metadata": {},
   "source": [
    "# Conclusions"
   ]
  },
  {
   "cell_type": "markdown",
   "metadata": {},
   "source": [
    "All 4 cities have large Mexican immigrant populations (250k and above according to: https://247wallst.com/economy/2017/01/27/us-cities-with-the-most-mexican-immigrants/). Despite this surface similarity, it turns out that these immigrants do not all come from similar regions in Mexico. No region was in the top 5 most popular region for more than 2 of these cities. This suggests that immigration from Mexico was not dominated by one region but came from all regions of Mexico. Similarly, we see that there are no single region that makes up the majority of any US city's Mexican population: in all cases, no region accounted for more than 36% of the restaurants with regions associated with their names. This did have some variation, however: in San Francisco Guanajuato accounts for 40% of the restaurants while in Dallas the most dominant group accounts for 21%."
   ]
  },
  {
   "cell_type": "markdown",
   "metadata": {},
   "source": [
    "Some shortcomings of this project are the quality of this data: both for the demonym dictionary and the inspection data. The demonym dictionary had many entries, but there were some clear errors, e.g.: the restaurant 'jalisco' in Dallas was associated with \"Ciudad de Mexico\" instead of the region Jalisco. Additionally, it is not clear if **all** restaurants in each city are included in this data, or only restaurants that failed the inspection. In a similar vein, some cities had data that had too low of a quality to be useful (LA). Another problem with this project is deciding when a \"match\" is legitimate. For example, \"Pueblito\" (\"little town\") appeared often and is a town in Queretáro, but do these restaurants refer to the former or the latter? This was decided on an ad hoc basis and was founded solely on my (non-native) discretion. Lastly, the obvious issue of immediate representation being a marker of the true number of people from a certain region is certainly flawed. Just because there are say, a lot of Italian restaurants in a certain area, does not necessarily mean that there are many italian (recent) immigrants to that area. The popularity of food from certain regions may skew the data. "
   ]
  },
  {
   "cell_type": "markdown",
   "metadata": {},
   "source": [
    "Anecdotally, it appears that chain migration happens at a micro level. \"Tulcingo\" appears 5 times in the NYC data despite the fact that the town that it refers to in Mexico, Tulcingo del Valle, has only 9,000 people living in it (source: https://es.wikipedia.org/wiki/Municipio_de_Tulcingo)! "
   ]
  }
 ],
 "metadata": {
  "kernelspec": {
   "display_name": "Python [conda env:learn-env] *",
   "language": "python",
   "name": "conda-env-learn-env-py"
  },
  "language_info": {
   "codemirror_mode": {
    "name": "ipython",
    "version": 3
   },
   "file_extension": ".py",
   "mimetype": "text/x-python",
   "name": "python",
   "nbconvert_exporter": "python",
   "pygments_lexer": "ipython3",
   "version": "3.6.9"
  },
  "toc": {
   "base_numbering": 1,
   "nav_menu": {},
   "number_sections": true,
   "sideBar": true,
   "skip_h1_title": false,
   "title_cell": "Table of Contents",
   "title_sidebar": "Contents",
   "toc_cell": false,
   "toc_position": {
    "height": "calc(100% - 180px)",
    "left": "10px",
    "top": "150px",
    "width": "330.1875px"
   },
   "toc_section_display": true,
   "toc_window_display": true
  },
  "varInspector": {
   "cols": {
    "lenName": 16,
    "lenType": 16,
    "lenVar": 40
   },
   "kernels_config": {
    "python": {
     "delete_cmd_postfix": "",
     "delete_cmd_prefix": "del ",
     "library": "var_list.py",
     "varRefreshCmd": "print(var_dic_list())"
    },
    "r": {
     "delete_cmd_postfix": ") ",
     "delete_cmd_prefix": "rm(",
     "library": "var_list.r",
     "varRefreshCmd": "cat(var_dic_list()) "
    }
   },
   "types_to_exclude": [
    "module",
    "function",
    "builtin_function_or_method",
    "instance",
    "_Feature"
   ],
   "window_display": false
  }
 },
 "nbformat": 4,
 "nbformat_minor": 2
}
