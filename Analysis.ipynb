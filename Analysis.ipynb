{
 "cells": [
  {
   "cell_type": "markdown",
   "metadata": {},
   "source": [
    "import pickle\n",
    "import seaborn as sns\n",
    "from sklearn.ensemble import RandomForestRegressor\n",
    "import pandas as pd\n",
    "from sklearn.ensemble import GradientBoostingClassifier\n",
    "from pathlib import Path\n",
    "from sklearn.manifold import TSNE\n",
    "import matplotlib.pyplot as plt\n",
    "from sklearn.feature_extraction.text import TfidfVectorizer\n",
    "from sklearn.ensemble import RandomForestClassifier\n",
    "import altair as alt\n",
    "from sklearn.ensemble import GradientBoostingRegressor\n",
    "from pyspark import SparkContext\n",
    "from sklearn.preprocessing import OneHotEncoder\n",
    "# ^^^ pyforest auto-imports - don't write above this line\n",
    "# Imports"
   ]
  },
  {
   "cell_type": "markdown",
   "metadata": {},
   "source": [
    "## Libraries"
   ]
  },
  {
   "cell_type": "code",
   "execution_count": 145,
   "metadata": {
    "ExecuteTime": {
     "end_time": "2020-08-13T19:11:43.039957Z",
     "start_time": "2020-08-13T19:11:43.035895Z"
    }
   },
   "outputs": [],
   "source": [
    "import geopandas\n",
    "import unidecode\n",
    "import warnings\n",
    "warnings.filterwarnings('ignore')"
   ]
  },
  {
   "cell_type": "markdown",
   "metadata": {},
   "source": [
    "## Data"
   ]
  },
  {
   "cell_type": "code",
   "execution_count": 51,
   "metadata": {
    "ExecuteTime": {
     "end_time": "2020-08-13T18:45:36.650099Z",
     "start_time": "2020-08-13T18:45:36.639064Z"
    }
   },
   "outputs": [
    {
     "data": {
      "application/javascript": [
       "\n",
       "        if (window._pyforest_update_imports_cell) { window._pyforest_update_imports_cell('import pickle\\nimport matplotlib.pyplot as plt\\nimport seaborn as sns\\nimport pandas as pd'); }\n",
       "    "
      ],
      "text/plain": [
       "<IPython.core.display.Javascript object>"
      ]
     },
     "metadata": {},
     "output_type": "display_data"
    }
   ],
   "source": [
    "pct_df = pd.read_csv(\"./my_saved_data/final_nyc_chi_dal_sf_df.csv\", index_col=0)\n",
    "pct_df.columns = ['Region', \"NYC\", \"Chi\", \"Dal\", \"SF\"]"
   ]
  },
  {
   "cell_type": "code",
   "execution_count": 52,
   "metadata": {
    "ExecuteTime": {
     "end_time": "2020-08-13T18:45:37.332779Z",
     "start_time": "2020-08-13T18:45:37.321148Z"
    }
   },
   "outputs": [
    {
     "data": {
      "text/html": [
       "<div>\n",
       "<style scoped>\n",
       "    .dataframe tbody tr th:only-of-type {\n",
       "        vertical-align: middle;\n",
       "    }\n",
       "\n",
       "    .dataframe tbody tr th {\n",
       "        vertical-align: top;\n",
       "    }\n",
       "\n",
       "    .dataframe thead th {\n",
       "        text-align: right;\n",
       "    }\n",
       "</style>\n",
       "<table border=\"1\" class=\"dataframe\">\n",
       "  <thead>\n",
       "    <tr style=\"text-align: right;\">\n",
       "      <th></th>\n",
       "      <th>Region</th>\n",
       "      <th>NYC</th>\n",
       "      <th>Chi</th>\n",
       "      <th>Dal</th>\n",
       "      <th>SF</th>\n",
       "    </tr>\n",
       "  </thead>\n",
       "  <tbody>\n",
       "    <tr>\n",
       "      <th>0</th>\n",
       "      <td>Aguascalientes</td>\n",
       "      <td>0.01</td>\n",
       "      <td>0.0</td>\n",
       "      <td>0.00</td>\n",
       "      <td>0.00</td>\n",
       "    </tr>\n",
       "    <tr>\n",
       "      <th>1</th>\n",
       "      <td>Baja California</td>\n",
       "      <td>0.07</td>\n",
       "      <td>0.0</td>\n",
       "      <td>0.02</td>\n",
       "      <td>0.04</td>\n",
       "    </tr>\n",
       "  </tbody>\n",
       "</table>\n",
       "</div>"
      ],
      "text/plain": [
       "            Region   NYC  Chi   Dal    SF\n",
       "0   Aguascalientes  0.01  0.0  0.00  0.00\n",
       "1  Baja California  0.07  0.0  0.02  0.04"
      ]
     },
     "execution_count": 52,
     "metadata": {},
     "output_type": "execute_result"
    }
   ],
   "source": [
    "pct_df.head(2)"
   ]
  },
  {
   "cell_type": "code",
   "execution_count": 53,
   "metadata": {
    "ExecuteTime": {
     "end_time": "2020-08-13T18:45:39.842026Z",
     "start_time": "2020-08-13T18:45:39.835551Z"
    }
   },
   "outputs": [
    {
     "data": {
      "application/javascript": [
       "\n",
       "        if (window._pyforest_update_imports_cell) { window._pyforest_update_imports_cell('import pickle\\nimport matplotlib.pyplot as plt\\nimport seaborn as sns\\nimport pandas as pd'); }\n",
       "    "
      ],
      "text/plain": [
       "<IPython.core.display.Javascript object>"
      ]
     },
     "metadata": {},
     "output_type": "display_data"
    }
   ],
   "source": [
    "with open(\"./my_saved_data/restaurant_counts.pickle\", \"rb+\") as f:\n",
    "    rest_counts = pickle.load(f)"
   ]
  },
  {
   "cell_type": "code",
   "execution_count": 54,
   "metadata": {
    "ExecuteTime": {
     "end_time": "2020-08-13T18:45:40.062643Z",
     "start_time": "2020-08-13T18:45:40.056745Z"
    }
   },
   "outputs": [
    {
     "data": {
      "text/plain": [
       "{'NYC': 20, 'Chi': 5, 'Dal': 27, 'SF': 14}"
      ]
     },
     "execution_count": 54,
     "metadata": {},
     "output_type": "execute_result"
    }
   ],
   "source": [
    "rest_counts"
   ]
  },
  {
   "cell_type": "code",
   "execution_count": 55,
   "metadata": {
    "ExecuteTime": {
     "end_time": "2020-08-13T18:45:40.260340Z",
     "start_time": "2020-08-13T18:45:40.249762Z"
    }
   },
   "outputs": [
    {
     "data": {
      "application/javascript": [
       "\n",
       "        if (window._pyforest_update_imports_cell) { window._pyforest_update_imports_cell('import pickle\\nimport matplotlib.pyplot as plt\\nimport seaborn as sns\\nimport pandas as pd'); }\n",
       "    "
      ],
      "text/plain": [
       "<IPython.core.display.Javascript object>"
      ]
     },
     "metadata": {},
     "output_type": "display_data"
    }
   ],
   "source": [
    "all_df = pd.read_csv(\"./my_saved_data/Final_restaurant_list.csv\", index_col=0)"
   ]
  },
  {
   "cell_type": "code",
   "execution_count": 56,
   "metadata": {
    "ExecuteTime": {
     "end_time": "2020-08-13T18:45:40.391964Z",
     "start_time": "2020-08-13T18:45:40.383457Z"
    }
   },
   "outputs": [
    {
     "data": {
      "text/html": [
       "<div>\n",
       "<style scoped>\n",
       "    .dataframe tbody tr th:only-of-type {\n",
       "        vertical-align: middle;\n",
       "    }\n",
       "\n",
       "    .dataframe tbody tr th {\n",
       "        vertical-align: top;\n",
       "    }\n",
       "\n",
       "    .dataframe thead th {\n",
       "        text-align: right;\n",
       "    }\n",
       "</style>\n",
       "<table border=\"1\" class=\"dataframe\">\n",
       "  <thead>\n",
       "    <tr style=\"text-align: right;\">\n",
       "      <th></th>\n",
       "      <th>City</th>\n",
       "      <th>Match</th>\n",
       "      <th>Region</th>\n",
       "    </tr>\n",
       "  </thead>\n",
       "  <tbody>\n",
       "    <tr>\n",
       "      <th>chilango</th>\n",
       "      <td>Chicago</td>\n",
       "      <td>chilango</td>\n",
       "      <td>Ciudad de Mexico</td>\n",
       "    </tr>\n",
       "    <tr>\n",
       "      <th>los alamos</th>\n",
       "      <td>Chicago</td>\n",
       "      <td>alamos</td>\n",
       "      <td>Tabasco</td>\n",
       "    </tr>\n",
       "  </tbody>\n",
       "</table>\n",
       "</div>"
      ],
      "text/plain": [
       "               City     Match            Region\n",
       "chilango    Chicago  chilango  Ciudad de Mexico\n",
       "los alamos  Chicago    alamos           Tabasco"
      ]
     },
     "execution_count": 56,
     "metadata": {},
     "output_type": "execute_result"
    }
   ],
   "source": [
    "all_df.head(2)"
   ]
  },
  {
   "cell_type": "code",
   "execution_count": 186,
   "metadata": {
    "ExecuteTime": {
     "end_time": "2020-08-14T16:57:24.098238Z",
     "start_time": "2020-08-14T16:57:24.089249Z"
    }
   },
   "outputs": [
    {
     "data": {
      "application/javascript": [
       "\n",
       "        if (window._pyforest_update_imports_cell) { window._pyforest_update_imports_cell('import pickle\\nimport matplotlib.pyplot as plt\\nimport seaborn as sns\\nimport pandas as pd'); }\n",
       "    "
      ],
      "text/plain": [
       "<IPython.core.display.Javascript object>"
      ]
     },
     "metadata": {},
     "output_type": "display_data"
    }
   ],
   "source": [
    "all_rest_df = pd.read_csv(\"./my_saved_data/all_restaurants_df.csv\", index_col=0)"
   ]
  },
  {
   "cell_type": "code",
   "execution_count": 188,
   "metadata": {
    "ExecuteTime": {
     "end_time": "2020-08-14T16:57:36.163111Z",
     "start_time": "2020-08-14T16:57:36.153993Z"
    }
   },
   "outputs": [
    {
     "data": {
      "text/html": [
       "<div>\n",
       "<style scoped>\n",
       "    .dataframe tbody tr th:only-of-type {\n",
       "        vertical-align: middle;\n",
       "    }\n",
       "\n",
       "    .dataframe tbody tr th {\n",
       "        vertical-align: top;\n",
       "    }\n",
       "\n",
       "    .dataframe thead th {\n",
       "        text-align: right;\n",
       "    }\n",
       "</style>\n",
       "<table border=\"1\" class=\"dataframe\">\n",
       "  <thead>\n",
       "    <tr style=\"text-align: right;\">\n",
       "      <th></th>\n",
       "      <th>Count_of_restaurants</th>\n",
       "      <th>Percent_of_all_restaurants</th>\n",
       "    </tr>\n",
       "  </thead>\n",
       "  <tbody>\n",
       "    <tr>\n",
       "      <th>Puebla</th>\n",
       "      <td>33</td>\n",
       "      <td>0.12</td>\n",
       "    </tr>\n",
       "    <tr>\n",
       "      <th>Yucatan</th>\n",
       "      <td>22</td>\n",
       "      <td>0.08</td>\n",
       "    </tr>\n",
       "  </tbody>\n",
       "</table>\n",
       "</div>"
      ],
      "text/plain": [
       "         Count_of_restaurants  Percent_of_all_restaurants\n",
       "Puebla                     33                        0.12\n",
       "Yucatan                    22                        0.08"
      ]
     },
     "execution_count": 188,
     "metadata": {},
     "output_type": "execute_result"
    }
   ],
   "source": [
    "all_rest_df.head(2)"
   ]
  },
  {
   "cell_type": "markdown",
   "metadata": {},
   "source": [
    "# EDA"
   ]
  },
  {
   "cell_type": "markdown",
   "metadata": {},
   "source": [
    "## What are the biggest regions for each city?"
   ]
  },
  {
   "cell_type": "code",
   "execution_count": 57,
   "metadata": {
    "ExecuteTime": {
     "end_time": "2020-08-13T18:45:50.428664Z",
     "start_time": "2020-08-13T18:45:50.414790Z"
    },
    "scrolled": true
   },
   "outputs": [
    {
     "data": {
      "text/html": [
       "<div>\n",
       "<style scoped>\n",
       "    .dataframe tbody tr th:only-of-type {\n",
       "        vertical-align: middle;\n",
       "    }\n",
       "\n",
       "    .dataframe tbody tr th {\n",
       "        vertical-align: top;\n",
       "    }\n",
       "\n",
       "    .dataframe thead th {\n",
       "        text-align: right;\n",
       "    }\n",
       "</style>\n",
       "<table border=\"1\" class=\"dataframe\">\n",
       "  <thead>\n",
       "    <tr style=\"text-align: right;\">\n",
       "      <th></th>\n",
       "      <th>Region</th>\n",
       "      <th>NYC</th>\n",
       "      <th>Chi</th>\n",
       "      <th>Dal</th>\n",
       "      <th>SF</th>\n",
       "    </tr>\n",
       "  </thead>\n",
       "  <tbody>\n",
       "    <tr>\n",
       "      <th>20</th>\n",
       "      <td>Puebla</td>\n",
       "      <td>0.37</td>\n",
       "      <td>0.0</td>\n",
       "      <td>0.01</td>\n",
       "      <td>0.00</td>\n",
       "    </tr>\n",
       "    <tr>\n",
       "      <th>29</th>\n",
       "      <td>Yucatan</td>\n",
       "      <td>0.13</td>\n",
       "      <td>0.0</td>\n",
       "      <td>0.04</td>\n",
       "      <td>0.11</td>\n",
       "    </tr>\n",
       "    <tr>\n",
       "      <th>5</th>\n",
       "      <td>Chihuahua</td>\n",
       "      <td>0.07</td>\n",
       "      <td>0.0</td>\n",
       "      <td>0.01</td>\n",
       "      <td>0.07</td>\n",
       "    </tr>\n",
       "    <tr>\n",
       "      <th>1</th>\n",
       "      <td>Baja California</td>\n",
       "      <td>0.07</td>\n",
       "      <td>0.0</td>\n",
       "      <td>0.02</td>\n",
       "      <td>0.04</td>\n",
       "    </tr>\n",
       "    <tr>\n",
       "      <th>19</th>\n",
       "      <td>Oaxaca</td>\n",
       "      <td>0.05</td>\n",
       "      <td>0.0</td>\n",
       "      <td>0.01</td>\n",
       "      <td>0.02</td>\n",
       "    </tr>\n",
       "  </tbody>\n",
       "</table>\n",
       "</div>"
      ],
      "text/plain": [
       "             Region   NYC  Chi   Dal    SF\n",
       "20           Puebla  0.37  0.0  0.01  0.00\n",
       "29          Yucatan  0.13  0.0  0.04  0.11\n",
       "5         Chihuahua  0.07  0.0  0.01  0.07\n",
       "1   Baja California  0.07  0.0  0.02  0.04\n",
       "19           Oaxaca  0.05  0.0  0.01  0.02"
      ]
     },
     "execution_count": 57,
     "metadata": {},
     "output_type": "execute_result"
    }
   ],
   "source": [
    "pct_df.sort_values(by=['NYC'], ascending=False)[0:5]"
   ]
  },
  {
   "cell_type": "code",
   "execution_count": 58,
   "metadata": {
    "ExecuteTime": {
     "end_time": "2020-08-13T18:45:50.835247Z",
     "start_time": "2020-08-13T18:45:50.826221Z"
    }
   },
   "outputs": [
    {
     "data": {
      "text/html": [
       "<div>\n",
       "<style scoped>\n",
       "    .dataframe tbody tr th:only-of-type {\n",
       "        vertical-align: middle;\n",
       "    }\n",
       "\n",
       "    .dataframe tbody tr th {\n",
       "        vertical-align: top;\n",
       "    }\n",
       "\n",
       "    .dataframe thead th {\n",
       "        text-align: right;\n",
       "    }\n",
       "</style>\n",
       "<table border=\"1\" class=\"dataframe\">\n",
       "  <thead>\n",
       "    <tr style=\"text-align: right;\">\n",
       "      <th></th>\n",
       "      <th>Region</th>\n",
       "      <th>NYC</th>\n",
       "      <th>Chi</th>\n",
       "      <th>Dal</th>\n",
       "      <th>SF</th>\n",
       "    </tr>\n",
       "  </thead>\n",
       "  <tbody>\n",
       "    <tr>\n",
       "      <th>12</th>\n",
       "      <td>Jalisco</td>\n",
       "      <td>0.02</td>\n",
       "      <td>0.29</td>\n",
       "      <td>0.04</td>\n",
       "      <td>0.02</td>\n",
       "    </tr>\n",
       "    <tr>\n",
       "      <th>15</th>\n",
       "      <td>Michoacan de Ocampo</td>\n",
       "      <td>0.00</td>\n",
       "      <td>0.14</td>\n",
       "      <td>0.21</td>\n",
       "      <td>0.00</td>\n",
       "    </tr>\n",
       "    <tr>\n",
       "      <th>6</th>\n",
       "      <td>Ciudad de Mexico</td>\n",
       "      <td>0.00</td>\n",
       "      <td>0.14</td>\n",
       "      <td>0.01</td>\n",
       "      <td>0.00</td>\n",
       "    </tr>\n",
       "    <tr>\n",
       "      <th>25</th>\n",
       "      <td>Tabasco</td>\n",
       "      <td>0.01</td>\n",
       "      <td>0.14</td>\n",
       "      <td>0.04</td>\n",
       "      <td>0.04</td>\n",
       "    </tr>\n",
       "    <tr>\n",
       "      <th>10</th>\n",
       "      <td>Guerrero</td>\n",
       "      <td>0.02</td>\n",
       "      <td>0.14</td>\n",
       "      <td>0.07</td>\n",
       "      <td>0.04</td>\n",
       "    </tr>\n",
       "  </tbody>\n",
       "</table>\n",
       "</div>"
      ],
      "text/plain": [
       "                 Region   NYC   Chi   Dal    SF\n",
       "12              Jalisco  0.02  0.29  0.04  0.02\n",
       "15  Michoacan de Ocampo  0.00  0.14  0.21  0.00\n",
       "6      Ciudad de Mexico  0.00  0.14  0.01  0.00\n",
       "25              Tabasco  0.01  0.14  0.04  0.04\n",
       "10             Guerrero  0.02  0.14  0.07  0.04"
      ]
     },
     "execution_count": 58,
     "metadata": {},
     "output_type": "execute_result"
    }
   ],
   "source": [
    "# chicago only has 5 regions represented (there were only 6 restaurant matches)\n",
    "pct_df.sort_values(by=['Chi'], ascending=False)[0:5]"
   ]
  },
  {
   "cell_type": "code",
   "execution_count": 59,
   "metadata": {
    "ExecuteTime": {
     "end_time": "2020-08-13T18:45:51.238865Z",
     "start_time": "2020-08-13T18:45:51.227884Z"
    },
    "scrolled": true
   },
   "outputs": [
    {
     "data": {
      "text/html": [
       "<div>\n",
       "<style scoped>\n",
       "    .dataframe tbody tr th:only-of-type {\n",
       "        vertical-align: middle;\n",
       "    }\n",
       "\n",
       "    .dataframe tbody tr th {\n",
       "        vertical-align: top;\n",
       "    }\n",
       "\n",
       "    .dataframe thead th {\n",
       "        text-align: right;\n",
       "    }\n",
       "</style>\n",
       "<table border=\"1\" class=\"dataframe\">\n",
       "  <thead>\n",
       "    <tr style=\"text-align: right;\">\n",
       "      <th></th>\n",
       "      <th>Region</th>\n",
       "      <th>NYC</th>\n",
       "      <th>Chi</th>\n",
       "      <th>Dal</th>\n",
       "      <th>SF</th>\n",
       "    </tr>\n",
       "  </thead>\n",
       "  <tbody>\n",
       "    <tr>\n",
       "      <th>15</th>\n",
       "      <td>Michoacan de Ocampo</td>\n",
       "      <td>0.00</td>\n",
       "      <td>0.14</td>\n",
       "      <td>0.21</td>\n",
       "      <td>0.00</td>\n",
       "    </tr>\n",
       "    <tr>\n",
       "      <th>3</th>\n",
       "      <td>Campeche</td>\n",
       "      <td>0.00</td>\n",
       "      <td>0.00</td>\n",
       "      <td>0.10</td>\n",
       "      <td>0.04</td>\n",
       "    </tr>\n",
       "    <tr>\n",
       "      <th>28</th>\n",
       "      <td>Veracruz</td>\n",
       "      <td>0.03</td>\n",
       "      <td>0.00</td>\n",
       "      <td>0.09</td>\n",
       "      <td>0.04</td>\n",
       "    </tr>\n",
       "    <tr>\n",
       "      <th>10</th>\n",
       "      <td>Guerrero</td>\n",
       "      <td>0.02</td>\n",
       "      <td>0.14</td>\n",
       "      <td>0.07</td>\n",
       "      <td>0.04</td>\n",
       "    </tr>\n",
       "    <tr>\n",
       "      <th>11</th>\n",
       "      <td>Hidalgo</td>\n",
       "      <td>0.02</td>\n",
       "      <td>0.00</td>\n",
       "      <td>0.06</td>\n",
       "      <td>0.00</td>\n",
       "    </tr>\n",
       "  </tbody>\n",
       "</table>\n",
       "</div>"
      ],
      "text/plain": [
       "                 Region   NYC   Chi   Dal    SF\n",
       "15  Michoacan de Ocampo  0.00  0.14  0.21  0.00\n",
       "3              Campeche  0.00  0.00  0.10  0.04\n",
       "28             Veracruz  0.03  0.00  0.09  0.04\n",
       "10             Guerrero  0.02  0.14  0.07  0.04\n",
       "11              Hidalgo  0.02  0.00  0.06  0.00"
      ]
     },
     "execution_count": 59,
     "metadata": {},
     "output_type": "execute_result"
    }
   ],
   "source": [
    "pct_df.sort_values(by=['Dal'], ascending=False)[0:5]"
   ]
  },
  {
   "cell_type": "code",
   "execution_count": 60,
   "metadata": {
    "ExecuteTime": {
     "end_time": "2020-08-13T18:45:52.624040Z",
     "start_time": "2020-08-13T18:45:52.610301Z"
    },
    "scrolled": true
   },
   "outputs": [
    {
     "data": {
      "text/html": [
       "<div>\n",
       "<style scoped>\n",
       "    .dataframe tbody tr th:only-of-type {\n",
       "        vertical-align: middle;\n",
       "    }\n",
       "\n",
       "    .dataframe tbody tr th {\n",
       "        vertical-align: top;\n",
       "    }\n",
       "\n",
       "    .dataframe thead th {\n",
       "        text-align: right;\n",
       "    }\n",
       "</style>\n",
       "<table border=\"1\" class=\"dataframe\">\n",
       "  <thead>\n",
       "    <tr style=\"text-align: right;\">\n",
       "      <th></th>\n",
       "      <th>Region</th>\n",
       "      <th>NYC</th>\n",
       "      <th>Chi</th>\n",
       "      <th>Dal</th>\n",
       "      <th>SF</th>\n",
       "    </tr>\n",
       "  </thead>\n",
       "  <tbody>\n",
       "    <tr>\n",
       "      <th>9</th>\n",
       "      <td>Guanajuato</td>\n",
       "      <td>0.00</td>\n",
       "      <td>0.0</td>\n",
       "      <td>0.01</td>\n",
       "      <td>0.40</td>\n",
       "    </tr>\n",
       "    <tr>\n",
       "      <th>29</th>\n",
       "      <td>Yucatan</td>\n",
       "      <td>0.13</td>\n",
       "      <td>0.0</td>\n",
       "      <td>0.04</td>\n",
       "      <td>0.11</td>\n",
       "    </tr>\n",
       "    <tr>\n",
       "      <th>5</th>\n",
       "      <td>Chihuahua</td>\n",
       "      <td>0.07</td>\n",
       "      <td>0.0</td>\n",
       "      <td>0.01</td>\n",
       "      <td>0.07</td>\n",
       "    </tr>\n",
       "    <tr>\n",
       "      <th>13</th>\n",
       "      <td>Mexico</td>\n",
       "      <td>0.01</td>\n",
       "      <td>0.0</td>\n",
       "      <td>0.05</td>\n",
       "      <td>0.07</td>\n",
       "    </tr>\n",
       "    <tr>\n",
       "      <th>3</th>\n",
       "      <td>Campeche</td>\n",
       "      <td>0.00</td>\n",
       "      <td>0.0</td>\n",
       "      <td>0.10</td>\n",
       "      <td>0.04</td>\n",
       "    </tr>\n",
       "  </tbody>\n",
       "</table>\n",
       "</div>"
      ],
      "text/plain": [
       "        Region   NYC  Chi   Dal    SF\n",
       "9   Guanajuato  0.00  0.0  0.01  0.40\n",
       "29     Yucatan  0.13  0.0  0.04  0.11\n",
       "5    Chihuahua  0.07  0.0  0.01  0.07\n",
       "13      Mexico  0.01  0.0  0.05  0.07\n",
       "3     Campeche  0.00  0.0  0.10  0.04"
      ]
     },
     "execution_count": 60,
     "metadata": {},
     "output_type": "execute_result"
    }
   ],
   "source": [
    "pct_df.sort_values(by=['SF'], ascending=False)[0:5]"
   ]
  },
  {
   "cell_type": "markdown",
   "metadata": {},
   "source": [
    "## How much overlap is there in the major regions for each group?"
   ]
  },
  {
   "cell_type": "code",
   "execution_count": 61,
   "metadata": {
    "ExecuteTime": {
     "end_time": "2020-08-13T18:46:16.096194Z",
     "start_time": "2020-08-13T18:46:16.090344Z"
    }
   },
   "outputs": [],
   "source": [
    "nyc_top5 = list(pct_df.sort_values(by=['NYC'], ascending=False)[0:5]['Region'])"
   ]
  },
  {
   "cell_type": "code",
   "execution_count": 62,
   "metadata": {
    "ExecuteTime": {
     "end_time": "2020-08-13T18:46:23.299445Z",
     "start_time": "2020-08-13T18:46:23.293707Z"
    }
   },
   "outputs": [],
   "source": [
    "chi_top5 = list(pct_df.sort_values(by=['Chi'], ascending=False)[0:5]['Region'])"
   ]
  },
  {
   "cell_type": "code",
   "execution_count": 63,
   "metadata": {
    "ExecuteTime": {
     "end_time": "2020-08-13T18:46:23.510837Z",
     "start_time": "2020-08-13T18:46:23.505060Z"
    }
   },
   "outputs": [],
   "source": [
    "dal_top5 = list(pct_df.sort_values(by=['Dal'], ascending=False)[0:5]['Region'])"
   ]
  },
  {
   "cell_type": "code",
   "execution_count": 64,
   "metadata": {
    "ExecuteTime": {
     "end_time": "2020-08-13T18:46:23.687640Z",
     "start_time": "2020-08-13T18:46:23.682341Z"
    }
   },
   "outputs": [],
   "source": [
    "sf_top5 =list(pct_df.sort_values(by=['SF'], ascending=False)[0:5]['Region'])"
   ]
  },
  {
   "cell_type": "code",
   "execution_count": 65,
   "metadata": {
    "ExecuteTime": {
     "end_time": "2020-08-13T18:46:23.832413Z",
     "start_time": "2020-08-13T18:46:23.827839Z"
    }
   },
   "outputs": [
    {
     "name": "stdout",
     "output_type": "stream",
     "text": [
      "['Puebla', 'Yucatan', 'Chihuahua', 'Baja California', 'Oaxaca']\n",
      "['Jalisco', 'Michoacan de Ocampo', 'Ciudad de Mexico', 'Tabasco', 'Guerrero']\n",
      "['Michoacan de Ocampo', 'Campeche', 'Veracruz', 'Guerrero', 'Hidalgo']\n",
      "['Guanajuato', 'Yucatan', 'Chihuahua', 'Mexico', 'Campeche']\n"
     ]
    }
   ],
   "source": [
    "print(nyc_top5)\n",
    "print(chi_top5)\n",
    "print(dal_top5)\n",
    "print(sf_top5)"
   ]
  },
  {
   "cell_type": "code",
   "execution_count": 66,
   "metadata": {
    "ExecuteTime": {
     "end_time": "2020-08-13T18:46:25.697313Z",
     "start_time": "2020-08-13T18:46:25.692985Z"
    }
   },
   "outputs": [],
   "source": [
    "top5_region_dict = {y:0 for x in [nyc_top5, chi_top5, dal_top5, sf_top5] for y in x}"
   ]
  },
  {
   "cell_type": "code",
   "execution_count": 67,
   "metadata": {
    "ExecuteTime": {
     "end_time": "2020-08-13T18:46:25.941982Z",
     "start_time": "2020-08-13T18:46:25.936819Z"
    }
   },
   "outputs": [],
   "source": [
    "for sublist in [nyc_top5, chi_top5, dal_top5, sf_top5]:\n",
    "    for region in sublist:\n",
    "        for key, value in top5_region_dict.items():\n",
    "            if region == key:\n",
    "                top5_region_dict[key] += 1"
   ]
  },
  {
   "cell_type": "code",
   "execution_count": 68,
   "metadata": {
    "ExecuteTime": {
     "end_time": "2020-08-13T18:46:26.205432Z",
     "start_time": "2020-08-13T18:46:26.200828Z"
    }
   },
   "outputs": [],
   "source": [
    "# only showing the most common regions\n",
    "top5_more_than_2_list = []\n",
    "for key, value in top5_region_dict.items():\n",
    "    if value >= 2:\n",
    "        top5_more_than_2_list.append(key)"
   ]
  },
  {
   "cell_type": "code",
   "execution_count": 69,
   "metadata": {
    "ExecuteTime": {
     "end_time": "2020-08-13T18:46:26.530512Z",
     "start_time": "2020-08-13T18:46:26.524983Z"
    }
   },
   "outputs": [
    {
     "data": {
      "text/plain": [
       "['Yucatan', 'Chihuahua', 'Michoacan de Ocampo', 'Guerrero', 'Campeche']"
      ]
     },
     "execution_count": 69,
     "metadata": {},
     "output_type": "execute_result"
    }
   ],
   "source": [
    "top5_more_than_2_list"
   ]
  },
  {
   "cell_type": "markdown",
   "metadata": {},
   "source": [
    "### Top 2 countries"
   ]
  },
  {
   "cell_type": "code",
   "execution_count": 70,
   "metadata": {
    "ExecuteTime": {
     "end_time": "2020-08-13T18:46:31.730368Z",
     "start_time": "2020-08-13T18:46:31.724724Z"
    }
   },
   "outputs": [],
   "source": [
    "nyc_top2 = list(pct_df.sort_values(by=['NYC'], ascending=False)[0:2]['Region'])"
   ]
  },
  {
   "cell_type": "code",
   "execution_count": 71,
   "metadata": {
    "ExecuteTime": {
     "end_time": "2020-08-13T18:46:31.893541Z",
     "start_time": "2020-08-13T18:46:31.887553Z"
    }
   },
   "outputs": [],
   "source": [
    "chi_top2 = list(pct_df.sort_values(by=['Chi'], ascending=False)[0:2]['Region'])"
   ]
  },
  {
   "cell_type": "code",
   "execution_count": 72,
   "metadata": {
    "ExecuteTime": {
     "end_time": "2020-08-13T18:46:32.065564Z",
     "start_time": "2020-08-13T18:46:32.059768Z"
    }
   },
   "outputs": [],
   "source": [
    "dal_top2 = list(pct_df.sort_values(by=['Dal'], ascending=False)[0:2]['Region'])"
   ]
  },
  {
   "cell_type": "code",
   "execution_count": 73,
   "metadata": {
    "ExecuteTime": {
     "end_time": "2020-08-13T18:46:32.230436Z",
     "start_time": "2020-08-13T18:46:32.224964Z"
    }
   },
   "outputs": [],
   "source": [
    "sf_top2 =list(pct_df.sort_values(by=['SF'], ascending=False)[0:2]['Region'])"
   ]
  },
  {
   "cell_type": "code",
   "execution_count": 74,
   "metadata": {
    "ExecuteTime": {
     "end_time": "2020-08-13T18:46:32.392339Z",
     "start_time": "2020-08-13T18:46:32.387617Z"
    }
   },
   "outputs": [
    {
     "name": "stdout",
     "output_type": "stream",
     "text": [
      "['Puebla', 'Yucatan']\n",
      "['Jalisco', 'Michoacan de Ocampo']\n",
      "['Michoacan de Ocampo', 'Campeche']\n",
      "['Guanajuato', 'Yucatan']\n"
     ]
    }
   ],
   "source": [
    "print(nyc_top2)\n",
    "print(chi_top2)\n",
    "print(dal_top2)\n",
    "print(sf_top2)"
   ]
  },
  {
   "cell_type": "code",
   "execution_count": 75,
   "metadata": {
    "ExecuteTime": {
     "end_time": "2020-08-13T18:46:32.553525Z",
     "start_time": "2020-08-13T18:46:32.549226Z"
    }
   },
   "outputs": [],
   "source": [
    "region_in_top2 = []\n",
    "for lst in [nyc_top2, chi_top2, dal_top2, sf_top2]:\n",
    "    for item in lst:\n",
    "        if item not in region_in_top2:\n",
    "            region_in_top2.append(item)"
   ]
  },
  {
   "cell_type": "code",
   "execution_count": 76,
   "metadata": {
    "ExecuteTime": {
     "end_time": "2020-08-13T18:46:33.376561Z",
     "start_time": "2020-08-13T18:46:33.370425Z"
    }
   },
   "outputs": [
    {
     "data": {
      "text/plain": [
       "['Puebla',\n",
       " 'Yucatan',\n",
       " 'Jalisco',\n",
       " 'Michoacan de Ocampo',\n",
       " 'Campeche',\n",
       " 'Guanajuato']"
      ]
     },
     "execution_count": 76,
     "metadata": {},
     "output_type": "execute_result"
    }
   ],
   "source": [
    "region_in_top2"
   ]
  },
  {
   "cell_type": "code",
   "execution_count": 181,
   "metadata": {
    "ExecuteTime": {
     "end_time": "2020-08-14T14:32:11.132749Z",
     "start_time": "2020-08-14T14:32:11.115109Z"
    }
   },
   "outputs": [
    {
     "data": {
      "text/html": [
       "<div>\n",
       "<style scoped>\n",
       "    .dataframe tbody tr th:only-of-type {\n",
       "        vertical-align: middle;\n",
       "    }\n",
       "\n",
       "    .dataframe tbody tr th {\n",
       "        vertical-align: top;\n",
       "    }\n",
       "\n",
       "    .dataframe thead th {\n",
       "        text-align: right;\n",
       "    }\n",
       "</style>\n",
       "<table border=\"1\" class=\"dataframe\">\n",
       "  <thead>\n",
       "    <tr style=\"text-align: right;\">\n",
       "      <th></th>\n",
       "      <th>Region</th>\n",
       "      <th>NYC</th>\n",
       "      <th>Chi</th>\n",
       "      <th>Dal</th>\n",
       "      <th>SF</th>\n",
       "    </tr>\n",
       "  </thead>\n",
       "  <tbody>\n",
       "    <tr>\n",
       "      <th>0</th>\n",
       "      <td>Campeche</td>\n",
       "      <td>0.00</td>\n",
       "      <td>0.00</td>\n",
       "      <td>0.10</td>\n",
       "      <td>0.04</td>\n",
       "    </tr>\n",
       "    <tr>\n",
       "      <th>1</th>\n",
       "      <td>Guanajuato</td>\n",
       "      <td>0.00</td>\n",
       "      <td>0.00</td>\n",
       "      <td>0.01</td>\n",
       "      <td>0.40</td>\n",
       "    </tr>\n",
       "    <tr>\n",
       "      <th>2</th>\n",
       "      <td>Jalisco</td>\n",
       "      <td>0.02</td>\n",
       "      <td>0.29</td>\n",
       "      <td>0.04</td>\n",
       "      <td>0.02</td>\n",
       "    </tr>\n",
       "    <tr>\n",
       "      <th>3</th>\n",
       "      <td>Puebla</td>\n",
       "      <td>0.37</td>\n",
       "      <td>0.00</td>\n",
       "      <td>0.01</td>\n",
       "      <td>0.00</td>\n",
       "    </tr>\n",
       "    <tr>\n",
       "      <th>4</th>\n",
       "      <td>Yucatan</td>\n",
       "      <td>0.13</td>\n",
       "      <td>0.00</td>\n",
       "      <td>0.04</td>\n",
       "      <td>0.11</td>\n",
       "    </tr>\n",
       "  </tbody>\n",
       "</table>\n",
       "</div>"
      ],
      "text/plain": [
       "       Region   NYC   Chi   Dal    SF\n",
       "0    Campeche  0.00  0.00  0.10  0.04\n",
       "1  Guanajuato  0.00  0.00  0.01  0.40\n",
       "2     Jalisco  0.02  0.29  0.04  0.02\n",
       "3      Puebla  0.37  0.00  0.01  0.00\n",
       "4     Yucatan  0.13  0.00  0.04  0.11"
      ]
     },
     "execution_count": 181,
     "metadata": {},
     "output_type": "execute_result"
    }
   ],
   "source": [
    "top2_df = pct_df[pct_df['Region'].isin(region_in_top2)].reset_index(drop=True)\n",
    "top2_df"
   ]
  },
  {
   "cell_type": "markdown",
   "metadata": {},
   "source": [
    "# Displaying Data"
   ]
  },
  {
   "cell_type": "markdown",
   "metadata": {},
   "source": [
    "## Geodataframe"
   ]
  },
  {
   "cell_type": "code",
   "execution_count": 135,
   "metadata": {
    "ExecuteTime": {
     "end_time": "2020-08-13T19:09:45.947546Z",
     "start_time": "2020-08-13T19:09:45.733176Z"
    },
    "scrolled": true
   },
   "outputs": [],
   "source": [
    "# shapefile issue fixed here: https://github.com/Toblerity/Fiona/issues/548 \n",
    "# and https://stackoverflow.com/questions/61436956/set-shape-restore-shx-config-option-to-yes-to-restore-or-create-it\n",
    "mex_gdf = geopandas.read_file(\"./data/MEX_adm1.shp\")"
   ]
  },
  {
   "cell_type": "code",
   "execution_count": 136,
   "metadata": {
    "ExecuteTime": {
     "end_time": "2020-08-13T19:09:48.264388Z",
     "start_time": "2020-08-13T19:09:47.676752Z"
    }
   },
   "outputs": [
    {
     "data": {
      "text/plain": [
       "<matplotlib.axes._subplots.AxesSubplot at 0x7ffe4aeeae48>"
      ]
     },
     "execution_count": 136,
     "metadata": {},
     "output_type": "execute_result"
    },
    {
     "data": {
      "image/png": "[encoded data removed]",
      "text/plain": [
       "<Figure size 432x288 with 1 Axes>"
      ]
     },
     "metadata": {
      "needs_background": "light"
     },
     "output_type": "display_data"
    }
   ],
   "source": [
    "mex_gdf.plot()"
   ]
  },
  {
   "cell_type": "markdown",
   "metadata": {},
   "source": [
    "### Removing Unnecessary columns"
   ]
  },
  {
   "cell_type": "code",
   "execution_count": 138,
   "metadata": {
    "ExecuteTime": {
     "end_time": "2020-08-13T19:09:56.667000Z",
     "start_time": "2020-08-13T19:09:56.660414Z"
    }
   },
   "outputs": [],
   "source": [
    "mex_gdf.drop(columns = ['ID_0', 'ID_1', 'ISO', 'NAME_0', 'HASC_1', 'CC_1', 'VALIDFR_1', 'VALIDTO_1', 'REMARKS_1',\n",
    "       'TYPE_1', 'ENGTYPE_1', 'NL_NAME_1', 'VARNAME_1'], inplace=True)"
   ]
  },
  {
   "cell_type": "code",
   "execution_count": 139,
   "metadata": {
    "ExecuteTime": {
     "end_time": "2020-08-13T19:09:58.421840Z",
     "start_time": "2020-08-13T19:09:58.417952Z"
    }
   },
   "outputs": [],
   "source": [
    "regions = [unidecode.unidecode(x) for x in mex_gdf['NAME_1']]\n",
    "mex_gdf['Region'] = regions"
   ]
  },
  {
   "cell_type": "markdown",
   "metadata": {},
   "source": [
    "### Adding pct_df data"
   ]
  },
  {
   "cell_type": "code",
   "execution_count": 141,
   "metadata": {
    "ExecuteTime": {
     "end_time": "2020-08-13T19:10:16.068939Z",
     "start_time": "2020-08-13T19:10:16.065041Z"
    }
   },
   "outputs": [],
   "source": [
    "# which regions are missing in pct_df \n",
    "pct_df_names = list(pct_df['Region'])"
   ]
  },
  {
   "cell_type": "code",
   "execution_count": 142,
   "metadata": {
    "ExecuteTime": {
     "end_time": "2020-08-13T19:10:17.818089Z",
     "start_time": "2020-08-13T19:10:17.814268Z"
    }
   },
   "outputs": [
    {
     "data": {
      "text/plain": [
       "29"
      ]
     },
     "execution_count": 142,
     "metadata": {},
     "output_type": "execute_result"
    }
   ],
   "source": [
    "len(pct_df_names)"
   ]
  },
  {
   "cell_type": "code",
   "execution_count": 143,
   "metadata": {
    "ExecuteTime": {
     "end_time": "2020-08-13T19:10:19.554122Z",
     "start_time": "2020-08-13T19:10:19.550852Z"
    }
   },
   "outputs": [
    {
     "name": "stdout",
     "output_type": "stream",
     "text": [
      "Coahuila\n",
      "Distrito Federal\n",
      "Michoacan\n",
      "Queretaro\n",
      "Quintana Roo\n"
     ]
    }
   ],
   "source": [
    "# truly missing regions are: queretaro, coahuila, quintana roo\n",
    "for x in regions:\n",
    "    if x not in pct_df_names:\n",
    "        print(x)"
   ]
  },
  {
   "cell_type": "markdown",
   "metadata": {},
   "source": [
    "#### Renaming 2 regions in pct_df"
   ]
  },
  {
   "cell_type": "code",
   "execution_count": 146,
   "metadata": {
    "ExecuteTime": {
     "end_time": "2020-08-13T19:11:48.219115Z",
     "start_time": "2020-08-13T19:11:48.214629Z"
    }
   },
   "outputs": [],
   "source": [
    "pct_df['Region'][6] = 'Distrito Federal'\n",
    "pct_df['Region'][15] = 'Michoacan'"
   ]
  },
  {
   "cell_type": "markdown",
   "metadata": {},
   "source": [
    "#### Joining the two "
   ]
  },
  {
   "cell_type": "code",
   "execution_count": 147,
   "metadata": {
    "ExecuteTime": {
     "end_time": "2020-08-13T19:11:50.075215Z",
     "start_time": "2020-08-13T19:11:50.063194Z"
    }
   },
   "outputs": [],
   "source": [
    "mex_gdf2 = mex_gdf.merge(pct_df, left_on = 'Region', right_on = 'Region', how='outer')"
   ]
  },
  {
   "cell_type": "code",
   "execution_count": 148,
   "metadata": {
    "ExecuteTime": {
     "end_time": "2020-08-13T19:11:53.530374Z",
     "start_time": "2020-08-13T19:11:53.526275Z"
    }
   },
   "outputs": [],
   "source": [
    "mex_gdf2.fillna(value = 0, inplace=True)"
   ]
  },
  {
   "cell_type": "code",
   "execution_count": 149,
   "metadata": {
    "ExecuteTime": {
     "end_time": "2020-08-13T19:11:57.268848Z",
     "start_time": "2020-08-13T19:11:56.943265Z"
    }
   },
   "outputs": [
    {
     "data": {
      "text/html": [
       "<div>\n",
       "<style scoped>\n",
       "    .dataframe tbody tr th:only-of-type {\n",
       "        vertical-align: middle;\n",
       "    }\n",
       "\n",
       "    .dataframe tbody tr th {\n",
       "        vertical-align: top;\n",
       "    }\n",
       "\n",
       "    .dataframe thead th {\n",
       "        text-align: right;\n",
       "    }\n",
       "</style>\n",
       "<table border=\"1\" class=\"dataframe\">\n",
       "  <thead>\n",
       "    <tr style=\"text-align: right;\">\n",
       "      <th></th>\n",
       "      <th>NAME_1</th>\n",
       "      <th>Shape_Leng</th>\n",
       "      <th>Shape_Area</th>\n",
       "      <th>geometry</th>\n",
       "      <th>Region</th>\n",
       "      <th>NYC</th>\n",
       "      <th>Chi</th>\n",
       "      <th>Dal</th>\n",
       "      <th>SF</th>\n",
       "    </tr>\n",
       "  </thead>\n",
       "  <tbody>\n",
       "    <tr>\n",
       "      <th>0</th>\n",
       "      <td>Aguascalientes</td>\n",
       "      <td>2.805224</td>\n",
       "      <td>0.455085</td>\n",
       "      <td>POLYGON ((-102.12611 21.73960, -102.13392 21.7...</td>\n",
       "      <td>Aguascalientes</td>\n",
       "      <td>0.01</td>\n",
       "      <td>0.0</td>\n",
       "      <td>0.00</td>\n",
       "      <td>0.00</td>\n",
       "    </tr>\n",
       "    <tr>\n",
       "      <th>1</th>\n",
       "      <td>Baja California</td>\n",
       "      <td>30.144683</td>\n",
       "      <td>6.935158</td>\n",
       "      <td>MULTIPOLYGON (((-114.75681 18.37097, -114.7568...</td>\n",
       "      <td>Baja California</td>\n",
       "      <td>0.07</td>\n",
       "      <td>0.0</td>\n",
       "      <td>0.02</td>\n",
       "      <td>0.04</td>\n",
       "    </tr>\n",
       "  </tbody>\n",
       "</table>\n",
       "</div>"
      ],
      "text/plain": [
       "            NAME_1  Shape_Leng  Shape_Area  \\\n",
       "0   Aguascalientes    2.805224    0.455085   \n",
       "1  Baja California   30.144683    6.935158   \n",
       "\n",
       "                                            geometry           Region   NYC  \\\n",
       "0  POLYGON ((-102.12611 21.73960, -102.13392 21.7...   Aguascalientes  0.01   \n",
       "1  MULTIPOLYGON (((-114.75681 18.37097, -114.7568...  Baja California  0.07   \n",
       "\n",
       "   Chi   Dal    SF  \n",
       "0  0.0  0.00  0.00  \n",
       "1  0.0  0.02  0.04  "
      ]
     },
     "execution_count": 149,
     "metadata": {},
     "output_type": "execute_result"
    }
   ],
   "source": [
    "mex_gdf2.head(2)"
   ]
  },
  {
   "cell_type": "markdown",
   "metadata": {},
   "source": [
    "## Choropleth maps\n",
    "consistent scale: https://github.com/geopandas/geopandas/issues/1019"
   ]
  },
  {
   "cell_type": "markdown",
   "metadata": {},
   "source": [
    "### Consistent scale"
   ]
  },
  {
   "cell_type": "code",
   "execution_count": 150,
   "metadata": {
    "ExecuteTime": {
     "end_time": "2020-08-13T19:12:00.670195Z",
     "start_time": "2020-08-13T19:12:00.667654Z"
    }
   },
   "outputs": [],
   "source": [
    "bin_range_times10 = list(range(0, 5))\n",
    "bin_range = np.array(bin_range_times10) / 10"
   ]
  },
  {
   "cell_type": "code",
   "execution_count": 151,
   "metadata": {
    "ExecuteTime": {
     "end_time": "2020-08-13T19:12:04.497073Z",
     "start_time": "2020-08-13T19:12:04.047616Z"
    },
    "scrolled": true
   },
   "outputs": [
    {
     "data": {
      "text/plain": [
       "<matplotlib.axes._subplots.AxesSubplot at 0x7ffe4a8eb828>"
      ]
     },
     "execution_count": 151,
     "metadata": {},
     "output_type": "execute_result"
    },
    {
     "data": {
      "image/png": "[encoded data removed]",
      "text/plain": [
       "<Figure size 432x288 with 1 Axes>"
      ]
     },
     "metadata": {
      "needs_background": "light"
     },
     "output_type": "display_data"
    }
   ],
   "source": [
    "# NYC \n",
    "mex_gdf2.plot(column='NYC', legend=True, cmap='BuPu', scheme='User_Defined',\n",
    "              classification_kwds=dict(bins=bin_range))"
   ]
  },
  {
   "cell_type": "code",
   "execution_count": 152,
   "metadata": {
    "ExecuteTime": {
     "end_time": "2020-08-13T19:12:08.340719Z",
     "start_time": "2020-08-13T19:12:07.887383Z"
    }
   },
   "outputs": [
    {
     "data": {
      "text/plain": [
       "<matplotlib.axes._subplots.AxesSubplot at 0x7ffe610bc668>"
      ]
     },
     "execution_count": 152,
     "metadata": {},
     "output_type": "execute_result"
    },
    {
     "data": {
      "image/png": "[encoded data removed]",
      "text/plain": [
       "<Figure size 432x288 with 1 Axes>"
      ]
     },
     "metadata": {
      "needs_background": "light"
     },
     "output_type": "display_data"
    }
   ],
   "source": [
    "# chicago\n",
    "mex_gdf2.plot(column='Chi', legend=True, cmap = 'plasma',scheme='User_Defined',\n",
    "              classification_kwds=dict(bins=bin_range))"
   ]
  },
  {
   "cell_type": "code",
   "execution_count": 153,
   "metadata": {
    "ExecuteTime": {
     "end_time": "2020-08-13T19:12:12.162486Z",
     "start_time": "2020-08-13T19:12:11.714754Z"
    }
   },
   "outputs": [
    {
     "data": {
      "text/plain": [
       "<matplotlib.axes._subplots.AxesSubplot at 0x7ffe51457080>"
      ]
     },
     "execution_count": 153,
     "metadata": {},
     "output_type": "execute_result"
    },
    {
     "data": {
      "image/png": "[encoded data removed]",
      "text/plain": [
       "<Figure size 432x288 with 1 Axes>"
      ]
     },
     "metadata": {
      "needs_background": "light"
     },
     "output_type": "display_data"
    }
   ],
   "source": [
    "# dal\n",
    "mex_gdf2.plot(column='Dal', legend=True, cmap = 'cividis',\n",
    "              scheme='User_Defined',\n",
    "              classification_kwds=dict(bins=bin_range))"
   ]
  },
  {
   "cell_type": "code",
   "execution_count": 154,
   "metadata": {
    "ExecuteTime": {
     "end_time": "2020-08-13T19:12:15.981619Z",
     "start_time": "2020-08-13T19:12:15.534568Z"
    }
   },
   "outputs": [
    {
     "data": {
      "text/plain": [
       "<matplotlib.axes._subplots.AxesSubplot at 0x7ffe33e82da0>"
      ]
     },
     "execution_count": 154,
     "metadata": {},
     "output_type": "execute_result"
    },
    {
     "data": {
      "image/png": "[encoded data removed]",
      "text/plain": [
       "<Figure size 432x288 with 1 Axes>"
      ]
     },
     "metadata": {
      "needs_background": "light"
     },
     "output_type": "display_data"
    }
   ],
   "source": [
    "# sf\n",
    "mex_gdf2.plot(column='SF', legend=True, cmap = 'copper',scheme='User_Defined',\n",
    "              classification_kwds=dict(bins=bin_range))"
   ]
  },
  {
   "cell_type": "markdown",
   "metadata": {},
   "source": [
    "### Plotting all cities together\n",
    "multiple axes: https://matplotlib.org/devdocs/gallery/subplots_axes_and_figures/subplots_demo.html"
   ]
  },
  {
   "cell_type": "code",
   "execution_count": 155,
   "metadata": {
    "ExecuteTime": {
     "end_time": "2020-08-13T19:15:10.305946Z",
     "start_time": "2020-08-13T19:15:08.283680Z"
    }
   },
   "outputs": [
    {
     "data": {
      "application/javascript": [
       "\n",
       "        if (window._pyforest_update_imports_cell) { window._pyforest_update_imports_cell('import pickle\\nimport matplotlib.pyplot as plt\\nimport seaborn as sns\\nimport pandas as pd'); }\n",
       "    "
      ],
      "text/plain": [
       "<IPython.core.display.Javascript object>"
      ]
     },
     "metadata": {},
     "output_type": "display_data"
    },
    {
     "data": {
      "image/png": "[encoded data removed]",
      "text/plain": [
       "<Figure size 1080x720 with 4 Axes>"
      ]
     },
     "metadata": {
      "needs_background": "light"
     },
     "output_type": "display_data"
    }
   ],
   "source": [
    "fig,((ax1, ax2), (ax3, ax4)) = plt.subplots(2,2,figsize=(15,10))\n",
    "fig.suptitle('Percent of All Mexican Restaurants Referring to a Region From Four U.S. Cities', fontsize=20)\n",
    "mex_gdf2.plot(\n",
    "    column='NYC', ax=ax1, cmap = 'cividis', scheme='User_Defined',\n",
    "              classification_kwds=dict(bins=bin_range))\n",
    "ax1.set_title('NYC', fontsize=16)\n",
    "mex_gdf2.plot(\n",
    "    column='Chi', ax=ax2, cmap = 'cividis', scheme='User_Defined',\n",
    "              classification_kwds=dict(bins=bin_range))\n",
    "ax2.set_title('Chicago', fontsize=16)\n",
    "mex_gdf2.plot(\n",
    "    column='Dal', ax=ax3,  cmap = 'cividis', scheme='User_Defined',\n",
    "              classification_kwds=dict(bins=bin_range), legend=True)\n",
    "ax3.set_title('Dallas', fontsize=16)\n",
    "mex_gdf2.plot(\n",
    "    column='SF', ax=ax4,cmap = 'cividis', scheme='User_Defined',\n",
    "              classification_kwds=dict(bins=bin_range))\n",
    "ax4.set_title('San Francisco', fontsize=16)\n",
    "for ax in (ax1,ax2,ax3,ax4,):\n",
    "    ax.axis('off')\n",
    "# plt.savefig(\"./my_saved_data/Map_of_regions_from_all_cities.png\", pad_inches='tight', orientation='landscape')"
   ]
  },
  {
   "cell_type": "markdown",
   "metadata": {},
   "source": [
    "## Percent of Restaurants that Have a Region Associated With Them"
   ]
  },
  {
   "cell_type": "code",
   "execution_count": 156,
   "metadata": {
    "ExecuteTime": {
     "end_time": "2020-08-13T19:15:13.693815Z",
     "start_time": "2020-08-13T19:15:13.691186Z"
    }
   },
   "outputs": [
    {
     "name": "stdout",
     "output_type": "stream",
     "text": [
      "The percent of restaurants that had a name attached to a region was 10.0%\n"
     ]
    }
   ],
   "source": [
    "#NYC had 849 unique mexican restaurants, 20 matched\n",
    "print(f\"The percent of restaurants that had a name attached to a region was {round(86/849, 2) * 100}%\")"
   ]
  },
  {
   "cell_type": "code",
   "execution_count": 183,
   "metadata": {
    "ExecuteTime": {
     "end_time": "2020-08-14T16:44:54.842659Z",
     "start_time": "2020-08-14T16:44:54.712148Z"
    }
   },
   "outputs": [
    {
     "data": {
      "application/javascript": [
       "\n",
       "        if (window._pyforest_update_imports_cell) { window._pyforest_update_imports_cell('import pickle\\nimport matplotlib.pyplot as plt\\nimport seaborn as sns\\nimport pandas as pd'); }\n",
       "    "
      ],
      "text/plain": [
       "<IPython.core.display.Javascript object>"
      ]
     },
     "metadata": {},
     "output_type": "display_data"
    },
    {
     "data": {
      "application/javascript": [
       "\n",
       "        if (window._pyforest_update_imports_cell) { window._pyforest_update_imports_cell('import pickle\\nimport matplotlib.pyplot as plt\\nimport seaborn as sns\\nimport pandas as pd'); }\n",
       "    "
      ],
      "text/plain": [
       "<IPython.core.display.Javascript object>"
      ]
     },
     "metadata": {},
     "output_type": "display_data"
    },
    {
     "data": {
      "image/png": "[encoded data removed]",
      "text/plain": [
       "<Figure size 432x288 with 1 Axes>"
      ]
     },
     "metadata": {
      "needs_background": "light"
     },
     "output_type": "display_data"
    }
   ],
   "source": [
    "ax = sns.barplot(x=['Matched', 'Total'], y=[86, 849])\n",
    "ax.set_title('Number of Restaurants and Number of Region-Matching Restaurants in NYC', fontsize='large', fontweight='bold')\n",
    "ax.set_ylabel(\"Number of Restaurants\", fontweight='bold')\n",
    "plt.show()\n",
    "# plt.savefig(\"./my_saved_data/Matched_restaurants_vs_total.png\", pad_inches='tight')"
   ]
  },
  {
   "cell_type": "markdown",
   "metadata": {},
   "source": [
    "## Most Diverse Mexican Population"
   ]
  },
  {
   "cell_type": "code",
   "execution_count": 158,
   "metadata": {
    "ExecuteTime": {
     "end_time": "2020-08-13T19:15:21.283132Z",
     "start_time": "2020-08-13T19:15:21.275964Z"
    }
   },
   "outputs": [
    {
     "data": {
      "text/plain": [
       "array(['Chicago', 'Dallas', 'SF', 'NYC'], dtype=object)"
      ]
     },
     "execution_count": 158,
     "metadata": {},
     "output_type": "execute_result"
    }
   ],
   "source": [
    "all_df.City.unique()"
   ]
  },
  {
   "cell_type": "code",
   "execution_count": 159,
   "metadata": {
    "ExecuteTime": {
     "end_time": "2020-08-13T19:15:24.739632Z",
     "start_time": "2020-08-13T19:15:24.733035Z"
    }
   },
   "outputs": [
    {
     "data": {
      "text/html": [
       "<div>\n",
       "<style scoped>\n",
       "    .dataframe tbody tr th:only-of-type {\n",
       "        vertical-align: middle;\n",
       "    }\n",
       "\n",
       "    .dataframe tbody tr th {\n",
       "        vertical-align: top;\n",
       "    }\n",
       "\n",
       "    .dataframe thead th {\n",
       "        text-align: right;\n",
       "    }\n",
       "</style>\n",
       "<table border=\"1\" class=\"dataframe\">\n",
       "  <thead>\n",
       "    <tr style=\"text-align: right;\">\n",
       "      <th></th>\n",
       "      <th>City</th>\n",
       "      <th>Match</th>\n",
       "      <th>Region</th>\n",
       "    </tr>\n",
       "  </thead>\n",
       "  <tbody>\n",
       "    <tr>\n",
       "      <th>chilango</th>\n",
       "      <td>Chicago</td>\n",
       "      <td>chilango</td>\n",
       "      <td>Ciudad de Mexico</td>\n",
       "    </tr>\n",
       "    <tr>\n",
       "      <th>los alamos</th>\n",
       "      <td>Chicago</td>\n",
       "      <td>alamos</td>\n",
       "      <td>Tabasco</td>\n",
       "    </tr>\n",
       "  </tbody>\n",
       "</table>\n",
       "</div>"
      ],
      "text/plain": [
       "               City     Match            Region\n",
       "chilango    Chicago  chilango  Ciudad de Mexico\n",
       "los alamos  Chicago    alamos           Tabasco"
      ]
     },
     "execution_count": 159,
     "metadata": {},
     "output_type": "execute_result"
    }
   ],
   "source": [
    "all_df.head(2)"
   ]
  },
  {
   "cell_type": "code",
   "execution_count": 161,
   "metadata": {
    "ExecuteTime": {
     "end_time": "2020-08-13T19:15:36.363270Z",
     "start_time": "2020-08-13T19:15:36.354990Z"
    }
   },
   "outputs": [
    {
     "data": {
      "text/plain": [
       "[5, 28, 21, 14]"
      ]
     },
     "execution_count": 161,
     "metadata": {},
     "output_type": "execute_result"
    }
   ],
   "source": [
    "nunique_regions = all_df.groupby(['City']).Region.nunique()\n",
    "list(nunique_regions)"
   ]
  },
  {
   "cell_type": "code",
   "execution_count": 162,
   "metadata": {
    "ExecuteTime": {
     "end_time": "2020-08-13T19:15:39.802269Z",
     "start_time": "2020-08-13T19:15:39.797789Z"
    }
   },
   "outputs": [
    {
     "data": {
      "text/plain": [
       "[6, 140, 86, 45]"
      ]
     },
     "execution_count": 162,
     "metadata": {},
     "output_type": "execute_result"
    }
   ],
   "source": [
    "nunique_restaurants = all_df.groupby(['City']).Region.count()\n",
    "list(nunique_restaurants)"
   ]
  },
  {
   "cell_type": "code",
   "execution_count": 163,
   "metadata": {
    "ExecuteTime": {
     "end_time": "2020-08-13T19:15:43.264233Z",
     "start_time": "2020-08-13T19:15:43.260517Z"
    }
   },
   "outputs": [
    {
     "data": {
      "text/plain": [
       "Index(['Chicago', 'Dallas', 'NYC', 'SF'], dtype='object', name='City')"
      ]
     },
     "execution_count": 163,
     "metadata": {},
     "output_type": "execute_result"
    }
   ],
   "source": [
    "nunique_regions.keys()"
   ]
  },
  {
   "cell_type": "code",
   "execution_count": 164,
   "metadata": {
    "ExecuteTime": {
     "end_time": "2020-08-13T19:15:46.704335Z",
     "start_time": "2020-08-13T19:15:46.700040Z"
    }
   },
   "outputs": [
    {
     "data": {
      "text/plain": [
       "array([0.83333333, 0.2       , 0.24418605, 0.31111111])"
      ]
     },
     "execution_count": 164,
     "metadata": {},
     "output_type": "execute_result"
    }
   ],
   "source": [
    "pct_unique = np.array(list(nunique_regions)) / np.array(list(nunique_restaurants))\n",
    "pct_unique"
   ]
  },
  {
   "cell_type": "code",
   "execution_count": 165,
   "metadata": {
    "ExecuteTime": {
     "end_time": "2020-08-13T19:15:51.185395Z",
     "start_time": "2020-08-13T19:15:51.178410Z"
    }
   },
   "outputs": [
    {
     "data": {
      "text/plain": [
       "{'Chicago': 0.8333333333333334,\n",
       " 'Dallas': 0.2,\n",
       " 'NYC': 0.2441860465116279,\n",
       " 'SF': 0.3111111111111111}"
      ]
     },
     "execution_count": 165,
     "metadata": {},
     "output_type": "execute_result"
    }
   ],
   "source": [
    "pct_unique_dict = dict(zip(nunique_regions.keys(), pct_unique))\n",
    "pct_unique_dict"
   ]
  },
  {
   "cell_type": "markdown",
   "metadata": {},
   "source": [
    "### Saving Diversity of Restaurants Dict"
   ]
  },
  {
   "cell_type": "code",
   "execution_count": 166,
   "metadata": {
    "ExecuteTime": {
     "end_time": "2020-08-13T19:15:54.670232Z",
     "start_time": "2020-08-13T19:15:54.668209Z"
    }
   },
   "outputs": [],
   "source": [
    "# with open ('./my_saved_data/restaurant_region_diversity.pickle', 'wb+') as f:\n",
    "#     pickle.dump(pct_unique_dict, f)"
   ]
  },
  {
   "cell_type": "markdown",
   "metadata": {},
   "source": [
    "## Count of matching Restaurants Across Cities"
   ]
  },
  {
   "cell_type": "code",
   "execution_count": 167,
   "metadata": {
    "ExecuteTime": {
     "end_time": "2020-08-13T19:15:58.096967Z",
     "start_time": "2020-08-13T19:15:58.094216Z"
    }
   },
   "outputs": [],
   "source": [
    "cities = list(nunique_regions.keys())"
   ]
  },
  {
   "cell_type": "code",
   "execution_count": 168,
   "metadata": {
    "ExecuteTime": {
     "end_time": "2020-08-13T19:16:01.538114Z",
     "start_time": "2020-08-13T19:16:01.534145Z"
    }
   },
   "outputs": [
    {
     "data": {
      "text/plain": [
       "[6, 140, 86, 45]"
      ]
     },
     "execution_count": 168,
     "metadata": {},
     "output_type": "execute_result"
    }
   ],
   "source": [
    "num_of_restaurants = list(nunique_restaurants)\n",
    "num_of_restaurants"
   ]
  },
  {
   "cell_type": "code",
   "execution_count": 179,
   "metadata": {
    "ExecuteTime": {
     "end_time": "2020-08-13T19:19:48.914015Z",
     "start_time": "2020-08-13T19:19:48.719689Z"
    }
   },
   "outputs": [
    {
     "data": {
      "application/javascript": [
       "\n",
       "        if (window._pyforest_update_imports_cell) { window._pyforest_update_imports_cell('import pickle\\nimport matplotlib.pyplot as plt\\nimport seaborn as sns\\nimport pandas as pd'); }\n",
       "    "
      ],
      "text/plain": [
       "<IPython.core.display.Javascript object>"
      ]
     },
     "metadata": {},
     "output_type": "display_data"
    },
    {
     "data": {
      "application/javascript": [
       "\n",
       "        if (window._pyforest_update_imports_cell) { window._pyforest_update_imports_cell('import pickle\\nimport matplotlib.pyplot as plt\\nimport seaborn as sns\\nimport pandas as pd'); }\n",
       "    "
      ],
      "text/plain": [
       "<IPython.core.display.Javascript object>"
      ]
     },
     "metadata": {},
     "output_type": "display_data"
    },
    {
     "data": {
      "application/javascript": [
       "\n",
       "        if (window._pyforest_update_imports_cell) { window._pyforest_update_imports_cell('import pickle\\nimport matplotlib.pyplot as plt\\nimport seaborn as sns\\nimport pandas as pd'); }\n",
       "    "
      ],
      "text/plain": [
       "<IPython.core.display.Javascript object>"
      ]
     },
     "metadata": {},
     "output_type": "display_data"
    },
    {
     "data": {
      "image/png": "[encoded data removed]",
      "text/plain": [
       "<Figure size 504x360 with 1 Axes>"
      ]
     },
     "metadata": {
      "needs_background": "light"
     },
     "output_type": "display_data"
    }
   ],
   "source": [
    "fig= plt.subplots(figsize=(7, 5))\n",
    "ax = sns.barplot(x = cities, y = num_of_restaurants)\n",
    "ax.set_title('Number of Region-Matching Restaurants in Different U.S. Cities', fontsize='large',\n",
    "             fontweight='bold')\n",
    "ax.set_ylabel(\"Number of Restaurants\", fontweight='bold')\n",
    "ax.set_xlabel(\"Cities\", fontweight='bold')\n",
    "# plt.savefig(\"./my_saved_data/number_of_restaurants_for_each_city.png\", pad_inches='tight')"
   ]
  },
  {
   "cell_type": "markdown",
   "metadata": {},
   "source": [
    "# Considering All Data Together"
   ]
  },
  {
   "cell_type": "code",
   "execution_count": 257,
   "metadata": {
    "ExecuteTime": {
     "end_time": "2020-08-14T17:24:27.391297Z",
     "start_time": "2020-08-14T17:24:27.380569Z"
    }
   },
   "outputs": [
    {
     "data": {
      "text/html": [
       "<div>\n",
       "<style scoped>\n",
       "    .dataframe tbody tr th:only-of-type {\n",
       "        vertical-align: middle;\n",
       "    }\n",
       "\n",
       "    .dataframe tbody tr th {\n",
       "        vertical-align: top;\n",
       "    }\n",
       "\n",
       "    .dataframe thead th {\n",
       "        text-align: right;\n",
       "    }\n",
       "</style>\n",
       "<table border=\"1\" class=\"dataframe\">\n",
       "  <thead>\n",
       "    <tr style=\"text-align: right;\">\n",
       "      <th></th>\n",
       "      <th>Region</th>\n",
       "      <th>Count_of_restaurants</th>\n",
       "      <th>Percent_of_all_restaurants</th>\n",
       "    </tr>\n",
       "  </thead>\n",
       "  <tbody>\n",
       "    <tr>\n",
       "      <th>0</th>\n",
       "      <td>Puebla</td>\n",
       "      <td>33</td>\n",
       "      <td>0.12</td>\n",
       "    </tr>\n",
       "    <tr>\n",
       "      <th>22</th>\n",
       "      <td>Michoacan de Ocampo</td>\n",
       "      <td>31</td>\n",
       "      <td>0.11</td>\n",
       "    </tr>\n",
       "    <tr>\n",
       "      <th>1</th>\n",
       "      <td>Yucatan</td>\n",
       "      <td>22</td>\n",
       "      <td>0.08</td>\n",
       "    </tr>\n",
       "    <tr>\n",
       "      <th>26</th>\n",
       "      <td>Guanajuato</td>\n",
       "      <td>20</td>\n",
       "      <td>0.07</td>\n",
       "    </tr>\n",
       "    <tr>\n",
       "      <th>6</th>\n",
       "      <td>Veracruz</td>\n",
       "      <td>17</td>\n",
       "      <td>0.06</td>\n",
       "    </tr>\n",
       "    <tr>\n",
       "      <th>25</th>\n",
       "      <td>Campeche</td>\n",
       "      <td>16</td>\n",
       "      <td>0.06</td>\n",
       "    </tr>\n",
       "    <tr>\n",
       "      <th>10</th>\n",
       "      <td>Guerrero</td>\n",
       "      <td>15</td>\n",
       "      <td>0.05</td>\n",
       "    </tr>\n",
       "    <tr>\n",
       "      <th>8</th>\n",
       "      <td>Hidalgo</td>\n",
       "      <td>10</td>\n",
       "      <td>0.04</td>\n",
       "    </tr>\n",
       "    <tr>\n",
       "      <th>11</th>\n",
       "      <td>Jalisco</td>\n",
       "      <td>11</td>\n",
       "      <td>0.04</td>\n",
       "    </tr>\n",
       "    <tr>\n",
       "      <th>12</th>\n",
       "      <td>Mexico</td>\n",
       "      <td>11</td>\n",
       "      <td>0.04</td>\n",
       "    </tr>\n",
       "  </tbody>\n",
       "</table>\n",
       "</div>"
      ],
      "text/plain": [
       "                 Region  Count_of_restaurants  Percent_of_all_restaurants\n",
       "0                Puebla                    33                        0.12\n",
       "22  Michoacan de Ocampo                    31                        0.11\n",
       "1               Yucatan                    22                        0.08\n",
       "26           Guanajuato                    20                        0.07\n",
       "6              Veracruz                    17                        0.06\n",
       "25             Campeche                    16                        0.06\n",
       "10             Guerrero                    15                        0.05\n",
       "8               Hidalgo                    10                        0.04\n",
       "11              Jalisco                    11                        0.04\n",
       "12               Mexico                    11                        0.04"
      ]
     },
     "execution_count": 257,
     "metadata": {},
     "output_type": "execute_result"
    }
   ],
   "source": [
    "all_rest_df.sort_values(by = ['Percent_of_all_restaurants'], ascending=False).head(10)"
   ]
  },
  {
   "cell_type": "code",
   "execution_count": 194,
   "metadata": {
    "ExecuteTime": {
     "end_time": "2020-08-14T17:02:54.552573Z",
     "start_time": "2020-08-14T17:02:54.546718Z"
    },
    "scrolled": true
   },
   "outputs": [
    {
     "name": "stdout",
     "output_type": "stream",
     "text": [
      "Ciudad de Mexico\n",
      "Michoacan de Ocampo\n"
     ]
    }
   ],
   "source": [
    "for x in all_rest_df.index:\n",
    "    if x not in list(mex_gdf.Region):\n",
    "        print(x)"
   ]
  },
  {
   "cell_type": "code",
   "execution_count": 204,
   "metadata": {
    "ExecuteTime": {
     "end_time": "2020-08-14T17:04:52.298180Z",
     "start_time": "2020-08-14T17:04:52.293399Z"
    }
   },
   "outputs": [],
   "source": [
    "mex_gdf['Region'][8] = 'Ciudad de Mexico'\n",
    "mex_gdf['Region'][15] = \"Michoacan de Ocampo\""
   ]
  },
  {
   "cell_type": "code",
   "execution_count": 208,
   "metadata": {
    "ExecuteTime": {
     "end_time": "2020-08-14T17:05:51.831893Z",
     "start_time": "2020-08-14T17:05:51.826517Z"
    }
   },
   "outputs": [],
   "source": [
    "all_rest_df.reset_index(inplace=True)"
   ]
  },
  {
   "cell_type": "code",
   "execution_count": 211,
   "metadata": {
    "ExecuteTime": {
     "end_time": "2020-08-14T17:06:27.847280Z",
     "start_time": "2020-08-14T17:06:27.842802Z"
    }
   },
   "outputs": [],
   "source": [
    "all_rest_df.columns = ['Region', \"Count_of_restaurants\", \"Percent_of_all_restaurants\"]"
   ]
  },
  {
   "cell_type": "code",
   "execution_count": 212,
   "metadata": {
    "ExecuteTime": {
     "end_time": "2020-08-14T17:06:31.555390Z",
     "start_time": "2020-08-14T17:06:31.544644Z"
    }
   },
   "outputs": [],
   "source": [
    "mex_gdf3 = mex_gdf.merge(all_rest_df, left_on = 'Region', right_on = 'Region', how='outer')"
   ]
  },
  {
   "cell_type": "code",
   "execution_count": 217,
   "metadata": {
    "ExecuteTime": {
     "end_time": "2020-08-14T17:09:56.653081Z",
     "start_time": "2020-08-14T17:09:56.647560Z"
    }
   },
   "outputs": [],
   "source": [
    "mex_gdf3.fillna(value = 0, inplace=True)"
   ]
  },
  {
   "cell_type": "markdown",
   "metadata": {},
   "source": [
    "## Plotting"
   ]
  },
  {
   "cell_type": "code",
   "execution_count": 231,
   "metadata": {
    "ExecuteTime": {
     "end_time": "2020-08-14T17:12:30.461868Z",
     "start_time": "2020-08-14T17:12:30.457649Z"
    }
   },
   "outputs": [],
   "source": [
    "bin_range_times13 = list(range(0, 13, 2))\n",
    "bin_range13 = np.array(bin_range_times13) / 100"
   ]
  },
  {
   "cell_type": "code",
   "execution_count": 256,
   "metadata": {
    "ExecuteTime": {
     "end_time": "2020-08-14T17:23:44.860270Z",
     "start_time": "2020-08-14T17:23:44.223373Z"
    },
    "scrolled": true
   },
   "outputs": [
    {
     "data": {
      "application/javascript": [
       "\n",
       "        if (window._pyforest_update_imports_cell) { window._pyforest_update_imports_cell('import pickle\\nimport seaborn as sns\\nfrom sklearn.ensemble import RandomForestRegressor\\nimport pandas as pd\\nfrom sklearn.ensemble import GradientBoostingClassifier\\nfrom pathlib import Path\\nfrom sklearn.manifold import TSNE\\nimport matplotlib.pyplot as plt\\nfrom sklearn.feature_extraction.text import TfidfVectorizer\\nfrom sklearn.ensemble import RandomForestClassifier\\nimport altair as alt\\nfrom sklearn.ensemble import GradientBoostingRegressor\\nfrom pyspark import SparkContext\\nfrom sklearn.preprocessing import OneHotEncoder'); }\n",
       "    "
      ],
      "text/plain": [
       "<IPython.core.display.Javascript object>"
      ]
     },
     "metadata": {},
     "output_type": "display_data"
    },
    {
     "data": {
      "application/javascript": [
       "\n",
       "        if (window._pyforest_update_imports_cell) { window._pyforest_update_imports_cell('import pickle\\nimport seaborn as sns\\nfrom sklearn.ensemble import RandomForestRegressor\\nimport pandas as pd\\nfrom sklearn.ensemble import GradientBoostingClassifier\\nfrom pathlib import Path\\nfrom sklearn.manifold import TSNE\\nimport matplotlib.pyplot as plt\\nfrom sklearn.feature_extraction.text import TfidfVectorizer\\nfrom sklearn.ensemble import RandomForestClassifier\\nimport altair as alt\\nfrom sklearn.ensemble import GradientBoostingRegressor\\nfrom pyspark import SparkContext\\nfrom sklearn.preprocessing import OneHotEncoder'); }\n",
       "    "
      ],
      "text/plain": [
       "<IPython.core.display.Javascript object>"
      ]
     },
     "metadata": {},
     "output_type": "display_data"
    },
    {
     "data": {
      "image/png": "[encoded data removed]",
      "text/plain": [
       "<Figure size 576x288 with 1 Axes>"
      ]
     },
     "metadata": {
      "needs_background": "light"
     },
     "output_type": "display_data"
    }
   ],
   "source": [
    "fig, ax = plt.subplots(1, figsize=(8,4))\n",
    "# fig.title('Percent of All Mexican Restaurants Referring to a Region From Four U.S. Cities', fontsize=20)\n",
    "mex_gdf3.plot(column='Percent_of_all_restaurants', cmap = 'cividis', legend=True, \n",
    "              scheme='User_Defined', ax=ax,\n",
    "              classification_kwds=dict(bins=bin_range13))\n",
    "ax.set_title(\"Distribution of Mexican Restaurants By Home Region in Mexico\",fontsize=16)\n",
    "# plt.savefig(\"./my_saved_data/Map_of_all_restaurants_and_their_regions.png\", pad_inches='tight', orientation='landscape')"
   ]
  },
  {
   "cell_type": "markdown",
   "metadata": {},
   "source": [
    "# Conclusions"
   ]
  },
  {
   "cell_type": "markdown",
   "metadata": {},
   "source": [
    "All 4 cities have [Mexican immigrant populations larger than 250k](https://247wallst.com/economy/2017/01/27/us-cities-with-the-most-mexican-immigrants/). Despite this surface similarity, it turns out that they don't all come from similar regions in Mexico. No region was in the top 5 most popular region for more than 2 of these cities. This suggests that immigration from Mexico was not dominated by one region but came from all regions of Mexico (except 3: Quintana Roo, Queretaro, Coahuila). Similarly, we see that there are no single region that makes up the majority of any US city's Mexican population: in all cases, no region accounted for more than 40% of the restaurants with regions associated with their names. This did have some variation, however: in San Francisco Guanajuato accounts for 40% of the restaurants while in Dallas the most dominant group accounts for 21% of the population."
   ]
  },
  {
   "cell_type": "markdown",
   "metadata": {},
   "source": [
    "Some shortcomings of this project are the quality of this data: both for the demonym dictionary and the inspection data. The demonym dictionary had many entries, but there were some clear errors, e.g.: the restaurant 'jalisco' in Dallas was originally associated with \"Ciudad de Mexico\" instead of the region Jalisco (this was corrected). Additionally, it is not clear if **all** restaurants in each city are included in this data, or only restaurants that failed the inspection. In a similar vein, some cities had data that had too low of a quality to be useful (LA). Another problem with this project is deciding when a \"match\" is legitimate. For example, \"Pueblito\" (\"little town\") appeared often and is a town in Queretáro, but do these restaurants refer to this specific town? This was decided on an ad hoc basis and was founded solely on my (non-native) discretion. Lastly, the obvious issue of immediate representation being a marker of the true number of people from a certain region is certainly flawed. Just because there are say, a lot of Italian restaurants in a certain area, does not necessarily mean that there are many (recent) italian immigrants to that area. The popularity of food from certain regions may skew the data. It is my hope, that all regions being represented equally among recent immigrants means that this method is representative of the true Mexican populations of these cities. "
   ]
  },
  {
   "cell_type": "markdown",
   "metadata": {},
   "source": [
    "As an interesting side note, it appears that chain migration happens at an extremely micro level. \"Tulcingo\" appears 5 times in the NYC data despite the fact that the town that it refers to in Mexico, Tulcingo del Valle, has only around [9,000 people living in it](https://es.wikipedia.org/wiki/Municipio_de_Tulcingo)! Perhaps this can be a case where more people from that town currently live in NYC than in the town itself! "
   ]
  }
 ],
 "metadata": {
  "kernelspec": {
   "display_name": "Python [conda env:learn-env] *",
   "language": "python",
   "name": "conda-env-learn-env-py"
  },
  "language_info": {
   "codemirror_mode": {
    "name": "ipython",
    "version": 3
   },
   "file_extension": ".py",
   "mimetype": "text/x-python",
   "name": "python",
   "nbconvert_exporter": "python",
   "pygments_lexer": "ipython3",
   "version": "3.6.9"
  },
  "toc": {
   "base_numbering": 1,
   "nav_menu": {},
   "number_sections": true,
   "sideBar": true,
   "skip_h1_title": false,
   "title_cell": "Table of Contents",
   "title_sidebar": "Contents",
   "toc_cell": false,
   "toc_position": {
    "height": "calc(100% - 180px)",
    "left": "10px",
    "top": "150px",
    "width": "330.1875px"
   },
   "toc_section_display": true,
   "toc_window_display": true
  },
  "varInspector": {
   "cols": {
    "lenName": 16,
    "lenType": 16,
    "lenVar": 40
   },
   "kernels_config": {
    "python": {
     "delete_cmd_postfix": "",
     "delete_cmd_prefix": "del ",
     "library": "var_list.py",
     "varRefreshCmd": "print(var_dic_list())"
    },
    "r": {
     "delete_cmd_postfix": ") ",
     "delete_cmd_prefix": "rm(",
     "library": "var_list.r",
     "varRefreshCmd": "cat(var_dic_list()) "
    }
   },
   "types_to_exclude": [
    "module",
    "function",
    "builtin_function_or_method",
    "instance",
    "_Feature"
   ],
   "window_display": false
  }
 },
 "nbformat": 4,
 "nbformat_minor": 2
}
