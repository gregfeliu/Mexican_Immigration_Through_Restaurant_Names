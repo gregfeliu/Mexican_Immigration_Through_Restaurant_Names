{
 "cells": [
  {
   "cell_type": "markdown",
   "metadata": {},
   "source": [
    "import pickle\n",
    "import pandas as pd\n",
    "# ^^^ pyforest auto-imports - don't write above this line\n",
    "# Imports"
   ]
  },
  {
   "cell_type": "code",
   "execution_count": 1,
   "metadata": {
    "ExecuteTime": {
     "end_time": "2021-03-02T16:46:55.346305Z",
     "start_time": "2021-03-02T16:46:55.087053Z"
    }
   },
   "outputs": [],
   "source": [
    "import unidecode\n",
    "import wikipedia\n",
    "import warnings\n",
    "warnings.filterwarnings('ignore')"
   ]
  },
  {
   "cell_type": "code",
   "execution_count": 2,
   "metadata": {
    "ExecuteTime": {
     "end_time": "2021-03-02T16:46:55.856365Z",
     "start_time": "2021-03-02T16:46:55.348370Z"
    }
   },
   "outputs": [
    {
     "data": {
      "application/javascript": [
       "\n",
       "        if (window._pyforest_update_imports_cell) { window._pyforest_update_imports_cell('import pandas as pd'); }\n",
       "    "
      ],
      "text/plain": [
       "<IPython.core.display.Javascript object>"
      ]
     },
     "metadata": {},
     "output_type": "display_data"
    }
   ],
   "source": [
    "original_rest_matches_df = pd.read_csv(\"../my_saved_data/All_restaurant_matches_df.csv\", \\\n",
    "                                       index_col=0).reset_index(drop=True)"
   ]
  },
  {
   "cell_type": "code",
   "execution_count": 3,
   "metadata": {
    "ExecuteTime": {
     "end_time": "2021-03-02T16:46:55.865246Z",
     "start_time": "2021-03-02T16:46:55.859138Z"
    }
   },
   "outputs": [
    {
     "data": {
      "application/javascript": [
       "\n",
       "        if (window._pyforest_update_imports_cell) { window._pyforest_update_imports_cell('import pickle\\nimport pandas as pd'); }\n",
       "    "
      ],
      "text/plain": [
       "<IPython.core.display.Javascript object>"
      ]
     },
     "metadata": {},
     "output_type": "display_data"
    }
   ],
   "source": [
    "with open(\"../my_saved_data/demonym_dictionary.pickle\", \"rb+\") as f:\n",
    "    demonym_dictionary = pickle.load(f)"
   ]
  },
  {
   "cell_type": "markdown",
   "metadata": {},
   "source": [
    "## Removing any mistaken entries"
   ]
  },
  {
   "cell_type": "code",
   "execution_count": 4,
   "metadata": {
    "ExecuteTime": {
     "end_time": "2021-03-02T16:46:55.872554Z",
     "start_time": "2021-03-02T16:46:55.868380Z"
    }
   },
   "outputs": [
    {
     "data": {
      "application/javascript": [
       "\n",
       "        if (window._pyforest_update_imports_cell) { window._pyforest_update_imports_cell('import pickle\\nimport pandas as pd'); }\n",
       "    "
      ],
      "text/plain": [
       "<IPython.core.display.Javascript object>"
      ]
     },
     "metadata": {},
     "output_type": "display_data"
    }
   ],
   "source": [
    "with open(\"../my_saved_data/incorrect_matches.pickle\", \"rb+\") as f:\n",
    "    incorrect_matches = pickle.load(f)"
   ]
  },
  {
   "cell_type": "code",
   "execution_count": 5,
   "metadata": {
    "ExecuteTime": {
     "end_time": "2021-03-02T16:46:55.878238Z",
     "start_time": "2021-03-02T16:46:55.874144Z"
    }
   },
   "outputs": [],
   "source": [
    "rest_matches_df = original_rest_matches_df[~original_rest_matches_df['Matched_word'].isin(incorrect_matches)\\\n",
    "                                          ].reset_index(drop=True)"
   ]
  },
  {
   "cell_type": "markdown",
   "metadata": {},
   "source": [
    "# Checking the matched word individually"
   ]
  },
  {
   "cell_type": "code",
   "execution_count": 6,
   "metadata": {
    "ExecuteTime": {
     "end_time": "2021-03-02T16:46:55.884365Z",
     "start_time": "2021-03-02T16:46:55.879908Z"
    }
   },
   "outputs": [],
   "source": [
    "mult_regions_df = rest_matches_df[rest_matches_df['Multiple_regions_flag'] == True]\n",
    "problematic_matched_words = list(mult_regions_df.Matched_word.unique())"
   ]
  },
  {
   "cell_type": "code",
   "execution_count": 7,
   "metadata": {
    "ExecuteTime": {
     "end_time": "2021-03-02T16:46:55.889803Z",
     "start_time": "2021-03-02T16:46:55.886181Z"
    }
   },
   "outputs": [
    {
     "data": {
      "text/plain": [
       "155"
      ]
     },
     "execution_count": 7,
     "metadata": {},
     "output_type": "execute_result"
    }
   ],
   "source": [
    "len(problematic_matched_words)"
   ]
  },
  {
   "cell_type": "code",
   "execution_count": 8,
   "metadata": {
    "ExecuteTime": {
     "end_time": "2021-03-02T16:46:55.894380Z",
     "start_time": "2021-03-02T16:46:55.891664Z"
    }
   },
   "outputs": [],
   "source": [
    "# mult_regions_df[mult_regions_df['Matched_word'] == 'leon']"
   ]
  },
  {
   "cell_type": "code",
   "execution_count": 9,
   "metadata": {
    "ExecuteTime": {
     "end_time": "2021-03-02T16:46:55.898581Z",
     "start_time": "2021-03-02T16:46:55.896147Z"
    }
   },
   "outputs": [],
   "source": [
    "# problematic_matched_words"
   ]
  },
  {
   "cell_type": "code",
   "execution_count": 10,
   "metadata": {
    "ExecuteTime": {
     "end_time": "2021-03-02T16:46:55.905496Z",
     "start_time": "2021-03-02T16:46:55.901254Z"
    }
   },
   "outputs": [],
   "source": [
    "single_regions_df = rest_matches_df[rest_matches_df['Multiple_regions_flag'] == False]\n",
    "possible_problematic_matched_words = list(set(list(single_regions_df.Matched_word.unique())))"
   ]
  },
  {
   "cell_type": "code",
   "execution_count": 11,
   "metadata": {
    "ExecuteTime": {
     "end_time": "2021-03-02T16:46:55.912649Z",
     "start_time": "2021-03-02T16:46:55.907532Z"
    }
   },
   "outputs": [
    {
     "data": {
      "text/plain": [
       "18"
      ]
     },
     "execution_count": 11,
     "metadata": {},
     "output_type": "execute_result"
    }
   ],
   "source": [
    "# how many regions are found in my study?\n",
    "single_regions_df['Region'].nunique()"
   ]
  },
  {
   "cell_type": "code",
   "execution_count": 12,
   "metadata": {
    "ExecuteTime": {
     "end_time": "2021-03-02T16:46:55.917288Z",
     "start_time": "2021-03-02T16:46:55.914323Z"
    },
    "scrolled": true
   },
   "outputs": [],
   "source": [
    "# single_regions_df[single_regions_df['Matched_word'] == 'bajio']"
   ]
  },
  {
   "cell_type": "code",
   "execution_count": 13,
   "metadata": {
    "ExecuteTime": {
     "end_time": "2021-03-02T16:46:55.924117Z",
     "start_time": "2021-03-02T16:46:55.920223Z"
    }
   },
   "outputs": [],
   "source": [
    "# possible_problematic_matched_words"
   ]
  },
  {
   "cell_type": "markdown",
   "metadata": {},
   "source": [
    "# Using Wikipedia to correct any errors in data"
   ]
  },
  {
   "cell_type": "code",
   "execution_count": 14,
   "metadata": {
    "ExecuteTime": {
     "end_time": "2021-03-02T16:46:55.931675Z",
     "start_time": "2021-03-02T16:46:55.926640Z"
    }
   },
   "outputs": [
    {
     "data": {
      "text/plain": [
       "155"
      ]
     },
     "execution_count": 14,
     "metadata": {},
     "output_type": "execute_result"
    }
   ],
   "source": [
    "# getting all of the multi-matched words in a single list \n",
    "multi_region_matches = list(set(rest_matches_df[rest_matches_df['Multiple_regions_flag']]['Matched_word']))\n",
    "len(multi_region_matches)"
   ]
  },
  {
   "cell_type": "code",
   "execution_count": 15,
   "metadata": {
    "ExecuteTime": {
     "end_time": "2021-03-02T16:46:55.937551Z",
     "start_time": "2021-03-02T16:46:55.934036Z"
    }
   },
   "outputs": [],
   "source": [
    "# getting all of the state names \n",
    "state_names = list(demonym_dictionary.keys())"
   ]
  },
  {
   "cell_type": "code",
   "execution_count": 16,
   "metadata": {
    "ExecuteTime": {
     "end_time": "2021-03-02T16:46:55.945420Z",
     "start_time": "2021-03-02T16:46:55.941909Z"
    }
   },
   "outputs": [],
   "source": [
    "# replacement dictionary\n",
    "replacement_dict = {key: None for key in rest_matches_df['Matched_word']}"
   ]
  },
  {
   "cell_type": "code",
   "execution_count": 17,
   "metadata": {
    "ExecuteTime": {
     "end_time": "2021-03-02T16:46:55.953566Z",
     "start_time": "2021-03-02T16:46:55.948138Z"
    }
   },
   "outputs": [
    {
     "data": {
      "text/plain": [
       "5"
      ]
     },
     "execution_count": 17,
     "metadata": {},
     "output_type": "execute_result"
    }
   ],
   "source": [
    "rest_matches_df['Region'][6].count(\",\")"
   ]
  },
  {
   "cell_type": "code",
   "execution_count": 18,
   "metadata": {
    "ExecuteTime": {
     "end_time": "2021-03-02T16:46:55.981421Z",
     "start_time": "2021-03-02T16:46:55.965984Z"
    }
   },
   "outputs": [],
   "source": [
    "# adding words that are clearly tied to a region \n",
    "for idx, word in enumerate(rest_matches_df['Matched_word']):\n",
    "    if rest_matches_df['Region'][idx].count(\",\") == 0:\n",
    "        replacement_dict[word] = rest_matches_df['Region'][idx]"
   ]
  },
  {
   "cell_type": "markdown",
   "metadata": {},
   "source": [
    "## Getting summaries from wikipedia and sorting results"
   ]
  },
  {
   "cell_type": "code",
   "execution_count": 19,
   "metadata": {
    "ExecuteTime": {
     "end_time": "2021-03-02T16:50:00.418385Z",
     "start_time": "2021-03-02T16:46:56.021054Z"
    }
   },
   "outputs": [],
   "source": [
    "summaries = []\n",
    "somewhat_ambiguous_entries = []\n",
    "ambiguous_entries = []\n",
    "not_in_wikipedia = []\n",
    "for idx, match in enumerate(multi_region_matches):\n",
    "    try:\n",
    "        summary = wikipedia.summary(match)\n",
    "        str_match = \" \" + match + \" \"\n",
    "        if str_match in summary:\n",
    "            summaries.append(summary)\n",
    "        elif str_match not in summary:\n",
    "            summaries.append(idx)\n",
    "            somewhat_ambiguous_entries.append(idx)\n",
    "    except wikipedia.exceptions.DisambiguationError as e:\n",
    "        if match + \" (state)\" in e.options:\n",
    "            summary = wikipedia.summary(match + \" (state)\")\n",
    "            summaries.append(summary)\n",
    "        else:\n",
    "            summaries.append(idx)\n",
    "            ambiguous_entries.append((idx, e.options))\n",
    "    except wikipedia.exceptions.PageError as p:\n",
    "        not_in_wikipedia.append((idx, match)) "
   ]
  },
  {
   "cell_type": "code",
   "execution_count": 20,
   "metadata": {
    "ExecuteTime": {
     "end_time": "2021-03-02T16:50:00.426137Z",
     "start_time": "2021-03-02T16:50:00.422058Z"
    }
   },
   "outputs": [],
   "source": [
    "# not_in_wikipedia"
   ]
  },
  {
   "cell_type": "code",
   "execution_count": 21,
   "metadata": {
    "ExecuteTime": {
     "end_time": "2021-03-02T16:50:00.433252Z",
     "start_time": "2021-03-02T16:50:00.430248Z"
    }
   },
   "outputs": [],
   "source": [
    "# replacing the not_in_wikipedia entry \n",
    "replacement_dict['lerma'] = 'Mexico'\n",
    "replacement_dict['chalmita'] = 'Mexico'"
   ]
  },
  {
   "cell_type": "code",
   "execution_count": 22,
   "metadata": {
    "ExecuteTime": {
     "end_time": "2021-03-02T16:50:00.440815Z",
     "start_time": "2021-03-02T16:50:00.435961Z"
    }
   },
   "outputs": [
    {
     "data": {
      "text/plain": [
       "41"
      ]
     },
     "execution_count": 22,
     "metadata": {},
     "output_type": "execute_result"
    }
   ],
   "source": [
    "# how many entries are still None?\n",
    "none_counter = 0\n",
    "for key, value in replacement_dict.items():\n",
    "    if value == None:\n",
    "        none_counter += 1\n",
    "none_counter"
   ]
  },
  {
   "cell_type": "markdown",
   "metadata": {},
   "source": [
    "## Adding entries that were found in wikipedia to dictionary"
   ]
  },
  {
   "cell_type": "code",
   "execution_count": 23,
   "metadata": {
    "ExecuteTime": {
     "end_time": "2021-03-02T16:50:00.446641Z",
     "start_time": "2021-03-02T16:50:00.442730Z"
    }
   },
   "outputs": [
    {
     "name": "stdout",
     "output_type": "stream",
     "text": [
      "wikipedia found 7 entries\n"
     ]
    }
   ],
   "source": [
    "# how many summaries were found by wikipedia?\n",
    "summaries_count = [x for x in summaries if type(x) != int]\n",
    "print(f\"wikipedia found {len(summaries_count)} entries\")"
   ]
  },
  {
   "cell_type": "code",
   "execution_count": 24,
   "metadata": {
    "ExecuteTime": {
     "end_time": "2021-03-02T16:50:00.452396Z",
     "start_time": "2021-03-02T16:50:00.448890Z"
    }
   },
   "outputs": [],
   "source": [
    "summaries_dict = {'corralito' : None,\n",
    "                 'copal': None,\n",
    "                 'poblano': 'Puebla',\n",
    "                 'guerrerense': \"Guerrero\",\n",
    "                 'candela': None,\n",
    "                 'leon': 'Nuevo Leon',\n",
    "                 'morelia': \"Puebla\",\n",
    "                 'coatzingo': None}"
   ]
  },
  {
   "cell_type": "code",
   "execution_count": 25,
   "metadata": {
    "ExecuteTime": {
     "end_time": "2021-03-02T16:50:00.457368Z",
     "start_time": "2021-03-02T16:50:00.454690Z"
    }
   },
   "outputs": [],
   "source": [
    "# for idx, x in enumerate(summaries):\n",
    "#     if type(x) == str:\n",
    "#         print(idx)\n",
    "#         print(f\"The entry is {multi_region_matches[idx]}\")\n",
    "#         print(x)"
   ]
  },
  {
   "cell_type": "code",
   "execution_count": 26,
   "metadata": {
    "ExecuteTime": {
     "end_time": "2021-03-02T16:50:00.462622Z",
     "start_time": "2021-03-02T16:50:00.459402Z"
    }
   },
   "outputs": [],
   "source": [
    "replacement_dict.update(summaries_dict)"
   ]
  },
  {
   "cell_type": "code",
   "execution_count": 27,
   "metadata": {
    "ExecuteTime": {
     "end_time": "2021-03-02T16:50:00.469471Z",
     "start_time": "2021-03-02T16:50:00.464558Z"
    }
   },
   "outputs": [
    {
     "data": {
      "text/plain": [
       "44"
      ]
     },
     "execution_count": 27,
     "metadata": {},
     "output_type": "execute_result"
    }
   ],
   "source": [
    "# how many entries are still None?\n",
    "none_counter = 0\n",
    "for key, value in replacement_dict.items():\n",
    "    if value == None:\n",
    "        none_counter += 1\n",
    "none_counter"
   ]
  },
  {
   "cell_type": "markdown",
   "metadata": {},
   "source": [
    "## Googling Remaining Entries Without a Region"
   ]
  },
  {
   "cell_type": "code",
   "execution_count": 28,
   "metadata": {
    "ExecuteTime": {
     "end_time": "2021-03-02T16:50:00.474763Z",
     "start_time": "2021-03-02T16:50:00.471386Z"
    }
   },
   "outputs": [],
   "source": [
    "google_search_entries = {}\n",
    "for key, value in replacement_dict.items():\n",
    "    if value:\n",
    "        continue\n",
    "    if key in summaries_dict.keys():\n",
    "        continue\n",
    "    google_search_entries[key] = None"
   ]
  },
  {
   "cell_type": "code",
   "execution_count": 29,
   "metadata": {
    "ExecuteTime": {
     "end_time": "2021-03-02T16:50:00.482300Z",
     "start_time": "2021-03-02T16:50:00.476772Z"
    }
   },
   "outputs": [],
   "source": [
    "# carmen cooould refer to playa del carmen, but it clearly doesnt here \n",
    "google_search_entries = {'juarez': \"Chihuahua\",\n",
    "                        'chinantla': 'Puebla',\n",
    "                        'xochimilco': 'Mexico City',\n",
    "                        'coyoacan': 'Mexico City',\n",
    "                        'cholula': 'Puebla',\n",
    "                        'matamoros': 'Tamaulipas',\n",
    "                        'acatlan': 'Hidalgo',\n",
    "                        'ocotlan': \"Jalisco\",\n",
    "                        'atotonilco': 'Guanajuato',\n",
    "                        'bustamante': 'Nuevo Leon',\n",
    "                        'ayutla': \"Jalisco\",\n",
    "                        'arandas': 'Jalisco',\n",
    "                        'maravatio': 'Michoacan',\n",
    "                        'uruapan': 'Michoacan',\n",
    "                        'cocula': \"Michoacan\",\n",
    "                        'camargo': \"Chihuahua\",\n",
    "                        'cuernavaca': \"Morelos\",\n",
    "                        'polanco': 'Mexico City',\n",
    "                        'taxco': \"Guerrero\",\n",
    "                         'zaragoza': 'Coahuila',\n",
    "                         'monterrey': 'Nuevo Leon',\n",
    "                         'tenochtitlan': 'Mexico City',\n",
    "                         'aquila': \"Michoacan\",\n",
    "                         'tuxpan': 'Veracruz',\n",
    "                         'toluca': 'Mexico',\n",
    "                         'ixtapa': 'Guerrero',\n",
    "                         'apatzingan': 'Michoacan',\n",
    "                         'quiroga': 'Michoacan',\n",
    "                         'tuzantla': 'Michoacan',\n",
    "                         'ahualulco': 'San Luis Potosi',\n",
    "                         'picacho': 'Guanajuato',\n",
    "                         'masatlan': 'Sinaloa'}\n",
    "replacement_dict.update(google_search_entries)"
   ]
  },
  {
   "cell_type": "markdown",
   "metadata": {},
   "source": [
    "## Replacing/Deleting Entries from DataFrame"
   ]
  },
  {
   "cell_type": "code",
   "execution_count": 30,
   "metadata": {
    "ExecuteTime": {
     "end_time": "2021-03-02T16:50:00.487556Z",
     "start_time": "2021-03-02T16:50:00.484817Z"
    }
   },
   "outputs": [],
   "source": [
    "# searching for incorrect region names \n",
    "for key, value in replacement_dict.items():\n",
    "    if value != None:\n",
    "        if value not in state_names:\n",
    "            print(f\"{key} has {value} spelt incorrectly\")"
   ]
  },
  {
   "cell_type": "code",
   "execution_count": 31,
   "metadata": {
    "ExecuteTime": {
     "end_time": "2021-03-02T16:50:00.509504Z",
     "start_time": "2021-03-02T16:50:00.489407Z"
    }
   },
   "outputs": [
    {
     "data": {
      "text/html": [
       "<div>\n",
       "<style scoped>\n",
       "    .dataframe tbody tr th:only-of-type {\n",
       "        vertical-align: middle;\n",
       "    }\n",
       "\n",
       "    .dataframe tbody tr th {\n",
       "        vertical-align: top;\n",
       "    }\n",
       "\n",
       "    .dataframe thead th {\n",
       "        text-align: right;\n",
       "    }\n",
       "</style>\n",
       "<table border=\"1\" class=\"dataframe\">\n",
       "  <thead>\n",
       "    <tr style=\"text-align: right;\">\n",
       "      <th></th>\n",
       "      <th>Restaurant</th>\n",
       "      <th>City</th>\n",
       "      <th>Matched_word</th>\n",
       "      <th>Region</th>\n",
       "      <th>Multiple_regions_flag</th>\n",
       "      <th>Final_region</th>\n",
       "    </tr>\n",
       "  </thead>\n",
       "  <tbody>\n",
       "    <tr>\n",
       "      <th>0</th>\n",
       "      <td>aqui en bella puebla mexican restaurant</td>\n",
       "      <td>NYC</td>\n",
       "      <td>puebla</td>\n",
       "      <td>Puebla</td>\n",
       "      <td>True</td>\n",
       "      <td>NaN</td>\n",
       "    </tr>\n",
       "    <tr>\n",
       "      <th>1</th>\n",
       "      <td>san jose tulcingo deli</td>\n",
       "      <td>NYC</td>\n",
       "      <td>tulcingo</td>\n",
       "      <td>Puebla</td>\n",
       "      <td>True</td>\n",
       "      <td>NaN</td>\n",
       "    </tr>\n",
       "    <tr>\n",
       "      <th>2</th>\n",
       "      <td>cuautla morelos restaurant</td>\n",
       "      <td>NYC</td>\n",
       "      <td>morelos</td>\n",
       "      <td>Morelos</td>\n",
       "      <td>True</td>\n",
       "      <td>NaN</td>\n",
       "    </tr>\n",
       "    <tr>\n",
       "      <th>3</th>\n",
       "      <td>tulcingo</td>\n",
       "      <td>NYC</td>\n",
       "      <td>tulcingo</td>\n",
       "      <td>Puebla</td>\n",
       "      <td>True</td>\n",
       "      <td>NaN</td>\n",
       "    </tr>\n",
       "    <tr>\n",
       "      <th>4</th>\n",
       "      <td>estrellita poblana ii</td>\n",
       "      <td>NYC</td>\n",
       "      <td>poblana</td>\n",
       "      <td>Puebla</td>\n",
       "      <td>True</td>\n",
       "      <td>NaN</td>\n",
       "    </tr>\n",
       "    <tr>\n",
       "      <th>...</th>\n",
       "      <td>...</td>\n",
       "      <td>...</td>\n",
       "      <td>...</td>\n",
       "      <td>...</td>\n",
       "      <td>...</td>\n",
       "      <td>...</td>\n",
       "    </tr>\n",
       "    <tr>\n",
       "      <th>492</th>\n",
       "      <td>loving cup divisadero</td>\n",
       "      <td>SF</td>\n",
       "      <td>divisadero</td>\n",
       "      <td>Sonora</td>\n",
       "      <td>True</td>\n",
       "      <td>NaN</td>\n",
       "    </tr>\n",
       "    <tr>\n",
       "      <th>493</th>\n",
       "      <td>el rincon yucateco</td>\n",
       "      <td>SF</td>\n",
       "      <td>yucateco</td>\n",
       "      <td>Yucatan</td>\n",
       "      <td>True</td>\n",
       "      <td>NaN</td>\n",
       "    </tr>\n",
       "    <tr>\n",
       "      <th>494</th>\n",
       "      <td>la taqueria guadalajara</td>\n",
       "      <td>SF</td>\n",
       "      <td>guadalajara</td>\n",
       "      <td>Jalisco</td>\n",
       "      <td>True</td>\n",
       "      <td>NaN</td>\n",
       "    </tr>\n",
       "    <tr>\n",
       "      <th>495</th>\n",
       "      <td>barranco catering</td>\n",
       "      <td>SF</td>\n",
       "      <td>barranco</td>\n",
       "      <td>San Luis Potosi</td>\n",
       "      <td>True</td>\n",
       "      <td>NaN</td>\n",
       "    </tr>\n",
       "    <tr>\n",
       "      <th>496</th>\n",
       "      <td>taqueria cancun</td>\n",
       "      <td>SF</td>\n",
       "      <td>cancun</td>\n",
       "      <td>Quintana Roo</td>\n",
       "      <td>True</td>\n",
       "      <td>NaN</td>\n",
       "    </tr>\n",
       "  </tbody>\n",
       "</table>\n",
       "<p>497 rows × 6 columns</p>\n",
       "</div>"
      ],
      "text/plain": [
       "                                  Restaurant City Matched_word  \\\n",
       "0    aqui en bella puebla mexican restaurant  NYC       puebla   \n",
       "1                     san jose tulcingo deli  NYC     tulcingo   \n",
       "2                 cuautla morelos restaurant  NYC      morelos   \n",
       "3                                   tulcingo  NYC     tulcingo   \n",
       "4                      estrellita poblana ii  NYC      poblana   \n",
       "..                                       ...  ...          ...   \n",
       "492                    loving cup divisadero   SF   divisadero   \n",
       "493                       el rincon yucateco   SF     yucateco   \n",
       "494                  la taqueria guadalajara   SF  guadalajara   \n",
       "495                        barranco catering   SF     barranco   \n",
       "496                          taqueria cancun   SF       cancun   \n",
       "\n",
       "              Region  Multiple_regions_flag  Final_region  \n",
       "0             Puebla                   True           NaN  \n",
       "1             Puebla                   True           NaN  \n",
       "2            Morelos                   True           NaN  \n",
       "3             Puebla                   True           NaN  \n",
       "4             Puebla                   True           NaN  \n",
       "..               ...                    ...           ...  \n",
       "492           Sonora                   True           NaN  \n",
       "493          Yucatan                   True           NaN  \n",
       "494          Jalisco                   True           NaN  \n",
       "495  San Luis Potosi                   True           NaN  \n",
       "496     Quintana Roo                   True           NaN  \n",
       "\n",
       "[497 rows x 6 columns]"
      ]
     },
     "execution_count": 31,
     "metadata": {},
     "output_type": "execute_result"
    }
   ],
   "source": [
    "rest_matches_df"
   ]
  },
  {
   "cell_type": "code",
   "execution_count": 32,
   "metadata": {
    "ExecuteTime": {
     "end_time": "2021-03-02T16:50:00.518906Z",
     "start_time": "2021-03-02T16:50:00.512438Z"
    }
   },
   "outputs": [
    {
     "data": {
      "text/plain": [
       "(466, 6)"
      ]
     },
     "execution_count": 32,
     "metadata": {},
     "output_type": "execute_result"
    }
   ],
   "source": [
    "# removing incorrect matched_words \n",
    "entries_to_remove = [key for key, value in replacement_dict.items() if value == None]\n",
    "final_rest_matches_df = rest_matches_df[~rest_matches_df['Matched_word'].isin(entries_to_remove)].reset_index(drop=True)\n",
    "# removed 31 entries\n",
    "final_rest_matches_df.shape"
   ]
  },
  {
   "cell_type": "code",
   "execution_count": 33,
   "metadata": {
    "ExecuteTime": {
     "end_time": "2021-03-02T16:50:00.534614Z",
     "start_time": "2021-03-02T16:50:00.520944Z"
    }
   },
   "outputs": [
    {
     "data": {
      "text/html": [
       "<div>\n",
       "<style scoped>\n",
       "    .dataframe tbody tr th:only-of-type {\n",
       "        vertical-align: middle;\n",
       "    }\n",
       "\n",
       "    .dataframe tbody tr th {\n",
       "        vertical-align: top;\n",
       "    }\n",
       "\n",
       "    .dataframe thead th {\n",
       "        text-align: right;\n",
       "    }\n",
       "</style>\n",
       "<table border=\"1\" class=\"dataframe\">\n",
       "  <thead>\n",
       "    <tr style=\"text-align: right;\">\n",
       "      <th></th>\n",
       "      <th>Restaurant</th>\n",
       "      <th>City</th>\n",
       "      <th>Matched_word</th>\n",
       "      <th>Region</th>\n",
       "      <th>Multiple_regions_flag</th>\n",
       "      <th>Final_region</th>\n",
       "    </tr>\n",
       "  </thead>\n",
       "  <tbody>\n",
       "    <tr>\n",
       "      <th>0</th>\n",
       "      <td>aqui en bella puebla mexican restaurant</td>\n",
       "      <td>NYC</td>\n",
       "      <td>puebla</td>\n",
       "      <td>Puebla</td>\n",
       "      <td>True</td>\n",
       "      <td>NaN</td>\n",
       "    </tr>\n",
       "    <tr>\n",
       "      <th>1</th>\n",
       "      <td>san jose tulcingo deli</td>\n",
       "      <td>NYC</td>\n",
       "      <td>tulcingo</td>\n",
       "      <td>Puebla</td>\n",
       "      <td>True</td>\n",
       "      <td>NaN</td>\n",
       "    </tr>\n",
       "    <tr>\n",
       "      <th>2</th>\n",
       "      <td>cuautla morelos restaurant</td>\n",
       "      <td>NYC</td>\n",
       "      <td>morelos</td>\n",
       "      <td>Morelos</td>\n",
       "      <td>True</td>\n",
       "      <td>NaN</td>\n",
       "    </tr>\n",
       "    <tr>\n",
       "      <th>3</th>\n",
       "      <td>tulcingo</td>\n",
       "      <td>NYC</td>\n",
       "      <td>tulcingo</td>\n",
       "      <td>Puebla</td>\n",
       "      <td>True</td>\n",
       "      <td>NaN</td>\n",
       "    </tr>\n",
       "    <tr>\n",
       "      <th>4</th>\n",
       "      <td>estrellita poblana ii</td>\n",
       "      <td>NYC</td>\n",
       "      <td>poblana</td>\n",
       "      <td>Puebla</td>\n",
       "      <td>True</td>\n",
       "      <td>NaN</td>\n",
       "    </tr>\n",
       "    <tr>\n",
       "      <th>...</th>\n",
       "      <td>...</td>\n",
       "      <td>...</td>\n",
       "      <td>...</td>\n",
       "      <td>...</td>\n",
       "      <td>...</td>\n",
       "      <td>...</td>\n",
       "    </tr>\n",
       "    <tr>\n",
       "      <th>461</th>\n",
       "      <td>loving cup divisadero</td>\n",
       "      <td>SF</td>\n",
       "      <td>divisadero</td>\n",
       "      <td>Sonora</td>\n",
       "      <td>True</td>\n",
       "      <td>NaN</td>\n",
       "    </tr>\n",
       "    <tr>\n",
       "      <th>462</th>\n",
       "      <td>el rincon yucateco</td>\n",
       "      <td>SF</td>\n",
       "      <td>yucateco</td>\n",
       "      <td>Yucatan</td>\n",
       "      <td>True</td>\n",
       "      <td>NaN</td>\n",
       "    </tr>\n",
       "    <tr>\n",
       "      <th>463</th>\n",
       "      <td>la taqueria guadalajara</td>\n",
       "      <td>SF</td>\n",
       "      <td>guadalajara</td>\n",
       "      <td>Jalisco</td>\n",
       "      <td>True</td>\n",
       "      <td>NaN</td>\n",
       "    </tr>\n",
       "    <tr>\n",
       "      <th>464</th>\n",
       "      <td>barranco catering</td>\n",
       "      <td>SF</td>\n",
       "      <td>barranco</td>\n",
       "      <td>San Luis Potosi</td>\n",
       "      <td>True</td>\n",
       "      <td>NaN</td>\n",
       "    </tr>\n",
       "    <tr>\n",
       "      <th>465</th>\n",
       "      <td>taqueria cancun</td>\n",
       "      <td>SF</td>\n",
       "      <td>cancun</td>\n",
       "      <td>Quintana Roo</td>\n",
       "      <td>True</td>\n",
       "      <td>NaN</td>\n",
       "    </tr>\n",
       "  </tbody>\n",
       "</table>\n",
       "<p>466 rows × 6 columns</p>\n",
       "</div>"
      ],
      "text/plain": [
       "                                  Restaurant City Matched_word  \\\n",
       "0    aqui en bella puebla mexican restaurant  NYC       puebla   \n",
       "1                     san jose tulcingo deli  NYC     tulcingo   \n",
       "2                 cuautla morelos restaurant  NYC      morelos   \n",
       "3                                   tulcingo  NYC     tulcingo   \n",
       "4                      estrellita poblana ii  NYC      poblana   \n",
       "..                                       ...  ...          ...   \n",
       "461                    loving cup divisadero   SF   divisadero   \n",
       "462                       el rincon yucateco   SF     yucateco   \n",
       "463                  la taqueria guadalajara   SF  guadalajara   \n",
       "464                        barranco catering   SF     barranco   \n",
       "465                          taqueria cancun   SF       cancun   \n",
       "\n",
       "              Region  Multiple_regions_flag  Final_region  \n",
       "0             Puebla                   True           NaN  \n",
       "1             Puebla                   True           NaN  \n",
       "2            Morelos                   True           NaN  \n",
       "3             Puebla                   True           NaN  \n",
       "4             Puebla                   True           NaN  \n",
       "..               ...                    ...           ...  \n",
       "461           Sonora                   True           NaN  \n",
       "462          Yucatan                   True           NaN  \n",
       "463          Jalisco                   True           NaN  \n",
       "464  San Luis Potosi                   True           NaN  \n",
       "465     Quintana Roo                   True           NaN  \n",
       "\n",
       "[466 rows x 6 columns]"
      ]
     },
     "execution_count": 33,
     "metadata": {},
     "output_type": "execute_result"
    }
   ],
   "source": [
    "final_rest_matches_df"
   ]
  },
  {
   "cell_type": "code",
   "execution_count": 34,
   "metadata": {
    "ExecuteTime": {
     "end_time": "2021-03-02T16:50:00.586131Z",
     "start_time": "2021-03-02T16:50:00.536687Z"
    }
   },
   "outputs": [],
   "source": [
    "# replacing the regions \n",
    "for idx, word in enumerate(final_rest_matches_df['Matched_word']):\n",
    "    if word in replacement_dict.keys():\n",
    "        final_rest_matches_df['Final_region'][idx] = replacement_dict[word]"
   ]
  },
  {
   "cell_type": "code",
   "execution_count": 35,
   "metadata": {
    "ExecuteTime": {
     "end_time": "2021-03-02T16:50:00.598611Z",
     "start_time": "2021-03-02T16:50:00.588061Z"
    },
    "scrolled": true
   },
   "outputs": [
    {
     "data": {
      "text/html": [
       "<div>\n",
       "<style scoped>\n",
       "    .dataframe tbody tr th:only-of-type {\n",
       "        vertical-align: middle;\n",
       "    }\n",
       "\n",
       "    .dataframe tbody tr th {\n",
       "        vertical-align: top;\n",
       "    }\n",
       "\n",
       "    .dataframe thead th {\n",
       "        text-align: right;\n",
       "    }\n",
       "</style>\n",
       "<table border=\"1\" class=\"dataframe\">\n",
       "  <thead>\n",
       "    <tr style=\"text-align: right;\">\n",
       "      <th></th>\n",
       "      <th>Restaurant</th>\n",
       "      <th>City</th>\n",
       "      <th>Matched_word</th>\n",
       "      <th>Region</th>\n",
       "      <th>Multiple_regions_flag</th>\n",
       "      <th>Final_region</th>\n",
       "    </tr>\n",
       "  </thead>\n",
       "  <tbody>\n",
       "    <tr>\n",
       "      <th>0</th>\n",
       "      <td>aqui en bella puebla mexican restaurant</td>\n",
       "      <td>NYC</td>\n",
       "      <td>puebla</td>\n",
       "      <td>Puebla</td>\n",
       "      <td>True</td>\n",
       "      <td>Puebla</td>\n",
       "    </tr>\n",
       "    <tr>\n",
       "      <th>1</th>\n",
       "      <td>san jose tulcingo deli</td>\n",
       "      <td>NYC</td>\n",
       "      <td>tulcingo</td>\n",
       "      <td>Puebla</td>\n",
       "      <td>True</td>\n",
       "      <td>Puebla</td>\n",
       "    </tr>\n",
       "    <tr>\n",
       "      <th>2</th>\n",
       "      <td>cuautla morelos restaurant</td>\n",
       "      <td>NYC</td>\n",
       "      <td>morelos</td>\n",
       "      <td>Morelos</td>\n",
       "      <td>True</td>\n",
       "      <td>Morelos</td>\n",
       "    </tr>\n",
       "    <tr>\n",
       "      <th>3</th>\n",
       "      <td>tulcingo</td>\n",
       "      <td>NYC</td>\n",
       "      <td>tulcingo</td>\n",
       "      <td>Puebla</td>\n",
       "      <td>True</td>\n",
       "      <td>Puebla</td>\n",
       "    </tr>\n",
       "    <tr>\n",
       "      <th>4</th>\n",
       "      <td>estrellita poblana ii</td>\n",
       "      <td>NYC</td>\n",
       "      <td>poblana</td>\n",
       "      <td>Puebla</td>\n",
       "      <td>True</td>\n",
       "      <td>Puebla</td>\n",
       "    </tr>\n",
       "    <tr>\n",
       "      <th>5</th>\n",
       "      <td>cienega las tlayudas de oaxaca</td>\n",
       "      <td>NYC</td>\n",
       "      <td>oaxaca</td>\n",
       "      <td>Oaxaca</td>\n",
       "      <td>True</td>\n",
       "      <td>Oaxaca</td>\n",
       "    </tr>\n",
       "    <tr>\n",
       "      <th>6</th>\n",
       "      <td>viva juarez restaurant</td>\n",
       "      <td>NYC</td>\n",
       "      <td>juarez</td>\n",
       "      <td>Tamaulipas,Mexico City,Chiapas,Nuevo Leon,Mich...</td>\n",
       "      <td>False</td>\n",
       "      <td>Chihuahua</td>\n",
       "    </tr>\n",
       "    <tr>\n",
       "      <th>7</th>\n",
       "      <td>atlixco bakery &amp; deli</td>\n",
       "      <td>NYC</td>\n",
       "      <td>atlixco</td>\n",
       "      <td>Puebla</td>\n",
       "      <td>True</td>\n",
       "      <td>Puebla</td>\n",
       "    </tr>\n",
       "    <tr>\n",
       "      <th>8</th>\n",
       "      <td>tacos el nopal</td>\n",
       "      <td>NYC</td>\n",
       "      <td>nopal</td>\n",
       "      <td>Chiapas</td>\n",
       "      <td>True</td>\n",
       "      <td>Chiapas</td>\n",
       "    </tr>\n",
       "    <tr>\n",
       "      <th>9</th>\n",
       "      <td>el paisa tepeaca</td>\n",
       "      <td>NYC</td>\n",
       "      <td>tepeaca</td>\n",
       "      <td>Puebla</td>\n",
       "      <td>True</td>\n",
       "      <td>Puebla</td>\n",
       "    </tr>\n",
       "    <tr>\n",
       "      <th>10</th>\n",
       "      <td>estrellita poblana</td>\n",
       "      <td>NYC</td>\n",
       "      <td>poblana</td>\n",
       "      <td>Puebla</td>\n",
       "      <td>True</td>\n",
       "      <td>Puebla</td>\n",
       "    </tr>\n",
       "    <tr>\n",
       "      <th>11</th>\n",
       "      <td>mi lindo san miguelito</td>\n",
       "      <td>NYC</td>\n",
       "      <td>miguelito</td>\n",
       "      <td>Queretaro</td>\n",
       "      <td>True</td>\n",
       "      <td>Queretaro</td>\n",
       "    </tr>\n",
       "    <tr>\n",
       "      <th>12</th>\n",
       "      <td>acapulco deli &amp; restaurant</td>\n",
       "      <td>NYC</td>\n",
       "      <td>acapulco</td>\n",
       "      <td>Guerrero</td>\n",
       "      <td>True</td>\n",
       "      <td>Guerrero</td>\n",
       "    </tr>\n",
       "    <tr>\n",
       "      <th>13</th>\n",
       "      <td>el barril restaurant</td>\n",
       "      <td>NYC</td>\n",
       "      <td>barril</td>\n",
       "      <td>San Luis Potosi</td>\n",
       "      <td>True</td>\n",
       "      <td>San Luis Potosi</td>\n",
       "    </tr>\n",
       "    <tr>\n",
       "      <th>14</th>\n",
       "      <td>regalo de juquila -2</td>\n",
       "      <td>NYC</td>\n",
       "      <td>juquila</td>\n",
       "      <td>Oaxaca</td>\n",
       "      <td>True</td>\n",
       "      <td>Oaxaca</td>\n",
       "    </tr>\n",
       "  </tbody>\n",
       "</table>\n",
       "</div>"
      ],
      "text/plain": [
       "                                 Restaurant City Matched_word  \\\n",
       "0   aqui en bella puebla mexican restaurant  NYC       puebla   \n",
       "1                    san jose tulcingo deli  NYC     tulcingo   \n",
       "2                cuautla morelos restaurant  NYC      morelos   \n",
       "3                                  tulcingo  NYC     tulcingo   \n",
       "4                     estrellita poblana ii  NYC      poblana   \n",
       "5            cienega las tlayudas de oaxaca  NYC       oaxaca   \n",
       "6                    viva juarez restaurant  NYC       juarez   \n",
       "7                     atlixco bakery & deli  NYC      atlixco   \n",
       "8                            tacos el nopal  NYC        nopal   \n",
       "9                          el paisa tepeaca  NYC      tepeaca   \n",
       "10                       estrellita poblana  NYC      poblana   \n",
       "11                   mi lindo san miguelito  NYC    miguelito   \n",
       "12               acapulco deli & restaurant  NYC     acapulco   \n",
       "13                     el barril restaurant  NYC       barril   \n",
       "14                     regalo de juquila -2  NYC      juquila   \n",
       "\n",
       "                                               Region  Multiple_regions_flag  \\\n",
       "0                                              Puebla                   True   \n",
       "1                                              Puebla                   True   \n",
       "2                                             Morelos                   True   \n",
       "3                                              Puebla                   True   \n",
       "4                                              Puebla                   True   \n",
       "5                                              Oaxaca                   True   \n",
       "6   Tamaulipas,Mexico City,Chiapas,Nuevo Leon,Mich...                  False   \n",
       "7                                              Puebla                   True   \n",
       "8                                             Chiapas                   True   \n",
       "9                                              Puebla                   True   \n",
       "10                                             Puebla                   True   \n",
       "11                                          Queretaro                   True   \n",
       "12                                           Guerrero                   True   \n",
       "13                                    San Luis Potosi                   True   \n",
       "14                                             Oaxaca                   True   \n",
       "\n",
       "       Final_region  \n",
       "0            Puebla  \n",
       "1            Puebla  \n",
       "2           Morelos  \n",
       "3            Puebla  \n",
       "4            Puebla  \n",
       "5            Oaxaca  \n",
       "6         Chihuahua  \n",
       "7            Puebla  \n",
       "8           Chiapas  \n",
       "9            Puebla  \n",
       "10           Puebla  \n",
       "11        Queretaro  \n",
       "12         Guerrero  \n",
       "13  San Luis Potosi  \n",
       "14           Oaxaca  "
      ]
     },
     "execution_count": 35,
     "metadata": {},
     "output_type": "execute_result"
    }
   ],
   "source": [
    "final_rest_matches_df.head(15)"
   ]
  },
  {
   "cell_type": "markdown",
   "metadata": {},
   "source": [
    "## Dropping columns"
   ]
  },
  {
   "cell_type": "code",
   "execution_count": 36,
   "metadata": {
    "ExecuteTime": {
     "end_time": "2021-03-02T16:50:00.604313Z",
     "start_time": "2021-03-02T16:50:00.600459Z"
    }
   },
   "outputs": [],
   "source": [
    "final_rest_matches_df.drop(columns = ['Region', 'Multiple_regions_flag'], inplace=True)"
   ]
  },
  {
   "cell_type": "markdown",
   "metadata": {},
   "source": [
    "## Saving all_correct_restaurants "
   ]
  },
  {
   "cell_type": "code",
   "execution_count": 37,
   "metadata": {
    "ExecuteTime": {
     "end_time": "2021-03-02T16:50:00.611973Z",
     "start_time": "2021-03-02T16:50:00.605969Z"
    }
   },
   "outputs": [],
   "source": [
    "final_rest_matches_df.to_csv(\"../my_saved_data/all_correct_restaurants_and_regions.csv\")"
   ]
  }
 ],
 "metadata": {
  "kernelspec": {
   "display_name": "Python [conda env:learn-env] *",
   "language": "python",
   "name": "conda-env-learn-env-py"
  },
  "language_info": {
   "codemirror_mode": {
    "name": "ipython",
    "version": 3
   },
   "file_extension": ".py",
   "mimetype": "text/x-python",
   "name": "python",
   "nbconvert_exporter": "python",
   "pygments_lexer": "ipython3",
   "version": "3.6.9"
  },
  "toc": {
   "base_numbering": 1,
   "nav_menu": {},
   "number_sections": true,
   "sideBar": true,
   "skip_h1_title": false,
   "title_cell": "Table of Contents",
   "title_sidebar": "Contents",
   "toc_cell": false,
   "toc_position": {
    "height": "calc(100% - 180px)",
    "left": "10px",
    "top": "150px",
    "width": "165px"
   },
   "toc_section_display": true,
   "toc_window_display": true
  },
  "varInspector": {
   "cols": {
    "lenName": 16,
    "lenType": 16,
    "lenVar": 40
   },
   "kernels_config": {
    "python": {
     "delete_cmd_postfix": "",
     "delete_cmd_prefix": "del ",
     "library": "var_list.py",
     "varRefreshCmd": "print(var_dic_list())"
    },
    "r": {
     "delete_cmd_postfix": ") ",
     "delete_cmd_prefix": "rm(",
     "library": "var_list.r",
     "varRefreshCmd": "cat(var_dic_list()) "
    }
   },
   "types_to_exclude": [
    "module",
    "function",
    "builtin_function_or_method",
    "instance",
    "_Feature"
   ],
   "window_display": false
  }
 },
 "nbformat": 4,
 "nbformat_minor": 2
}
