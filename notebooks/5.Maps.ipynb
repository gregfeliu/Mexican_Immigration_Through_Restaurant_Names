{
 "cells": [
  {
   "cell_type": "markdown",
   "metadata": {},
   "source": [
    "# Imports"
   ]
  },
  {
   "cell_type": "markdown",
   "metadata": {},
   "source": [
    "## Libraries"
   ]
  },
  {
   "cell_type": "code",
   "execution_count": 106,
   "metadata": {
    "ExecuteTime": {
     "end_time": "2021-03-10T18:13:48.580582Z",
     "start_time": "2021-03-10T18:13:48.563073Z"
    },
    "scrolled": true
   },
   "outputs": [],
   "source": [
    "import warnings\n",
    "warnings.filterwarnings('ignore')\n",
    "import shapely\n",
    "import geopandas as gpd\n",
    "from shapely.ops import unary_union\n",
    "import matplotlib.pyplot as plt\n",
    "import mapclassify as mc\n",
    "from functions import *\n",
    "import pysal\n",
    "from mpl_toolkits.axes_grid1 import make_axes_locatable"
   ]
  },
  {
   "cell_type": "markdown",
   "metadata": {},
   "source": [
    "## Data"
   ]
  },
  {
   "cell_type": "code",
   "execution_count": 2,
   "metadata": {
    "ExecuteTime": {
     "end_time": "2021-03-10T17:24:02.849460Z",
     "start_time": "2021-03-10T17:24:02.846650Z"
    }
   },
   "outputs": [],
   "source": [
    "# for all of the charts, a user defined scale is used in multi-city plots, otherwise, equal-interval"
   ]
  },
  {
   "cell_type": "markdown",
   "metadata": {},
   "source": [
    "charts to make:\n",
    "- region popularity for each city \n",
    "- culinary regions overall\n",
    "- culinary region for each city\n",
    "- total region popularity coupled with remittance data "
   ]
  },
  {
   "cell_type": "code",
   "execution_count": 3,
   "metadata": {
    "ExecuteTime": {
     "end_time": "2021-03-10T17:24:02.861356Z",
     "start_time": "2021-03-10T17:24:02.852443Z"
    }
   },
   "outputs": [],
   "source": [
    "rest_df = pd.read_csv(\"../my_saved_data/final_correct_restaurants_and_regions.csv\", index_col=0)"
   ]
  },
  {
   "cell_type": "code",
   "execution_count": 4,
   "metadata": {
    "ExecuteTime": {
     "end_time": "2021-03-10T17:24:02.870725Z",
     "start_time": "2021-03-10T17:24:02.863651Z"
    }
   },
   "outputs": [],
   "source": [
    "with open(\"../my_saved_data/demonym_dictionary.pickle\", \"rb+\") as f:\n",
    "    demonym_dict = pickle.load(f)"
   ]
  },
  {
   "cell_type": "code",
   "execution_count": 5,
   "metadata": {
    "ExecuteTime": {
     "end_time": "2021-03-10T17:24:02.882974Z",
     "start_time": "2021-03-10T17:24:02.872218Z"
    }
   },
   "outputs": [],
   "source": [
    "cul_reg_for_all = pd.read_csv(\"../my_saved_data/culinary_region_pct_overal.csv\", index_col=0)\n",
    "pct_df = pd.read_csv(\"../my_saved_data/new_corrected_pct_df.csv\", index_col=0)\n",
    "city_w_cul_reg_pct = pd.read_csv(\"../my_saved_data/city_w_culinary_region_pct.csv\", index_col=0)"
   ]
  },
  {
   "cell_type": "code",
   "execution_count": 6,
   "metadata": {
    "ExecuteTime": {
     "end_time": "2021-03-10T17:24:03.236268Z",
     "start_time": "2021-03-10T17:24:02.884682Z"
    }
   },
   "outputs": [],
   "source": [
    "mex_gdf = gpd.read_file(\"../data/MEX_adm1.shp\")"
   ]
  },
  {
   "cell_type": "code",
   "execution_count": 7,
   "metadata": {
    "ExecuteTime": {
     "end_time": "2021-03-10T17:24:03.267317Z",
     "start_time": "2021-03-10T17:24:03.238123Z"
    }
   },
   "outputs": [],
   "source": [
    "remit_df = pd.read_excel(\"../data/remittances_2020.xlsx\", header=7)"
   ]
  },
  {
   "cell_type": "code",
   "execution_count": 8,
   "metadata": {
    "ExecuteTime": {
     "end_time": "2021-03-10T17:24:03.275817Z",
     "start_time": "2021-03-10T17:24:03.270726Z"
    }
   },
   "outputs": [],
   "source": [
    "mex_pop = pd.read_csv(\"../data/mex_population_by_state.csv\")"
   ]
  },
  {
   "cell_type": "markdown",
   "metadata": {},
   "source": [
    "# Engineering Data"
   ]
  },
  {
   "cell_type": "markdown",
   "metadata": {},
   "source": [
    "## Geodataframe"
   ]
  },
  {
   "cell_type": "code",
   "execution_count": 9,
   "metadata": {
    "ExecuteTime": {
     "end_time": "2021-03-10T17:24:03.288151Z",
     "start_time": "2021-03-10T17:24:03.278589Z"
    }
   },
   "outputs": [],
   "source": [
    "regions_for_gdf = [unidecode.unidecode(x.title()) for x in mex_gdf['NAME_1']]\n",
    "mex_gdf['Region'] = [x.title() for x in regions_for_gdf]\n",
    "mex_gdf['Region'].replace(region_replacement_dictionary, inplace=True)\n",
    "mex_gdf.drop(columns = ['ID_0', 'ID_1', 'ISO', 'NAME_0', 'HASC_1', 'CC_1', 'VALIDFR_1', 'VALIDTO_1', 'REMARKS_1',\n",
    "       'TYPE_1', 'ENGTYPE_1', 'NL_NAME_1', 'VARNAME_1', 'NAME_1', 'Shape_Leng', 'Shape_Area'], inplace=True)"
   ]
  },
  {
   "cell_type": "markdown",
   "metadata": {},
   "source": [
    "## Remittances"
   ]
  },
  {
   "cell_type": "code",
   "execution_count": 10,
   "metadata": {
    "ExecuteTime": {
     "end_time": "2021-03-10T17:24:03.295186Z",
     "start_time": "2021-03-10T17:24:03.289871Z"
    }
   },
   "outputs": [],
   "source": [
    "remit_df.columns = ['X', \"State\", \"Oct-Dec 2019\", \"Jan-Mar 2020\", \"Y\"]\n",
    "remit_df.drop(columns = ['X', \"Oct-Dec 2019\", 'Y'], inplace=True)\n",
    "remit_df.drop([0, 1, 2, 35, 36, 37], inplace=True)"
   ]
  },
  {
   "cell_type": "code",
   "execution_count": 11,
   "metadata": {
    "ExecuteTime": {
     "end_time": "2021-03-10T17:24:03.301093Z",
     "start_time": "2021-03-10T17:24:03.296916Z"
    }
   },
   "outputs": [],
   "source": [
    "new_state_names = []\n",
    "for state in remit_df['State']:\n",
    "    for idx, x in enumerate(state):\n",
    "        if x.isalpha() == True:\n",
    "            new_name = unidecode.unidecode(state[idx:])\n",
    "#             [unidecode.unidecode(x) for x in dataframe['region']]\n",
    "            new_state_names.append(new_name)\n",
    "            break"
   ]
  },
  {
   "cell_type": "code",
   "execution_count": 12,
   "metadata": {
    "ExecuteTime": {
     "end_time": "2021-03-10T17:24:03.308169Z",
     "start_time": "2021-03-10T17:24:03.303394Z"
    }
   },
   "outputs": [],
   "source": [
    "remit_df['State'] = new_state_names\n",
    "remit_df.replace(region_replacement_dictionary, inplace=True)\n",
    "remit_df.sort_values(by=['State'], inplace=True)\n",
    "remit_df.reset_index(drop=True, inplace=True)"
   ]
  },
  {
   "cell_type": "code",
   "execution_count": 13,
   "metadata": {
    "ExecuteTime": {
     "end_time": "2021-03-10T17:24:03.328176Z",
     "start_time": "2021-03-10T17:24:03.310091Z"
    }
   },
   "outputs": [],
   "source": [
    "total_remit = remit_df[\"Jan-Mar 2020\"].sum()\n",
    "remit_df['Percent_of_total'] = round((remit_df[\"Jan-Mar 2020\"] / total_remit), 2)"
   ]
  },
  {
   "cell_type": "code",
   "execution_count": 14,
   "metadata": {
    "ExecuteTime": {
     "end_time": "2021-03-10T17:24:03.334371Z",
     "start_time": "2021-03-10T17:24:03.330060Z"
    }
   },
   "outputs": [],
   "source": [
    "# making remit_df into a geodataframe\n",
    "remit_df['geometry'] = mex_gdf['geometry']\n",
    "remit_gdf = gpd.GeoDataFrame(remit_df)"
   ]
  },
  {
   "cell_type": "markdown",
   "metadata": {},
   "source": [
    "# Region Popularity for Each City "
   ]
  },
  {
   "cell_type": "code",
   "execution_count": 15,
   "metadata": {
    "ExecuteTime": {
     "end_time": "2021-03-10T17:24:03.344804Z",
     "start_time": "2021-03-10T17:24:03.336413Z"
    }
   },
   "outputs": [],
   "source": [
    "mex_gdf_w_reg_pct = mex_gdf.merge(pct_df, left_on = 'Region', right_on = 'Region', how='outer')"
   ]
  },
  {
   "cell_type": "code",
   "execution_count": 16,
   "metadata": {
    "ExecuteTime": {
     "end_time": "2021-03-10T17:24:03.349458Z",
     "start_time": "2021-03-10T17:24:03.346771Z"
    }
   },
   "outputs": [],
   "source": [
    "# making sure that it has 32 columns\n",
    "assert mex_gdf_w_reg_pct.shape[0] == 32"
   ]
  },
  {
   "cell_type": "markdown",
   "metadata": {},
   "source": [
    "## Region Popularity overall"
   ]
  },
  {
   "cell_type": "code",
   "execution_count": 17,
   "metadata": {
    "ExecuteTime": {
     "end_time": "2021-03-10T17:24:03.353194Z",
     "start_time": "2021-03-10T17:24:03.351231Z"
    },
    "scrolled": true
   },
   "outputs": [],
   "source": [
    "# mex_gdf_w_reg_pct.plot(column='Percent_of_total', scheme='EqualInterval', k=5, figsize=(8, 9),\n",
    "#                       legend=True, cmap = 'cividis')"
   ]
  },
  {
   "cell_type": "markdown",
   "metadata": {},
   "source": [
    "## Region Popularity and Remittances"
   ]
  },
  {
   "cell_type": "code",
   "execution_count": 18,
   "metadata": {
    "ExecuteTime": {
     "end_time": "2021-03-10T17:24:03.359284Z",
     "start_time": "2021-03-10T17:24:03.355417Z"
    }
   },
   "outputs": [],
   "source": [
    "rests_in_cities_max = mex_gdf_w_reg_pct['Percent_of_total'].max()\n",
    "max_rest_reg = (rests_in_cities_max * 100) \n",
    "bin_range_rest_reg = np.arange(0, max_rest_reg, 6) / 100"
   ]
  },
  {
   "cell_type": "code",
   "execution_count": 19,
   "metadata": {
    "ExecuteTime": {
     "end_time": "2021-03-10T17:24:03.365345Z",
     "start_time": "2021-03-10T17:24:03.361621Z"
    }
   },
   "outputs": [],
   "source": [
    "remit_max = remit_df['Percent_of_total'].max()\n",
    "bin_range_remit = list(range(0, 12, 3))\n",
    "bin_range_remit_array = np.array(bin_range_remit) / 100"
   ]
  },
  {
   "cell_type": "code",
   "execution_count": 20,
   "metadata": {
    "ExecuteTime": {
     "end_time": "2021-03-10T17:24:03.370058Z",
     "start_time": "2021-03-10T17:24:03.367560Z"
    }
   },
   "outputs": [],
   "source": [
    "# there's a clear error in the remittance data plot (durango is not in a high category)\n",
    "# fig,((ax1, ax2)) = plt.subplots(1,2,figsize=(15,6))\n",
    "# fig.suptitle('Percent of All Remittances/Mexican Restaurants Referring to a Region From Four U.S. Cities', \n",
    "#              fontsize=20)\n",
    "\n",
    "# ax1.set_aspect('equal')\n",
    "# mex_gdf_w_reg_pct.plot(color='white', edgecolor='black', ax=ax1)\n",
    "# mex_gdf_w_reg_pct.plot(column='Percent_of_total', cmap = 'Reds', legend=True, \n",
    "#               scheme='User_Defined', ax=ax1,\n",
    "#               classification_kwds=dict(bins=bin_range_rest_reg))\n",
    "# ax1.set_title('Regions Represented (Percentage of Matched Restaurants)', fontsize=16)\n",
    "\n",
    "# ax2.set_aspect('equal')\n",
    "# remit_gdf.plot(color='white', edgecolor='black', ax=ax2)\n",
    "# remit_gdf.plot(column='Percent_of_total', legend=True, cmap='Reds', ax=ax2,\n",
    "#                  scheme='User_Defined', classification_kwds=dict(bins=bin_range_remit_array))\n",
    "# ax2.set_title('Percent of Total Remittances (Q1 2020)', fontsize=16)\n",
    "\n",
    "# for ax in (ax1,ax2,):\n",
    "#     ax.axis('off')\n",
    "# plt.savefig(\"../my_saved_data/Regions_represented_plus_remittances_pct2.png\", \n",
    "#             pad_inches='tight', orientation='landscape')"
   ]
  },
  {
   "cell_type": "markdown",
   "metadata": {},
   "source": [
    "## Region Popularity by City"
   ]
  },
  {
   "cell_type": "code",
   "execution_count": 21,
   "metadata": {
    "ExecuteTime": {
     "end_time": "2021-03-10T17:24:03.375923Z",
     "start_time": "2021-03-10T17:24:03.371967Z"
    }
   },
   "outputs": [],
   "source": [
    "# getting the max pct of any region for each of the city columns\n",
    "max_city_pct = 0\n",
    "for col_name in mex_gdf_w_reg_pct.columns[-7:-3]:\n",
    "    max_pct = mex_gdf_w_reg_pct[col_name].max()\n",
    "    if max_pct > max_city_pct:\n",
    "        max_city_pct = max_pct"
   ]
  },
  {
   "cell_type": "code",
   "execution_count": 59,
   "metadata": {
    "ExecuteTime": {
     "end_time": "2021-03-10T17:44:25.496074Z",
     "start_time": "2021-03-10T17:44:25.491951Z"
    }
   },
   "outputs": [],
   "source": [
    "max_ind_city_reg = (max_city_pct * 100) + 5\n",
    "bin_range_ind_city_reg = np.arange(0, max_ind_city_reg, 16) / 100"
   ]
  },
  {
   "cell_type": "code",
   "execution_count": 60,
   "metadata": {
    "ExecuteTime": {
     "end_time": "2021-03-10T17:44:30.605863Z",
     "start_time": "2021-03-10T17:44:30.603260Z"
    }
   },
   "outputs": [],
   "source": [
    "## to get consistent scale, use https://github.com/geopandas/geopandas/issues/1019\n",
    "# cmap1 = 'YlOrBr'\n",
    "# bin_range = bin_range_ind_city_reg\n",
    "# fig,((ax1, ax2), (ax3, ax4)) = plt.subplots(2,2,figsize=(15,10))\n",
    "# fig.suptitle('Percent of Matching Mexican Restaurants From Four U.S. Cities Referring to a Region', \n",
    "#              fontsize=20)\n",
    "# mex_gdf_w_reg_pct.plot(\n",
    "#     column='NYC_pct', ax=ax1, cmap = cmap1, scheme='UserDefined',\n",
    "#               classification_kwds=dict(bins=bin_range), legend=True, edgecolor='gray')\n",
    "# ax1.set_title('NYC', fontsize=16)\n",
    "# mex_gdf_w_reg_pct.plot(\n",
    "#     column='Chi_pct', ax=ax2, cmap = cmap1, scheme='UserDefined',\n",
    "#               classification_kwds=dict(bins=bin_range), legend=True, edgecolor='gray')\n",
    "# ax2.set_title('Chicago', fontsize=16)\n",
    "# mex_gdf_w_reg_pct.plot(\n",
    "#     column='Dal_pct', ax=ax3, cmap = cmap1, scheme='UserDefined',\n",
    "#               classification_kwds=dict(bins=bin_range), legend=True, edgecolor='gray')\n",
    "# ax3.set_title('Dallas', fontsize=16)\n",
    "# mex_gdf_w_reg_pct.plot(\n",
    "#     column='SF_pct', ax=ax4, cmap = cmap1, scheme='UserDefined',\n",
    "#               classification_kwds=dict(bins=bin_range), legend=True, edgecolor='gray')\n",
    "# ax4.set_title('San Francisco', fontsize=16)\n",
    "# for ax in (ax1,ax2,ax3,ax4):\n",
    "#     ax.axis('off')\n",
    "# plt.savefig(\"../my_saved_data/Map_of_cities_and_their_regions.png\", \n",
    "#             pad_inches='tight', orientation='landscape')"
   ]
  },
  {
   "cell_type": "code",
   "execution_count": 61,
   "metadata": {
    "ExecuteTime": {
     "end_time": "2021-03-10T17:44:35.593910Z",
     "start_time": "2021-03-10T17:44:35.591343Z"
    }
   },
   "outputs": [],
   "source": [
    "# scheme = mc.EqualInterval(mex_gdf_w_reg_pct[\"NYC_pct\"], k=5)"
   ]
  },
  {
   "cell_type": "code",
   "execution_count": 62,
   "metadata": {
    "ExecuteTime": {
     "end_time": "2021-03-10T17:44:40.569430Z",
     "start_time": "2021-03-10T17:44:40.566859Z"
    }
   },
   "outputs": [],
   "source": [
    "# # continuous scale\n",
    "# cmap1 = 'Greens'\n",
    "# bin_range = bin_range_ind_city_reg\n",
    "# fig,((ax1, ax2), (ax3, ax4)) = plt.subplots(2,2,figsize=(15,10))\n",
    "# fig.suptitle('Percent of Matching Mexican Restaurants From Four U.S. Cities Referring to a Region', \n",
    "#              fontsize=20)\n",
    "# mex_gdf_w_reg_pct.plot(\n",
    "#     column='NYC_pct', ax=ax1, cmap = cmap1, scheme = scheme, scale = 'NYC_pct', legend=True, edgecolor='gray')\n",
    "# ax1.set_title('NYC', fontsize=16)\n",
    "# mex_gdf_w_reg_pct.plot(\n",
    "#     column='Chi_pct', ax=ax2, cmap = cmap1, scheme = scheme, scale = 'NYC_pct', legend=True, edgecolor='gray')\n",
    "# ax2.set_title('Chicago', fontsize=16)\n",
    "# mex_gdf_w_reg_pct.plot(\n",
    "#     column='Dal_pct', ax=ax3, cmap = cmap1, scheme = scheme, scale = 'NYC_pct', legend=True, edgecolor='gray')\n",
    "# ax3.set_title('Dallas', fontsize=16)\n",
    "# mex_gdf_w_reg_pct.plot(\n",
    "#     column='SF_pct', ax=ax4, cmap = cmap1, scheme = scheme, scale = 'NYC_pct', legend=True, edgecolor='gray')\n",
    "# ax4.set_title('San Francisco', fontsize=16)\n",
    "# for ax in (ax1,ax2,ax3,ax4):\n",
    "#     ax.axis('off')\n",
    "# # plt.savefig(\"../my_saved_data/Map_of_cities_and_their_regions_cont_scale.png\", \n",
    "# #             pad_inches='tight', orientation='landscape')"
   ]
  },
  {
   "cell_type": "markdown",
   "metadata": {},
   "source": [
    "## Region Popularity for NYC"
   ]
  },
  {
   "cell_type": "code",
   "execution_count": 108,
   "metadata": {
    "ExecuteTime": {
     "end_time": "2021-03-10T18:15:08.110766Z",
     "start_time": "2021-03-10T18:15:05.954264Z"
    }
   },
   "outputs": [
    {
     "data": {
      "image/png": "[encoded data removed]",
      "text/plain": [
       "<Figure size 720x720 with 2 Axes>"
      ]
     },
     "metadata": {
      "needs_background": "light"
     },
     "output_type": "display_data"
    }
   ],
   "source": [
    "fig, ax = plt.subplots(figsize=(10, 10))\n",
    "divider = make_axes_locatable(ax)\n",
    "cax = divider.append_axes(\"right\", size=\"5%\", pad=0.1)\n",
    "mex_gdf_w_reg_pct.plot(column='NYC_pct', figsize=(10, 10), ax=ax, cmap = 'OrRd', edgecolor='grey',\n",
    "                      legend=True, cax=cax)\n",
    "ax.set_title(\"Percentage of NYC Restaurants That Refer to a Mexican Region\", fontsize=18)\n",
    "ax.axis('off')\n",
    "plt.savefig(\"../my_saved_data/Map_of_NYC_regions.png\", pad_inches='tight')"
   ]
  },
  {
   "cell_type": "markdown",
   "metadata": {},
   "source": [
    "# Culinary Region Popularity for Each City"
   ]
  },
  {
   "cell_type": "code",
   "execution_count": 26,
   "metadata": {
    "ExecuteTime": {
     "end_time": "2021-03-08T15:56:32.294297Z",
     "start_time": "2021-03-08T15:56:32.291866Z"
    }
   },
   "outputs": [],
   "source": [
    "region_to_cul_reg_dict = turn_regions_to_cul_regions()"
   ]
  },
  {
   "cell_type": "markdown",
   "metadata": {},
   "source": [
    "## Combine geometries in gdf"
   ]
  },
  {
   "cell_type": "code",
   "execution_count": 28,
   "metadata": {
    "ExecuteTime": {
     "end_time": "2021-03-08T15:56:33.543043Z",
     "start_time": "2021-03-08T15:56:33.537632Z"
    }
   },
   "outputs": [],
   "source": [
    "mex_gdf['Culinary_region'] = mex_gdf['Region'].replace(region_to_cul_reg_dict)"
   ]
  },
  {
   "cell_type": "code",
   "execution_count": 29,
   "metadata": {
    "ExecuteTime": {
     "end_time": "2021-03-08T15:56:33.662127Z",
     "start_time": "2021-03-08T15:56:33.545098Z"
    }
   },
   "outputs": [],
   "source": [
    "# combine all of the culinary regions with the geometries\n",
    "cul_reg_geometry_dict = {key: [] for key in cul_reg_dict.keys()}\n",
    "\n",
    "for idx, item in enumerate(mex_gdf['Culinary_region']):\n",
    "    cul_reg_geometry_dict[item].append(mex_gdf['geometry'][idx])"
   ]
  },
  {
   "cell_type": "code",
   "execution_count": 30,
   "metadata": {
    "ExecuteTime": {
     "end_time": "2021-03-08T15:56:41.914625Z",
     "start_time": "2021-03-08T15:56:33.663916Z"
    }
   },
   "outputs": [],
   "source": [
    "# combining the polygons into one unit \n",
    "polygon_list = []\n",
    "for key in cul_reg_geometry_dict.keys():\n",
    "    polygon = []\n",
    "    for idx, cul_region in enumerate(mex_gdf.Culinary_region):\n",
    "        if key == cul_region:\n",
    "            polygon.append(mex_gdf.geometry[idx])\n",
    "    polygon_list.append(polygon)\n",
    "combined_polygon_list = []\n",
    "for x in polygon_list:\n",
    "    boundary = gpd.GeoSeries(unary_union(x)) \n",
    "    combined_polygon_list.append(boundary)"
   ]
  },
  {
   "cell_type": "code",
   "execution_count": 31,
   "metadata": {
    "ExecuteTime": {
     "end_time": "2021-03-08T15:56:42.128349Z",
     "start_time": "2021-03-08T15:56:41.916340Z"
    }
   },
   "outputs": [],
   "source": [
    "# adding all of the data to a new (g)df\n",
    "cul_regions = list(key for key in cul_reg_dict.keys())\n",
    "cul_reg_df = pd.DataFrame(data = cul_regions,\n",
    "                         columns = ['Culinary_region'])\n",
    "cul_reg_df['geometry'] = [x.values[0] for x in combined_polygon_list]\n",
    "cul_reg_gdf = gpd.GeoDataFrame(cul_reg_df, geometry = cul_reg_df.geometry)"
   ]
  },
  {
   "cell_type": "code",
   "execution_count": 32,
   "metadata": {
    "ExecuteTime": {
     "end_time": "2021-03-08T15:56:42.139238Z",
     "start_time": "2021-03-08T15:56:42.130527Z"
    }
   },
   "outputs": [],
   "source": [
    "cul_reg_gdf_w_pct1 = cul_reg_gdf.merge(city_w_cul_reg_pct, left_on = 'Culinary_region', right_on = 'Cul_reg',\n",
    "                  how='outer')\n",
    "cul_reg_gdf_w_pct = cul_reg_gdf_w_pct1.merge(cul_reg_for_all, left_on = 'Culinary_region', \n",
    "                                             right_on = 'Culinary_region', how='outer')"
   ]
  },
  {
   "cell_type": "markdown",
   "metadata": {},
   "source": [
    "## Plot All Culinary Regions Together"
   ]
  },
  {
   "cell_type": "code",
   "execution_count": 33,
   "metadata": {
    "ExecuteTime": {
     "end_time": "2021-03-08T15:56:42.143588Z",
     "start_time": "2021-03-08T15:56:42.141272Z"
    }
   },
   "outputs": [],
   "source": [
    "# max_pct = int(cul_reg_gdf_w_pct.Percentage.max() * 100) + 1\n",
    "# bin_range_max_pct = np.arange(1, max_pct, 10) / 100"
   ]
  },
  {
   "cell_type": "code",
   "execution_count": 34,
   "metadata": {
    "ExecuteTime": {
     "end_time": "2021-03-08T15:56:42.148696Z",
     "start_time": "2021-03-08T15:56:42.146313Z"
    }
   },
   "outputs": [],
   "source": [
    "# fig, ax = plt.subplots(1, figsize=(8,4))\n",
    "# # fig.title('Percent of All Mexican Restaurants Referring to a Region From Four U.S. Cities', fontsize=20)\n",
    "# ax.set_aspect('equal')\n",
    "# cul_reg_gdf_w_pct.plot(color='white', edgecolor='black', ax=ax)\n",
    "\n",
    "# cul_reg_gdf_w_pct.plot(column='Percentage', cmap = 'cividis', legend=True, \n",
    "#               scheme='User_Defined', ax=ax,\n",
    "#               classification_kwds=dict(bins=bin_range_max_pct))\n",
    "# ax.set_title(\"Distribution of Mexican Restaurants By Home Region in Mexico\",fontsize=16)\n",
    "# # ax.legend(['0', '0-10%', '10-20%', '20-30%'])\n",
    "# ax.axis('off')\n",
    "\n",
    "# # plt.savefig(\"./my_saved_data/Map_of_all_restaurants_and_their_regions.png\", pad_inches='tight', orientation='landscape')"
   ]
  },
  {
   "cell_type": "code",
   "execution_count": 35,
   "metadata": {
    "ExecuteTime": {
     "end_time": "2021-03-08T15:56:42.154914Z",
     "start_time": "2021-03-08T15:56:42.150583Z"
    }
   },
   "outputs": [],
   "source": [
    "# EQUAL INTERVAL\n",
    "percentiles_cul_reg = mc.Percentiles(cul_reg_gdf_w_pct['Percentage'], pct=[10])"
   ]
  },
  {
   "cell_type": "code",
   "execution_count": 36,
   "metadata": {
    "ExecuteTime": {
     "end_time": "2021-03-08T15:56:42.159990Z",
     "start_time": "2021-03-08T15:56:42.157157Z"
    }
   },
   "outputs": [],
   "source": [
    "# fig, ax = plt.subplots(1, figsize=(8,4))\n",
    "# ax.set_aspect('equal')\n",
    "# cul_reg_gdf_w_pct.plot(color='white', edgecolor='black', ax=ax)\n",
    "\n",
    "# cul_reg_gdf_w_pct.plot(column='Percentage', cmap = 'cividis', legend=True, \n",
    "#               scheme='equal_interval', ax=ax)\n",
    "# #               ,classification_kwds=dict(bins=percentiles_cul_reg))\n",
    "# ax.set_title(\"Distribution of Mexican Restaurants By Mexican Culinary Region\",fontsize=16)\n",
    "# ax.axis('off')\n",
    "# # plt.savefig(\"../my_saved_data/Map_of_all_restaurants_and_their_culinary_regions.png\",\n",
    "# #             pad_inches='tight', orientation='landscape')"
   ]
  },
  {
   "cell_type": "code",
   "execution_count": 37,
   "metadata": {
    "ExecuteTime": {
     "end_time": "2021-03-08T15:56:42.165046Z",
     "start_time": "2021-03-08T15:56:42.162207Z"
    }
   },
   "outputs": [],
   "source": [
    "# cul_reg_gdf_w_pct.plot(column='Percentage', scheme='EqualInterval', k=3, figsize=(16, 9),\n",
    "#                       legend=True)"
   ]
  },
  {
   "cell_type": "code",
   "execution_count": 51,
   "metadata": {
    "ExecuteTime": {
     "end_time": "2021-03-08T16:10:46.383698Z",
     "start_time": "2021-03-08T16:10:43.558606Z"
    }
   },
   "outputs": [
    {
     "data": {
      "text/plain": [
       "(-119.95182647705073,\n",
       " -85.12719879150391,\n",
       " 13.623660850524958,\n",
       " 33.627296638488765)"
      ]
     },
     "execution_count": 51,
     "metadata": {},
     "output_type": "execute_result"
    },
    {
     "data": {
      "image/png": "[encoded data removed]",
      "text/plain": [
       "<Figure size 576x288 with 1 Axes>"
      ]
     },
     "metadata": {
      "needs_background": "light"
     },
     "output_type": "display_data"
    }
   ],
   "source": [
    "# DECILES\n",
    "fig, ax = plt.subplots(1, figsize=(8,4))\n",
    "ax.set_aspect('equal')\n",
    "cul_reg_gdf_w_pct.plot(color='white', edgecolor='black', ax=ax)\n",
    "cul_reg_gdf_w_pct.plot(column='Percentage', cmap = 'cividis', legend=True, \n",
    "              scheme='equal_interval', ax=ax, k=4)\n",
    "#               ,classification_kwds=dict(bins=percentiles_cul_reg))\n",
    "ax.set_title(\"Distribution of Mexican Restaurants By Mexican Culinary Region\",fontsize=16)\n",
    "ax.axis('off')\n",
    "\n",
    "# # plt.savefig(\"../my_saved_data/Map_of_all_restaurants_and_their_culinary_regions2.png\",\n",
    "# #             pad_inches='tight', orientation='landscape')"
   ]
  },
  {
   "cell_type": "code",
   "execution_count": null,
   "metadata": {},
   "outputs": [],
   "source": []
  }
 ],
 "metadata": {
  "kernelspec": {
   "display_name": "Python [conda env:root]",
   "language": "python",
   "name": "conda-root-py"
  },
  "language_info": {
   "codemirror_mode": {
    "name": "ipython",
    "version": 3
   },
   "file_extension": ".py",
   "mimetype": "text/x-python",
   "name": "python",
   "nbconvert_exporter": "python",
   "pygments_lexer": "ipython3",
   "version": "3.7.4"
  },
  "toc": {
   "base_numbering": 1,
   "nav_menu": {},
   "number_sections": true,
   "sideBar": true,
   "skip_h1_title": false,
   "title_cell": "Table of Contents",
   "title_sidebar": "Contents",
   "toc_cell": false,
   "toc_position": {
    "height": "calc(100% - 180px)",
    "left": "10px",
    "top": "150px",
    "width": "326.1875px"
   },
   "toc_section_display": true,
   "toc_window_display": true
  },
  "varInspector": {
   "cols": {
    "lenName": 16,
    "lenType": 16,
    "lenVar": 40
   },
   "kernels_config": {
    "python": {
     "delete_cmd_postfix": "",
     "delete_cmd_prefix": "del ",
     "library": "var_list.py",
     "varRefreshCmd": "print(var_dic_list())"
    },
    "r": {
     "delete_cmd_postfix": ") ",
     "delete_cmd_prefix": "rm(",
     "library": "var_list.r",
     "varRefreshCmd": "cat(var_dic_list()) "
    }
   },
   "types_to_exclude": [
    "module",
    "function",
    "builtin_function_or_method",
    "instance",
    "_Feature"
   ],
   "window_display": false
  }
 },
 "nbformat": 4,
 "nbformat_minor": 2
}
