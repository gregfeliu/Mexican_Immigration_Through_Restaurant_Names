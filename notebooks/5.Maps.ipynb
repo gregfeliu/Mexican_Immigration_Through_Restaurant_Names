{
 "cells": [
  {
   "cell_type": "markdown",
   "metadata": {},
   "source": [
    "# Imports"
   ]
  },
  {
   "cell_type": "markdown",
   "metadata": {},
   "source": [
    "## Libraries"
   ]
  },
  {
   "cell_type": "code",
   "execution_count": 71,
   "metadata": {
    "ExecuteTime": {
     "end_time": "2021-03-04T21:53:54.152765Z",
     "start_time": "2021-03-04T21:53:54.149269Z"
    },
    "scrolled": true
   },
   "outputs": [],
   "source": [
    "import random\n",
    "import warnings\n",
    "warnings.filterwarnings('ignore')\n",
    "import shapely\n",
    "import geopandas as gpd\n",
    "from shapely.ops import unary_union\n",
    "# from pysal.esda.mapclassify import User_Defined\n",
    "import mapclassify as mc\n",
    "# mc.UserDefined works https://pysal.org/mapclassify/generated/mapclassify.UserDefined.html\n",
    "from functions import *"
   ]
  },
  {
   "cell_type": "markdown",
   "metadata": {},
   "source": [
    "## Data"
   ]
  },
  {
   "cell_type": "code",
   "execution_count": 2,
   "metadata": {
    "ExecuteTime": {
     "end_time": "2021-03-04T16:38:36.889745Z",
     "start_time": "2021-03-04T16:38:36.887369Z"
    }
   },
   "outputs": [],
   "source": [
    "# how much smaller are these notebooks than the last ones?"
   ]
  },
  {
   "cell_type": "markdown",
   "metadata": {},
   "source": [
    "charts to make:\n",
    "- region popularity for each city \n",
    "- culinary regions overall\n",
    "- culinary region for each city\n",
    "- total region popularity coupled with remittance data "
   ]
  },
  {
   "cell_type": "code",
   "execution_count": 3,
   "metadata": {
    "ExecuteTime": {
     "end_time": "2021-03-04T16:38:36.900643Z",
     "start_time": "2021-03-04T16:38:36.892737Z"
    }
   },
   "outputs": [],
   "source": [
    "rest_df = pd.read_csv(\"../my_saved_data/final_correct_restaurants_and_regions.csv\", index_col=0)"
   ]
  },
  {
   "cell_type": "code",
   "execution_count": 4,
   "metadata": {
    "ExecuteTime": {
     "end_time": "2021-03-04T16:38:36.908801Z",
     "start_time": "2021-03-04T16:38:36.902986Z"
    }
   },
   "outputs": [],
   "source": [
    "with open(\"../my_saved_data/demonym_dictionary.pickle\", \"rb+\") as f:\n",
    "    demonym_dict = pickle.load(f)"
   ]
  },
  {
   "cell_type": "code",
   "execution_count": 60,
   "metadata": {
    "ExecuteTime": {
     "end_time": "2021-03-04T17:46:56.742514Z",
     "start_time": "2021-03-04T17:46:56.729070Z"
    }
   },
   "outputs": [],
   "source": [
    "cul_reg_for_all = pd.read_csv(\"../my_saved_data/culinary_region_pct_overal.csv\", index_col=0)\n",
    "pct_df = pd.read_csv(\"../my_saved_data/city_region_pct_df.csv\", index_col=0)\n",
    "city_w_cul_reg_pct = pd.read_csv(\"../my_saved_data/city_w_culinary_region_pct.csv\", index_col=0)"
   ]
  },
  {
   "cell_type": "code",
   "execution_count": 6,
   "metadata": {
    "ExecuteTime": {
     "end_time": "2021-03-04T16:38:37.236269Z",
     "start_time": "2021-03-04T16:38:36.920928Z"
    }
   },
   "outputs": [],
   "source": [
    "mex_gdf = gpd.read_file(\"../data/MEX_adm1.shp\")"
   ]
  },
  {
   "cell_type": "code",
   "execution_count": 7,
   "metadata": {
    "ExecuteTime": {
     "end_time": "2021-03-04T16:38:37.258404Z",
     "start_time": "2021-03-04T16:38:37.238284Z"
    }
   },
   "outputs": [],
   "source": [
    "remit_df = pd.read_excel(\"../data/remittances_2020.xlsx\", header=7)\n",
    "remit_df.columns = ['X', \"State\", \"Oct-Dec 2019\", \"Jan-Mar 2020\", \"Y\"]"
   ]
  },
  {
   "cell_type": "code",
   "execution_count": 8,
   "metadata": {
    "ExecuteTime": {
     "end_time": "2021-03-04T16:38:37.267131Z",
     "start_time": "2021-03-04T16:38:37.262479Z"
    }
   },
   "outputs": [],
   "source": [
    "mex_pop = pd.read_csv(\"../data/mex_population_by_state.csv\")"
   ]
  },
  {
   "cell_type": "markdown",
   "metadata": {},
   "source": [
    "# Engineering Geodataframe"
   ]
  },
  {
   "cell_type": "code",
   "execution_count": 9,
   "metadata": {
    "ExecuteTime": {
     "end_time": "2021-03-04T16:38:37.278750Z",
     "start_time": "2021-03-04T16:38:37.270501Z"
    }
   },
   "outputs": [],
   "source": [
    "mex_gdf.drop(columns = ['ID_0', 'ID_1', 'ISO', 'NAME_0', 'HASC_1', 'CC_1', 'VALIDFR_1', 'VALIDTO_1', 'REMARKS_1',\n",
    "       'TYPE_1', 'ENGTYPE_1', 'NL_NAME_1', 'VARNAME_1'], inplace=True)\n",
    "\n",
    "regions_for_gdf = [unidecode.unidecode(x) for x in mex_gdf['NAME_1']]\n",
    "mex_gdf['Region'] = [x.title() for x in regions_for_gdf]\n",
    "mex_gdf['Region'].replace(region_replacement_dictionary, inplace=True)"
   ]
  },
  {
   "cell_type": "markdown",
   "metadata": {},
   "source": [
    "# Region Popularity for Each City "
   ]
  },
  {
   "cell_type": "code",
   "execution_count": 10,
   "metadata": {
    "ExecuteTime": {
     "end_time": "2021-03-04T16:38:37.288104Z",
     "start_time": "2021-03-04T16:38:37.280555Z"
    }
   },
   "outputs": [],
   "source": [
    "mex_gdf_w_reg_pct = mex_gdf.merge(pct_df, left_on = 'Region', right_on = 'Region', how='outer')"
   ]
  },
  {
   "cell_type": "code",
   "execution_count": 11,
   "metadata": {
    "ExecuteTime": {
     "end_time": "2021-03-04T16:38:37.292616Z",
     "start_time": "2021-03-04T16:38:37.290156Z"
    }
   },
   "outputs": [],
   "source": [
    "# making sure that it has 32 columns\n",
    "assert mex_gdf_w_reg_pct.shape[0] == 32"
   ]
  },
  {
   "cell_type": "markdown",
   "metadata": {},
   "source": [
    "# Culinary Region Popularity for Each City"
   ]
  },
  {
   "cell_type": "code",
   "execution_count": 14,
   "metadata": {
    "ExecuteTime": {
     "end_time": "2021-03-04T16:39:26.457115Z",
     "start_time": "2021-03-04T16:39:26.454936Z"
    }
   },
   "outputs": [],
   "source": [
    "region_to_cul_reg_dict = turn_regions_to_cul_regions()"
   ]
  },
  {
   "cell_type": "markdown",
   "metadata": {},
   "source": [
    "## Combine geometries in gdf"
   ]
  },
  {
   "cell_type": "code",
   "execution_count": 17,
   "metadata": {
    "ExecuteTime": {
     "end_time": "2021-03-04T16:40:09.433591Z",
     "start_time": "2021-03-04T16:40:09.424915Z"
    }
   },
   "outputs": [],
   "source": [
    "mex_gdf['Culinary_region'] = mex_gdf['Region'].replace(region_to_cul_reg_dict)"
   ]
  },
  {
   "cell_type": "code",
   "execution_count": 19,
   "metadata": {
    "ExecuteTime": {
     "end_time": "2021-03-04T17:24:32.897541Z",
     "start_time": "2021-03-04T17:24:32.893788Z"
    }
   },
   "outputs": [],
   "source": [
    "# combine all of the culinary regions with the geometries\n",
    "cul_reg_geometry_dict = {key: [] for key in cul_reg_dict.keys()}\n",
    "\n",
    "for idx, item in enumerate(mex_gdf['Culinary_region']):\n",
    "    cul_reg_geometry_dict[item].append(mex_gdf['geometry'][idx])"
   ]
  },
  {
   "cell_type": "code",
   "execution_count": 22,
   "metadata": {
    "ExecuteTime": {
     "end_time": "2021-03-04T17:27:14.956549Z",
     "start_time": "2021-03-04T17:27:07.019638Z"
    }
   },
   "outputs": [],
   "source": [
    "# combining the polygons into one unit \n",
    "polygon_list = []\n",
    "for key in cul_reg_geometry_dict.keys():\n",
    "    polygon = []\n",
    "    for idx, cul_region in enumerate(mex_gdf.Culinary_region):\n",
    "        if key == cul_region:\n",
    "            polygon.append(mex_gdf.geometry[idx])\n",
    "    polygon_list.append(polygon)\n",
    "combined_polygon_list = []\n",
    "for x in polygon_list:\n",
    "    boundary = gpd.GeoSeries(unary_union(x)) \n",
    "    combined_polygon_list.append(boundary)"
   ]
  },
  {
   "cell_type": "code",
   "execution_count": 29,
   "metadata": {
    "ExecuteTime": {
     "end_time": "2021-03-04T17:32:24.137731Z",
     "start_time": "2021-03-04T17:32:24.134475Z"
    }
   },
   "outputs": [],
   "source": [
    "# adding all of the data to a new (g)df\n",
    "cul_regions = list(key for key in cul_reg_dict.keys())\n",
    "cul_reg_df = pd.DataFrame(data = cul_regions,\n",
    "                         columns = ['Culinary_region'])\n",
    "cul_reg_df['geometry'] = [x.values[0] for x in combined_polygon_list]\n",
    "cul_reg_gdf = gpd.GeoDataFrame(cul_reg_df, geometry = cul_reg_df.geometry)"
   ]
  },
  {
   "cell_type": "code",
   "execution_count": 62,
   "metadata": {
    "ExecuteTime": {
     "end_time": "2021-03-04T17:48:25.961683Z",
     "start_time": "2021-03-04T17:48:25.950899Z"
    }
   },
   "outputs": [],
   "source": [
    "cul_reg_gdf_w_pct1 = cul_reg_gdf.merge(city_w_cul_reg_pct, left_on = 'Culinary_region', right_on = 'Cul_reg',\n",
    "                  how='outer')\n",
    "cul_reg_gdf_w_pct = cul_reg_gdf_w_pct1.merge(cul_reg_for_all, left_on = 'Culinary_region', \n",
    "                                             right_on = 'Culinary_region', how='outer')"
   ]
  },
  {
   "cell_type": "code",
   "execution_count": 65,
   "metadata": {
    "ExecuteTime": {
     "end_time": "2021-03-04T17:49:28.939165Z",
     "start_time": "2021-03-04T17:49:28.336342Z"
    },
    "scrolled": true
   },
   "outputs": [
    {
     "data": {
      "text/html": [
       "<div>\n",
       "<style scoped>\n",
       "    .dataframe tbody tr th:only-of-type {\n",
       "        vertical-align: middle;\n",
       "    }\n",
       "\n",
       "    .dataframe tbody tr th {\n",
       "        vertical-align: top;\n",
       "    }\n",
       "\n",
       "    .dataframe thead th {\n",
       "        text-align: right;\n",
       "    }\n",
       "</style>\n",
       "<table border=\"1\" class=\"dataframe\">\n",
       "  <thead>\n",
       "    <tr style=\"text-align: right;\">\n",
       "      <th></th>\n",
       "      <th>Culinary_region</th>\n",
       "      <th>geometry</th>\n",
       "      <th>NYC_pct</th>\n",
       "      <th>Chi_pct</th>\n",
       "      <th>Dal_pct</th>\n",
       "      <th>SF_pct</th>\n",
       "      <th>Restaurant</th>\n",
       "      <th>Percentage</th>\n",
       "    </tr>\n",
       "  </thead>\n",
       "  <tbody>\n",
       "    <tr>\n",
       "      <td>0</td>\n",
       "      <td>North</td>\n",
       "      <td>MULTIPOLYGON (((-114.73930 18.37431, -114.7393...</td>\n",
       "      <td>0.13</td>\n",
       "      <td>0.13</td>\n",
       "      <td>0.25</td>\n",
       "      <td>0.4</td>\n",
       "      <td>81</td>\n",
       "      <td>0.17</td>\n",
       "    </tr>\n",
       "  </tbody>\n",
       "</table>\n",
       "</div>"
      ],
      "text/plain": [
       "  Culinary_region                                           geometry  NYC_pct  \\\n",
       "0           North  MULTIPOLYGON (((-114.73930 18.37431, -114.7393...     0.13   \n",
       "\n",
       "   Chi_pct  Dal_pct  SF_pct  Restaurant  Percentage  \n",
       "0     0.13     0.25     0.4          81        0.17  "
      ]
     },
     "execution_count": 65,
     "metadata": {},
     "output_type": "execute_result"
    }
   ],
   "source": [
    "cul_reg_gdf_w_pct.head(1)"
   ]
  },
  {
   "cell_type": "code",
   "execution_count": 66,
   "metadata": {
    "ExecuteTime": {
     "end_time": "2021-03-04T17:49:45.187237Z",
     "start_time": "2021-03-04T17:49:43.658067Z"
    }
   },
   "outputs": [
    {
     "data": {
      "text/plain": [
       "<matplotlib.axes._subplots.AxesSubplot at 0x7fb1889bd490>"
      ]
     },
     "execution_count": 66,
     "metadata": {},
     "output_type": "execute_result"
    },
    {
     "data": {
      "image/png": "[encoded data removed]",
      "text/plain": [
       "<Figure size 432x288 with 2 Axes>"
      ]
     },
     "metadata": {
      "needs_background": "light"
     },
     "output_type": "display_data"
    }
   ],
   "source": [
    "cul_reg_gdf_w_pct.plot(column='Percentage', legend=True, cmap='Reds', edgecolor='black')"
   ]
  },
  {
   "cell_type": "code",
   "execution_count": null,
   "metadata": {},
   "outputs": [],
   "source": []
  }
 ],
 "metadata": {
  "kernelspec": {
   "display_name": "Python [conda env:root]",
   "language": "python",
   "name": "conda-root-py"
  },
  "language_info": {
   "codemirror_mode": {
    "name": "ipython",
    "version": 3
   },
   "file_extension": ".py",
   "mimetype": "text/x-python",
   "name": "python",
   "nbconvert_exporter": "python",
   "pygments_lexer": "ipython3",
   "version": "3.7.4"
  },
  "toc": {
   "base_numbering": 1,
   "nav_menu": {},
   "number_sections": true,
   "sideBar": true,
   "skip_h1_title": false,
   "title_cell": "Table of Contents",
   "title_sidebar": "Contents",
   "toc_cell": false,
   "toc_position": {},
   "toc_section_display": true,
   "toc_window_display": true
  },
  "varInspector": {
   "cols": {
    "lenName": 16,
    "lenType": 16,
    "lenVar": 40
   },
   "kernels_config": {
    "python": {
     "delete_cmd_postfix": "",
     "delete_cmd_prefix": "del ",
     "library": "var_list.py",
     "varRefreshCmd": "print(var_dic_list())"
    },
    "r": {
     "delete_cmd_postfix": ") ",
     "delete_cmd_prefix": "rm(",
     "library": "var_list.r",
     "varRefreshCmd": "cat(var_dic_list()) "
    }
   },
   "types_to_exclude": [
    "module",
    "function",
    "builtin_function_or_method",
    "instance",
    "_Feature"
   ],
   "window_display": false
  }
 },
 "nbformat": 4,
 "nbformat_minor": 2
}
