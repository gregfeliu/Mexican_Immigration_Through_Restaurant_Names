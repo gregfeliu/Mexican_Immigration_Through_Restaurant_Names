{
 "cells": [
  {
   "cell_type": "code",
   "execution_count": 32,
   "metadata": {
    "ExecuteTime": {
     "end_time": "2021-02-26T18:51:50.857452Z",
     "start_time": "2021-02-26T18:51:50.854759Z"
    }
   },
   "outputs": [],
   "source": [
    "import pickle\n",
    "import pandas as pd\n",
    "# ^^^ pyforest auto-imports - don't write above this line\n"
   ]
  },
  {
   "cell_type": "markdown",
   "metadata": {},
   "source": [
    "# Imports"
   ]
  },
  {
   "cell_type": "markdown",
   "metadata": {},
   "source": [
    "## Libraries"
   ]
  },
  {
   "cell_type": "code",
   "execution_count": 33,
   "metadata": {
    "ExecuteTime": {
     "end_time": "2021-02-26T18:51:50.866945Z",
     "start_time": "2021-02-26T18:51:50.863292Z"
    }
   },
   "outputs": [],
   "source": [
    "import unidecode\n",
    "import wikipedia\n",
    "import warnings\n",
    "warnings.filterwarnings('ignore')\n",
    "from functions import *"
   ]
  },
  {
   "cell_type": "code",
   "execution_count": 34,
   "metadata": {
    "ExecuteTime": {
     "end_time": "2021-02-26T18:51:50.873681Z",
     "start_time": "2021-02-26T18:51:50.870094Z"
    }
   },
   "outputs": [
    {
     "name": "stdout",
     "output_type": "stream",
     "text": [
      "hi\n"
     ]
    }
   ],
   "source": [
    "lst1 = [2,34]\n",
    "if len(lst1)>= 2:\n",
    "    print(\"hi\")"
   ]
  },
  {
   "cell_type": "markdown",
   "metadata": {},
   "source": [
    "## Demonym Dictionary"
   ]
  },
  {
   "cell_type": "code",
   "execution_count": 35,
   "metadata": {
    "ExecuteTime": {
     "end_time": "2021-02-26T18:51:50.886623Z",
     "start_time": "2021-02-26T18:51:50.876471Z"
    }
   },
   "outputs": [],
   "source": [
    "with open(\"../my_saved_data/demonym_dictionary.pickle\", \"rb+\") as f:\n",
    "    demonym_dictionary = pickle.load(f)"
   ]
  },
  {
   "cell_type": "markdown",
   "metadata": {},
   "source": [
    "# Adding City (Restaurant Inspection) Data\n",
    "cities with most mexican immigrants in us: https://247wallst.com/economy/2017/01/27/us-cities-with-the-most-mexican-immigrants/"
   ]
  },
  {
   "cell_type": "markdown",
   "metadata": {},
   "source": [
    "## NYC"
   ]
  },
  {
   "cell_type": "code",
   "execution_count": 36,
   "metadata": {
    "ExecuteTime": {
     "end_time": "2021-02-26T18:51:53.372316Z",
     "start_time": "2021-02-26T18:51:50.889780Z"
    }
   },
   "outputs": [],
   "source": [
    "rest_insp = pd.read_csv(\"../food_inspections_data/DOHMH_New_York_City_Restaurant_Inspection_Results.csv\")"
   ]
  },
  {
   "cell_type": "code",
   "execution_count": 37,
   "metadata": {
    "ExecuteTime": {
     "end_time": "2021-02-26T18:51:53.412384Z",
     "start_time": "2021-02-26T18:51:53.374924Z"
    }
   },
   "outputs": [],
   "source": [
    "# tex-mex, mexican, latin\n",
    "mex_rest_insp = rest_insp[rest_insp['CUISINE DESCRIPTION'] == 'Mexican']"
   ]
  },
  {
   "cell_type": "code",
   "execution_count": 38,
   "metadata": {
    "ExecuteTime": {
     "end_time": "2021-02-26T18:51:53.418025Z",
     "start_time": "2021-02-26T18:51:53.414281Z"
    }
   },
   "outputs": [
    {
     "data": {
      "text/plain": [
       "(16656, 26)"
      ]
     },
     "execution_count": 38,
     "metadata": {},
     "output_type": "execute_result"
    }
   ],
   "source": [
    "mex_rest_insp.shape"
   ]
  },
  {
   "cell_type": "code",
   "execution_count": 39,
   "metadata": {
    "ExecuteTime": {
     "end_time": "2021-02-26T18:51:53.439656Z",
     "start_time": "2021-02-26T18:51:53.419878Z"
    },
    "scrolled": true
   },
   "outputs": [
    {
     "data": {
      "text/html": [
       "<div>\n",
       "<style scoped>\n",
       "    .dataframe tbody tr th:only-of-type {\n",
       "        vertical-align: middle;\n",
       "    }\n",
       "\n",
       "    .dataframe tbody tr th {\n",
       "        vertical-align: top;\n",
       "    }\n",
       "\n",
       "    .dataframe thead th {\n",
       "        text-align: right;\n",
       "    }\n",
       "</style>\n",
       "<table border=\"1\" class=\"dataframe\">\n",
       "  <thead>\n",
       "    <tr style=\"text-align: right;\">\n",
       "      <th></th>\n",
       "      <th>CAMIS</th>\n",
       "      <th>DBA</th>\n",
       "      <th>BORO</th>\n",
       "      <th>BUILDING</th>\n",
       "      <th>STREET</th>\n",
       "      <th>ZIPCODE</th>\n",
       "      <th>PHONE</th>\n",
       "      <th>CUISINE DESCRIPTION</th>\n",
       "      <th>INSPECTION DATE</th>\n",
       "      <th>ACTION</th>\n",
       "      <th>...</th>\n",
       "      <th>RECORD DATE</th>\n",
       "      <th>INSPECTION TYPE</th>\n",
       "      <th>Latitude</th>\n",
       "      <th>Longitude</th>\n",
       "      <th>Community Board</th>\n",
       "      <th>Council District</th>\n",
       "      <th>Census Tract</th>\n",
       "      <th>BIN</th>\n",
       "      <th>BBL</th>\n",
       "      <th>NTA</th>\n",
       "    </tr>\n",
       "  </thead>\n",
       "  <tbody>\n",
       "    <tr>\n",
       "      <th>24</th>\n",
       "      <td>41571476</td>\n",
       "      <td>NATALIA BAR</td>\n",
       "      <td>Queens</td>\n",
       "      <td>62-10</td>\n",
       "      <td>39 AVENUE</td>\n",
       "      <td>11377.0</td>\n",
       "      <td>3477065942</td>\n",
       "      <td>Mexican</td>\n",
       "      <td>05/04/2018</td>\n",
       "      <td>Violations were cited in the following area(s).</td>\n",
       "      <td>...</td>\n",
       "      <td>06/14/2020</td>\n",
       "      <td>Cycle Inspection / Re-inspection</td>\n",
       "      <td>40.746844</td>\n",
       "      <td>-73.901406</td>\n",
       "      <td>402.0</td>\n",
       "      <td>26.0</td>\n",
       "      <td>26100.0</td>\n",
       "      <td>4028392.0</td>\n",
       "      <td>4.012320e+09</td>\n",
       "      <td>QN63</td>\n",
       "    </tr>\n",
       "    <tr>\n",
       "      <th>27</th>\n",
       "      <td>40996642</td>\n",
       "      <td>RECUERDOS MEXICANOS</td>\n",
       "      <td>Staten Island</td>\n",
       "      <td>232</td>\n",
       "      <td>PORT RICHMOND AVENUE</td>\n",
       "      <td>10302.0</td>\n",
       "      <td>7188155533</td>\n",
       "      <td>Mexican</td>\n",
       "      <td>10/22/2019</td>\n",
       "      <td>Violations were cited in the following area(s).</td>\n",
       "      <td>...</td>\n",
       "      <td>06/14/2020</td>\n",
       "      <td>Cycle Inspection / Initial Inspection</td>\n",
       "      <td>40.635784</td>\n",
       "      <td>-74.134935</td>\n",
       "      <td>501.0</td>\n",
       "      <td>49.0</td>\n",
       "      <td>20700.0</td>\n",
       "      <td>5025513.0</td>\n",
       "      <td>5.010820e+09</td>\n",
       "      <td>SI28</td>\n",
       "    </tr>\n",
       "  </tbody>\n",
       "</table>\n",
       "<p>2 rows × 26 columns</p>\n",
       "</div>"
      ],
      "text/plain": [
       "       CAMIS                  DBA           BORO BUILDING  \\\n",
       "24  41571476          NATALIA BAR         Queens    62-10   \n",
       "27  40996642  RECUERDOS MEXICANOS  Staten Island      232   \n",
       "\n",
       "                  STREET  ZIPCODE       PHONE CUISINE DESCRIPTION  \\\n",
       "24             39 AVENUE  11377.0  3477065942             Mexican   \n",
       "27  PORT RICHMOND AVENUE  10302.0  7188155533             Mexican   \n",
       "\n",
       "   INSPECTION DATE                                           ACTION  ...  \\\n",
       "24      05/04/2018  Violations were cited in the following area(s).  ...   \n",
       "27      10/22/2019  Violations were cited in the following area(s).  ...   \n",
       "\n",
       "   RECORD DATE                        INSPECTION TYPE   Latitude  Longitude  \\\n",
       "24  06/14/2020       Cycle Inspection / Re-inspection  40.746844 -73.901406   \n",
       "27  06/14/2020  Cycle Inspection / Initial Inspection  40.635784 -74.134935   \n",
       "\n",
       "   Community Board Council District Census Tract        BIN           BBL  \\\n",
       "24           402.0             26.0      26100.0  4028392.0  4.012320e+09   \n",
       "27           501.0             49.0      20700.0  5025513.0  5.010820e+09   \n",
       "\n",
       "     NTA  \n",
       "24  QN63  \n",
       "27  SI28  \n",
       "\n",
       "[2 rows x 26 columns]"
      ]
     },
     "execution_count": 39,
     "metadata": {},
     "output_type": "execute_result"
    }
   ],
   "source": [
    "mex_rest_insp.head(2)"
   ]
  },
  {
   "cell_type": "markdown",
   "metadata": {},
   "source": [
    "### Removing duplicate restaurants from nyc mexican restaurants df"
   ]
  },
  {
   "cell_type": "code",
   "execution_count": 40,
   "metadata": {
    "ExecuteTime": {
     "end_time": "2021-02-26T18:51:53.450923Z",
     "start_time": "2021-02-26T18:51:53.441319Z"
    }
   },
   "outputs": [
    {
     "data": {
      "text/plain": [
       "(849, 26)"
      ]
     },
     "execution_count": 40,
     "metadata": {},
     "output_type": "execute_result"
    }
   ],
   "source": [
    "unique_nyc_mex = mex_rest_insp.drop_duplicates(subset=['DBA'], keep='first')\n",
    "unique_nyc_mex.reset_index(inplace=True, drop=True)\n",
    "unique_nyc_mex.shape"
   ]
  },
  {
   "cell_type": "code",
   "execution_count": 41,
   "metadata": {
    "ExecuteTime": {
     "end_time": "2021-02-26T18:51:53.456308Z",
     "start_time": "2021-02-26T18:51:53.453098Z"
    }
   },
   "outputs": [],
   "source": [
    "# list of restaurant names to compare to values in demonym_dictionary\n",
    "nyc_rest_insp_names = [x.lower() for x in unique_nyc_mex['DBA']]"
   ]
  },
  {
   "cell_type": "markdown",
   "metadata": {},
   "source": [
    "### Getting matches "
   ]
  },
  {
   "cell_type": "code",
   "execution_count": 42,
   "metadata": {
    "ExecuteTime": {
     "end_time": "2021-02-26T18:51:54.921614Z",
     "start_time": "2021-02-26T18:51:53.458284Z"
    },
    "scrolled": true
   },
   "outputs": [],
   "source": [
    "rest_matches_nyc = find_matches(nyc_rest_insp_names, demonym_dictionary)"
   ]
  },
  {
   "cell_type": "code",
   "execution_count": 43,
   "metadata": {
    "ExecuteTime": {
     "end_time": "2021-02-26T18:51:54.929818Z",
     "start_time": "2021-02-26T18:51:54.923954Z"
    }
   },
   "outputs": [
    {
     "data": {
      "text/plain": [
       "223"
      ]
     },
     "execution_count": 43,
     "metadata": {},
     "output_type": "execute_result"
    }
   ],
   "source": [
    "len(rest_matches_nyc)"
   ]
  },
  {
   "cell_type": "code",
   "execution_count": 44,
   "metadata": {
    "ExecuteTime": {
     "end_time": "2021-02-26T18:51:54.933906Z",
     "start_time": "2021-02-26T18:51:54.931512Z"
    }
   },
   "outputs": [],
   "source": [
    "unique_rest_matches_nyc = set(rest_matches_nyc)"
   ]
  },
  {
   "cell_type": "code",
   "execution_count": 45,
   "metadata": {
    "ExecuteTime": {
     "end_time": "2021-02-26T18:51:54.939158Z",
     "start_time": "2021-02-26T18:51:54.935765Z"
    }
   },
   "outputs": [
    {
     "data": {
      "text/plain": [
       "93"
      ]
     },
     "execution_count": 45,
     "metadata": {},
     "output_type": "execute_result"
    }
   ],
   "source": [
    "# was 44 before additions to demonym dict ... was 169 before word corrections\n",
    "len(unique_rest_matches_nyc)"
   ]
  },
  {
   "cell_type": "code",
   "execution_count": 46,
   "metadata": {
    "ExecuteTime": {
     "end_time": "2021-02-26T18:52:37.535709Z",
     "start_time": "2021-02-26T18:52:37.531605Z"
    },
    "scrolled": true
   },
   "outputs": [
    {
     "data": {
      "text/plain": [
       "['puebla seafood',\n",
       " 'tacos puebla restaurant',\n",
       " 'guadalajara de dia no.  2',\n",
       " 'atlixco bakery & deli',\n",
       " 'atlixco bakery & deli',\n",
       " 'el tenampa restaurant',\n",
       " 'el tenampa restaurant',\n",
       " 'guadalupe inn',\n",
       " 'guadalupe inn',\n",
       " 'guadalupe inn',\n",
       " 'guadalupe inn',\n",
       " 'guadalupe inn',\n",
       " 'guadalupe inn',\n",
       " 'guadalupe inn',\n",
       " 'guadalupe inn',\n",
       " 'guadalupe inn',\n",
       " 'guadalupe inn',\n",
       " 'guadalupe inn',\n",
       " 'guadalupe inn',\n",
       " 'guadalupe inn']"
      ]
     },
     "execution_count": 46,
     "metadata": {},
     "output_type": "execute_result"
    }
   ],
   "source": [
    "rest_matches_nyc[0:20]"
   ]
  },
  {
   "cell_type": "markdown",
   "metadata": {},
   "source": [
    "### Getting Regions for Matches"
   ]
  },
  {
   "cell_type": "code",
   "execution_count": null,
   "metadata": {
    "ExecuteTime": {
     "end_time": "2021-02-26T18:42:41.737901Z",
     "start_time": "2021-02-26T18:42:38.939Z"
    }
   },
   "outputs": [],
   "source": [
    "restaurant_matches_nyc = {key: None for key in set(unique_rest_matches_nyc)}"
   ]
  },
  {
   "cell_type": "code",
   "execution_count": null,
   "metadata": {
    "ExecuteTime": {
     "end_time": "2021-02-26T18:42:41.738912Z",
     "start_time": "2021-02-26T18:42:38.942Z"
    }
   },
   "outputs": [],
   "source": [
    "for key, value in restaurant_matches_nyc.items():\n",
    "    split_item = key.split()\n",
    "    for word in split_item:\n",
    "        for key1, value1 in demonym_dictionary.items():\n",
    "            for city in value1:\n",
    "                if word == city:\n",
    "                    value_info = [key1, city]\n",
    "                    restaurant_matches_nyc[key] = value_info"
   ]
  },
  {
   "cell_type": "code",
   "execution_count": null,
   "metadata": {
    "ExecuteTime": {
     "end_time": "2021-02-26T18:42:41.740344Z",
     "start_time": "2021-02-26T18:42:38.945Z"
    },
    "scrolled": true
   },
   "outputs": [],
   "source": [
    "len(restaurant_matches_nyc)"
   ]
  },
  {
   "cell_type": "markdown",
   "metadata": {},
   "source": [
    "#### Removing all entries that passed filter incorrectly"
   ]
  },
  {
   "cell_type": "code",
   "execution_count": null,
   "metadata": {
    "ExecuteTime": {
     "end_time": "2021-02-26T18:42:41.741838Z",
     "start_time": "2021-02-26T18:42:38.949Z"
    }
   },
   "outputs": [],
   "source": [
    "bad_keys = []\n",
    "bad_matches = ['mexican','mexico','mexicanos','azteca','esperanza','estrada','esperanzas','salero','pinos',\n",
    "                  'maria', 'bravo', 'nuevo', 'progreso', 'delicias', 'comales', 'palmas', 'palenque', 'concordia',\n",
    "                 'china', 'gym', 'paloma', 'rio', 'mex', 'tequila', 'colorado', 'ventana', 'lom', 'garcia', 'paz',\n",
    "                 'chavez', 'paraiso', 'senor', 'oriental', 'fronteras', 'tap', 'aca', 'purisima', 'rodriguez',\n",
    "                 'hernandez', 'sanchez', 'victoria', 'oasis', 'cash', 'pinas', 'yaa',  'meson','agustin',\n",
    "                 'agustin', 'limon', 'alamo', 'slp', 'providencia', 'reyes', 'lom', 'verde', 'perla', 'madrid', \n",
    "                 'delta', 'mama', 'lopez', 'honey', 'laurel', 'california pizza kitchen', 'sauces', 'laguna', \n",
    "              'dolores', 'presidio', 'ver', 'bernal', 'rincon', 'marin', 'palma', 'potrero', 'mid', 'valencia',\n",
    "              'aura', 'kava', 'pueblito', 'castillo', 'tam', 'marcos', 'montecristo', 'tinajas', 'alvarado',\n",
    "              'porvenir', 'nieves', 'mina', 'marin', \"alamos\", 'reforma', 'jal', 'margaritas', 'california']\n",
    "for key, value in restaurant_matches_nyc.items():\n",
    "    if value[1] in bad_matches:\n",
    "        bad_keys.append(key)"
   ]
  },
  {
   "cell_type": "code",
   "execution_count": null,
   "metadata": {
    "ExecuteTime": {
     "end_time": "2021-02-26T18:42:41.743263Z",
     "start_time": "2021-02-26T18:42:38.952Z"
    }
   },
   "outputs": [],
   "source": [
    "len(bad_keys)"
   ]
  },
  {
   "cell_type": "code",
   "execution_count": null,
   "metadata": {
    "ExecuteTime": {
     "end_time": "2021-02-26T18:42:41.744714Z",
     "start_time": "2021-02-26T18:42:38.955Z"
    }
   },
   "outputs": [],
   "source": [
    "for x in bad_keys:\n",
    "    if restaurant_matches_nyc.get(x) != None:\n",
    "        del restaurant_matches_nyc[x]"
   ]
  },
  {
   "cell_type": "code",
   "execution_count": null,
   "metadata": {
    "ExecuteTime": {
     "end_time": "2021-02-26T18:42:41.746047Z",
     "start_time": "2021-02-26T18:42:38.958Z"
    }
   },
   "outputs": [],
   "source": [
    "len(restaurant_matches_nyc)"
   ]
  },
  {
   "cell_type": "code",
   "execution_count": null,
   "metadata": {
    "ExecuteTime": {
     "end_time": "2021-02-26T18:42:41.747385Z",
     "start_time": "2021-02-26T18:42:38.961Z"
    }
   },
   "outputs": [],
   "source": [
    "list(restaurant_matches_nyc.items())[:2]"
   ]
  },
  {
   "cell_type": "markdown",
   "metadata": {},
   "source": [
    "### Getting coordinates for each restaurant"
   ]
  },
  {
   "cell_type": "code",
   "execution_count": null,
   "metadata": {
    "ExecuteTime": {
     "end_time": "2021-02-26T18:42:41.748759Z",
     "start_time": "2021-02-26T18:42:38.965Z"
    }
   },
   "outputs": [],
   "source": [
    "region_in_name = []\n",
    "for x in unique_nyc_mex['DBA']:\n",
    "    if x.lower() in restaurant_matches_nyc.keys():\n",
    "        region_in_name.append(1)\n",
    "    else:\n",
    "        region_in_name.append(0)"
   ]
  },
  {
   "cell_type": "code",
   "execution_count": null,
   "metadata": {
    "ExecuteTime": {
     "end_time": "2021-02-26T18:42:41.750304Z",
     "start_time": "2021-02-26T18:42:38.968Z"
    }
   },
   "outputs": [],
   "source": [
    "unique_nyc_mex['region_in_name'] = region_in_name"
   ]
  },
  {
   "cell_type": "code",
   "execution_count": null,
   "metadata": {
    "ExecuteTime": {
     "end_time": "2021-02-26T18:42:41.751912Z",
     "start_time": "2021-02-26T18:42:38.971Z"
    }
   },
   "outputs": [],
   "source": [
    "nyc_mex_rest_w_region = unique_nyc_mex[unique_nyc_mex['region_in_name'] == 1]\n",
    "nyc_mex_rest_w_region.reset_index(inplace=True, drop=True)\n",
    "nyc_mex_rest_w_region.shape"
   ]
  },
  {
   "cell_type": "code",
   "execution_count": null,
   "metadata": {
    "ExecuteTime": {
     "end_time": "2021-02-26T18:42:41.753645Z",
     "start_time": "2021-02-26T18:42:38.974Z"
    }
   },
   "outputs": [],
   "source": [
    "nyc_mex_rest_w_region.DBA.nunique()"
   ]
  },
  {
   "cell_type": "code",
   "execution_count": null,
   "metadata": {
    "ExecuteTime": {
     "end_time": "2021-02-26T18:42:41.755081Z",
     "start_time": "2021-02-26T18:42:38.977Z"
    }
   },
   "outputs": [],
   "source": [
    "nyc_mex_rest_w_region.head(2)"
   ]
  },
  {
   "cell_type": "markdown",
   "metadata": {},
   "source": [
    "### Count of regions represented in nyc mexican restaurant names"
   ]
  },
  {
   "cell_type": "code",
   "execution_count": null,
   "metadata": {
    "ExecuteTime": {
     "end_time": "2021-02-26T18:42:41.756870Z",
     "start_time": "2021-02-26T18:42:38.980Z"
    }
   },
   "outputs": [],
   "source": [
    "regions_represented = []\n",
    "for key, value in restaurant_matches_nyc.items():\n",
    "    if value[0] not in regions_represented:\n",
    "        regions_represented.append(value[0])\n",
    "regions_represented[0:3]"
   ]
  },
  {
   "cell_type": "code",
   "execution_count": null,
   "metadata": {
    "ExecuteTime": {
     "end_time": "2021-02-26T18:42:41.758349Z",
     "start_time": "2021-02-26T18:42:38.983Z"
    }
   },
   "outputs": [],
   "source": [
    "region_list = []\n",
    "for x in nyc_mex_rest_w_region['DBA']:\n",
    "    region_list.append(restaurant_matches_nyc[x.lower()][0])\n",
    "len(region_list)"
   ]
  },
  {
   "cell_type": "code",
   "execution_count": null,
   "metadata": {
    "ExecuteTime": {
     "end_time": "2021-02-26T18:42:41.759563Z",
     "start_time": "2021-02-26T18:42:38.986Z"
    }
   },
   "outputs": [],
   "source": [
    "nyc_mex_rest_w_region['region'] = region_list"
   ]
  },
  {
   "cell_type": "code",
   "execution_count": null,
   "metadata": {
    "ExecuteTime": {
     "end_time": "2021-02-26T18:42:41.760725Z",
     "start_time": "2021-02-26T18:42:38.990Z"
    }
   },
   "outputs": [],
   "source": [
    "# i get a lot of repeats with this method \n",
    "nyc_mex_rest_w_region['region'].value_counts()"
   ]
  },
  {
   "cell_type": "markdown",
   "metadata": {},
   "source": [
    "### Getting region counts as a percentage"
   ]
  },
  {
   "cell_type": "code",
   "execution_count": null,
   "metadata": {
    "ExecuteTime": {
     "end_time": "2021-02-26T18:42:41.762072Z",
     "start_time": "2021-02-26T18:42:38.993Z"
    }
   },
   "outputs": [],
   "source": [
    "nyc_region_counts_series = nyc_mex_rest_w_region['region'].value_counts()"
   ]
  },
  {
   "cell_type": "code",
   "execution_count": null,
   "metadata": {
    "ExecuteTime": {
     "end_time": "2021-02-26T18:42:41.763291Z",
     "start_time": "2021-02-26T18:42:38.996Z"
    }
   },
   "outputs": [],
   "source": [
    "nyc_region_counts_dict = nyc_region_counts_series.to_dict()"
   ]
  },
  {
   "cell_type": "code",
   "execution_count": null,
   "metadata": {
    "ExecuteTime": {
     "end_time": "2021-02-26T18:42:41.764549Z",
     "start_time": "2021-02-26T18:42:38.999Z"
    }
   },
   "outputs": [],
   "source": [
    "nyc_region_counts_dict_pct = {key: round(value/len(region_list), 2) \n",
    "                              for key, value in nyc_region_counts_dict.items()}"
   ]
  },
  {
   "cell_type": "code",
   "execution_count": null,
   "metadata": {
    "ExecuteTime": {
     "end_time": "2021-02-26T18:42:41.765832Z",
     "start_time": "2021-02-26T18:42:39.002Z"
    }
   },
   "outputs": [],
   "source": [
    "list(nyc_region_counts_dict_pct.items())[0:2]"
   ]
  },
  {
   "cell_type": "markdown",
   "metadata": {},
   "source": [
    "### Getting Values that matches"
   ]
  },
  {
   "cell_type": "code",
   "execution_count": null,
   "metadata": {
    "ExecuteTime": {
     "end_time": "2021-02-26T18:42:41.767121Z",
     "start_time": "2021-02-26T18:42:39.006Z"
    }
   },
   "outputs": [],
   "source": [
    "nyc_values = {value[1]:0 for key, value in restaurant_matches_nyc.items()}"
   ]
  },
  {
   "cell_type": "code",
   "execution_count": null,
   "metadata": {
    "ExecuteTime": {
     "end_time": "2021-02-26T18:42:41.768444Z",
     "start_time": "2021-02-26T18:42:39.009Z"
    }
   },
   "outputs": [],
   "source": [
    "for key, value in restaurant_matches_nyc.items():\n",
    "    if value[1] in nyc_values.keys():\n",
    "        nyc_values[value[1]] += 1"
   ]
  },
  {
   "cell_type": "code",
   "execution_count": null,
   "metadata": {
    "ExecuteTime": {
     "end_time": "2021-02-26T18:42:41.769589Z",
     "start_time": "2021-02-26T18:42:39.012Z"
    }
   },
   "outputs": [],
   "source": [
    "# https://careerkarma.com/blog/python-sort-a-dictionary-by-value/\n",
    "sort_values = sorted(nyc_values.items(), key=lambda x: x[1], reverse=True)\n",
    "for i in sort_values[0:5]:\n",
    "    print(i[0], i[1])"
   ]
  },
  {
   "cell_type": "markdown",
   "metadata": {},
   "source": [
    "### Turning dictionary to df"
   ]
  },
  {
   "cell_type": "code",
   "execution_count": null,
   "metadata": {
    "ExecuteTime": {
     "end_time": "2021-02-26T18:42:41.770845Z",
     "start_time": "2021-02-26T18:42:39.016Z"
    }
   },
   "outputs": [],
   "source": [
    "rest_df = pd.DataFrame.from_dict(restaurant_matches_nyc, orient=\"index\")\n",
    "rest_df.reset_index(inplace=True)\n",
    "rest_df.columns = ['Restaurant_name', 'Region', 'Matching_word_w_region']"
   ]
  },
  {
   "cell_type": "code",
   "execution_count": null,
   "metadata": {
    "ExecuteTime": {
     "end_time": "2021-02-26T18:42:41.771889Z",
     "start_time": "2021-02-26T18:42:39.019Z"
    }
   },
   "outputs": [],
   "source": [
    "rest_df.head()"
   ]
  },
  {
   "cell_type": "code",
   "execution_count": null,
   "metadata": {
    "ExecuteTime": {
     "end_time": "2021-02-26T18:42:41.773370Z",
     "start_time": "2021-02-26T18:42:39.023Z"
    }
   },
   "outputs": [],
   "source": [
    "rest_df.columns"
   ]
  },
  {
   "cell_type": "markdown",
   "metadata": {},
   "source": [
    "#### Checking to see if \"Tulcingo Deli Grocery\" is in database"
   ]
  },
  {
   "cell_type": "code",
   "execution_count": null,
   "metadata": {
    "ExecuteTime": {
     "end_time": "2020-08-12T19:17:05.241177Z",
     "start_time": "2020-08-12T19:17:05.234953Z"
    }
   },
   "outputs": [],
   "source": [
    "'TULCINGO' in list(nyc_mex_rest_w_region['DBA'].unique())"
   ]
  },
  {
   "cell_type": "code",
   "execution_count": null,
   "metadata": {
    "ExecuteTime": {
     "end_time": "2020-08-12T19:17:30.196702Z",
     "start_time": "2020-08-12T19:17:30.191034Z"
    }
   },
   "outputs": [],
   "source": [
    "tulcingo_count = 0\n",
    "for x in rest_df.Matching_word_w_region:\n",
    "    if x.lower() == 'tulcingo':\n",
    "        tulcingo_count += 1\n",
    "tulcingo_count"
   ]
  },
  {
   "cell_type": "markdown",
   "metadata": {},
   "source": [
    "## Chicago "
   ]
  },
  {
   "cell_type": "code",
   "execution_count": null,
   "metadata": {
    "ExecuteTime": {
     "end_time": "2020-08-12T19:18:49.211611Z",
     "start_time": "2020-08-12T19:18:47.109747Z"
    }
   },
   "outputs": [],
   "source": [
    "chi_data = pd.read_csv(\"./food_inspections_data/Food_Inspections_chicago.csv\")\n",
    "chi_data.shape"
   ]
  },
  {
   "cell_type": "code",
   "execution_count": null,
   "metadata": {
    "ExecuteTime": {
     "end_time": "2020-08-12T19:18:49.465693Z",
     "start_time": "2020-08-12T19:18:49.449870Z"
    }
   },
   "outputs": [],
   "source": [
    "chi_data.head(2)"
   ]
  },
  {
   "cell_type": "code",
   "execution_count": null,
   "metadata": {
    "ExecuteTime": {
     "end_time": "2020-08-12T19:18:59.388754Z",
     "start_time": "2020-08-12T19:18:59.348768Z"
    }
   },
   "outputs": [],
   "source": [
    "chi_rest = chi_data[chi_data['Facility Type'] == 'Restaurant']\n",
    "chi_rest.shape"
   ]
  },
  {
   "cell_type": "code",
   "execution_count": null,
   "metadata": {
    "ExecuteTime": {
     "end_time": "2020-08-12T19:19:02.173591Z",
     "start_time": "2020-08-12T19:19:02.168981Z"
    }
   },
   "outputs": [],
   "source": [
    "# reduce the size of df by 33% \n",
    "chi_rest.shape[0] / chi_data.shape[0] "
   ]
  },
  {
   "cell_type": "code",
   "execution_count": null,
   "metadata": {
    "ExecuteTime": {
     "end_time": "2020-08-12T19:19:05.472791Z",
     "start_time": "2020-08-12T19:19:05.455363Z"
    }
   },
   "outputs": [],
   "source": [
    "chi_rest.head(1)"
   ]
  },
  {
   "cell_type": "markdown",
   "metadata": {},
   "source": [
    "### Getting Names of restaurants"
   ]
  },
  {
   "cell_type": "code",
   "execution_count": null,
   "metadata": {
    "ExecuteTime": {
     "end_time": "2020-08-12T19:19:07.095801Z",
     "start_time": "2020-08-12T19:19:06.987197Z"
    }
   },
   "outputs": [],
   "source": [
    "possible_chi_biz_names = list(zip(chi_rest['DBA Name'], chi_rest['AKA Name']))"
   ]
  },
  {
   "cell_type": "code",
   "execution_count": null,
   "metadata": {
    "ExecuteTime": {
     "end_time": "2020-08-12T19:19:07.620237Z",
     "start_time": "2020-08-12T19:19:07.421425Z"
    }
   },
   "outputs": [],
   "source": [
    "chi_biz_names = []\n",
    "for x in possible_chi_biz_names:\n",
    "    x_list = list(x)\n",
    "    if x_list[0] == x_list[1]:\n",
    "        del x_list[1]\n",
    "    elif np.nan in x_list:\n",
    "        x_list.remove(np.nan)\n",
    "    lower_possible_chi_biz_names = [item.lower() for item in x_list]\n",
    "    chi_biz_names.append(lower_possible_chi_biz_names)"
   ]
  },
  {
   "cell_type": "code",
   "execution_count": null,
   "metadata": {
    "ExecuteTime": {
     "end_time": "2020-08-12T19:19:08.079393Z",
     "start_time": "2020-08-12T19:19:08.075656Z"
    }
   },
   "outputs": [],
   "source": [
    "chi_biz_names[0:3]"
   ]
  },
  {
   "cell_type": "code",
   "execution_count": null,
   "metadata": {
    "ExecuteTime": {
     "end_time": "2020-08-12T19:19:08.768637Z",
     "start_time": "2020-08-12T19:19:08.748232Z"
    }
   },
   "outputs": [],
   "source": [
    "chi_rest['biz_names'] = chi_biz_names"
   ]
  },
  {
   "cell_type": "markdown",
   "metadata": {},
   "source": [
    "### Getting Matches with Dem Dict"
   ]
  },
  {
   "cell_type": "code",
   "execution_count": null,
   "metadata": {
    "ExecuteTime": {
     "end_time": "2020-08-12T19:22:19.167463Z",
     "start_time": "2020-08-12T19:19:13.351374Z"
    }
   },
   "outputs": [],
   "source": [
    "rest_matches_chi = []\n",
    "# list of not-quite-real matches\n",
    "bad_matches = ['mexican','mexico','mexicanos','azteca','esperanza','estrada','esperanzas','salero','pinos',\n",
    "                  'maria', 'bravo', 'nuevo', 'progreso', 'delicias', 'comales', 'palmas', 'palenque', 'concordia',\n",
    "                 'china', 'gym', 'paloma', 'rio', 'mex', 'tequila', 'colorado', 'ventana', 'lom', 'garcia', 'paz',\n",
    "                 'chavez', 'paraiso', 'senor', 'oriental', 'fronteras', 'tap', 'aca', 'purisima', 'rodriguez',\n",
    "                 'hernandez', 'sanchez', 'victoria', 'oasis', 'cash', 'pinas', 'yaa', 'meson','agustin',\n",
    "                 'agustin', 'limon', 'alamo', 'slp', 'providencia', 'reyes', 'lom', 'verde', 'perla', 'madrid', \n",
    "                 'delta', 'mama', 'lopez', 'honey', 'laurel', 'california pizza kitchen', 'sauces', 'laguna', \n",
    "              'dolores', 'presidio', 'ver', 'bernal', 'rincon', 'marin', 'palma', 'potrero', 'mid', 'valencia',\n",
    "              'aura', 'kava', 'pueblito', 'castillo', 'tam', 'marcos', 'montecristo', 'tinajas', 'alvarado',\n",
    "              'porvenir', 'nieves', 'mina', 'marin']\n",
    "for item in chi_rest['biz_names']:\n",
    "    for word in item:\n",
    "        for key, value in demonym_dictionary.items():\n",
    "            for city in value:\n",
    "                if word == city:\n",
    "                    if word not in bad_matches: # if not, the number of results is tripled\n",
    "                        rest_matches_chi.append(item)"
   ]
  },
  {
   "cell_type": "code",
   "execution_count": null,
   "metadata": {
    "ExecuteTime": {
     "end_time": "2020-08-12T19:22:19.546925Z",
     "start_time": "2020-08-12T19:22:19.542849Z"
    }
   },
   "outputs": [],
   "source": [
    "len(rest_matches_chi)"
   ]
  },
  {
   "cell_type": "code",
   "execution_count": null,
   "metadata": {
    "ExecuteTime": {
     "end_time": "2020-08-12T19:22:19.930041Z",
     "start_time": "2020-08-12T19:22:19.925934Z"
    }
   },
   "outputs": [],
   "source": [
    "rest_matches_chi[0:5]"
   ]
  },
  {
   "cell_type": "code",
   "execution_count": null,
   "metadata": {
    "ExecuteTime": {
     "end_time": "2020-08-12T19:29:01.415120Z",
     "start_time": "2020-08-12T19:29:01.408124Z"
    }
   },
   "outputs": [],
   "source": [
    "unique_rest_matches_chi = []\n",
    "for x in rest_matches_chi:\n",
    "    if x not in unique_rest_matches_chi:\n",
    "        unique_rest_matches_chi.append(x)\n",
    "len(unique_rest_matches_chi)"
   ]
  },
  {
   "cell_type": "code",
   "execution_count": null,
   "metadata": {
    "ExecuteTime": {
     "end_time": "2020-08-12T19:29:06.329849Z",
     "start_time": "2020-08-12T19:29:06.324559Z"
    }
   },
   "outputs": [],
   "source": [
    "unique_rest_matches_chi[0:5]"
   ]
  },
  {
   "cell_type": "markdown",
   "metadata": {},
   "source": [
    "### Getting Regions for Matches"
   ]
  },
  {
   "cell_type": "code",
   "execution_count": null,
   "metadata": {
    "ExecuteTime": {
     "end_time": "2020-08-12T19:29:07.627109Z",
     "start_time": "2020-08-12T19:29:07.623393Z"
    }
   },
   "outputs": [],
   "source": [
    "# using the DBA Name as the key\n",
    "restaurant_matches_chi = {key[0]: None for key in unique_rest_matches_chi}"
   ]
  },
  {
   "cell_type": "code",
   "execution_count": null,
   "metadata": {
    "ExecuteTime": {
     "end_time": "2020-08-12T19:29:18.263831Z",
     "start_time": "2020-08-12T19:29:18.138461Z"
    }
   },
   "outputs": [],
   "source": [
    "for key, value in restaurant_matches_chi.items():\n",
    "    split_item = key.split()\n",
    "    for word in split_item:\n",
    "        for key1, value1 in demonym_dictionary.items():\n",
    "            for city in value1:\n",
    "                if word == city:\n",
    "                    value_info = [key1, city]\n",
    "                    restaurant_matches_chi[key] = value_info\n",
    "len(restaurant_matches_chi)"
   ]
  },
  {
   "cell_type": "code",
   "execution_count": null,
   "metadata": {
    "ExecuteTime": {
     "end_time": "2020-08-12T19:29:21.192788Z",
     "start_time": "2020-08-12T19:29:21.173625Z"
    }
   },
   "outputs": [],
   "source": [
    "for key, value in restaurant_matches_chi.items():\n",
    "    if value == None:\n",
    "        for x in unique_rest_matches_chi:\n",
    "            if x[0] == key:\n",
    "                if len(x) > 1:\n",
    "                    split_item = [x.split() for x in x[1:]]\n",
    "                    for word in split_item:\n",
    "                        for key1, value1 in demonym_dictionary.items():\n",
    "                            for city in value1:\n",
    "                                if word == city:\n",
    "                                    value_info = [key1, city]\n",
    "                                    nyc_mex_rest_w_region[key] = value_info"
   ]
  },
  {
   "cell_type": "code",
   "execution_count": null,
   "metadata": {
    "ExecuteTime": {
     "end_time": "2020-08-12T19:29:21.704674Z",
     "start_time": "2020-08-12T19:29:21.700652Z"
    }
   },
   "outputs": [],
   "source": [
    "# not sure why some still equal None....\n",
    "none_counter = 0\n",
    "for key, value in restaurant_matches_chi.items():\n",
    "    if value == None:\n",
    "        none_counter += 1\n",
    "none_counter"
   ]
  },
  {
   "cell_type": "code",
   "execution_count": null,
   "metadata": {
    "ExecuteTime": {
     "end_time": "2020-08-12T19:29:22.566553Z",
     "start_time": "2020-08-12T19:29:22.561746Z"
    }
   },
   "outputs": [],
   "source": [
    "# only 26 are genuine matches\n",
    "len(restaurant_matches_chi) - none_counter"
   ]
  },
  {
   "cell_type": "code",
   "execution_count": null,
   "metadata": {
    "ExecuteTime": {
     "end_time": "2020-08-12T19:29:24.808646Z",
     "start_time": "2020-08-12T19:29:24.804365Z"
    }
   },
   "outputs": [],
   "source": [
    "# matching words\n",
    "matching_words_list = []\n",
    "for key, value in restaurant_matches_chi.items():\n",
    "    if value != None:\n",
    "        matching_words_list.append(value[1])"
   ]
  },
  {
   "cell_type": "markdown",
   "metadata": {},
   "source": [
    "#### Removing values with a value of None"
   ]
  },
  {
   "cell_type": "code",
   "execution_count": null,
   "metadata": {
    "ExecuteTime": {
     "end_time": "2020-08-12T19:29:28.138652Z",
     "start_time": "2020-08-12T19:29:28.134472Z"
    }
   },
   "outputs": [],
   "source": [
    "bad_keys_chi = []\n",
    "for key, value in restaurant_matches_chi.items():\n",
    "    if value == None:\n",
    "        bad_keys_chi.append(key)"
   ]
  },
  {
   "cell_type": "markdown",
   "metadata": {},
   "source": [
    "#### Removing values that passed the filter incorrectly"
   ]
  },
  {
   "cell_type": "code",
   "execution_count": null,
   "metadata": {
    "ExecuteTime": {
     "end_time": "2020-08-12T19:29:44.092694Z",
     "start_time": "2020-08-12T19:29:44.088299Z"
    }
   },
   "outputs": [],
   "source": [
    "for key, value in restaurant_matches_chi.items():\n",
    "    if value != None:\n",
    "        if value[1] in bad_matches:\n",
    "            bad_keys_chi.append(key)"
   ]
  },
  {
   "cell_type": "code",
   "execution_count": null,
   "metadata": {
    "ExecuteTime": {
     "end_time": "2020-08-12T19:29:45.860422Z",
     "start_time": "2020-08-12T19:29:45.856444Z"
    }
   },
   "outputs": [],
   "source": [
    "# removing bad keys\n",
    "for x in bad_keys_chi:\n",
    "    if restaurant_matches_chi.get(x) != None:\n",
    "        del restaurant_matches_chi[x]\n",
    "    elif restaurant_matches_chi.get(x) == None:\n",
    "        del restaurant_matches_chi[x]"
   ]
  },
  {
   "cell_type": "code",
   "execution_count": null,
   "metadata": {
    "ExecuteTime": {
     "end_time": "2020-08-12T19:29:46.350472Z",
     "start_time": "2020-08-12T19:29:46.346456Z"
    }
   },
   "outputs": [],
   "source": [
    "len(restaurant_matches_chi.keys())"
   ]
  },
  {
   "cell_type": "code",
   "execution_count": null,
   "metadata": {
    "ExecuteTime": {
     "end_time": "2020-08-12T19:29:47.063045Z",
     "start_time": "2020-08-12T19:29:47.057817Z"
    }
   },
   "outputs": [],
   "source": [
    "restaurant_matches_chi"
   ]
  },
  {
   "cell_type": "markdown",
   "metadata": {},
   "source": [
    "#### Correcting some errors in regions"
   ]
  },
  {
   "cell_type": "code",
   "execution_count": null,
   "metadata": {
    "ExecuteTime": {
     "end_time": "2020-08-12T19:29:53.824392Z",
     "start_time": "2020-08-12T19:29:53.820802Z"
    }
   },
   "outputs": [],
   "source": [
    "restaurant_matches_chi['ocotlan'][0] = 'Jalisco'"
   ]
  },
  {
   "cell_type": "code",
   "execution_count": null,
   "metadata": {
    "ExecuteTime": {
     "end_time": "2020-08-12T19:29:56.785126Z",
     "start_time": "2020-08-12T19:29:56.781390Z"
    }
   },
   "outputs": [],
   "source": [
    "restaurant_matches_chi['tecalitlan'][0] = \"Jalisco\""
   ]
  },
  {
   "cell_type": "code",
   "execution_count": null,
   "metadata": {
    "ExecuteTime": {
     "end_time": "2020-08-12T19:29:58.037190Z",
     "start_time": "2020-08-12T19:29:58.033640Z"
    }
   },
   "outputs": [],
   "source": [
    "restaurant_matches_chi['uruapan'][0] = \"Michoacan\""
   ]
  },
  {
   "cell_type": "code",
   "execution_count": null,
   "metadata": {
    "ExecuteTime": {
     "end_time": "2020-08-12T19:30:00.860090Z",
     "start_time": "2020-08-12T19:30:00.854652Z"
    },
    "scrolled": true
   },
   "outputs": [],
   "source": [
    "restaurant_matches_chi"
   ]
  },
  {
   "cell_type": "markdown",
   "metadata": {},
   "source": [
    "### Getting regions count"
   ]
  },
  {
   "cell_type": "code",
   "execution_count": null,
   "metadata": {
    "ExecuteTime": {
     "end_time": "2020-08-12T19:30:09.800195Z",
     "start_time": "2020-08-12T19:30:09.795865Z"
    }
   },
   "outputs": [],
   "source": [
    "regions_represented_chi = []\n",
    "for key, value in restaurant_matches_chi.items():\n",
    "    if value[0] not in regions_represented_chi:\n",
    "        regions_represented_chi.append(value[0])"
   ]
  },
  {
   "cell_type": "code",
   "execution_count": null,
   "metadata": {
    "ExecuteTime": {
     "end_time": "2020-08-12T19:30:10.345201Z",
     "start_time": "2020-08-12T19:30:10.341358Z"
    }
   },
   "outputs": [],
   "source": [
    "regions_represented_chi[0:3]"
   ]
  },
  {
   "cell_type": "code",
   "execution_count": null,
   "metadata": {
    "ExecuteTime": {
     "end_time": "2020-08-12T19:30:10.858934Z",
     "start_time": "2020-08-12T19:30:10.856394Z"
    }
   },
   "outputs": [],
   "source": [
    "# getting the count of values\n",
    "region_dict_chi = {key: 0 for key in regions_represented_chi}"
   ]
  },
  {
   "cell_type": "code",
   "execution_count": null,
   "metadata": {
    "ExecuteTime": {
     "end_time": "2020-08-12T19:30:12.402767Z",
     "start_time": "2020-08-12T19:30:12.399312Z"
    }
   },
   "outputs": [],
   "source": [
    "for key, value in restaurant_matches_chi.items():\n",
    "    if value[0] in region_dict_chi.keys():\n",
    "        region_dict_chi[value[0]] += 1"
   ]
  },
  {
   "cell_type": "code",
   "execution_count": null,
   "metadata": {
    "ExecuteTime": {
     "end_time": "2020-08-12T19:30:12.928564Z",
     "start_time": "2020-08-12T19:30:12.924395Z"
    }
   },
   "outputs": [],
   "source": [
    "region_dict_chi"
   ]
  },
  {
   "cell_type": "code",
   "execution_count": null,
   "metadata": {
    "ExecuteTime": {
     "end_time": "2020-08-12T19:30:17.933690Z",
     "start_time": "2020-08-12T19:30:17.930199Z"
    }
   },
   "outputs": [],
   "source": [
    "chicago_regions_represented = []\n",
    "for key, value in region_dict_chi.items():\n",
    "    item = [key, round(value/7, 2)]\n",
    "    chicago_regions_represented.append(item)"
   ]
  },
  {
   "cell_type": "code",
   "execution_count": null,
   "metadata": {
    "ExecuteTime": {
     "end_time": "2020-08-12T19:30:18.759664Z",
     "start_time": "2020-08-12T19:30:18.754323Z"
    }
   },
   "outputs": [],
   "source": [
    "chicago_regions_represented"
   ]
  },
  {
   "cell_type": "markdown",
   "metadata": {},
   "source": [
    "#### Making pct as a dict"
   ]
  },
  {
   "cell_type": "code",
   "execution_count": null,
   "metadata": {
    "ExecuteTime": {
     "end_time": "2020-08-12T19:30:29.248090Z",
     "start_time": "2020-08-12T19:30:29.244678Z"
    }
   },
   "outputs": [],
   "source": [
    "chicago_regions_pct = {value[0]:value[1] for value in chicago_regions_represented}"
   ]
  },
  {
   "cell_type": "markdown",
   "metadata": {},
   "source": [
    "### Getting Values that matches"
   ]
  },
  {
   "cell_type": "code",
   "execution_count": null,
   "metadata": {
    "ExecuteTime": {
     "end_time": "2020-08-12T19:30:41.859153Z",
     "start_time": "2020-08-12T19:30:41.855749Z"
    }
   },
   "outputs": [],
   "source": [
    "chi_values = {value[1]:0 for key, value in restaurant_matches_chi.items()}"
   ]
  },
  {
   "cell_type": "code",
   "execution_count": null,
   "metadata": {
    "ExecuteTime": {
     "end_time": "2020-08-12T19:30:42.334775Z",
     "start_time": "2020-08-12T19:30:42.331694Z"
    }
   },
   "outputs": [],
   "source": [
    "for key, value in restaurant_matches_chi.items():\n",
    "    if value[1] in chi_values.keys():\n",
    "        chi_values[value[1]] += 1"
   ]
  },
  {
   "cell_type": "code",
   "execution_count": null,
   "metadata": {
    "ExecuteTime": {
     "end_time": "2020-08-12T19:30:42.875958Z",
     "start_time": "2020-08-12T19:30:42.871871Z"
    }
   },
   "outputs": [],
   "source": [
    "# https://careerkarma.com/blog/python-sort-a-dictionary-by-value/\n",
    "sort_values_chi = sorted(chi_values.items(), key=lambda x: x[1], reverse=True)\n",
    "for i in sort_values_chi[0:5]:\n",
    "    print(i[0], i[1])"
   ]
  },
  {
   "cell_type": "markdown",
   "metadata": {},
   "source": [
    "## Dallas"
   ]
  },
  {
   "cell_type": "code",
   "execution_count": null,
   "metadata": {
    "ExecuteTime": {
     "end_time": "2020-08-13T15:27:06.178172Z",
     "start_time": "2020-08-13T15:27:05.013781Z"
    }
   },
   "outputs": [],
   "source": [
    "dallas_data = pd.read_csv(\"./food_inspections_data/Dallas_inspections_October_2016_to_Present_.csv\")\n",
    "dallas_data.shape"
   ]
  },
  {
   "cell_type": "code",
   "execution_count": null,
   "metadata": {
    "ExecuteTime": {
     "end_time": "2020-08-13T15:27:06.592047Z",
     "start_time": "2020-08-13T15:27:06.587589Z"
    }
   },
   "outputs": [],
   "source": [
    "dallas_data.columns"
   ]
  },
  {
   "cell_type": "markdown",
   "metadata": {},
   "source": [
    "### Only unique dallas restaurants"
   ]
  },
  {
   "cell_type": "code",
   "execution_count": null,
   "metadata": {
    "ExecuteTime": {
     "end_time": "2020-08-13T15:27:07.037981Z",
     "start_time": "2020-08-13T15:27:07.014605Z"
    }
   },
   "outputs": [],
   "source": [
    "unique_dallas_data = dallas_data.drop_duplicates(subset=['Restaurant Name'], keep='first')"
   ]
  },
  {
   "cell_type": "code",
   "execution_count": null,
   "metadata": {
    "ExecuteTime": {
     "end_time": "2020-08-13T15:27:07.486649Z",
     "start_time": "2020-08-13T15:27:07.482667Z"
    }
   },
   "outputs": [],
   "source": [
    "unique_dallas_data.shape"
   ]
  },
  {
   "cell_type": "code",
   "execution_count": null,
   "metadata": {
    "ExecuteTime": {
     "end_time": "2020-08-13T15:27:07.929466Z",
     "start_time": "2020-08-13T15:27:07.925446Z"
    }
   },
   "outputs": [],
   "source": [
    "# about an 84% reduction in size of df\n",
    "unique_dallas_data.shape[0] / dallas_data.shape[0]"
   ]
  },
  {
   "cell_type": "markdown",
   "metadata": {},
   "source": [
    "### Removing columns from data"
   ]
  },
  {
   "cell_type": "code",
   "execution_count": null,
   "metadata": {
    "ExecuteTime": {
     "end_time": "2020-08-13T15:27:08.362400Z",
     "start_time": "2020-08-13T15:27:08.359782Z"
    }
   },
   "outputs": [],
   "source": [
    "# most of the columns relate to inspections\n",
    "col_names = list(unique_dallas_data.columns)"
   ]
  },
  {
   "cell_type": "code",
   "execution_count": null,
   "metadata": {
    "ExecuteTime": {
     "end_time": "2020-08-13T15:27:08.793191Z",
     "start_time": "2020-08-13T15:27:08.789069Z"
    }
   },
   "outputs": [],
   "source": [
    "col_names[0:11]"
   ]
  },
  {
   "cell_type": "code",
   "execution_count": null,
   "metadata": {
    "ExecuteTime": {
     "end_time": "2020-08-13T15:27:09.213066Z",
     "start_time": "2020-08-13T15:27:09.204293Z"
    }
   },
   "outputs": [],
   "source": [
    "col_names[-3:]\n",
    "unique_dallas_data.drop(columns = [x for x in col_names[11:-4]], inplace=True)"
   ]
  },
  {
   "cell_type": "code",
   "execution_count": null,
   "metadata": {
    "ExecuteTime": {
     "end_time": "2020-08-13T15:27:09.651413Z",
     "start_time": "2020-08-13T15:27:09.636771Z"
    }
   },
   "outputs": [],
   "source": [
    "unique_dallas_data.head(2)"
   ]
  },
  {
   "cell_type": "markdown",
   "metadata": {},
   "source": [
    "### Getting matches to dem dict"
   ]
  },
  {
   "cell_type": "code",
   "execution_count": null,
   "metadata": {
    "ExecuteTime": {
     "end_time": "2020-08-13T15:27:09.666104Z",
     "start_time": "2020-08-13T15:27:09.656072Z"
    }
   },
   "outputs": [],
   "source": [
    "# using the DBA Name as the key\n",
    "restaurant_matches_dal = {key.lower(): None for key in unique_dallas_data['Restaurant Name'] if type(key) == str}"
   ]
  },
  {
   "cell_type": "code",
   "execution_count": null,
   "metadata": {
    "ExecuteTime": {
     "end_time": "2020-08-13T15:28:10.312536Z",
     "start_time": "2020-08-13T15:27:09.668212Z"
    }
   },
   "outputs": [],
   "source": [
    "for key, value in restaurant_matches_dal.items():\n",
    "    if type(key) == str:\n",
    "        split_item = key.split()\n",
    "        for word in split_item:\n",
    "            for key1, value1 in demonym_dictionary.items():\n",
    "                for city in value1:\n",
    "                    if word.lower() == city:\n",
    "                        value_info = [key1, city]\n",
    "                        restaurant_matches_dal[key] = value_info"
   ]
  },
  {
   "cell_type": "code",
   "execution_count": null,
   "metadata": {
    "ExecuteTime": {
     "end_time": "2020-08-13T15:28:11.489985Z",
     "start_time": "2020-08-13T15:28:11.482943Z"
    }
   },
   "outputs": [],
   "source": [
    "bad_keys_dal = []\n",
    "for key, value in restaurant_matches_dal.items():\n",
    "    if value == None:\n",
    "        bad_keys_dal.append(key)\n",
    "len(bad_keys_dal)"
   ]
  },
  {
   "cell_type": "code",
   "execution_count": null,
   "metadata": {
    "ExecuteTime": {
     "end_time": "2020-08-13T15:28:11.886450Z",
     "start_time": "2020-08-13T15:28:11.882407Z"
    },
    "scrolled": false
   },
   "outputs": [],
   "source": [
    "len(restaurant_matches_dal)"
   ]
  },
  {
   "cell_type": "code",
   "execution_count": null,
   "metadata": {
    "ExecuteTime": {
     "end_time": "2020-08-13T15:28:12.298302Z",
     "start_time": "2020-08-13T15:28:12.290772Z"
    }
   },
   "outputs": [],
   "source": [
    "list(restaurant_matches_dal.items())[0:3]"
   ]
  },
  {
   "cell_type": "markdown",
   "metadata": {},
   "source": [
    "### Removing restaurants with no matches"
   ]
  },
  {
   "cell_type": "code",
   "execution_count": null,
   "metadata": {
    "ExecuteTime": {
     "end_time": "2020-08-13T15:28:12.705900Z",
     "start_time": "2020-08-13T15:28:12.697418Z"
    }
   },
   "outputs": [],
   "source": [
    "for x in bad_keys_dal:\n",
    "    if restaurant_matches_dal.get(x) != None:\n",
    "        del restaurant_matches_dal[x]\n",
    "    elif restaurant_matches_dal.get(x) == None:\n",
    "        del restaurant_matches_dal[x]\n",
    "len(list(restaurant_matches_dal.items()))"
   ]
  },
  {
   "cell_type": "markdown",
   "metadata": {},
   "source": [
    "### Removing Bad Matches"
   ]
  },
  {
   "cell_type": "code",
   "execution_count": null,
   "metadata": {
    "ExecuteTime": {
     "end_time": "2020-08-13T15:28:13.110776Z",
     "start_time": "2020-08-13T15:28:13.107041Z"
    }
   },
   "outputs": [],
   "source": [
    "bad_keys_dal2 = []\n",
    "for key, value in restaurant_matches_dal.items():\n",
    "    if value != None:\n",
    "        if value[1] in bad_matches:\n",
    "            bad_keys_dal2.append(key)"
   ]
  },
  {
   "cell_type": "code",
   "execution_count": null,
   "metadata": {
    "ExecuteTime": {
     "end_time": "2020-08-13T15:28:13.510836Z",
     "start_time": "2020-08-13T15:28:13.506090Z"
    }
   },
   "outputs": [],
   "source": [
    "# removing bad keys\n",
    "for x in bad_keys_dal2:\n",
    "    if restaurant_matches_dal.get(x) != None:\n",
    "        del restaurant_matches_dal[x]\n",
    "    elif restaurant_matches_dal.get(x) == None:\n",
    "        del restaurant_matches_dal[x]\n",
    "len(restaurant_matches_dal)"
   ]
  },
  {
   "cell_type": "markdown",
   "metadata": {},
   "source": [
    "### Getting the number of restaurants for each region"
   ]
  },
  {
   "cell_type": "code",
   "execution_count": null,
   "metadata": {
    "ExecuteTime": {
     "end_time": "2020-08-13T15:28:13.911900Z",
     "start_time": "2020-08-13T15:28:13.908034Z"
    }
   },
   "outputs": [],
   "source": [
    "regions_represented_dal = []\n",
    "for key, value in restaurant_matches_dal.items():\n",
    "    if value[0] not in regions_represented_dal:\n",
    "        regions_represented_dal.append(value[0])"
   ]
  },
  {
   "cell_type": "code",
   "execution_count": null,
   "metadata": {
    "ExecuteTime": {
     "end_time": "2020-08-13T15:28:14.326828Z",
     "start_time": "2020-08-13T15:28:14.322534Z"
    }
   },
   "outputs": [],
   "source": [
    "# getting the count of values\n",
    "region_dict_dal = {key: 0 for key in regions_represented_dal}\n",
    "regions_represented_dal[0:4]"
   ]
  },
  {
   "cell_type": "code",
   "execution_count": null,
   "metadata": {
    "ExecuteTime": {
     "end_time": "2020-08-13T15:28:14.744857Z",
     "start_time": "2020-08-13T15:28:14.739535Z"
    }
   },
   "outputs": [],
   "source": [
    "for key, value in restaurant_matches_dal.items():\n",
    "    if value[0] in region_dict_dal.keys():\n",
    "        region_dict_dal[value[0]] += 1\n",
    "region_dict_dal"
   ]
  },
  {
   "cell_type": "markdown",
   "metadata": {},
   "source": [
    "### Getting Counts as percentages"
   ]
  },
  {
   "cell_type": "code",
   "execution_count": null,
   "metadata": {
    "ExecuteTime": {
     "end_time": "2020-08-13T15:28:15.160442Z",
     "start_time": "2020-08-13T15:28:15.157302Z"
    }
   },
   "outputs": [],
   "source": [
    "region_dict_dal_pct = {key:round(value/len(restaurant_matches_dal), 2) \n",
    "                       for key, value in region_dict_dal.items()}"
   ]
  },
  {
   "cell_type": "markdown",
   "metadata": {},
   "source": [
    "### Getting Values that matches"
   ]
  },
  {
   "cell_type": "code",
   "execution_count": null,
   "metadata": {
    "ExecuteTime": {
     "end_time": "2020-08-13T15:28:15.560052Z",
     "start_time": "2020-08-13T15:28:15.556576Z"
    }
   },
   "outputs": [],
   "source": [
    "dal_values = {value[1]:0 for key, value in restaurant_matches_dal.items()}"
   ]
  },
  {
   "cell_type": "code",
   "execution_count": null,
   "metadata": {
    "ExecuteTime": {
     "end_time": "2020-08-13T15:28:15.957941Z",
     "start_time": "2020-08-13T15:28:15.954635Z"
    }
   },
   "outputs": [],
   "source": [
    "for key, value in restaurant_matches_dal.items():\n",
    "    if value[1] in dal_values.keys():\n",
    "        dal_values[value[1]] += 1"
   ]
  },
  {
   "cell_type": "code",
   "execution_count": null,
   "metadata": {
    "ExecuteTime": {
     "end_time": "2020-08-13T15:28:16.373926Z",
     "start_time": "2020-08-13T15:28:16.369705Z"
    },
    "scrolled": false
   },
   "outputs": [],
   "source": [
    "# https://careerkarma.com/blog/python-sort-a-dictionary-by-value/\n",
    "sort_values_dal = sorted(dal_values.items(), key=lambda x: x[1], reverse=True)\n",
    "for i in sort_values_dal[0:5]:\n",
    "    print(i[0], i[1])"
   ]
  },
  {
   "cell_type": "markdown",
   "metadata": {},
   "source": [
    "## San Francisco "
   ]
  },
  {
   "cell_type": "code",
   "execution_count": null,
   "metadata": {
    "ExecuteTime": {
     "end_time": "2020-08-13T15:28:32.132270Z",
     "start_time": "2020-08-13T15:28:31.887512Z"
    }
   },
   "outputs": [],
   "source": [
    "sf_data = pd.read_csv(\"./food_inspections_data/san_fran_Restaurant_Scores_-_LIVES_Standard.csv\")\n",
    "sf_data.shape"
   ]
  },
  {
   "cell_type": "code",
   "execution_count": null,
   "metadata": {
    "ExecuteTime": {
     "end_time": "2020-08-13T15:28:32.593174Z",
     "start_time": "2020-08-13T15:28:32.571310Z"
    }
   },
   "outputs": [],
   "source": [
    "sf_data.head(2)"
   ]
  },
  {
   "cell_type": "code",
   "execution_count": null,
   "metadata": {
    "ExecuteTime": {
     "end_time": "2020-08-13T15:28:38.794875Z",
     "start_time": "2020-08-13T15:28:38.778006Z"
    }
   },
   "outputs": [],
   "source": [
    "sf_data_unique = sf_data.drop_duplicates(subset=['business_name'], keep='first')\n",
    "sf_data_unique.shape"
   ]
  },
  {
   "cell_type": "code",
   "execution_count": null,
   "metadata": {
    "ExecuteTime": {
     "end_time": "2020-08-13T15:28:47.231572Z",
     "start_time": "2020-08-13T15:28:47.207791Z"
    }
   },
   "outputs": [],
   "source": [
    "lower_biz_name = [x.lower() for x in sf_data['business_name']]\n",
    "# this is slightly smaller than the set of unique business names without lowering all of the characters (by 1000)\n",
    "len(set(lower_biz_name)) "
   ]
  },
  {
   "cell_type": "markdown",
   "metadata": {},
   "source": [
    "### Getting Names of Restaurants"
   ]
  },
  {
   "cell_type": "code",
   "execution_count": null,
   "metadata": {
    "ExecuteTime": {
     "end_time": "2020-08-13T15:29:08.640196Z",
     "start_time": "2020-08-13T15:28:49.442269Z"
    }
   },
   "outputs": [],
   "source": [
    "rest_matches_sf = []\n",
    "for item in set(lower_biz_name):\n",
    "    split_item = item.split()\n",
    "    for word in split_item:\n",
    "        for key, value in demonym_dictionary.items():\n",
    "            for city in value:\n",
    "                if word == city:\n",
    "                    if word not in bad_matches: # if not, the number of results is tripled\n",
    "                        rest_matches_sf.append(item)"
   ]
  },
  {
   "cell_type": "code",
   "execution_count": null,
   "metadata": {
    "ExecuteTime": {
     "end_time": "2020-08-13T15:29:09.106468Z",
     "start_time": "2020-08-13T15:29:09.102432Z"
    }
   },
   "outputs": [],
   "source": [
    "unique_sf_matches = list(set(rest_matches_sf))\n",
    "len(unique_sf_matches)"
   ]
  },
  {
   "cell_type": "code",
   "execution_count": null,
   "metadata": {
    "ExecuteTime": {
     "end_time": "2020-08-13T15:29:09.559822Z",
     "start_time": "2020-08-13T15:29:09.555934Z"
    }
   },
   "outputs": [],
   "source": [
    "unique_sf_matches[0:3]"
   ]
  },
  {
   "cell_type": "markdown",
   "metadata": {},
   "source": [
    "### Getting Regions for Matches"
   ]
  },
  {
   "cell_type": "code",
   "execution_count": null,
   "metadata": {
    "ExecuteTime": {
     "end_time": "2020-08-13T15:29:10.030646Z",
     "start_time": "2020-08-13T15:29:10.027642Z"
    }
   },
   "outputs": [],
   "source": [
    "restaurant_matches_sf = {key: None for key in set(unique_sf_matches)}"
   ]
  },
  {
   "cell_type": "code",
   "execution_count": null,
   "metadata": {
    "ExecuteTime": {
     "end_time": "2020-08-13T15:29:10.719924Z",
     "start_time": "2020-08-13T15:29:10.515546Z"
    }
   },
   "outputs": [],
   "source": [
    "for key, value in restaurant_matches_sf.items():\n",
    "    split_item = key.split()\n",
    "    for word in split_item:\n",
    "        for key1, value1 in demonym_dictionary.items():\n",
    "            for city in value1:\n",
    "                if word == city:\n",
    "                    value_info = [key1, city]\n",
    "                    restaurant_matches_sf[key] = value_info\n",
    "len(restaurant_matches_sf)"
   ]
  },
  {
   "cell_type": "markdown",
   "metadata": {},
   "source": [
    "#### Removing all entries that passed filter incorrectly"
   ]
  },
  {
   "cell_type": "code",
   "execution_count": null,
   "metadata": {
    "ExecuteTime": {
     "end_time": "2020-08-13T15:29:11.802961Z",
     "start_time": "2020-08-13T15:29:11.796625Z"
    }
   },
   "outputs": [],
   "source": [
    "bad_keys = []\n",
    "for key, value in restaurant_matches_nyc.items():\n",
    "    if value[1] in bad_matches:\n",
    "        bad_keys.append(key)\n",
    "len(bad_keys)"
   ]
  },
  {
   "cell_type": "code",
   "execution_count": null,
   "metadata": {
    "ExecuteTime": {
     "end_time": "2020-08-13T15:29:13.570577Z",
     "start_time": "2020-08-13T15:29:13.566537Z"
    }
   },
   "outputs": [],
   "source": [
    "for x in bad_keys:\n",
    "    if restaurant_matches_sf.get(x) != None:\n",
    "        del restaurant_matches_sf[x]"
   ]
  },
  {
   "cell_type": "code",
   "execution_count": null,
   "metadata": {
    "ExecuteTime": {
     "end_time": "2020-08-13T15:29:19.120956Z",
     "start_time": "2020-08-13T15:29:19.118060Z"
    }
   },
   "outputs": [],
   "source": [
    "if restaurant_matches_sf.get('guadalupe elementary school'):\n",
    "    del restaurant_matches_sf['guadalupe elementary school'] # probably refers to a neighborhood, not something in mex."
   ]
  },
  {
   "cell_type": "code",
   "execution_count": null,
   "metadata": {
    "ExecuteTime": {
     "end_time": "2020-08-13T15:29:19.726501Z",
     "start_time": "2020-08-13T15:29:19.722440Z"
    }
   },
   "outputs": [],
   "source": [
    "len(restaurant_matches_sf)"
   ]
  },
  {
   "cell_type": "markdown",
   "metadata": {},
   "source": [
    "### Getting Region Counts"
   ]
  },
  {
   "cell_type": "code",
   "execution_count": null,
   "metadata": {
    "ExecuteTime": {
     "end_time": "2020-08-13T15:29:31.292608Z",
     "start_time": "2020-08-13T15:29:31.288478Z"
    }
   },
   "outputs": [],
   "source": [
    "region_dict_sf = {value[0]: 0 for key, value in restaurant_matches_sf.items()}"
   ]
  },
  {
   "cell_type": "code",
   "execution_count": null,
   "metadata": {
    "ExecuteTime": {
     "end_time": "2020-08-13T15:29:31.820555Z",
     "start_time": "2020-08-13T15:29:31.816950Z"
    }
   },
   "outputs": [],
   "source": [
    "for key, value in restaurant_matches_sf.items():\n",
    "    if value[0] in region_dict_sf.keys():\n",
    "        region_dict_sf[value[0]] += 1"
   ]
  },
  {
   "cell_type": "markdown",
   "metadata": {},
   "source": [
    "### Getting Region Counts as Percentages"
   ]
  },
  {
   "cell_type": "code",
   "execution_count": null,
   "metadata": {
    "ExecuteTime": {
     "end_time": "2020-08-13T15:29:45.537639Z",
     "start_time": "2020-08-13T15:29:45.533607Z"
    }
   },
   "outputs": [],
   "source": [
    "region_dict_sf_pct = {value[0]: 0 for key, value in restaurant_matches_sf.items()}"
   ]
  },
  {
   "cell_type": "code",
   "execution_count": null,
   "metadata": {
    "ExecuteTime": {
     "end_time": "2020-08-13T15:29:46.068323Z",
     "start_time": "2020-08-13T15:29:46.065192Z"
    }
   },
   "outputs": [],
   "source": [
    "for key, value in region_dict_sf.items():\n",
    "    region_dict_sf_pct[key] = round(value/len(restaurant_matches_sf), 2)"
   ]
  },
  {
   "cell_type": "code",
   "execution_count": null,
   "metadata": {
    "ExecuteTime": {
     "end_time": "2020-08-13T15:29:46.544116Z",
     "start_time": "2020-08-13T15:29:46.539878Z"
    }
   },
   "outputs": [],
   "source": [
    "region_dict_sf_pct"
   ]
  },
  {
   "cell_type": "markdown",
   "metadata": {},
   "source": [
    "### Getting Values that matches"
   ]
  },
  {
   "cell_type": "code",
   "execution_count": null,
   "metadata": {
    "ExecuteTime": {
     "end_time": "2020-08-13T15:29:56.895110Z",
     "start_time": "2020-08-13T15:29:56.890989Z"
    }
   },
   "outputs": [],
   "source": [
    "sf_values = {value[1]:0 for key, value in restaurant_matches_sf.items()}"
   ]
  },
  {
   "cell_type": "code",
   "execution_count": null,
   "metadata": {
    "ExecuteTime": {
     "end_time": "2020-08-13T15:29:57.434575Z",
     "start_time": "2020-08-13T15:29:57.431271Z"
    }
   },
   "outputs": [],
   "source": [
    "for key, value in restaurant_matches_sf.items():\n",
    "    if value[1] in sf_values.keys():\n",
    "        sf_values[value[1]] += 1"
   ]
  },
  {
   "cell_type": "code",
   "execution_count": null,
   "metadata": {
    "ExecuteTime": {
     "end_time": "2020-08-13T15:29:57.904939Z",
     "start_time": "2020-08-13T15:29:57.900790Z"
    },
    "scrolled": true
   },
   "outputs": [],
   "source": [
    "# https://careerkarma.com/blog/python-sort-a-dictionary-by-value/\n",
    "sort_values_sf = sorted(sf_values.items(), key=lambda x: x[1], reverse=True)\n",
    "for i in sort_values_sf[0:5]:\n",
    "    print(i[0], i[1])"
   ]
  },
  {
   "cell_type": "markdown",
   "metadata": {},
   "source": [
    "# Combining All Restaurant Matches into One df"
   ]
  },
  {
   "cell_type": "code",
   "execution_count": null,
   "metadata": {
    "ExecuteTime": {
     "end_time": "2020-08-13T15:30:12.799628Z",
     "start_time": "2020-08-13T15:30:12.797081Z"
    }
   },
   "outputs": [],
   "source": [
    "# rest_df has all of the NYC results"
   ]
  },
  {
   "cell_type": "markdown",
   "metadata": {},
   "source": [
    "## dict data"
   ]
  },
  {
   "cell_type": "code",
   "execution_count": null,
   "metadata": {
    "ExecuteTime": {
     "end_time": "2020-08-13T15:30:13.690567Z",
     "start_time": "2020-08-13T15:30:13.670950Z"
    }
   },
   "outputs": [],
   "source": [
    "chi_reg_w_pct = pd.DataFrame.from_dict(restaurant_matches_chi, orient='index', columns = ['Region', 'Match'])\n",
    "chi_reg_w_pct.sort_index(axis=0, inplace=True)\n",
    "chi_reg_w_pct['City'] = 'Chicago'\n",
    "\n",
    "dal_reg_w_pct= pd.DataFrame.from_dict(restaurant_matches_dal, orient='index', columns = ['Region', 'Match'])\n",
    "dal_reg_w_pct.sort_index(axis=0, inplace=True)\n",
    "dal_reg_w_pct['City'] = 'Dallas'\n",
    "\n",
    "sf_reg_w_pct= pd.DataFrame.from_dict(restaurant_matches_sf, orient='index', columns = ['Region', 'Match'])\n",
    "sf_reg_w_pct.sort_index(axis=0, inplace=True)\n",
    "sf_reg_w_pct['City'] = 'SF'\n",
    "\n",
    "all_rest_df = pd.concat([chi_reg_w_pct, dal_reg_w_pct, sf_reg_w_pct], sort=True)"
   ]
  },
  {
   "cell_type": "code",
   "execution_count": null,
   "metadata": {
    "ExecuteTime": {
     "end_time": "2020-08-13T15:30:14.250436Z",
     "start_time": "2020-08-13T15:30:14.243543Z"
    }
   },
   "outputs": [],
   "source": [
    "all_rest_df.head(2)"
   ]
  },
  {
   "cell_type": "markdown",
   "metadata": {},
   "source": [
    "## NYC data"
   ]
  },
  {
   "cell_type": "code",
   "execution_count": null,
   "metadata": {
    "ExecuteTime": {
     "end_time": "2020-08-13T15:30:17.551718Z",
     "start_time": "2020-08-13T15:30:17.548034Z"
    }
   },
   "outputs": [],
   "source": [
    "rest_df['City'] = 'NYC'"
   ]
  },
  {
   "cell_type": "code",
   "execution_count": null,
   "metadata": {
    "ExecuteTime": {
     "end_time": "2020-08-13T15:30:18.103754Z",
     "start_time": "2020-08-13T15:30:18.095158Z"
    }
   },
   "outputs": [],
   "source": [
    "rest_df.head()"
   ]
  },
  {
   "cell_type": "code",
   "execution_count": null,
   "metadata": {
    "ExecuteTime": {
     "end_time": "2020-08-13T15:30:25.647111Z",
     "start_time": "2020-08-13T15:30:25.642702Z"
    }
   },
   "outputs": [],
   "source": [
    "rest_df.set_index(keys=['Restaurant_name'], inplace=True)"
   ]
  },
  {
   "cell_type": "code",
   "execution_count": null,
   "metadata": {
    "ExecuteTime": {
     "end_time": "2020-08-13T15:30:26.205284Z",
     "start_time": "2020-08-13T15:30:26.202531Z"
    }
   },
   "outputs": [],
   "source": [
    "rest_df.columns = ['Region', 'Match', 'City']"
   ]
  },
  {
   "cell_type": "code",
   "execution_count": null,
   "metadata": {
    "ExecuteTime": {
     "end_time": "2020-08-13T15:30:26.948913Z",
     "start_time": "2020-08-13T15:30:26.945574Z"
    }
   },
   "outputs": [],
   "source": [
    "rest_df.columns"
   ]
  },
  {
   "cell_type": "markdown",
   "metadata": {},
   "source": [
    "## Merging the two dfs"
   ]
  },
  {
   "cell_type": "code",
   "execution_count": null,
   "metadata": {
    "ExecuteTime": {
     "end_time": "2020-08-13T15:30:27.914165Z",
     "start_time": "2020-08-13T15:30:27.909256Z"
    }
   },
   "outputs": [],
   "source": [
    "all_restaurants = pd.concat([all_rest_df,rest_df])"
   ]
  },
  {
   "cell_type": "markdown",
   "metadata": {},
   "source": [
    "## Saving df"
   ]
  },
  {
   "cell_type": "code",
   "execution_count": null,
   "metadata": {},
   "outputs": [],
   "source": [
    "# all_restaurants.to_csv(\"./my_saved_data/Final_restaurant_list.csv\")"
   ]
  },
  {
   "cell_type": "markdown",
   "metadata": {},
   "source": [
    "# Using Wikipedia to correct any errors in data"
   ]
  },
  {
   "cell_type": "code",
   "execution_count": null,
   "metadata": {
    "ExecuteTime": {
     "end_time": "2020-08-27T20:24:38.925312Z",
     "start_time": "2020-08-27T20:24:38.888168Z"
    }
   },
   "outputs": [],
   "source": [
    "all_restaurants = pd.read_csv(\"./my_saved_data/Final_restaurant_list.csv\", index_col = 0)\n",
    "all_restaurants.head()"
   ]
  },
  {
   "cell_type": "code",
   "execution_count": null,
   "metadata": {
    "ExecuteTime": {
     "end_time": "2020-08-27T20:28:32.096602Z",
     "start_time": "2020-08-27T20:28:32.092707Z"
    }
   },
   "outputs": [],
   "source": [
    "all_regions = set(all_restaurants.Region)\n",
    "all_regions = [x.lower() for x in all_regions]"
   ]
  },
  {
   "cell_type": "code",
   "execution_count": null,
   "metadata": {
    "ExecuteTime": {
     "end_time": "2020-08-27T20:43:19.395445Z",
     "start_time": "2020-08-27T20:43:19.390448Z"
    }
   },
   "outputs": [],
   "source": [
    "set_of_matches = set(all_restaurants.Match)\n",
    "list_of_matches = list(set_of_matches)\n",
    "len(list_of_matches)"
   ]
  },
  {
   "cell_type": "markdown",
   "metadata": {},
   "source": [
    "## Getting summaries from wikipedia"
   ]
  },
  {
   "cell_type": "code",
   "execution_count": null,
   "metadata": {
    "ExecuteTime": {
     "end_time": "2020-08-27T21:02:33.692472Z",
     "start_time": "2020-08-27T21:02:33.687932Z"
    }
   },
   "outputs": [],
   "source": [
    "def count_num_of_entries(lst):\n",
    "    counter = 0\n",
    "    for y in lst:\n",
    "        if type(y) != int:\n",
    "            counter += 1\n",
    "    print (counter)"
   ]
  },
  {
   "cell_type": "code",
   "execution_count": null,
   "metadata": {
    "ExecuteTime": {
     "end_time": "2020-08-21T19:59:33.333971Z",
     "start_time": "2020-08-21T19:59:01.815155Z"
    }
   },
   "outputs": [],
   "source": [
    "summaries = []\n",
    "ambiguous_entries = []\n",
    "for idx, match in enumerate(list_of_matches):\n",
    "    try:\n",
    "#         page = wikipedia.page(match)\n",
    "        summary = wikipedia.summary(match)\n",
    "        summaries.append(summary)\n",
    "    except wikipedia.exceptions.DisambiguationError as e:\n",
    "        if match + \" (state)\" in e.options:\n",
    "#             page = wikipedia.page(match + \" (state)\")\n",
    "            summary = wikipedia.summary(match + \" (state)\")\n",
    "            summaries.append(summary)\n",
    "        else:\n",
    "            summaries.append(idx)\n",
    "            ambiguous_entries.append((idx, e.options))"
   ]
  },
  {
   "cell_type": "code",
   "execution_count": null,
   "metadata": {
    "ExecuteTime": {
     "end_time": "2020-08-27T20:28:34.480260Z",
     "start_time": "2020-08-27T20:28:34.476280Z"
    }
   },
   "outputs": [],
   "source": [
    "# remove state names from list\n",
    "no_states = []\n",
    "for idx, x in enumerate(list_of_matches):\n",
    "    if x in all_regions:\n",
    "        no_states.append(x)\n",
    "    else:\n",
    "        no_states.append(idx)"
   ]
  },
  {
   "cell_type": "code",
   "execution_count": null,
   "metadata": {
    "ExecuteTime": {
     "end_time": "2020-08-27T21:02:37.769574Z",
     "start_time": "2020-08-27T21:02:37.765371Z"
    }
   },
   "outputs": [],
   "source": [
    "count_num_of_entries(no_states)"
   ]
  },
  {
   "cell_type": "code",
   "execution_count": null,
   "metadata": {
    "ExecuteTime": {
     "end_time": "2020-08-27T20:48:26.069747Z",
     "start_time": "2020-08-27T20:48:26.064040Z"
    }
   },
   "outputs": [],
   "source": [
    "# getting longest state name\n",
    "max_state_name_len = 0\n",
    "for x in all_regions:\n",
    "    if len(x) > max_state_name_len:\n",
    "        max_state_name_len = len(x)\n",
    "max_state_name_len"
   ]
  },
  {
   "cell_type": "code",
   "execution_count": null,
   "metadata": {
    "ExecuteTime": {
     "end_time": "2020-08-27T21:00:57.068399Z",
     "start_time": "2020-08-27T21:00:57.062064Z"
    }
   },
   "outputs": [],
   "source": [
    "state_list = []\n",
    "for idx, summary in enumerate(summaries):\n",
    "    if type(no_states[idx]) == str:\n",
    "        state_list.append(no_states[idx])\n",
    "    elif type(summary) == str:\n",
    "        if \"tate of\" in summary:\n",
    "            beg_index = summary.index('tate of')\n",
    "    #         try:\n",
    "    #             end_index = summary.index(',', beg_index)\n",
    "    #         except ValueError:\n",
    "    #             continue\n",
    "    #         try:\n",
    "    #             end_index = summary.index('.', beg_index)\n",
    "    #         except ValueError:\n",
    "    #             continue\n",
    "            state_name = summary[beg_index+8: beg_index+8+max_state_name_len]\n",
    "            state_list.append(state_name)\n",
    "        else:\n",
    "            state_list.append(idx)\n",
    "    else:\n",
    "        state_list.append(idx)"
   ]
  },
  {
   "cell_type": "code",
   "execution_count": null,
   "metadata": {
    "ExecuteTime": {
     "end_time": "2020-08-27T21:03:00.128834Z",
     "start_time": "2020-08-27T21:03:00.125910Z"
    }
   },
   "outputs": [],
   "source": [
    "count_num_of_entries(state_list)"
   ]
  },
  {
   "cell_type": "code",
   "execution_count": null,
   "metadata": {
    "ExecuteTime": {
     "end_time": "2020-08-27T21:01:15.517140Z",
     "start_time": "2020-08-27T21:01:15.456317Z"
    }
   },
   "outputs": [],
   "source": [
    "name_list2 = []\n",
    "for x in state_list:\n",
    "    if type(x) == str:\n",
    "        match = re.match(r\"\\w+\", x)\n",
    "        name = match.group()\n",
    "        name_list2.append(name)\n",
    "    else:\n",
    "        name_list2.append(x)"
   ]
  },
  {
   "cell_type": "code",
   "execution_count": null,
   "metadata": {
    "ExecuteTime": {
     "end_time": "2020-08-27T20:56:00.507466Z",
     "start_time": "2020-08-27T20:56:00.500448Z"
    }
   },
   "outputs": [],
   "source": [
    "name_list3 = []\n",
    "for idx, x in enumerate(name_list2):\n",
    "    if type(x) == str:\n",
    "        no_accent_x = unidecode.unidecode(x) \n",
    "        lower_x = no_accent_x.lower()\n",
    "    else:\n",
    "        lower_x = x\n",
    "    single_name_regions = [x.split()[0] for x in all_regions]\n",
    "    if lower_x in single_name_regions:\n",
    "        name_list3.append(lower_x)\n",
    "    else:\n",
    "        name_list3.append(idx)"
   ]
  },
  {
   "cell_type": "code",
   "execution_count": null,
   "metadata": {
    "ExecuteTime": {
     "end_time": "2020-08-27T20:56:57.459106Z",
     "start_time": "2020-08-27T20:56:57.454426Z"
    }
   },
   "outputs": [],
   "source": [
    "for idx, x in enumerate(name_list3):\n",
    "    if x == 'baja':\n",
    "        print(idx)"
   ]
  },
  {
   "cell_type": "code",
   "execution_count": null,
   "metadata": {
    "ExecuteTime": {
     "end_time": "2020-08-27T20:58:29.838713Z",
     "start_time": "2020-08-27T20:58:29.834912Z"
    }
   },
   "outputs": [],
   "source": [
    "# after checking each case indivisually\n",
    "name_list3[12] = 12\n",
    "name_list3[82] = 'baja california'"
   ]
  },
  {
   "cell_type": "code",
   "execution_count": null,
   "metadata": {
    "ExecuteTime": {
     "end_time": "2020-08-27T21:03:37.046107Z",
     "start_time": "2020-08-27T21:03:37.041901Z"
    }
   },
   "outputs": [],
   "source": [
    "count_num_of_entries(name_list3)"
   ]
  },
  {
   "cell_type": "markdown",
   "metadata": {},
   "source": [
    "## Going through articles not clearly associated with a region"
   ]
  },
  {
   "cell_type": "code",
   "execution_count": null,
   "metadata": {
    "ExecuteTime": {
     "end_time": "2020-08-27T21:06:44.929074Z",
     "start_time": "2020-08-27T21:06:44.923891Z"
    }
   },
   "outputs": [],
   "source": [
    "name_list3[0:5]"
   ]
  },
  {
   "cell_type": "code",
   "execution_count": null,
   "metadata": {
    "ExecuteTime": {
     "end_time": "2020-08-27T23:35:53.113757Z",
     "start_time": "2020-08-27T23:35:53.110295Z"
    }
   },
   "outputs": [],
   "source": [
    "# get options for all articles that aren't in name_list3\n",
    "no_state_found_entries = []\n",
    "for idx, x in enumerate(list_of_matches):\n",
    "    if type(name_list3[idx]) == str:\n",
    "        no_state_found_entries.append(name_list3[idx])\n",
    "    else:\n",
    "        options = wikipedia.search(x)\n",
    "        no_state_found_entries.append((idx, x, options))"
   ]
  },
  {
   "cell_type": "code",
   "execution_count": null,
   "metadata": {
    "ExecuteTime": {
     "end_time": "2020-08-27T23:44:35.099204Z",
     "start_time": "2020-08-27T23:44:35.095286Z"
    }
   },
   "outputs": [],
   "source": [
    "final_list_of_region_matches = no_state_found_entries.copy()"
   ]
  },
  {
   "cell_type": "code",
   "execution_count": null,
   "metadata": {
    "ExecuteTime": {
     "end_time": "2020-08-27T23:44:46.330206Z",
     "start_time": "2020-08-27T23:44:46.326201Z"
    }
   },
   "outputs": [],
   "source": [
    "def show_next_nonmatch(lst=no_state_found_entries, num=0):\n",
    "#     if type(lst[num][0]) == int:\n",
    "    yield lst[num]\n",
    "    yield from show_next_nonmatch(num=num+1)"
   ]
  },
  {
   "cell_type": "code",
   "execution_count": null,
   "metadata": {
    "ExecuteTime": {
     "end_time": "2020-08-28T15:09:32.813886Z",
     "start_time": "2020-08-28T15:09:32.809162Z"
    }
   },
   "outputs": [],
   "source": [
    "a = show_next_nonmatch()\n",
    "a"
   ]
  },
  {
   "cell_type": "code",
   "execution_count": null,
   "metadata": {
    "ExecuteTime": {
     "end_time": "2020-08-28T00:13:37.949399Z",
     "start_time": "2020-08-28T00:13:37.946167Z"
    }
   },
   "outputs": [],
   "source": [
    "# all_regions"
   ]
  },
  {
   "cell_type": "code",
   "execution_count": null,
   "metadata": {
    "ExecuteTime": {
     "end_time": "2020-08-28T15:09:36.074355Z",
     "start_time": "2020-08-28T15:09:36.069618Z"
    }
   },
   "outputs": [],
   "source": [
    "next(a)"
   ]
  },
  {
   "cell_type": "code",
   "execution_count": null,
   "metadata": {
    "ExecuteTime": {
     "end_time": "2020-08-28T00:16:57.613463Z",
     "start_time": "2020-08-28T00:16:57.602234Z"
    }
   },
   "outputs": [],
   "source": [
    "final_list_of_region_matches[0] = \"jalisco\"\n",
    "final_list_of_region_matches[1] = \"hidalgo\"\n",
    "final_list_of_region_matches[9] = \"nayarit\"\n",
    "# 12 is california... not sure about this one...nah, that's why it was appearing so much in sf\n",
    "final_list_of_region_matches[15] = \"michoacan\"\n",
    "final_list_of_region_matches[17] = \"ciudad de mexico\"\n",
    "final_list_of_region_matches[20] = \"puebla\"\n",
    "final_list_of_region_matches[27] = \"mexico\"\n",
    "final_list_of_region_matches[28] = \"hidalgo\"\n",
    "final_list_of_region_matches[32] = \"jalisco\"\n",
    "final_list_of_region_matches[35] = \"baja california\"\n",
    "final_list_of_region_matches[37] = \"baja california\"\n",
    "final_list_of_region_matches[41] = \"puebla\"\n",
    "final_list_of_region_matches[42] = \"mexico\"\n",
    "final_list_of_region_matches[43] = \"puebla\"\n",
    "final_list_of_region_matches[44] = \"sinaloa\"\n",
    "final_list_of_region_matches[45] = \"san luis potosi\"\n",
    "final_list_of_region_matches[53] = \"puebla\"\n",
    "final_list_of_region_matches[55] = \"chihuahua\"\n",
    "final_list_of_region_matches[56] = \"zacatecas\"\n",
    "final_list_of_region_matches[57] = \"coahuila\"\n",
    "final_list_of_region_matches[58] = \"ciudad de mexico\"\n",
    "final_list_of_region_matches[59] = \"guerrero\"\n",
    "final_list_of_region_matches[60] = \"tamaulipas\"\n",
    "final_list_of_region_matches[61] = \"guanajuato\"\n",
    "final_list_of_region_matches[63] = \"zacatecas\"\n",
    "final_list_of_region_matches[64] = \"sinaloa\"\n",
    "final_list_of_region_matches[65] = \"chihuahua\"\n",
    "final_list_of_region_matches[69] = \"veracruz\"\n",
    "final_list_of_region_matches[74] = \"michoacan\"\n",
    "final_list_of_region_matches[79] = \"ciudad de mexico\"\n",
    "final_list_of_region_matches[84] = \"yucatan\"\n",
    "final_list_of_region_matches[85] = \"nuevo leon\"\n",
    "final_list_of_region_matches[91] = \"jalisco\"\n",
    "final_list_of_region_matches[97] = \"veracruz\"\n",
    "final_list_of_region_matches[99] = \"ciudad de mexico\"\n",
    "final_list_of_region_matches[103] = \"hidalgo\"\n",
    "final_list_of_region_matches[104] = \"michoacan\"\n",
    "final_list_of_region_matches[113] = \"puebla\"\n",
    "final_list_of_region_matches[114] = \"mexico\"\n",
    "final_list_of_region_matches[115] = \"chihuahua\"\n",
    "final_list_of_region_matches[117] = \"guanajuato\"\n",
    "final_list_of_region_matches[118] = \"puebla\"\n",
    "final_list_of_region_matches[125] = \"ciudad de mexico\"\n",
    "final_list_of_region_matches[127] = \"sonora\""
   ]
  },
  {
   "cell_type": "code",
   "execution_count": null,
   "metadata": {
    "ExecuteTime": {
     "end_time": "2020-08-28T00:18:08.952639Z",
     "start_time": "2020-08-28T00:18:08.947814Z"
    }
   },
   "outputs": [],
   "source": [
    "counter = 0\n",
    "for y in final_list_of_region_matches:\n",
    "    if type(y) == str:\n",
    "        counter += 1\n",
    "print (counter)"
   ]
  },
  {
   "cell_type": "markdown",
   "metadata": {},
   "source": [
    "## Fixing previous matches "
   ]
  },
  {
   "cell_type": "code",
   "execution_count": null,
   "metadata": {
    "ExecuteTime": {
     "end_time": "2020-08-28T00:19:51.192953Z",
     "start_time": "2020-08-28T00:19:51.189401Z"
    }
   },
   "outputs": [],
   "source": [
    "final_list_of_matches_with_term = list(zip(final_list_of_region_matches, list_of_matches))"
   ]
  },
  {
   "cell_type": "code",
   "execution_count": null,
   "metadata": {
    "ExecuteTime": {
     "end_time": "2020-08-28T00:20:29.979972Z",
     "start_time": "2020-08-28T00:20:29.975943Z"
    }
   },
   "outputs": [],
   "source": [
    "final_list_of_matches_with_term_correct = [x for x in final_list_of_matches_with_term if type(x[0]) != tuple]"
   ]
  },
  {
   "cell_type": "code",
   "execution_count": null,
   "metadata": {
    "ExecuteTime": {
     "end_time": "2020-08-28T00:21:45.372754Z",
     "start_time": "2020-08-28T00:21:45.368745Z"
    }
   },
   "outputs": [],
   "source": [
    "matched_terms = [x[1] for x in final_list_of_matches_with_term_correct]"
   ]
  },
  {
   "cell_type": "code",
   "execution_count": null,
   "metadata": {
    "ExecuteTime": {
     "end_time": "2020-08-28T00:23:46.675440Z",
     "start_time": "2020-08-28T00:23:46.669806Z"
    }
   },
   "outputs": [],
   "source": [
    "match_boolean = []\n",
    "new_region = []\n",
    "for x in all_restaurants['Match']:\n",
    "    if x in matched_terms:\n",
    "        match_boolean.append(True)\n",
    "        new_region_x = final_list_of_matches_with_term_correct[matched_terms.index(x)][0]\n",
    "        new_region.append(new_region_x)\n",
    "    else:\n",
    "        match_boolean.append(False)"
   ]
  },
  {
   "cell_type": "code",
   "execution_count": null,
   "metadata": {
    "ExecuteTime": {
     "end_time": "2020-08-28T00:24:00.800810Z",
     "start_time": "2020-08-28T00:24:00.796308Z"
    }
   },
   "outputs": [],
   "source": [
    "sum(match_boolean)"
   ]
  },
  {
   "cell_type": "code",
   "execution_count": null,
   "metadata": {
    "ExecuteTime": {
     "end_time": "2020-08-28T00:24:06.967699Z",
     "start_time": "2020-08-28T00:24:06.962998Z"
    }
   },
   "outputs": [],
   "source": [
    "len(all_restaurants)"
   ]
  },
  {
   "cell_type": "code",
   "execution_count": null,
   "metadata": {
    "ExecuteTime": {
     "end_time": "2020-08-28T00:24:17.272246Z",
     "start_time": "2020-08-28T00:24:17.267200Z"
    }
   },
   "outputs": [],
   "source": [
    "len(new_region)"
   ]
  },
  {
   "cell_type": "markdown",
   "metadata": {},
   "source": [
    "### Add match_boolean column and deleting on false condition"
   ]
  },
  {
   "cell_type": "code",
   "execution_count": null,
   "metadata": {
    "ExecuteTime": {
     "end_time": "2020-08-28T00:24:54.112303Z",
     "start_time": "2020-08-28T00:24:54.106891Z"
    }
   },
   "outputs": [],
   "source": [
    "all_restaurants['match_boolean'] = match_boolean"
   ]
  },
  {
   "cell_type": "code",
   "execution_count": null,
   "metadata": {
    "ExecuteTime": {
     "end_time": "2020-08-28T00:25:20.330804Z",
     "start_time": "2020-08-28T00:25:20.325197Z"
    }
   },
   "outputs": [],
   "source": [
    "all_correct_restaurants = all_restaurants[all_restaurants['match_boolean'] == True]"
   ]
  },
  {
   "cell_type": "code",
   "execution_count": null,
   "metadata": {
    "ExecuteTime": {
     "end_time": "2020-08-28T00:25:46.586925Z",
     "start_time": "2020-08-28T00:25:46.582510Z"
    }
   },
   "outputs": [],
   "source": [
    "all_correct_restaurants['new_region'] = new_region"
   ]
  },
  {
   "cell_type": "code",
   "execution_count": null,
   "metadata": {
    "ExecuteTime": {
     "end_time": "2020-08-28T15:13:20.576349Z",
     "start_time": "2020-08-28T15:13:20.566113Z"
    }
   },
   "outputs": [],
   "source": [
    "non_matches = 0\n",
    "for num in range(len(all_correct_restaurants)):\n",
    "    lower_orig_region = all_correct_restaurants['Region'][num].lower()\n",
    "    if lower_orig_region != all_correct_restaurants['new_region'][num]:\n",
    "        non_matches += 1"
   ]
  },
  {
   "cell_type": "code",
   "execution_count": null,
   "metadata": {
    "ExecuteTime": {
     "end_time": "2020-08-28T15:13:20.936679Z",
     "start_time": "2020-08-28T15:13:20.931824Z"
    }
   },
   "outputs": [],
   "source": [
    "non_matches # there were 98 incorrectly labelled matches"
   ]
  },
  {
   "cell_type": "code",
   "execution_count": null,
   "metadata": {
    "ExecuteTime": {
     "end_time": "2020-08-28T15:13:21.445731Z",
     "start_time": "2020-08-28T15:13:21.441548Z"
    }
   },
   "outputs": [],
   "source": [
    "len(new_region) - non_matches"
   ]
  },
  {
   "cell_type": "code",
   "execution_count": null,
   "metadata": {
    "ExecuteTime": {
     "end_time": "2020-08-28T17:05:49.797518Z",
     "start_time": "2020-08-28T17:05:49.792956Z"
    }
   },
   "outputs": [],
   "source": [
    "for idx, x in enumerate(all_correct_restaurants['new_region']):\n",
    "    if x == 'nuevo':\n",
    "        all_correct_restaurants['new_region'][idx] = 'nuevo leon'\n",
    "    elif x == 'tepeaca':\n",
    "        all_correct_restaurants['new_region'][idx] = 'puebla'\n",
    "    elif x == 'quintana':\n",
    "        all_correct_restaurants['new_region'][idx] = 'quintana roo'"
   ]
  },
  {
   "cell_type": "code",
   "execution_count": null,
   "metadata": {
    "ExecuteTime": {
     "end_time": "2020-08-28T17:06:01.051766Z",
     "start_time": "2020-08-28T17:06:01.048914Z"
    }
   },
   "outputs": [],
   "source": [
    "# set(all_correct_restaurants['new_region'])"
   ]
  },
  {
   "cell_type": "markdown",
   "metadata": {},
   "source": [
    "## Saving all_correct_restaurants "
   ]
  },
  {
   "cell_type": "code",
   "execution_count": null,
   "metadata": {
    "ExecuteTime": {
     "end_time": "2020-08-28T17:06:03.222476Z",
     "start_time": "2020-08-28T17:06:03.215938Z"
    }
   },
   "outputs": [],
   "source": [
    "# all_correct_restaurants.to_csv(\"./my_saved_data/all_correct_restaurants.csv\")"
   ]
  },
  {
   "cell_type": "markdown",
   "metadata": {},
   "source": [
    "# combining all pct results to a df "
   ]
  },
  {
   "cell_type": "markdown",
   "metadata": {},
   "source": [
    "- nyc_region_counts_dict_pct\n",
    "- chicago_regions_pct\n",
    "- region_dict_dal_pct\n",
    "- region_dict_sf_pct"
   ]
  },
  {
   "cell_type": "markdown",
   "metadata": {},
   "source": [
    "### Making them all have the same length"
   ]
  },
  {
   "cell_type": "code",
   "execution_count": null,
   "metadata": {
    "ExecuteTime": {
     "end_time": "2020-08-28T15:07:16.842515Z",
     "start_time": "2020-08-28T15:07:16.838629Z"
    }
   },
   "outputs": [],
   "source": [
    "regions_used = []"
   ]
  },
  {
   "cell_type": "code",
   "execution_count": null,
   "metadata": {
    "ExecuteTime": {
     "end_time": "2020-08-13T15:31:50.798981Z",
     "start_time": "2020-08-13T15:31:50.795609Z"
    }
   },
   "outputs": [],
   "source": [
    "def track_regions_found(dictionary, regions_used):\n",
    "    for key, value in dictionary.items():\n",
    "        if key not in regions_used:\n",
    "            regions_used.append(key)\n",
    "    return regions_used"
   ]
  },
  {
   "cell_type": "code",
   "execution_count": null,
   "metadata": {
    "ExecuteTime": {
     "end_time": "2020-08-13T15:32:22.860075Z",
     "start_time": "2020-08-13T15:32:22.855895Z"
    }
   },
   "outputs": [],
   "source": [
    "regions_used1 = track_regions_found(nyc_region_counts_dict_pct, regions_used)\n",
    "regions_used2 = track_regions_found(chicago_regions_pct, regions_used1)\n",
    "regions_used3 = track_regions_found(region_dict_dal_pct, regions_used2)\n",
    "regions_used4 = track_regions_found(region_dict_sf_pct, regions_used3)"
   ]
  },
  {
   "cell_type": "code",
   "execution_count": null,
   "metadata": {
    "ExecuteTime": {
     "end_time": "2020-08-13T15:32:24.379623Z",
     "start_time": "2020-08-13T15:32:24.374601Z"
    }
   },
   "outputs": [],
   "source": [
    "# all but one region was found in these datasets (well 2 since michoacan was counted twice)\n",
    "len(regions_used4)"
   ]
  },
  {
   "cell_type": "code",
   "execution_count": null,
   "metadata": {
    "ExecuteTime": {
     "end_time": "2020-08-13T15:32:26.370222Z",
     "start_time": "2020-08-13T15:32:26.365889Z"
    }
   },
   "outputs": [],
   "source": [
    "def add_keys_to_dict(dict_w_pct, regions_used = regions_used4):\n",
    "    for region in regions_used:\n",
    "        if region not in dict_w_pct.keys():\n",
    "            dict_w_pct[region] = 0\n",
    "    return dict_w_pct"
   ]
  },
  {
   "cell_type": "code",
   "execution_count": null,
   "metadata": {
    "ExecuteTime": {
     "end_time": "2020-08-13T15:32:35.922538Z",
     "start_time": "2020-08-13T15:32:35.918438Z"
    }
   },
   "outputs": [],
   "source": [
    "nyc_reg_w_pct = add_keys_to_dict(nyc_region_counts_dict_pct, regions_used4)\n",
    "chi_reg_w_pct = add_keys_to_dict(chicago_regions_pct, regions_used4)\n",
    "dal_reg_w_pct = add_keys_to_dict(region_dict_dal_pct)\n",
    "sf_reg_w_pct = add_keys_to_dict(region_dict_sf_pct)"
   ]
  },
  {
   "cell_type": "markdown",
   "metadata": {},
   "source": [
    "### Making into df"
   ]
  },
  {
   "cell_type": "code",
   "execution_count": null,
   "metadata": {
    "ExecuteTime": {
     "end_time": "2020-08-13T15:32:43.843815Z",
     "start_time": "2020-08-13T15:32:43.832596Z"
    }
   },
   "outputs": [],
   "source": [
    "nyc_reg_w_pct_df = pd.DataFrame.from_dict(nyc_reg_w_pct, orient='index', columns = ['NYC'])\n",
    "nyc_reg_w_pct_df.sort_index(axis=0, inplace=True)\n",
    "\n",
    "chi_reg_w_pct_df = pd.DataFrame.from_dict(chi_reg_w_pct, orient='index', columns = ['Chi'])\n",
    "chi_reg_w_pct_df.sort_index(axis=0, inplace=True)\n",
    "\n",
    "dal_reg_w_pct_df = pd.DataFrame.from_dict(dal_reg_w_pct, orient='index', columns = ['Dal'])\n",
    "dal_reg_w_pct_df.sort_index(axis=0, inplace=True)\n",
    "\n",
    "sf_reg_w_pct_df = pd.DataFrame.from_dict(sf_reg_w_pct, orient='index', columns = ['SF'])\n",
    "sf_reg_w_pct_df.sort_index(axis=0, inplace=True)"
   ]
  },
  {
   "cell_type": "code",
   "execution_count": null,
   "metadata": {
    "ExecuteTime": {
     "end_time": "2020-08-13T15:32:44.385321Z",
     "start_time": "2020-08-13T15:32:44.382065Z"
    }
   },
   "outputs": [],
   "source": [
    "reg_rep_df = pd.concat([nyc_reg_w_pct_df, chi_reg_w_pct_df, dal_reg_w_pct_df, sf_reg_w_pct_df], sort=True, axis=1)"
   ]
  },
  {
   "cell_type": "markdown",
   "metadata": {},
   "source": [
    "#### Fixing 2 Misnamed columns"
   ]
  },
  {
   "cell_type": "code",
   "execution_count": null,
   "metadata": {
    "ExecuteTime": {
     "end_time": "2020-08-13T15:32:46.704659Z",
     "start_time": "2020-08-13T15:32:46.699962Z"
    }
   },
   "outputs": [],
   "source": [
    "reg_rep_df.reset_index(inplace=True)"
   ]
  },
  {
   "cell_type": "code",
   "execution_count": null,
   "metadata": {
    "ExecuteTime": {
     "end_time": "2020-08-13T15:32:47.290444Z",
     "start_time": "2020-08-13T15:32:47.286687Z"
    }
   },
   "outputs": [],
   "source": [
    "reg_rep_df['Chi'][15] = reg_rep_df['Chi'][14]"
   ]
  },
  {
   "cell_type": "code",
   "execution_count": null,
   "metadata": {
    "ExecuteTime": {
     "end_time": "2020-08-13T15:32:47.783483Z",
     "start_time": "2020-08-13T15:32:47.779886Z"
    }
   },
   "outputs": [],
   "source": [
    "reg_rep_df.drop(index=14, inplace=True)"
   ]
  },
  {
   "cell_type": "code",
   "execution_count": null,
   "metadata": {
    "ExecuteTime": {
     "end_time": "2020-08-13T15:32:48.273881Z",
     "start_time": "2020-08-13T15:32:48.270491Z"
    }
   },
   "outputs": [],
   "source": [
    "reg_rep_df['Chi'][20] = reg_rep_df['Chi'][21]"
   ]
  },
  {
   "cell_type": "code",
   "execution_count": null,
   "metadata": {
    "ExecuteTime": {
     "end_time": "2020-08-13T15:32:48.764755Z",
     "start_time": "2020-08-13T15:32:48.761241Z"
    }
   },
   "outputs": [],
   "source": [
    "reg_rep_df.drop(index=21, inplace=True)"
   ]
  },
  {
   "cell_type": "markdown",
   "metadata": {},
   "source": [
    "### Getting the count of the number of restaurants for each column"
   ]
  },
  {
   "cell_type": "code",
   "execution_count": null,
   "metadata": {
    "ExecuteTime": {
     "end_time": "2020-08-13T15:32:51.934264Z",
     "start_time": "2020-08-13T15:32:51.929121Z"
    }
   },
   "outputs": [],
   "source": [
    "rest_count_dict = {}\n",
    "for col in reg_rep_df.columns[1:]:\n",
    "    counter = 0\n",
    "    for item in reg_rep_df[col]:\n",
    "        if item > 0:\n",
    "            counter += 1\n",
    "    rest_count_dict[col] = counter   "
   ]
  },
  {
   "cell_type": "code",
   "execution_count": null,
   "metadata": {
    "ExecuteTime": {
     "end_time": "2020-08-13T15:32:52.526125Z",
     "start_time": "2020-08-13T15:32:52.521710Z"
    }
   },
   "outputs": [],
   "source": [
    "# despite all cities having more than 1.3 million people, \n",
    "# there is a vastly different number of mex. restaurants in each that have names referring to a city or region in mex.\n",
    "rest_count_dict"
   ]
  },
  {
   "cell_type": "markdown",
   "metadata": {},
   "source": [
    "#### Saving restaurant count dict"
   ]
  },
  {
   "cell_type": "code",
   "execution_count": null,
   "metadata": {
    "ExecuteTime": {
     "end_time": "2020-08-13T15:33:19.787046Z",
     "start_time": "2020-08-13T15:33:19.784523Z"
    }
   },
   "outputs": [],
   "source": [
    "# with open ('restaurant_counts.pickle', 'wb+') as f:\n",
    "#     pickle.dump(rest_count_dict, f)"
   ]
  },
  {
   "cell_type": "markdown",
   "metadata": {},
   "source": [
    "# Percent Matches for Each City"
   ]
  },
  {
   "cell_type": "code",
   "execution_count": null,
   "metadata": {
    "ExecuteTime": {
     "end_time": "2020-08-13T15:34:10.861267Z",
     "start_time": "2020-08-13T15:34:10.858248Z"
    }
   },
   "outputs": [],
   "source": [
    "# how many unique mexican restaurants were there for each city and how many were matched in the end"
   ]
  },
  {
   "cell_type": "code",
   "execution_count": null,
   "metadata": {
    "ExecuteTime": {
     "end_time": "2020-08-14T16:45:34.208767Z",
     "start_time": "2020-08-14T16:45:34.201457Z"
    }
   },
   "outputs": [],
   "source": [
    "num_nyc_restaurants = 0\n",
    "for key, value in nyc_region_counts_dict.items():\n",
    "    num_nyc_restaurants += value\n",
    "num_nyc_restaurants"
   ]
  },
  {
   "cell_type": "code",
   "execution_count": null,
   "metadata": {
    "ExecuteTime": {
     "end_time": "2020-08-14T16:45:37.933951Z",
     "start_time": "2020-08-14T16:45:37.928522Z"
    }
   },
   "outputs": [],
   "source": [
    "num_nyc_restaurants / unique_nyc_mex.shape[0]\n",
    "# chicago, dallas SF did not sort restaurants by cuisine type "
   ]
  },
  {
   "cell_type": "markdown",
   "metadata": {},
   "source": [
    "# total count df for all cities combined"
   ]
  },
  {
   "cell_type": "code",
   "execution_count": null,
   "metadata": {
    "ExecuteTime": {
     "end_time": "2020-08-14T16:48:23.157192Z",
     "start_time": "2020-08-14T16:48:23.151487Z"
    }
   },
   "outputs": [],
   "source": [
    "all_restaurants_cities_dict = {}\n",
    "for dictionary in [nyc_region_counts_dict, region_dict_chi, region_dict_dal, region_dict_sf]:\n",
    "    for key, value in dictionary.items():\n",
    "        if key not in all_restaurants_cities_dict.keys():\n",
    "            all_restaurants_cities_dict[key] = value\n",
    "        elif key in all_restaurants_cities_dict.keys():\n",
    "            all_restaurants_cities_dict[key] += value"
   ]
  },
  {
   "cell_type": "code",
   "execution_count": null,
   "metadata": {
    "ExecuteTime": {
     "end_time": "2020-08-14T16:55:55.074797Z",
     "start_time": "2020-08-14T16:55:55.071931Z"
    }
   },
   "outputs": [],
   "source": [
    "# moving michoacan to the key Michoacan de Ocampo\n",
    "all_restaurants_cities_dict['Michoacan de Ocampo'] += all_restaurants_cities_dict['Michoacan']\n",
    "del all_restaurants_cities_dict['Michoacan']"
   ]
  },
  {
   "cell_type": "code",
   "execution_count": null,
   "metadata": {
    "ExecuteTime": {
     "end_time": "2020-10-20T21:31:30.273477Z",
     "start_time": "2020-10-20T21:31:30.220432Z"
    }
   },
   "outputs": [],
   "source": [
    "all_rest_df = pd.DataFrame.from_dict(all_restaurants_cities_dict, orient='index', \n",
    "                                     columns = ['Count_of_restaurants'])"
   ]
  },
  {
   "cell_type": "code",
   "execution_count": null,
   "metadata": {
    "ExecuteTime": {
     "end_time": "2020-08-14T16:56:36.782328Z",
     "start_time": "2020-08-14T16:56:36.778093Z"
    }
   },
   "outputs": [],
   "source": [
    "all_rest_df.Count_of_restaurants.sum()"
   ]
  },
  {
   "cell_type": "code",
   "execution_count": null,
   "metadata": {
    "ExecuteTime": {
     "end_time": "2020-08-14T16:56:37.302478Z",
     "start_time": "2020-08-14T16:56:37.298607Z"
    }
   },
   "outputs": [],
   "source": [
    "all_rest_df['Percent_of_all_restaurants'] = round(all_rest_df['Count_of_restaurants'] / \\\n",
    "                                                  all_rest_df.Count_of_restaurants.sum(), 2)"
   ]
  },
  {
   "cell_type": "code",
   "execution_count": null,
   "metadata": {
    "ExecuteTime": {
     "end_time": "2020-08-14T16:56:37.820700Z",
     "start_time": "2020-08-14T16:56:37.812229Z"
    }
   },
   "outputs": [],
   "source": [
    "all_rest_df.sort_values(by = ['Percent_of_all_restaurants'], ascending=False).head()"
   ]
  },
  {
   "cell_type": "code",
   "execution_count": null,
   "metadata": {
    "ExecuteTime": {
     "end_time": "2020-08-14T16:56:42.594525Z",
     "start_time": "2020-08-14T16:56:42.587819Z"
    }
   },
   "outputs": [],
   "source": [
    "# all_rest_df.to_csv(\"./my_saved_data/all_restaurants_df.csv\")"
   ]
  },
  {
   "cell_type": "markdown",
   "metadata": {},
   "source": [
    "# Conclusions"
   ]
  },
  {
   "cell_type": "markdown",
   "metadata": {},
   "source": [
    "All 4 cities have large Mexican immigrant populations (250k and above according to: https://247wallst.com/economy/2017/01/27/us-cities-with-the-most-mexican-immigrants/). Despite this surface similarity, it turns out that these immigrants do not all come from similar regions in Mexico. No region was in the top 5 most popular region for more than 2 of these cities. This suggests that immigration from Mexico was not dominated by one region but came from all regions of Mexico. Similarly, we see that there are no single region that makes up the majority of any US city's Mexican population: in all cases, no region accounted for more than 36% of the restaurants with regions associated with their names. This did have some variation, however: in San Francisco Guanajuato accounts for 40% of the restaurants while in Dallas the most dominant group accounts for 21%."
   ]
  },
  {
   "cell_type": "markdown",
   "metadata": {},
   "source": [
    "Some shortcomings of this project are the quality of this data: both for the demonym dictionary and the inspection data. The demonym dictionary had many entries, but there were some clear errors, e.g.: the restaurant 'jalisco' in Dallas was associated with \"Ciudad de Mexico\" instead of the region Jalisco. Additionally, it is not clear if **all** restaurants in each city are included in this data, or only restaurants that failed the inspection. In a similar vein, some cities had data that had too low of a quality to be useful (LA). Another problem with this project is deciding when a \"match\" is legitimate. For example, \"Pueblito\" (\"little town\") appeared often and is a town in Queretáro, but do these restaurants refer to the former or the latter? This was decided on an ad hoc basis and was founded solely on my (non-native) discretion. Lastly, the obvious issue of immediate representation being a marker of the true number of people from a certain region is certainly flawed. Just because there are say, a lot of Italian restaurants in a certain area, does not necessarily mean that there are many italian (recent) immigrants to that area. The popularity of food from certain regions may skew the data. "
   ]
  },
  {
   "cell_type": "markdown",
   "metadata": {},
   "source": [
    "Anecdotally, it appears that chain migration happens at a micro level. \"Tulcingo\" appears 5 times in the NYC data despite the fact that the town that it refers to in Mexico, Tulcingo del Valle, has only 9,000 people living in it (source: https://es.wikipedia.org/wiki/Municipio_de_Tulcingo)! "
   ]
  }
 ],
 "metadata": {
  "kernelspec": {
   "display_name": "Python [conda env:learn-env] *",
   "language": "python",
   "name": "conda-env-learn-env-py"
  },
  "language_info": {
   "codemirror_mode": {
    "name": "ipython",
    "version": 3
   },
   "file_extension": ".py",
   "mimetype": "text/x-python",
   "name": "python",
   "nbconvert_exporter": "python",
   "pygments_lexer": "ipython3",
   "version": "3.6.9"
  },
  "toc": {
   "base_numbering": 1,
   "nav_menu": {},
   "number_sections": true,
   "sideBar": true,
   "skip_h1_title": false,
   "title_cell": "Table of Contents",
   "title_sidebar": "Contents",
   "toc_cell": false,
   "toc_position": {
    "height": "calc(100% - 180px)",
    "left": "10px",
    "top": "150px",
    "width": "330.1875px"
   },
   "toc_section_display": true,
   "toc_window_display": true
  },
  "varInspector": {
   "cols": {
    "lenName": 16,
    "lenType": 16,
    "lenVar": 40
   },
   "kernels_config": {
    "python": {
     "delete_cmd_postfix": "",
     "delete_cmd_prefix": "del ",
     "library": "var_list.py",
     "varRefreshCmd": "print(var_dic_list())"
    },
    "r": {
     "delete_cmd_postfix": ") ",
     "delete_cmd_prefix": "rm(",
     "library": "var_list.r",
     "varRefreshCmd": "cat(var_dic_list()) "
    }
   },
   "types_to_exclude": [
    "module",
    "function",
    "builtin_function_or_method",
    "instance",
    "_Feature"
   ],
   "window_display": false
  }
 },
 "nbformat": 4,
 "nbformat_minor": 2
}
