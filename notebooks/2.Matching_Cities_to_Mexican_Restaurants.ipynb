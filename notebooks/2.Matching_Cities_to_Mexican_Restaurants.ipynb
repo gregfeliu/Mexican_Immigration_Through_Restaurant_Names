{
 "cells": [
  {
   "cell_type": "code",
   "execution_count": 1,
   "metadata": {
    "ExecuteTime": {
     "end_time": "2021-03-02T15:06:05.678595Z",
     "start_time": "2021-03-02T15:06:05.675534Z"
    }
   },
   "outputs": [],
   "source": [
    "\n",
    "# ^^^ pyforest auto-imports - don't write above this line\n"
   ]
  },
  {
   "cell_type": "markdown",
   "metadata": {},
   "source": [
    "# Imports"
   ]
  },
  {
   "cell_type": "markdown",
   "metadata": {},
   "source": [
    "## Libraries"
   ]
  },
  {
   "cell_type": "code",
   "execution_count": 2,
   "metadata": {
    "ExecuteTime": {
     "end_time": "2021-03-02T15:06:06.216633Z",
     "start_time": "2021-03-02T15:06:05.681912Z"
    }
   },
   "outputs": [],
   "source": [
    "import unidecode\n",
    "import wikipedia\n",
    "import warnings\n",
    "warnings.filterwarnings('ignore')\n",
    "from functions import *\n",
    "import pickle\n",
    "import pandas as pd"
   ]
  },
  {
   "cell_type": "markdown",
   "metadata": {},
   "source": [
    "## Demonym Dictionary"
   ]
  },
  {
   "cell_type": "code",
   "execution_count": 3,
   "metadata": {
    "ExecuteTime": {
     "end_time": "2021-03-02T15:06:06.224608Z",
     "start_time": "2021-03-02T15:06:06.219065Z"
    }
   },
   "outputs": [],
   "source": [
    "with open(\"../my_saved_data/demonym_dictionary.pickle\", \"rb+\") as f:\n",
    "    demonym_dictionary = pickle.load(f)"
   ]
  },
  {
   "cell_type": "markdown",
   "metadata": {},
   "source": [
    "# Adding City (Restaurant Inspection) Data\n",
    "cities with most mexican immigrants in us: https://247wallst.com/economy/2017/01/27/us-cities-with-the-most-mexican-immigrants/"
   ]
  },
  {
   "cell_type": "markdown",
   "metadata": {},
   "source": [
    "## NYC"
   ]
  },
  {
   "cell_type": "code",
   "execution_count": 4,
   "metadata": {
    "ExecuteTime": {
     "end_time": "2021-03-02T15:06:08.559273Z",
     "start_time": "2021-03-02T15:06:06.226954Z"
    }
   },
   "outputs": [],
   "source": [
    "rest_insp = pd.read_csv(\"../food_inspections_data/DOHMH_New_York_City_Restaurant_Inspection_Results.csv\")\n",
    "mex_rest_insp = rest_insp[rest_insp['CUISINE DESCRIPTION'] == 'Mexican']"
   ]
  },
  {
   "cell_type": "markdown",
   "metadata": {},
   "source": [
    "### Removing duplicate restaurants from nyc mexican restaurants df"
   ]
  },
  {
   "cell_type": "code",
   "execution_count": 5,
   "metadata": {
    "ExecuteTime": {
     "end_time": "2021-03-02T15:06:08.576389Z",
     "start_time": "2021-03-02T15:06:08.561281Z"
    }
   },
   "outputs": [
    {
     "data": {
      "text/plain": [
       "(849, 26)"
      ]
     },
     "execution_count": 5,
     "metadata": {},
     "output_type": "execute_result"
    }
   ],
   "source": [
    "unique_nyc_mex = mex_rest_insp.drop_duplicates(subset=['DBA'], keep='first')\n",
    "unique_nyc_mex.reset_index(inplace=True, drop=True)\n",
    "unique_nyc_mex.shape"
   ]
  },
  {
   "cell_type": "code",
   "execution_count": 6,
   "metadata": {
    "ExecuteTime": {
     "end_time": "2021-03-02T15:06:08.580984Z",
     "start_time": "2021-03-02T15:06:08.578170Z"
    }
   },
   "outputs": [],
   "source": [
    "# list of restaurant names to compare to values in demonym_dictionary\n",
    "nyc_rest_insp_names = [x.lower() for x in unique_nyc_mex['DBA']]"
   ]
  },
  {
   "cell_type": "markdown",
   "metadata": {},
   "source": [
    "### Getting matches "
   ]
  },
  {
   "cell_type": "code",
   "execution_count": 7,
   "metadata": {
    "ExecuteTime": {
     "end_time": "2021-03-02T15:06:09.893013Z",
     "start_time": "2021-03-02T15:06:08.582662Z"
    },
    "scrolled": true
   },
   "outputs": [],
   "source": [
    "rest_matches_nyc = find_matches(nyc_rest_insp_names, demonym_dictionary)"
   ]
  },
  {
   "cell_type": "code",
   "execution_count": 8,
   "metadata": {
    "ExecuteTime": {
     "end_time": "2021-03-02T15:06:09.899400Z",
     "start_time": "2021-03-02T15:06:09.895095Z"
    }
   },
   "outputs": [
    {
     "data": {
      "text/plain": [
       "188"
      ]
     },
     "execution_count": 8,
     "metadata": {},
     "output_type": "execute_result"
    }
   ],
   "source": [
    "len(rest_matches_nyc)"
   ]
  },
  {
   "cell_type": "code",
   "execution_count": 9,
   "metadata": {
    "ExecuteTime": {
     "end_time": "2021-03-02T15:06:09.905763Z",
     "start_time": "2021-03-02T15:06:09.901705Z"
    }
   },
   "outputs": [
    {
     "data": {
      "text/plain": [
       "88"
      ]
     },
     "execution_count": 9,
     "metadata": {},
     "output_type": "execute_result"
    }
   ],
   "source": [
    "unique_rest_matches_nyc = list(set(rest_matches_nyc))\n",
    "# was 44 before additions to demonym dict ... was 169 before word corrections\n",
    "len(unique_rest_matches_nyc)"
   ]
  },
  {
   "cell_type": "code",
   "execution_count": 10,
   "metadata": {
    "ExecuteTime": {
     "end_time": "2021-03-02T15:06:10.022720Z",
     "start_time": "2021-03-02T15:06:09.907461Z"
    }
   },
   "outputs": [],
   "source": [
    "nyc_rest_w_region_matches = find_regions_for_restaurants(rest_matches_nyc, demonym_dictionary)"
   ]
  },
  {
   "cell_type": "code",
   "execution_count": 47,
   "metadata": {
    "ExecuteTime": {
     "end_time": "2021-03-02T16:09:31.317637Z",
     "start_time": "2021-03-02T16:09:31.307673Z"
    }
   },
   "outputs": [],
   "source": [
    "# add to big df\n",
    "final_df_nyc = add_city_to_all_cities_dict(nyc_rest_w_region_matches, \"NYC\")"
   ]
  },
  {
   "cell_type": "markdown",
   "metadata": {
    "ExecuteTime": {
     "end_time": "2021-03-01T18:40:00.593561Z",
     "start_time": "2021-03-01T18:40:00.590624Z"
    }
   },
   "source": [
    "## Chicago "
   ]
  },
  {
   "cell_type": "code",
   "execution_count": 14,
   "metadata": {
    "ExecuteTime": {
     "end_time": "2021-03-02T15:09:51.372376Z",
     "start_time": "2021-03-02T15:09:49.036482Z"
    }
   },
   "outputs": [
    {
     "data": {
      "text/plain": [
       "(206916, 17)"
      ]
     },
     "execution_count": 14,
     "metadata": {},
     "output_type": "execute_result"
    }
   ],
   "source": [
    "chi_data = pd.read_csv(\"../food_inspections_data/Food_Inspections_chicago.csv\", )\n",
    "chi_data.shape"
   ]
  },
  {
   "cell_type": "code",
   "execution_count": 15,
   "metadata": {
    "ExecuteTime": {
     "end_time": "2021-03-02T15:09:51.419273Z",
     "start_time": "2021-03-02T15:09:51.375255Z"
    }
   },
   "outputs": [
    {
     "data": {
      "text/plain": [
       "(142995, 17)"
      ]
     },
     "execution_count": 15,
     "metadata": {},
     "output_type": "execute_result"
    }
   ],
   "source": [
    "chi_rest_deli = chi_data[chi_data['Facility Type'].isin(['Restaurant', 'DELI/GROCERY', \n",
    "                                                        'Mobile Food Preparer', 'Bakery',\n",
    "                                                        'Tavern', 'Tavern/Bar', 'Mobile Frozen Desserts Vendor',\n",
    "                                                        'Mobile Food Dispenser', 'JUICE BAR/GROCERY',\n",
    "                                                        'GROCERY STORE /PHARMACY', 'COMMISARY RESTAURANT',\n",
    "                                                        'GROCERY/DELI', 'FOOD BOOTH', 'RESTAURANT/BAR',\n",
    "                                                        'MOBILE DESSERTS VENDOR', 'GROCERY(GAS STATION)',\n",
    "                                                        'CANDY/GELATO', 'COFFEE SHOP',\n",
    "                                                        'Grocery & Restaurant', 'CANDY/GELATO', 'GROCERY STORE/BAKERY'\n",
    "                                                        'GROCERY/RESTAURANT', 'CANDY SHOP', 'REST/GROCERY',\n",
    "                                                        'cafeteria', 'DINING HALL', 'Deli', 'DELI/GROCERY STORE',\n",
    "                                                        'GROCERY& RESTAURANT', 'Theater & Restaurant',\n",
    "                                                        'RESTAURANT/GROCERY STORE', 'Banquet/kitchen',\n",
    "                                                        'CONVENIENCE', 'Cafeteria', 'MOBILE FROZEN DESSERT VENDOR', \n",
    "                                                         'SLAUGHTER HOUSE/ GROCERY','MOBILE FOOD TRUCK',\n",
    "                                                        'Mobile frozen dessert vendor', 'convenience/drug store',\n",
    "                                                         'MOBILE FOOD DESSERTS VENDOR', 'RESTAURANT/HOSPITAL',\n",
    "                                                         'MOBILE FROZEN DESSERTS VENDOR', 'RESTAURANT/BAKERY',\n",
    "                                                        'CAFETERIA', 'BAR/GRILL', 'PALETERIA', 'GROCERY AND BUTCHER',\n",
    "                                                        'TAVERN GRILL', 'GAS STATION /GROCERY',\n",
    "                                                        'GROCERY/TAQUERIA', 'grocery & restaurant', \n",
    "                                                        'BAKERY/DELI', 'GROCERY/CAFE', 'TENT RSTAURANT', \n",
    "                                                        'RESTAURANT/LIQUOR', 'GROCERY & RESTAURANT', 'tavern/restaurant',\n",
    "                                                        'DELI/BAKERY', 'GROCERY/BAKERY', 'RESTAURANT/BAR/THEATER',\n",
    "                                                        'RESTAURANT AND LIQUOR', 'GROCERY STORE/ RESTAURANT', \n",
    "                                                        'BAKERY/GROCERY', 'TAVERN/RESTAURANT', 'GROCERY STORE/DELI', \n",
    "                                                        'BAKERY/ RESTAURANT', 'bakery/restaurant', ])]\n",
    "chi_rest_deli.shape"
   ]
  },
  {
   "cell_type": "markdown",
   "metadata": {},
   "source": [
    "### Getting Names of restaurants"
   ]
  },
  {
   "cell_type": "code",
   "execution_count": 16,
   "metadata": {
    "ExecuteTime": {
     "end_time": "2021-03-02T15:09:51.472779Z",
     "start_time": "2021-03-02T15:09:51.421589Z"
    }
   },
   "outputs": [
    {
     "name": "stdout",
     "output_type": "stream",
     "text": [
      "False\n"
     ]
    },
    {
     "data": {
      "text/plain": [
       "142995"
      ]
     },
     "execution_count": 16,
     "metadata": {},
     "output_type": "execute_result"
    }
   ],
   "source": [
    "print(chi_rest_deli['DBA Name'].isnull().values.any())\n",
    "\n",
    "chi_biz_names = [x.lower() for x in chi_rest_deli['DBA Name']]\n",
    "len(chi_biz_names)"
   ]
  },
  {
   "cell_type": "code",
   "execution_count": 17,
   "metadata": {
    "ExecuteTime": {
     "end_time": "2021-03-02T15:09:51.494146Z",
     "start_time": "2021-03-02T15:09:51.474937Z"
    }
   },
   "outputs": [
    {
     "data": {
      "text/plain": [
       "15166"
      ]
     },
     "execution_count": 17,
     "metadata": {},
     "output_type": "execute_result"
    }
   ],
   "source": [
    "unique_chi_biz_names = list(set(chi_biz_names))\n",
    "len(unique_chi_biz_names)"
   ]
  },
  {
   "cell_type": "markdown",
   "metadata": {},
   "source": [
    "### Getting Matches with Dem Dict"
   ]
  },
  {
   "cell_type": "code",
   "execution_count": 18,
   "metadata": {
    "ExecuteTime": {
     "end_time": "2021-03-02T15:10:15.100419Z",
     "start_time": "2021-03-02T15:09:51.499631Z"
    }
   },
   "outputs": [
    {
     "data": {
      "text/plain": [
       "492"
      ]
     },
     "execution_count": 18,
     "metadata": {},
     "output_type": "execute_result"
    }
   ],
   "source": [
    "chi_match_list = find_matches(unique_chi_biz_names, demonym_dictionary)\n",
    "len(chi_match_list)"
   ]
  },
  {
   "cell_type": "code",
   "execution_count": 19,
   "metadata": {
    "ExecuteTime": {
     "end_time": "2021-03-02T15:10:15.107856Z",
     "start_time": "2021-03-02T15:10:15.104186Z"
    }
   },
   "outputs": [
    {
     "data": {
      "text/plain": [
       "284"
      ]
     },
     "execution_count": 19,
     "metadata": {},
     "output_type": "execute_result"
    }
   ],
   "source": [
    "unique_rest_matches_chi = list(set(chi_match_list))\n",
    "len(unique_rest_matches_chi)"
   ]
  },
  {
   "cell_type": "code",
   "execution_count": 20,
   "metadata": {
    "ExecuteTime": {
     "end_time": "2021-03-02T15:10:15.470987Z",
     "start_time": "2021-03-02T15:10:15.109865Z"
    }
   },
   "outputs": [],
   "source": [
    "chi_rest_w_region_matches = find_regions_for_restaurants(unique_rest_matches_chi, demonym_dictionary)"
   ]
  },
  {
   "cell_type": "code",
   "execution_count": 21,
   "metadata": {
    "ExecuteTime": {
     "end_time": "2021-03-02T15:10:15.476134Z",
     "start_time": "2021-03-02T15:10:15.472861Z"
    }
   },
   "outputs": [],
   "source": [
    "only_1_match_counter = 0\n",
    "for key, value in chi_rest_w_region_matches.items():\n",
    "    for key1, value1 in value.items():\n",
    "        if len(value1) == 1:\n",
    "            only_1_match_counter += 1"
   ]
  },
  {
   "cell_type": "code",
   "execution_count": 22,
   "metadata": {
    "ExecuteTime": {
     "end_time": "2021-03-02T15:10:15.481591Z",
     "start_time": "2021-03-02T15:10:15.478276Z"
    }
   },
   "outputs": [
    {
     "data": {
      "text/plain": [
       "211"
      ]
     },
     "execution_count": 22,
     "metadata": {},
     "output_type": "execute_result"
    }
   ],
   "source": [
    "only_1_match_counter"
   ]
  },
  {
   "cell_type": "code",
   "execution_count": 23,
   "metadata": {
    "ExecuteTime": {
     "end_time": "2021-03-02T15:10:15.487066Z",
     "start_time": "2021-03-02T15:10:15.483390Z"
    }
   },
   "outputs": [
    {
     "data": {
      "text/plain": [
       "284"
      ]
     },
     "execution_count": 23,
     "metadata": {},
     "output_type": "execute_result"
    }
   ],
   "source": [
    "len(list(chi_rest_w_region_matches.keys()))"
   ]
  },
  {
   "cell_type": "code",
   "execution_count": 48,
   "metadata": {
    "ExecuteTime": {
     "end_time": "2021-03-02T16:09:34.946167Z",
     "start_time": "2021-03-02T16:09:34.934409Z"
    },
    "scrolled": true
   },
   "outputs": [],
   "source": [
    "final_df_chi = add_city_to_all_cities_dict(chi_rest_w_region_matches, \"Chi\")"
   ]
  },
  {
   "cell_type": "markdown",
   "metadata": {},
   "source": [
    "## Dallas"
   ]
  },
  {
   "cell_type": "code",
   "execution_count": 25,
   "metadata": {
    "ExecuteTime": {
     "end_time": "2021-03-02T15:10:16.575799Z",
     "start_time": "2021-03-02T15:10:15.497887Z"
    }
   },
   "outputs": [
    {
     "data": {
      "text/plain": [
       "(45844, 114)"
      ]
     },
     "execution_count": 25,
     "metadata": {},
     "output_type": "execute_result"
    }
   ],
   "source": [
    "dallas_data = pd.read_csv(\"../food_inspections_data/Dallas_inspections_October_2016_to_Present_.csv\")\n",
    "dallas_data.shape"
   ]
  },
  {
   "cell_type": "markdown",
   "metadata": {},
   "source": [
    "### Only unique dallas restaurants"
   ]
  },
  {
   "cell_type": "code",
   "execution_count": 26,
   "metadata": {
    "ExecuteTime": {
     "end_time": "2021-03-02T15:10:16.603105Z",
     "start_time": "2021-03-02T15:10:16.577876Z"
    }
   },
   "outputs": [
    {
     "data": {
      "text/plain": [
       "(7474, 114)"
      ]
     },
     "execution_count": 26,
     "metadata": {},
     "output_type": "execute_result"
    }
   ],
   "source": [
    "unique_dallas_data = dallas_data.drop_duplicates(subset=['Restaurant Name'], keep='first')\n",
    "unique_dallas_data.shape"
   ]
  },
  {
   "cell_type": "markdown",
   "metadata": {},
   "source": [
    "### Removing columns from data"
   ]
  },
  {
   "cell_type": "code",
   "execution_count": 27,
   "metadata": {
    "ExecuteTime": {
     "end_time": "2021-03-02T15:10:16.608601Z",
     "start_time": "2021-03-02T15:10:16.605170Z"
    }
   },
   "outputs": [],
   "source": [
    "# most of the columns relate to inspections\n",
    "col_names = list(unique_dallas_data.columns)"
   ]
  },
  {
   "cell_type": "code",
   "execution_count": 28,
   "metadata": {
    "ExecuteTime": {
     "end_time": "2021-03-02T15:10:16.619201Z",
     "start_time": "2021-03-02T15:10:16.611322Z"
    }
   },
   "outputs": [],
   "source": [
    "col_names[-3:]\n",
    "unique_dallas_data.drop(columns = [x for x in col_names[11:-4]], inplace=True)"
   ]
  },
  {
   "cell_type": "code",
   "execution_count": 29,
   "metadata": {
    "ExecuteTime": {
     "end_time": "2021-03-02T15:10:16.625992Z",
     "start_time": "2021-03-02T15:10:16.620919Z"
    }
   },
   "outputs": [],
   "source": [
    "# drop nulls from restaurant names and get names \n",
    "dallas_rest_list = [x.lower() for x in unique_dallas_data['Restaurant Name'] if type(x) == str]"
   ]
  },
  {
   "cell_type": "code",
   "execution_count": 30,
   "metadata": {
    "ExecuteTime": {
     "end_time": "2021-03-02T15:10:16.631023Z",
     "start_time": "2021-03-02T15:10:16.627654Z"
    }
   },
   "outputs": [
    {
     "data": {
      "text/plain": [
       "7473"
      ]
     },
     "execution_count": 30,
     "metadata": {},
     "output_type": "execute_result"
    }
   ],
   "source": [
    "len(dallas_rest_list)"
   ]
  },
  {
   "cell_type": "markdown",
   "metadata": {},
   "source": [
    "### Getting matches to dem dict"
   ]
  },
  {
   "cell_type": "code",
   "execution_count": 31,
   "metadata": {
    "ExecuteTime": {
     "end_time": "2021-03-02T15:10:29.153690Z",
     "start_time": "2021-03-02T15:10:16.632644Z"
    }
   },
   "outputs": [
    {
     "data": {
      "text/plain": [
       "186"
      ]
     },
     "execution_count": 31,
     "metadata": {},
     "output_type": "execute_result"
    }
   ],
   "source": [
    "dal_match_list = find_matches(dallas_rest_list, demonym_dictionary)\n",
    "len(dal_match_list)"
   ]
  },
  {
   "cell_type": "code",
   "execution_count": 32,
   "metadata": {
    "ExecuteTime": {
     "end_time": "2021-03-02T15:10:29.159587Z",
     "start_time": "2021-03-02T15:10:29.155624Z"
    }
   },
   "outputs": [
    {
     "data": {
      "text/plain": [
       "117"
      ]
     },
     "execution_count": 32,
     "metadata": {},
     "output_type": "execute_result"
    }
   ],
   "source": [
    "unique_rest_matches_dal = list(set(dal_match_list))\n",
    "len(unique_rest_matches_dal)"
   ]
  },
  {
   "cell_type": "code",
   "execution_count": 33,
   "metadata": {
    "ExecuteTime": {
     "end_time": "2021-03-02T15:10:29.315736Z",
     "start_time": "2021-03-02T15:10:29.161613Z"
    }
   },
   "outputs": [],
   "source": [
    "dal_rest_w_region_matches = find_regions_for_restaurants(unique_rest_matches_dal, demonym_dictionary)"
   ]
  },
  {
   "cell_type": "code",
   "execution_count": 49,
   "metadata": {
    "ExecuteTime": {
     "end_time": "2021-03-02T16:09:38.208867Z",
     "start_time": "2021-03-02T16:09:38.197912Z"
    }
   },
   "outputs": [],
   "source": [
    "final_df_dal = add_city_to_all_cities_dict(dal_rest_w_region_matches, \"Dal\")"
   ]
  },
  {
   "cell_type": "markdown",
   "metadata": {},
   "source": [
    "## San Francisco "
   ]
  },
  {
   "cell_type": "code",
   "execution_count": 36,
   "metadata": {
    "ExecuteTime": {
     "end_time": "2021-03-02T15:10:29.584675Z",
     "start_time": "2021-03-02T15:10:29.341115Z"
    }
   },
   "outputs": [
    {
     "data": {
      "text/plain": [
       "(53973, 23)"
      ]
     },
     "execution_count": 36,
     "metadata": {},
     "output_type": "execute_result"
    }
   ],
   "source": [
    "sf_data = pd.read_csv(\"../food_inspections_data/san_fran_Restaurant_Scores_-_LIVES_Standard.csv\")\n",
    "sf_data.shape"
   ]
  },
  {
   "cell_type": "code",
   "execution_count": 37,
   "metadata": {
    "ExecuteTime": {
     "end_time": "2021-03-02T15:10:29.606820Z",
     "start_time": "2021-03-02T15:10:29.586532Z"
    }
   },
   "outputs": [
    {
     "data": {
      "text/html": [
       "<div>\n",
       "<style scoped>\n",
       "    .dataframe tbody tr th:only-of-type {\n",
       "        vertical-align: middle;\n",
       "    }\n",
       "\n",
       "    .dataframe tbody tr th {\n",
       "        vertical-align: top;\n",
       "    }\n",
       "\n",
       "    .dataframe thead th {\n",
       "        text-align: right;\n",
       "    }\n",
       "</style>\n",
       "<table border=\"1\" class=\"dataframe\">\n",
       "  <thead>\n",
       "    <tr style=\"text-align: right;\">\n",
       "      <th></th>\n",
       "      <th>business_id</th>\n",
       "      <th>business_name</th>\n",
       "      <th>business_address</th>\n",
       "      <th>business_city</th>\n",
       "      <th>business_state</th>\n",
       "      <th>business_postal_code</th>\n",
       "      <th>business_latitude</th>\n",
       "      <th>business_longitude</th>\n",
       "      <th>business_location</th>\n",
       "      <th>business_phone_number</th>\n",
       "      <th>...</th>\n",
       "      <th>inspection_type</th>\n",
       "      <th>violation_id</th>\n",
       "      <th>violation_description</th>\n",
       "      <th>risk_category</th>\n",
       "      <th>Neighborhoods (old)</th>\n",
       "      <th>Police Districts</th>\n",
       "      <th>Supervisor Districts</th>\n",
       "      <th>Fire Prevention Districts</th>\n",
       "      <th>Zip Codes</th>\n",
       "      <th>Analysis Neighborhoods</th>\n",
       "    </tr>\n",
       "  </thead>\n",
       "  <tbody>\n",
       "    <tr>\n",
       "      <th>0</th>\n",
       "      <td>69618</td>\n",
       "      <td>Fancy Wheatfield Bakery</td>\n",
       "      <td>1362 Stockton St</td>\n",
       "      <td>San Francisco</td>\n",
       "      <td>CA</td>\n",
       "      <td>94133</td>\n",
       "      <td>NaN</td>\n",
       "      <td>NaN</td>\n",
       "      <td>NaN</td>\n",
       "      <td>NaN</td>\n",
       "      <td>...</td>\n",
       "      <td>Complaint</td>\n",
       "      <td>69618_20190304_103130</td>\n",
       "      <td>Inadequate sewage or wastewater disposal</td>\n",
       "      <td>Moderate Risk</td>\n",
       "      <td>NaN</td>\n",
       "      <td>NaN</td>\n",
       "      <td>NaN</td>\n",
       "      <td>NaN</td>\n",
       "      <td>NaN</td>\n",
       "      <td>NaN</td>\n",
       "    </tr>\n",
       "    <tr>\n",
       "      <th>1</th>\n",
       "      <td>97975</td>\n",
       "      <td>BREADBELLY</td>\n",
       "      <td>1408 Clement St</td>\n",
       "      <td>San Francisco</td>\n",
       "      <td>CA</td>\n",
       "      <td>94118</td>\n",
       "      <td>NaN</td>\n",
       "      <td>NaN</td>\n",
       "      <td>NaN</td>\n",
       "      <td>1.415724e+10</td>\n",
       "      <td>...</td>\n",
       "      <td>Routine - Unscheduled</td>\n",
       "      <td>97975_20190725_103124</td>\n",
       "      <td>Inadequately cleaned or sanitized food contact...</td>\n",
       "      <td>Moderate Risk</td>\n",
       "      <td>NaN</td>\n",
       "      <td>NaN</td>\n",
       "      <td>NaN</td>\n",
       "      <td>NaN</td>\n",
       "      <td>NaN</td>\n",
       "      <td>NaN</td>\n",
       "    </tr>\n",
       "  </tbody>\n",
       "</table>\n",
       "<p>2 rows × 23 columns</p>\n",
       "</div>"
      ],
      "text/plain": [
       "   business_id            business_name  business_address  business_city  \\\n",
       "0        69618  Fancy Wheatfield Bakery  1362 Stockton St  San Francisco   \n",
       "1        97975               BREADBELLY   1408 Clement St  San Francisco   \n",
       "\n",
       "  business_state business_postal_code  business_latitude  business_longitude  \\\n",
       "0             CA                94133                NaN                 NaN   \n",
       "1             CA                94118                NaN                 NaN   \n",
       "\n",
       "  business_location  business_phone_number  ...        inspection_type  \\\n",
       "0               NaN                    NaN  ...              Complaint   \n",
       "1               NaN           1.415724e+10  ...  Routine - Unscheduled   \n",
       "\n",
       "            violation_id                              violation_description  \\\n",
       "0  69618_20190304_103130           Inadequate sewage or wastewater disposal   \n",
       "1  97975_20190725_103124  Inadequately cleaned or sanitized food contact...   \n",
       "\n",
       "   risk_category Neighborhoods (old) Police Districts Supervisor Districts  \\\n",
       "0  Moderate Risk                 NaN              NaN                  NaN   \n",
       "1  Moderate Risk                 NaN              NaN                  NaN   \n",
       "\n",
       "   Fire Prevention Districts  Zip Codes  Analysis Neighborhoods  \n",
       "0                        NaN        NaN                     NaN  \n",
       "1                        NaN        NaN                     NaN  \n",
       "\n",
       "[2 rows x 23 columns]"
      ]
     },
     "execution_count": 37,
     "metadata": {},
     "output_type": "execute_result"
    }
   ],
   "source": [
    "sf_data.head(2)"
   ]
  },
  {
   "cell_type": "code",
   "execution_count": 38,
   "metadata": {
    "ExecuteTime": {
     "end_time": "2021-03-02T15:10:29.622737Z",
     "start_time": "2021-03-02T15:10:29.609182Z"
    }
   },
   "outputs": [
    {
     "data": {
      "text/plain": [
       "(5775, 23)"
      ]
     },
     "execution_count": 38,
     "metadata": {},
     "output_type": "execute_result"
    }
   ],
   "source": [
    "sf_data_unique = sf_data.drop_duplicates(subset=['business_name'], keep='first')\n",
    "sf_data_unique.shape"
   ]
  },
  {
   "cell_type": "code",
   "execution_count": 39,
   "metadata": {
    "ExecuteTime": {
     "end_time": "2021-03-02T15:10:29.643357Z",
     "start_time": "2021-03-02T15:10:29.624505Z"
    }
   },
   "outputs": [
    {
     "data": {
      "text/plain": [
       "5672"
      ]
     },
     "execution_count": 39,
     "metadata": {},
     "output_type": "execute_result"
    }
   ],
   "source": [
    "lower_biz_name = [x.lower() for x in sf_data['business_name']]\n",
    "# this is slightly smaller than the set of unique business names without lowering all of the characters (by 1000)\n",
    "unique_sf_biz_names = list(set(lower_biz_name))\n",
    "len(set(unique_sf_biz_names)) "
   ]
  },
  {
   "cell_type": "markdown",
   "metadata": {},
   "source": [
    "### Getting Names of Restaurants"
   ]
  },
  {
   "cell_type": "code",
   "execution_count": 40,
   "metadata": {
    "ExecuteTime": {
     "end_time": "2021-03-02T15:10:38.117237Z",
     "start_time": "2021-03-02T15:10:29.645131Z"
    }
   },
   "outputs": [
    {
     "data": {
      "text/plain": [
       "45"
      ]
     },
     "execution_count": 40,
     "metadata": {},
     "output_type": "execute_result"
    }
   ],
   "source": [
    "sf_match_list = find_matches(unique_sf_biz_names, demonym_dictionary)\n",
    "len(sf_match_list)"
   ]
  },
  {
   "cell_type": "code",
   "execution_count": 41,
   "metadata": {
    "ExecuteTime": {
     "end_time": "2021-03-02T15:10:38.122774Z",
     "start_time": "2021-03-02T15:10:38.119167Z"
    }
   },
   "outputs": [
    {
     "data": {
      "text/plain": [
       "17"
      ]
     },
     "execution_count": 41,
     "metadata": {},
     "output_type": "execute_result"
    }
   ],
   "source": [
    "unique_rest_matches_sf = list(set(sf_match_list))\n",
    "len(unique_rest_matches_sf)"
   ]
  },
  {
   "cell_type": "code",
   "execution_count": 42,
   "metadata": {
    "ExecuteTime": {
     "end_time": "2021-03-02T15:10:38.146207Z",
     "start_time": "2021-03-02T15:10:38.124484Z"
    }
   },
   "outputs": [],
   "source": [
    "sf_rest_w_region_matches = find_regions_for_restaurants(unique_rest_matches_sf, demonym_dictionary)"
   ]
  },
  {
   "cell_type": "code",
   "execution_count": 50,
   "metadata": {
    "ExecuteTime": {
     "end_time": "2021-03-02T16:09:43.274033Z",
     "start_time": "2021-03-02T16:09:43.263474Z"
    }
   },
   "outputs": [],
   "source": [
    "final_df_sf = add_city_to_all_cities_dict(sf_rest_w_region_matches, \"SF\")"
   ]
  },
  {
   "cell_type": "markdown",
   "metadata": {},
   "source": [
    "# Combining All Restaurant Matches into One df"
   ]
  },
  {
   "cell_type": "code",
   "execution_count": 51,
   "metadata": {
    "ExecuteTime": {
     "end_time": "2021-03-02T16:09:44.242348Z",
     "start_time": "2021-03-02T16:09:44.233990Z"
    }
   },
   "outputs": [],
   "source": [
    "# city_df_columns = ['Restaurant', 'City', 'Matched_word', 'Region', 'Multiple_regions_flag', \"Final_region\"]\n",
    "final_df = pd.concat([final_df_nyc, final_df_chi, final_df_dal, final_df_sf])"
   ]
  },
  {
   "cell_type": "markdown",
   "metadata": {},
   "source": [
    "## Saving All Restaurants with their Matches"
   ]
  },
  {
   "cell_type": "code",
   "execution_count": 52,
   "metadata": {
    "ExecuteTime": {
     "end_time": "2021-03-02T16:09:44.884023Z",
     "start_time": "2021-03-02T16:09:44.872499Z"
    }
   },
   "outputs": [],
   "source": [
    "final_df.to_csv(\"../my_saved_data/All_restaurant_matches_df.csv\")"
   ]
  }
 ],
 "metadata": {
  "kernelspec": {
   "display_name": "Python [conda env:learn-env] *",
   "language": "python",
   "name": "conda-env-learn-env-py"
  },
  "language_info": {
   "codemirror_mode": {
    "name": "ipython",
    "version": 3
   },
   "file_extension": ".py",
   "mimetype": "text/x-python",
   "name": "python",
   "nbconvert_exporter": "python",
   "pygments_lexer": "ipython3",
   "version": "3.6.9"
  },
  "toc": {
   "base_numbering": 1,
   "nav_menu": {},
   "number_sections": true,
   "sideBar": true,
   "skip_h1_title": false,
   "title_cell": "Table of Contents",
   "title_sidebar": "Contents",
   "toc_cell": false,
   "toc_position": {
    "height": "calc(100% - 180px)",
    "left": "10px",
    "top": "150px",
    "width": "330.1875px"
   },
   "toc_section_display": true,
   "toc_window_display": true
  },
  "varInspector": {
   "cols": {
    "lenName": 16,
    "lenType": 16,
    "lenVar": 40
   },
   "kernels_config": {
    "python": {
     "delete_cmd_postfix": "",
     "delete_cmd_prefix": "del ",
     "library": "var_list.py",
     "varRefreshCmd": "print(var_dic_list())"
    },
    "r": {
     "delete_cmd_postfix": ") ",
     "delete_cmd_prefix": "rm(",
     "library": "var_list.r",
     "varRefreshCmd": "cat(var_dic_list()) "
    }
   },
   "types_to_exclude": [
    "module",
    "function",
    "builtin_function_or_method",
    "instance",
    "_Feature"
   ],
   "window_display": false
  }
 },
 "nbformat": 4,
 "nbformat_minor": 2
}
