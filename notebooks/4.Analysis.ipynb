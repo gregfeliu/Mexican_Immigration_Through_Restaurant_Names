{
 "cells": [
  {
   "cell_type": "markdown",
   "metadata": {},
   "source": [
    "import matplotlib.pyplot as plt\n",
    "# ^^^ pyforest auto-imports - don't write above this line\n",
    "# Imports"
   ]
  },
  {
   "cell_type": "markdown",
   "metadata": {},
   "source": [
    "## Libraries"
   ]
  },
  {
   "cell_type": "code",
   "execution_count": 1,
   "metadata": {
    "ExecuteTime": {
     "end_time": "2021-03-04T23:03:55.674047Z",
     "start_time": "2021-03-04T23:03:54.936644Z"
    },
    "scrolled": true
   },
   "outputs": [],
   "source": [
    "import random\n",
    "import warnings\n",
    "warnings.filterwarnings('ignore')\n",
    "from functions import *\n",
    "import seaborn as sns"
   ]
  },
  {
   "cell_type": "markdown",
   "metadata": {},
   "source": [
    "## Data"
   ]
  },
  {
   "cell_type": "code",
   "execution_count": 2,
   "metadata": {
    "ExecuteTime": {
     "end_time": "2021-03-04T23:03:55.687784Z",
     "start_time": "2021-03-04T23:03:55.678439Z"
    }
   },
   "outputs": [],
   "source": [
    "original_df = pd.read_csv(\"../my_saved_data/all_correct_restaurants.csv\", index_col=0)\n",
    "# original_df.shape"
   ]
  },
  {
   "cell_type": "code",
   "execution_count": 3,
   "metadata": {
    "ExecuteTime": {
     "end_time": "2021-03-04T23:03:55.698340Z",
     "start_time": "2021-03-04T23:03:55.691495Z"
    }
   },
   "outputs": [],
   "source": [
    "rest_df = pd.read_csv(\"../my_saved_data/all_correct_restaurants_and_regions.csv\", index_col=0)\n",
    "# 282 more restaurants in this version than last one! \n",
    "# rest_df.shape[0]"
   ]
  },
  {
   "cell_type": "code",
   "execution_count": 4,
   "metadata": {
    "ExecuteTime": {
     "end_time": "2021-03-04T23:03:55.706122Z",
     "start_time": "2021-03-04T23:03:55.700235Z"
    }
   },
   "outputs": [],
   "source": [
    "with open(\"../my_saved_data/demonym_dictionary.pickle\", \"rb+\") as f:\n",
    "    demonym_dict = pickle.load(f)"
   ]
  },
  {
   "cell_type": "markdown",
   "metadata": {},
   "source": [
    "### Checking differences between the original data set and the new data set \n",
    "(March 2)"
   ]
  },
  {
   "cell_type": "code",
   "execution_count": 5,
   "metadata": {
    "ExecuteTime": {
     "end_time": "2021-03-04T23:03:55.711829Z",
     "start_time": "2021-03-04T23:03:55.708281Z"
    }
   },
   "outputs": [
    {
     "name": "stdout",
     "output_type": "stream",
     "text": [
      "The original dataset had 282 fewer matches than this one\n"
     ]
    }
   ],
   "source": [
    "# how many restaurants in total \n",
    "print(f\"The original dataset had {rest_df.shape[0] - original_df.shape[0]} fewer matches than this one\")"
   ]
  },
  {
   "cell_type": "code",
   "execution_count": 6,
   "metadata": {
    "ExecuteTime": {
     "end_time": "2021-03-04T23:03:55.723034Z",
     "start_time": "2021-03-04T23:03:55.714246Z"
    }
   },
   "outputs": [],
   "source": [
    "original_dataset_groupby = original_df.groupby(\"City\").count()\n",
    "rest_df_groupby = rest_df.groupby(\"City\").count()"
   ]
  },
  {
   "cell_type": "code",
   "execution_count": 7,
   "metadata": {
    "ExecuteTime": {
     "end_time": "2021-03-04T23:03:55.729614Z",
     "start_time": "2021-03-04T23:03:55.726649Z"
    },
    "scrolled": true
   },
   "outputs": [],
   "source": [
    "original_df_values = original_dataset_groupby['Match'].values\n",
    "rest_df_values = rest_df_groupby['Restaurant'].values"
   ]
  },
  {
   "cell_type": "code",
   "execution_count": 8,
   "metadata": {
    "ExecuteTime": {
     "end_time": "2021-03-04T23:03:55.736757Z",
     "start_time": "2021-03-04T23:03:55.732346Z"
    }
   },
   "outputs": [
    {
     "name": "stdout",
     "output_type": "stream",
     "text": [
      "Chicago had 253 more values (5060.0%) in the new iteration of this project than the old one.\n",
      "Dallas had 16 more values (16.0%) in the new iteration of this project than the old one.\n",
      "NYC had 11 more values (16.0%) in the new iteration of this project than the old one.\n",
      "SF had 2 more values (15.0%) in the new iteration of this project than the old one.\n"
     ]
    }
   ],
   "source": [
    "value_differences = rest_df_values - original_df_values\n",
    "for idx, item in enumerate(value_differences):\n",
    "    print(f\"{original_dataset_groupby.index[idx]} had {item} more values ({round(item / original_df_values[idx], 2) * 100}%) in the new iteration of this project than the old one.\")"
   ]
  },
  {
   "cell_type": "markdown",
   "metadata": {},
   "source": [
    "### Visualizing the difference in the number of restaurants found for each city"
   ]
  },
  {
   "cell_type": "code",
   "execution_count": 9,
   "metadata": {
    "ExecuteTime": {
     "end_time": "2021-03-04T23:03:55.746453Z",
     "start_time": "2021-03-04T23:03:55.740136Z"
    }
   },
   "outputs": [
    {
     "data": {
      "text/plain": [
       "array([ 5, 97, 69, 13])"
      ]
     },
     "execution_count": 9,
     "metadata": {},
     "output_type": "execute_result"
    }
   ],
   "source": [
    "original_df_values"
   ]
  },
  {
   "cell_type": "code",
   "execution_count": 10,
   "metadata": {
    "ExecuteTime": {
     "end_time": "2021-03-04T23:03:55.762571Z",
     "start_time": "2021-03-04T23:03:55.748720Z"
    }
   },
   "outputs": [
    {
     "data": {
      "text/html": [
       "<div>\n",
       "<style scoped>\n",
       "    .dataframe tbody tr th:only-of-type {\n",
       "        vertical-align: middle;\n",
       "    }\n",
       "\n",
       "    .dataframe tbody tr th {\n",
       "        vertical-align: top;\n",
       "    }\n",
       "\n",
       "    .dataframe thead th {\n",
       "        text-align: right;\n",
       "    }\n",
       "</style>\n",
       "<table border=\"1\" class=\"dataframe\">\n",
       "  <thead>\n",
       "    <tr style=\"text-align: right;\">\n",
       "      <th></th>\n",
       "      <th>Restaurant</th>\n",
       "      <th>Matched_word</th>\n",
       "      <th>Final_region</th>\n",
       "    </tr>\n",
       "    <tr>\n",
       "      <th>City</th>\n",
       "      <th></th>\n",
       "      <th></th>\n",
       "      <th></th>\n",
       "    </tr>\n",
       "  </thead>\n",
       "  <tbody>\n",
       "    <tr>\n",
       "      <th>Chi</th>\n",
       "      <td>258</td>\n",
       "      <td>258</td>\n",
       "      <td>258</td>\n",
       "    </tr>\n",
       "    <tr>\n",
       "      <th>Dal</th>\n",
       "      <td>113</td>\n",
       "      <td>113</td>\n",
       "      <td>113</td>\n",
       "    </tr>\n",
       "    <tr>\n",
       "      <th>NYC</th>\n",
       "      <td>80</td>\n",
       "      <td>80</td>\n",
       "      <td>80</td>\n",
       "    </tr>\n",
       "    <tr>\n",
       "      <th>SF</th>\n",
       "      <td>15</td>\n",
       "      <td>15</td>\n",
       "      <td>15</td>\n",
       "    </tr>\n",
       "  </tbody>\n",
       "</table>\n",
       "</div>"
      ],
      "text/plain": [
       "      Restaurant  Matched_word  Final_region\n",
       "City                                        \n",
       "Chi          258           258           258\n",
       "Dal          113           113           113\n",
       "NYC           80            80            80\n",
       "SF            15            15            15"
      ]
     },
     "execution_count": 10,
     "metadata": {},
     "output_type": "execute_result"
    }
   ],
   "source": [
    "rest_df_groupby"
   ]
  },
  {
   "cell_type": "code",
   "execution_count": 11,
   "metadata": {
    "ExecuteTime": {
     "end_time": "2021-03-04T23:03:55.768521Z",
     "start_time": "2021-03-04T23:03:55.765585Z"
    }
   },
   "outputs": [],
   "source": [
    "names_of_rest_list = list(rest_df_groupby.index)\n",
    "# rest_df_groupby.keys()"
   ]
  },
  {
   "cell_type": "code",
   "execution_count": 12,
   "metadata": {
    "ExecuteTime": {
     "end_time": "2021-03-04T23:03:55.775265Z",
     "start_time": "2021-03-04T23:03:55.771545Z"
    }
   },
   "outputs": [],
   "source": [
    "count_of_restaurants_combined = list(zip(names_of_rest_list, original_df_values, rest_df_values))"
   ]
  },
  {
   "cell_type": "code",
   "execution_count": 13,
   "metadata": {
    "ExecuteTime": {
     "end_time": "2021-03-04T23:03:55.784304Z",
     "start_time": "2021-03-04T23:03:55.778026Z"
    }
   },
   "outputs": [
    {
     "data": {
      "text/plain": [
       "[('Chi', 5, 258), ('Dal', 97, 113), ('NYC', 69, 80), ('SF', 13, 15)]"
      ]
     },
     "execution_count": 13,
     "metadata": {},
     "output_type": "execute_result"
    }
   ],
   "source": [
    "count_of_restaurants_combined"
   ]
  },
  {
   "cell_type": "code",
   "execution_count": 14,
   "metadata": {
    "ExecuteTime": {
     "end_time": "2021-03-04T23:03:55.792603Z",
     "start_time": "2021-03-04T23:03:55.787293Z"
    }
   },
   "outputs": [],
   "source": [
    "count_of_both_restaurants_df = pd.DataFrame(data = count_of_restaurants_combined,\n",
    "                                           columns = ['City','First_version', 'Second_version'])"
   ]
  },
  {
   "cell_type": "code",
   "execution_count": 15,
   "metadata": {
    "ExecuteTime": {
     "end_time": "2021-03-04T23:03:55.805510Z",
     "start_time": "2021-03-04T23:03:55.796397Z"
    }
   },
   "outputs": [
    {
     "data": {
      "text/html": [
       "<div>\n",
       "<style scoped>\n",
       "    .dataframe tbody tr th:only-of-type {\n",
       "        vertical-align: middle;\n",
       "    }\n",
       "\n",
       "    .dataframe tbody tr th {\n",
       "        vertical-align: top;\n",
       "    }\n",
       "\n",
       "    .dataframe thead th {\n",
       "        text-align: right;\n",
       "    }\n",
       "</style>\n",
       "<table border=\"1\" class=\"dataframe\">\n",
       "  <thead>\n",
       "    <tr style=\"text-align: right;\">\n",
       "      <th></th>\n",
       "      <th>City</th>\n",
       "      <th>First_version</th>\n",
       "      <th>Second_version</th>\n",
       "    </tr>\n",
       "  </thead>\n",
       "  <tbody>\n",
       "    <tr>\n",
       "      <th>0</th>\n",
       "      <td>Chi</td>\n",
       "      <td>5</td>\n",
       "      <td>258</td>\n",
       "    </tr>\n",
       "    <tr>\n",
       "      <th>1</th>\n",
       "      <td>Dal</td>\n",
       "      <td>97</td>\n",
       "      <td>113</td>\n",
       "    </tr>\n",
       "    <tr>\n",
       "      <th>2</th>\n",
       "      <td>NYC</td>\n",
       "      <td>69</td>\n",
       "      <td>80</td>\n",
       "    </tr>\n",
       "    <tr>\n",
       "      <th>3</th>\n",
       "      <td>SF</td>\n",
       "      <td>13</td>\n",
       "      <td>15</td>\n",
       "    </tr>\n",
       "  </tbody>\n",
       "</table>\n",
       "</div>"
      ],
      "text/plain": [
       "  City  First_version  Second_version\n",
       "0  Chi              5             258\n",
       "1  Dal             97             113\n",
       "2  NYC             69              80\n",
       "3   SF             13              15"
      ]
     },
     "execution_count": 15,
     "metadata": {},
     "output_type": "execute_result"
    }
   ],
   "source": [
    "count_of_both_restaurants_df"
   ]
  },
  {
   "cell_type": "code",
   "execution_count": 16,
   "metadata": {
    "ExecuteTime": {
     "end_time": "2021-03-04T23:03:55.816883Z",
     "start_time": "2021-03-04T23:03:55.808828Z"
    }
   },
   "outputs": [],
   "source": [
    "melted_count_of_both_restaurants_df = count_of_both_restaurants_df.melt(id_vars = ['City'],\n",
    "                                                                       var_name = 'Version')"
   ]
  },
  {
   "cell_type": "code",
   "execution_count": 17,
   "metadata": {
    "ExecuteTime": {
     "end_time": "2021-03-04T23:03:55.830148Z",
     "start_time": "2021-03-04T23:03:55.819611Z"
    }
   },
   "outputs": [
    {
     "data": {
      "text/html": [
       "<div>\n",
       "<style scoped>\n",
       "    .dataframe tbody tr th:only-of-type {\n",
       "        vertical-align: middle;\n",
       "    }\n",
       "\n",
       "    .dataframe tbody tr th {\n",
       "        vertical-align: top;\n",
       "    }\n",
       "\n",
       "    .dataframe thead th {\n",
       "        text-align: right;\n",
       "    }\n",
       "</style>\n",
       "<table border=\"1\" class=\"dataframe\">\n",
       "  <thead>\n",
       "    <tr style=\"text-align: right;\">\n",
       "      <th></th>\n",
       "      <th>City</th>\n",
       "      <th>Version</th>\n",
       "      <th>value</th>\n",
       "    </tr>\n",
       "  </thead>\n",
       "  <tbody>\n",
       "    <tr>\n",
       "      <th>0</th>\n",
       "      <td>Chi</td>\n",
       "      <td>First_version</td>\n",
       "      <td>5</td>\n",
       "    </tr>\n",
       "    <tr>\n",
       "      <th>1</th>\n",
       "      <td>Dal</td>\n",
       "      <td>First_version</td>\n",
       "      <td>97</td>\n",
       "    </tr>\n",
       "    <tr>\n",
       "      <th>2</th>\n",
       "      <td>NYC</td>\n",
       "      <td>First_version</td>\n",
       "      <td>69</td>\n",
       "    </tr>\n",
       "    <tr>\n",
       "      <th>3</th>\n",
       "      <td>SF</td>\n",
       "      <td>First_version</td>\n",
       "      <td>13</td>\n",
       "    </tr>\n",
       "    <tr>\n",
       "      <th>4</th>\n",
       "      <td>Chi</td>\n",
       "      <td>Second_version</td>\n",
       "      <td>258</td>\n",
       "    </tr>\n",
       "    <tr>\n",
       "      <th>5</th>\n",
       "      <td>Dal</td>\n",
       "      <td>Second_version</td>\n",
       "      <td>113</td>\n",
       "    </tr>\n",
       "    <tr>\n",
       "      <th>6</th>\n",
       "      <td>NYC</td>\n",
       "      <td>Second_version</td>\n",
       "      <td>80</td>\n",
       "    </tr>\n",
       "    <tr>\n",
       "      <th>7</th>\n",
       "      <td>SF</td>\n",
       "      <td>Second_version</td>\n",
       "      <td>15</td>\n",
       "    </tr>\n",
       "  </tbody>\n",
       "</table>\n",
       "</div>"
      ],
      "text/plain": [
       "  City         Version  value\n",
       "0  Chi   First_version      5\n",
       "1  Dal   First_version     97\n",
       "2  NYC   First_version     69\n",
       "3   SF   First_version     13\n",
       "4  Chi  Second_version    258\n",
       "5  Dal  Second_version    113\n",
       "6  NYC  Second_version     80\n",
       "7   SF  Second_version     15"
      ]
     },
     "execution_count": 17,
     "metadata": {},
     "output_type": "execute_result"
    }
   ],
   "source": [
    "melted_count_of_both_restaurants_df"
   ]
  },
  {
   "cell_type": "code",
   "execution_count": 18,
   "metadata": {
    "ExecuteTime": {
     "end_time": "2021-03-04T23:03:55.836113Z",
     "start_time": "2021-03-04T23:03:55.832822Z"
    }
   },
   "outputs": [],
   "source": [
    "# count_of_both_restaurants_df.pivot(index='City', columns='First_version')"
   ]
  },
  {
   "cell_type": "code",
   "execution_count": 19,
   "metadata": {
    "ExecuteTime": {
     "end_time": "2021-03-04T23:03:55.864466Z",
     "start_time": "2021-03-04T23:03:55.838697Z"
    }
   },
   "outputs": [
    {
     "data": {
      "text/html": [
       "<div>\n",
       "<style scoped>\n",
       "    .dataframe tbody tr th:only-of-type {\n",
       "        vertical-align: middle;\n",
       "    }\n",
       "\n",
       "    .dataframe tbody tr th {\n",
       "        vertical-align: top;\n",
       "    }\n",
       "\n",
       "    .dataframe thead th {\n",
       "        text-align: right;\n",
       "    }\n",
       "</style>\n",
       "<table border=\"1\" class=\"dataframe\">\n",
       "  <thead>\n",
       "    <tr style=\"text-align: right;\">\n",
       "      <th></th>\n",
       "      <th>total_bill</th>\n",
       "      <th>tip</th>\n",
       "      <th>sex</th>\n",
       "      <th>smoker</th>\n",
       "      <th>day</th>\n",
       "      <th>time</th>\n",
       "      <th>size</th>\n",
       "    </tr>\n",
       "  </thead>\n",
       "  <tbody>\n",
       "    <tr>\n",
       "      <th>0</th>\n",
       "      <td>16.99</td>\n",
       "      <td>1.01</td>\n",
       "      <td>Female</td>\n",
       "      <td>No</td>\n",
       "      <td>Sun</td>\n",
       "      <td>Dinner</td>\n",
       "      <td>2</td>\n",
       "    </tr>\n",
       "    <tr>\n",
       "      <th>1</th>\n",
       "      <td>10.34</td>\n",
       "      <td>1.66</td>\n",
       "      <td>Male</td>\n",
       "      <td>No</td>\n",
       "      <td>Sun</td>\n",
       "      <td>Dinner</td>\n",
       "      <td>3</td>\n",
       "    </tr>\n",
       "  </tbody>\n",
       "</table>\n",
       "</div>"
      ],
      "text/plain": [
       "   total_bill   tip     sex smoker  day    time  size\n",
       "0       16.99  1.01  Female     No  Sun  Dinner     2\n",
       "1       10.34  1.66    Male     No  Sun  Dinner     3"
      ]
     },
     "execution_count": 19,
     "metadata": {},
     "output_type": "execute_result"
    }
   ],
   "source": [
    "tips = sns.load_dataset(\"tips\")\n",
    "tips.head(2)"
   ]
  },
  {
   "cell_type": "code",
   "execution_count": 20,
   "metadata": {
    "ExecuteTime": {
     "end_time": "2021-03-04T23:03:56.086702Z",
     "start_time": "2021-03-04T23:03:55.866886Z"
    }
   },
   "outputs": [
    {
     "data": {
      "text/plain": [
       "Text(0.5, 0, 'City')"
      ]
     },
     "execution_count": 20,
     "metadata": {},
     "output_type": "execute_result"
    },
    {
     "data": {
      "image/png": "[encoded data removed]",
      "text/plain": [
       "<Figure size 432x288 with 1 Axes>"
      ]
     },
     "metadata": {
      "needs_background": "light"
     },
     "output_type": "display_data"
    }
   ],
   "source": [
    "ax = sns.barplot(x = 'City', y = 'value', hue = 'Version',\n",
    "           data = melted_count_of_both_restaurants_df)\n",
    "ax.set_title('Number of Restaurants Found in Both Versions of Doing this Project', \n",
    "             fontsize='large', fontweight='bold')\n",
    "ax.set_ylabel(\"Number of Restaurants\", fontweight='bold')\n",
    "ax.set_xlabel(\"City\", fontweight='bold')\n",
    "# plt.savefig(\"../my_saved_data/Number_of_restaurants_found_in_both_versions.png\", bbox_inches='tight')"
   ]
  },
  {
   "cell_type": "markdown",
   "metadata": {},
   "source": [
    "# Data Collection"
   ]
  },
  {
   "cell_type": "markdown",
   "metadata": {},
   "source": [
    "## Count of Restaurants for each city"
   ]
  },
  {
   "cell_type": "code",
   "execution_count": 21,
   "metadata": {
    "ExecuteTime": {
     "end_time": "2021-03-04T23:03:56.096048Z",
     "start_time": "2021-03-04T23:03:56.089005Z"
    }
   },
   "outputs": [],
   "source": [
    "rest_count_dict = {}\n",
    "rest_count_dict['Chicago'] = len(rest_df[rest_df['City'] == 'Chi'])\n",
    "rest_count_dict['Dallas'] = len(rest_df[rest_df['City'] == 'Dal'])\n",
    "rest_count_dict['NYC'] = len(rest_df[rest_df['City'] == 'NYC'])\n",
    "rest_count_dict['SF'] = len(rest_df[rest_df['City'] == 'SF'])"
   ]
  },
  {
   "cell_type": "code",
   "execution_count": 22,
   "metadata": {
    "ExecuteTime": {
     "end_time": "2021-03-04T23:03:56.101919Z",
     "start_time": "2021-03-04T23:03:56.098090Z"
    }
   },
   "outputs": [
    {
     "data": {
      "text/plain": [
       "{'Chicago': 258, 'Dallas': 113, 'NYC': 80, 'SF': 15}"
      ]
     },
     "execution_count": 22,
     "metadata": {},
     "output_type": "execute_result"
    }
   ],
   "source": [
    "# chicago has many more because smaller types of businesses were also counted (paleterias, food trucks, etc.)\n",
    "rest_count_dict"
   ]
  },
  {
   "cell_type": "markdown",
   "metadata": {},
   "source": [
    "## Count of Regions for Each City"
   ]
  },
  {
   "cell_type": "code",
   "execution_count": 23,
   "metadata": {
    "ExecuteTime": {
     "end_time": "2021-03-04T23:03:56.110910Z",
     "start_time": "2021-03-04T23:03:56.104010Z"
    }
   },
   "outputs": [],
   "source": [
    "nyc_regions = count_regions_in_city(\"NYC\", rest_df)\n",
    "dal_regions = count_regions_in_city(\"Dal\", rest_df)\n",
    "sf_regions = count_regions_in_city(\"SF\", rest_df)\n",
    "chi_regions = count_regions_in_city(\"Chi\", rest_df)"
   ]
  },
  {
   "cell_type": "markdown",
   "metadata": {},
   "source": [
    "## Percent of restaurants representing a region for each city"
   ]
  },
  {
   "cell_type": "code",
   "execution_count": 24,
   "metadata": {
    "ExecuteTime": {
     "end_time": "2021-03-04T23:03:56.115842Z",
     "start_time": "2021-03-04T23:03:56.113045Z"
    }
   },
   "outputs": [],
   "source": [
    "regions = list(demonym_dict.keys())"
   ]
  },
  {
   "cell_type": "code",
   "execution_count": 25,
   "metadata": {
    "ExecuteTime": {
     "end_time": "2021-03-04T23:03:56.122513Z",
     "start_time": "2021-03-04T23:03:56.117893Z"
    }
   },
   "outputs": [],
   "source": [
    "pct_df = pd.DataFrame(data = regions, columns = ['Region'])\n",
    "\n",
    "pct_df.sort_values(by = 'Region', inplace=True)\n",
    "pct_df.reset_index(inplace=True, drop=True)"
   ]
  },
  {
   "cell_type": "code",
   "execution_count": 26,
   "metadata": {
    "ExecuteTime": {
     "end_time": "2021-03-04T23:03:56.132146Z",
     "start_time": "2021-03-04T23:03:56.124876Z"
    }
   },
   "outputs": [],
   "source": [
    "pct_df['NYC'] = add_regions_for_city_regions_count(nyc_regions, regions)\n",
    "pct_df['Chi'] = add_regions_for_city_regions_count(chi_regions, regions)\n",
    "pct_df['Dal'] = add_regions_for_city_regions_count(dal_regions, regions)\n",
    "pct_df['SF'] = add_regions_for_city_regions_count(sf_regions, regions)"
   ]
  },
  {
   "cell_type": "code",
   "execution_count": 27,
   "metadata": {
    "ExecuteTime": {
     "end_time": "2021-03-04T23:03:56.146915Z",
     "start_time": "2021-03-04T23:03:56.134727Z"
    }
   },
   "outputs": [],
   "source": [
    "pct_df['NYC_pct'] = round(pct_df['NYC'] / sum(list(nyc_regions.values())), 2)\n",
    "pct_df['Chi_pct'] = round(pct_df['Chi'] / sum(list(chi_regions.values())), 2)\n",
    "pct_df['Dal_pct'] = round(pct_df['Dal'] / sum(list(dal_regions.values())), 2)\n",
    "pct_df['SF_pct'] = round(pct_df['SF'] / sum(list(sf_regions.values())), 2)"
   ]
  },
  {
   "cell_type": "markdown",
   "metadata": {},
   "source": [
    "## Most prevalent regions for each city"
   ]
  },
  {
   "cell_type": "code",
   "execution_count": 28,
   "metadata": {
    "ExecuteTime": {
     "end_time": "2021-03-04T23:03:56.165578Z",
     "start_time": "2021-03-04T23:03:56.149089Z"
    }
   },
   "outputs": [
    {
     "data": {
      "text/html": [
       "<div>\n",
       "<style scoped>\n",
       "    .dataframe tbody tr th:only-of-type {\n",
       "        vertical-align: middle;\n",
       "    }\n",
       "\n",
       "    .dataframe tbody tr th {\n",
       "        vertical-align: top;\n",
       "    }\n",
       "\n",
       "    .dataframe thead th {\n",
       "        text-align: right;\n",
       "    }\n",
       "</style>\n",
       "<table border=\"1\" class=\"dataframe\">\n",
       "  <thead>\n",
       "    <tr style=\"text-align: right;\">\n",
       "      <th></th>\n",
       "      <th>Region</th>\n",
       "      <th>NYC</th>\n",
       "      <th>Chi</th>\n",
       "      <th>Dal</th>\n",
       "      <th>SF</th>\n",
       "      <th>NYC_pct</th>\n",
       "      <th>Chi_pct</th>\n",
       "      <th>Dal_pct</th>\n",
       "      <th>SF_pct</th>\n",
       "    </tr>\n",
       "  </thead>\n",
       "  <tbody>\n",
       "    <tr>\n",
       "      <th>20</th>\n",
       "      <td>Puebla</td>\n",
       "      <td>37</td>\n",
       "      <td>12</td>\n",
       "      <td>3</td>\n",
       "      <td>0</td>\n",
       "      <td>0.46</td>\n",
       "      <td>0.05</td>\n",
       "      <td>0.03</td>\n",
       "      <td>0.00</td>\n",
       "    </tr>\n",
       "    <tr>\n",
       "      <th>19</th>\n",
       "      <td>Oaxaca</td>\n",
       "      <td>5</td>\n",
       "      <td>4</td>\n",
       "      <td>2</td>\n",
       "      <td>1</td>\n",
       "      <td>0.06</td>\n",
       "      <td>0.02</td>\n",
       "      <td>0.02</td>\n",
       "      <td>0.07</td>\n",
       "    </tr>\n",
       "    <tr>\n",
       "      <th>1</th>\n",
       "      <td>Baja California</td>\n",
       "      <td>5</td>\n",
       "      <td>0</td>\n",
       "      <td>1</td>\n",
       "      <td>0</td>\n",
       "      <td>0.06</td>\n",
       "      <td>0.00</td>\n",
       "      <td>0.01</td>\n",
       "      <td>0.00</td>\n",
       "    </tr>\n",
       "    <tr>\n",
       "      <th>16</th>\n",
       "      <td>Morelos</td>\n",
       "      <td>4</td>\n",
       "      <td>11</td>\n",
       "      <td>1</td>\n",
       "      <td>0</td>\n",
       "      <td>0.05</td>\n",
       "      <td>0.04</td>\n",
       "      <td>0.01</td>\n",
       "      <td>0.00</td>\n",
       "    </tr>\n",
       "    <tr>\n",
       "      <th>10</th>\n",
       "      <td>Guerrero</td>\n",
       "      <td>4</td>\n",
       "      <td>16</td>\n",
       "      <td>8</td>\n",
       "      <td>0</td>\n",
       "      <td>0.05</td>\n",
       "      <td>0.06</td>\n",
       "      <td>0.07</td>\n",
       "      <td>0.00</td>\n",
       "    </tr>\n",
       "  </tbody>\n",
       "</table>\n",
       "</div>"
      ],
      "text/plain": [
       "             Region  NYC  Chi  Dal  SF  NYC_pct  Chi_pct  Dal_pct  SF_pct\n",
       "20           Puebla   37   12    3   0     0.46     0.05     0.03    0.00\n",
       "19           Oaxaca    5    4    2   1     0.06     0.02     0.02    0.07\n",
       "1   Baja California    5    0    1   0     0.06     0.00     0.01    0.00\n",
       "16          Morelos    4   11    1   0     0.05     0.04     0.01    0.00\n",
       "10         Guerrero    4   16    8   0     0.05     0.06     0.07    0.00"
      ]
     },
     "execution_count": 28,
     "metadata": {},
     "output_type": "execute_result"
    }
   ],
   "source": [
    "pct_df.sort_values(by=['NYC_pct'], ascending=False)[0:5]"
   ]
  },
  {
   "cell_type": "code",
   "execution_count": 29,
   "metadata": {
    "ExecuteTime": {
     "end_time": "2021-03-04T23:03:56.193183Z",
     "start_time": "2021-03-04T23:03:56.179480Z"
    }
   },
   "outputs": [
    {
     "data": {
      "text/html": [
       "<div>\n",
       "<style scoped>\n",
       "    .dataframe tbody tr th:only-of-type {\n",
       "        vertical-align: middle;\n",
       "    }\n",
       "\n",
       "    .dataframe tbody tr th {\n",
       "        vertical-align: top;\n",
       "    }\n",
       "\n",
       "    .dataframe thead th {\n",
       "        text-align: right;\n",
       "    }\n",
       "</style>\n",
       "<table border=\"1\" class=\"dataframe\">\n",
       "  <thead>\n",
       "    <tr style=\"text-align: right;\">\n",
       "      <th></th>\n",
       "      <th>Region</th>\n",
       "      <th>NYC</th>\n",
       "      <th>Chi</th>\n",
       "      <th>Dal</th>\n",
       "      <th>SF</th>\n",
       "      <th>NYC_pct</th>\n",
       "      <th>Chi_pct</th>\n",
       "      <th>Dal_pct</th>\n",
       "      <th>SF_pct</th>\n",
       "    </tr>\n",
       "  </thead>\n",
       "  <tbody>\n",
       "    <tr>\n",
       "      <th>15</th>\n",
       "      <td>Michoacan</td>\n",
       "      <td>0</td>\n",
       "      <td>69</td>\n",
       "      <td>35</td>\n",
       "      <td>0</td>\n",
       "      <td>0.00</td>\n",
       "      <td>0.27</td>\n",
       "      <td>0.31</td>\n",
       "      <td>0.00</td>\n",
       "    </tr>\n",
       "    <tr>\n",
       "      <th>12</th>\n",
       "      <td>Jalisco</td>\n",
       "      <td>2</td>\n",
       "      <td>49</td>\n",
       "      <td>2</td>\n",
       "      <td>2</td>\n",
       "      <td>0.02</td>\n",
       "      <td>0.19</td>\n",
       "      <td>0.02</td>\n",
       "      <td>0.13</td>\n",
       "    </tr>\n",
       "    <tr>\n",
       "      <th>17</th>\n",
       "      <td>Nayarit</td>\n",
       "      <td>0</td>\n",
       "      <td>15</td>\n",
       "      <td>2</td>\n",
       "      <td>0</td>\n",
       "      <td>0.00</td>\n",
       "      <td>0.06</td>\n",
       "      <td>0.02</td>\n",
       "      <td>0.00</td>\n",
       "    </tr>\n",
       "    <tr>\n",
       "      <th>10</th>\n",
       "      <td>Guerrero</td>\n",
       "      <td>4</td>\n",
       "      <td>16</td>\n",
       "      <td>8</td>\n",
       "      <td>0</td>\n",
       "      <td>0.05</td>\n",
       "      <td>0.06</td>\n",
       "      <td>0.07</td>\n",
       "      <td>0.00</td>\n",
       "    </tr>\n",
       "    <tr>\n",
       "      <th>20</th>\n",
       "      <td>Puebla</td>\n",
       "      <td>37</td>\n",
       "      <td>12</td>\n",
       "      <td>3</td>\n",
       "      <td>0</td>\n",
       "      <td>0.46</td>\n",
       "      <td>0.05</td>\n",
       "      <td>0.03</td>\n",
       "      <td>0.00</td>\n",
       "    </tr>\n",
       "  </tbody>\n",
       "</table>\n",
       "</div>"
      ],
      "text/plain": [
       "       Region  NYC  Chi  Dal  SF  NYC_pct  Chi_pct  Dal_pct  SF_pct\n",
       "15  Michoacan    0   69   35   0     0.00     0.27     0.31    0.00\n",
       "12    Jalisco    2   49    2   2     0.02     0.19     0.02    0.13\n",
       "17    Nayarit    0   15    2   0     0.00     0.06     0.02    0.00\n",
       "10   Guerrero    4   16    8   0     0.05     0.06     0.07    0.00\n",
       "20     Puebla   37   12    3   0     0.46     0.05     0.03    0.00"
      ]
     },
     "execution_count": 29,
     "metadata": {},
     "output_type": "execute_result"
    }
   ],
   "source": [
    "pct_df.sort_values(by=['Chi_pct'], ascending=False)[0:5]"
   ]
  },
  {
   "cell_type": "code",
   "execution_count": 30,
   "metadata": {
    "ExecuteTime": {
     "end_time": "2021-03-04T23:03:56.214277Z",
     "start_time": "2021-03-04T23:03:56.203813Z"
    }
   },
   "outputs": [
    {
     "data": {
      "text/html": [
       "<div>\n",
       "<style scoped>\n",
       "    .dataframe tbody tr th:only-of-type {\n",
       "        vertical-align: middle;\n",
       "    }\n",
       "\n",
       "    .dataframe tbody tr th {\n",
       "        vertical-align: top;\n",
       "    }\n",
       "\n",
       "    .dataframe thead th {\n",
       "        text-align: right;\n",
       "    }\n",
       "</style>\n",
       "<table border=\"1\" class=\"dataframe\">\n",
       "  <thead>\n",
       "    <tr style=\"text-align: right;\">\n",
       "      <th></th>\n",
       "      <th>Region</th>\n",
       "      <th>NYC</th>\n",
       "      <th>Chi</th>\n",
       "      <th>Dal</th>\n",
       "      <th>SF</th>\n",
       "      <th>NYC_pct</th>\n",
       "      <th>Chi_pct</th>\n",
       "      <th>Dal_pct</th>\n",
       "      <th>SF_pct</th>\n",
       "    </tr>\n",
       "  </thead>\n",
       "  <tbody>\n",
       "    <tr>\n",
       "      <th>15</th>\n",
       "      <td>Michoacan</td>\n",
       "      <td>0</td>\n",
       "      <td>69</td>\n",
       "      <td>35</td>\n",
       "      <td>0</td>\n",
       "      <td>0.00</td>\n",
       "      <td>0.27</td>\n",
       "      <td>0.31</td>\n",
       "      <td>0.00</td>\n",
       "    </tr>\n",
       "    <tr>\n",
       "      <th>18</th>\n",
       "      <td>Nuevo Leon</td>\n",
       "      <td>0</td>\n",
       "      <td>9</td>\n",
       "      <td>17</td>\n",
       "      <td>0</td>\n",
       "      <td>0.00</td>\n",
       "      <td>0.03</td>\n",
       "      <td>0.15</td>\n",
       "      <td>0.00</td>\n",
       "    </tr>\n",
       "    <tr>\n",
       "      <th>9</th>\n",
       "      <td>Guanajuato</td>\n",
       "      <td>2</td>\n",
       "      <td>11</td>\n",
       "      <td>10</td>\n",
       "      <td>2</td>\n",
       "      <td>0.02</td>\n",
       "      <td>0.04</td>\n",
       "      <td>0.09</td>\n",
       "      <td>0.13</td>\n",
       "    </tr>\n",
       "    <tr>\n",
       "      <th>10</th>\n",
       "      <td>Guerrero</td>\n",
       "      <td>4</td>\n",
       "      <td>16</td>\n",
       "      <td>8</td>\n",
       "      <td>0</td>\n",
       "      <td>0.05</td>\n",
       "      <td>0.06</td>\n",
       "      <td>0.07</td>\n",
       "      <td>0.00</td>\n",
       "    </tr>\n",
       "    <tr>\n",
       "      <th>5</th>\n",
       "      <td>Chihuahua</td>\n",
       "      <td>4</td>\n",
       "      <td>5</td>\n",
       "      <td>4</td>\n",
       "      <td>3</td>\n",
       "      <td>0.05</td>\n",
       "      <td>0.02</td>\n",
       "      <td>0.04</td>\n",
       "      <td>0.20</td>\n",
       "    </tr>\n",
       "  </tbody>\n",
       "</table>\n",
       "</div>"
      ],
      "text/plain": [
       "        Region  NYC  Chi  Dal  SF  NYC_pct  Chi_pct  Dal_pct  SF_pct\n",
       "15   Michoacan    0   69   35   0     0.00     0.27     0.31    0.00\n",
       "18  Nuevo Leon    0    9   17   0     0.00     0.03     0.15    0.00\n",
       "9   Guanajuato    2   11   10   2     0.02     0.04     0.09    0.13\n",
       "10    Guerrero    4   16    8   0     0.05     0.06     0.07    0.00\n",
       "5    Chihuahua    4    5    4   3     0.05     0.02     0.04    0.20"
      ]
     },
     "execution_count": 30,
     "metadata": {},
     "output_type": "execute_result"
    }
   ],
   "source": [
    "pct_df.sort_values(by=['Dal_pct'], ascending=False)[0:5]"
   ]
  },
  {
   "cell_type": "code",
   "execution_count": 31,
   "metadata": {
    "ExecuteTime": {
     "end_time": "2021-03-04T23:03:56.228875Z",
     "start_time": "2021-03-04T23:03:56.216306Z"
    }
   },
   "outputs": [
    {
     "data": {
      "text/html": [
       "<div>\n",
       "<style scoped>\n",
       "    .dataframe tbody tr th:only-of-type {\n",
       "        vertical-align: middle;\n",
       "    }\n",
       "\n",
       "    .dataframe tbody tr th {\n",
       "        vertical-align: top;\n",
       "    }\n",
       "\n",
       "    .dataframe thead th {\n",
       "        text-align: right;\n",
       "    }\n",
       "</style>\n",
       "<table border=\"1\" class=\"dataframe\">\n",
       "  <thead>\n",
       "    <tr style=\"text-align: right;\">\n",
       "      <th></th>\n",
       "      <th>Region</th>\n",
       "      <th>NYC</th>\n",
       "      <th>Chi</th>\n",
       "      <th>Dal</th>\n",
       "      <th>SF</th>\n",
       "      <th>NYC_pct</th>\n",
       "      <th>Chi_pct</th>\n",
       "      <th>Dal_pct</th>\n",
       "      <th>SF_pct</th>\n",
       "    </tr>\n",
       "  </thead>\n",
       "  <tbody>\n",
       "    <tr>\n",
       "      <th>5</th>\n",
       "      <td>Chihuahua</td>\n",
       "      <td>4</td>\n",
       "      <td>5</td>\n",
       "      <td>4</td>\n",
       "      <td>3</td>\n",
       "      <td>0.05</td>\n",
       "      <td>0.02</td>\n",
       "      <td>0.04</td>\n",
       "      <td>0.20</td>\n",
       "    </tr>\n",
       "    <tr>\n",
       "      <th>25</th>\n",
       "      <td>Sonora</td>\n",
       "      <td>1</td>\n",
       "      <td>2</td>\n",
       "      <td>0</td>\n",
       "      <td>2</td>\n",
       "      <td>0.01</td>\n",
       "      <td>0.01</td>\n",
       "      <td>0.00</td>\n",
       "      <td>0.13</td>\n",
       "    </tr>\n",
       "    <tr>\n",
       "      <th>9</th>\n",
       "      <td>Guanajuato</td>\n",
       "      <td>2</td>\n",
       "      <td>11</td>\n",
       "      <td>10</td>\n",
       "      <td>2</td>\n",
       "      <td>0.02</td>\n",
       "      <td>0.04</td>\n",
       "      <td>0.09</td>\n",
       "      <td>0.13</td>\n",
       "    </tr>\n",
       "    <tr>\n",
       "      <th>12</th>\n",
       "      <td>Jalisco</td>\n",
       "      <td>2</td>\n",
       "      <td>49</td>\n",
       "      <td>2</td>\n",
       "      <td>2</td>\n",
       "      <td>0.02</td>\n",
       "      <td>0.19</td>\n",
       "      <td>0.02</td>\n",
       "      <td>0.13</td>\n",
       "    </tr>\n",
       "    <tr>\n",
       "      <th>22</th>\n",
       "      <td>Quintana Roo</td>\n",
       "      <td>1</td>\n",
       "      <td>1</td>\n",
       "      <td>0</td>\n",
       "      <td>1</td>\n",
       "      <td>0.01</td>\n",
       "      <td>0.00</td>\n",
       "      <td>0.00</td>\n",
       "      <td>0.07</td>\n",
       "    </tr>\n",
       "  </tbody>\n",
       "</table>\n",
       "</div>"
      ],
      "text/plain": [
       "          Region  NYC  Chi  Dal  SF  NYC_pct  Chi_pct  Dal_pct  SF_pct\n",
       "5      Chihuahua    4    5    4   3     0.05     0.02     0.04    0.20\n",
       "25        Sonora    1    2    0   2     0.01     0.01     0.00    0.13\n",
       "9     Guanajuato    2   11   10   2     0.02     0.04     0.09    0.13\n",
       "12       Jalisco    2   49    2   2     0.02     0.19     0.02    0.13\n",
       "22  Quintana Roo    1    1    0   1     0.01     0.00     0.00    0.07"
      ]
     },
     "execution_count": 31,
     "metadata": {},
     "output_type": "execute_result"
    }
   ],
   "source": [
    "pct_df.sort_values(by=['SF_pct'], ascending=False)[0:5]"
   ]
  },
  {
   "cell_type": "markdown",
   "metadata": {},
   "source": [
    "## Regions That are Over 20% of a city's mex restaurants "
   ]
  },
  {
   "cell_type": "code",
   "execution_count": 32,
   "metadata": {
    "ExecuteTime": {
     "end_time": "2021-03-04T23:03:56.238288Z",
     "start_time": "2021-03-04T23:03:56.230829Z"
    }
   },
   "outputs": [
    {
     "data": {
      "text/plain": [
       "['Chihuahua', 'Michoacan', 'Puebla']"
      ]
     },
     "execution_count": 32,
     "metadata": {},
     "output_type": "execute_result"
    }
   ],
   "source": [
    "over_20_regions = []\n",
    "for idx, x in enumerate(pct_df['Region']):\n",
    "    for col in pct_df.columns[-4:]:\n",
    "        if pct_df[col][idx] >= 0.20:\n",
    "            if x not in over_20_regions:\n",
    "                over_20_regions.append(x)\n",
    "over_20_regions"
   ]
  },
  {
   "cell_type": "code",
   "execution_count": 33,
   "metadata": {
    "ExecuteTime": {
     "end_time": "2021-03-04T23:03:56.244797Z",
     "start_time": "2021-03-04T23:03:56.240216Z"
    }
   },
   "outputs": [],
   "source": [
    "over_20_df = pct_df[pct_df['Region'].isin(over_20_regions)][['Region',\"Chi_pct\", \"Dal_pct\", 'NYC_pct', \"SF_pct\"]]"
   ]
  },
  {
   "cell_type": "markdown",
   "metadata": {},
   "source": [
    "## Saving Data "
   ]
  },
  {
   "cell_type": "code",
   "execution_count": 34,
   "metadata": {
    "ExecuteTime": {
     "end_time": "2021-03-04T23:03:56.248854Z",
     "start_time": "2021-03-04T23:03:56.246615Z"
    }
   },
   "outputs": [],
   "source": [
    "# pct_df.to_csv(\"../my_saved_data/new_corrected_pct_df.csv\")\n",
    "# over_20_df.to_csv(\"../my_saved_data/regions_over_20_pct_of_city.csv\")"
   ]
  },
  {
   "cell_type": "markdown",
   "metadata": {},
   "source": [
    "# Culinary Regions of Mexico"
   ]
  },
  {
   "cell_type": "markdown",
   "metadata": {},
   "source": [
    "## Adding Culinary Regions to DataFrame"
   ]
  },
  {
   "cell_type": "code",
   "execution_count": 35,
   "metadata": {
    "ExecuteTime": {
     "end_time": "2021-03-04T23:03:56.253739Z",
     "start_time": "2021-03-04T23:03:56.250958Z"
    }
   },
   "outputs": [],
   "source": [
    "region_to_cul_region = {}\n",
    "for key, value in cul_reg_dict.items():\n",
    "    for item in value:\n",
    "        region_to_cul_region[item] = key"
   ]
  },
  {
   "cell_type": "code",
   "execution_count": 36,
   "metadata": {
    "ExecuteTime": {
     "end_time": "2021-03-04T23:03:56.264039Z",
     "start_time": "2021-03-04T23:03:56.256032Z"
    }
   },
   "outputs": [],
   "source": [
    "rest_df['Culinary_region'] = rest_df['Final_region'].replace(region_to_cul_region)"
   ]
  },
  {
   "cell_type": "markdown",
   "metadata": {},
   "source": [
    "## Grouping Culinary Regions Together"
   ]
  },
  {
   "cell_type": "code",
   "execution_count": 37,
   "metadata": {
    "ExecuteTime": {
     "end_time": "2021-03-04T23:03:56.271557Z",
     "start_time": "2021-03-04T23:03:56.266004Z"
    }
   },
   "outputs": [],
   "source": [
    "orig_super_region_df = rest_df.groupby('Culinary_region').count()"
   ]
  },
  {
   "cell_type": "code",
   "execution_count": 38,
   "metadata": {
    "ExecuteTime": {
     "end_time": "2021-03-04T23:03:56.278635Z",
     "start_time": "2021-03-04T23:03:56.273541Z"
    }
   },
   "outputs": [],
   "source": [
    "super_region_df = orig_super_region_df[['Restaurant']]\n",
    "super_region_df['Percentage'] = round(super_region_df['Restaurant'] / rest_df.shape[0], 2)"
   ]
  },
  {
   "cell_type": "code",
   "execution_count": 39,
   "metadata": {
    "ExecuteTime": {
     "end_time": "2021-03-04T23:03:56.288183Z",
     "start_time": "2021-03-04T23:03:56.280933Z"
    }
   },
   "outputs": [
    {
     "data": {
      "text/html": [
       "<div>\n",
       "<style scoped>\n",
       "    .dataframe tbody tr th:only-of-type {\n",
       "        vertical-align: middle;\n",
       "    }\n",
       "\n",
       "    .dataframe tbody tr th {\n",
       "        vertical-align: top;\n",
       "    }\n",
       "\n",
       "    .dataframe thead th {\n",
       "        text-align: right;\n",
       "    }\n",
       "</style>\n",
       "<table border=\"1\" class=\"dataframe\">\n",
       "  <thead>\n",
       "    <tr style=\"text-align: right;\">\n",
       "      <th></th>\n",
       "      <th>Restaurant</th>\n",
       "      <th>Percentage</th>\n",
       "    </tr>\n",
       "    <tr>\n",
       "      <th>Culinary_region</th>\n",
       "      <th></th>\n",
       "      <th></th>\n",
       "    </tr>\n",
       "  </thead>\n",
       "  <tbody>\n",
       "    <tr>\n",
       "      <th>Bajio</th>\n",
       "      <td>141</td>\n",
       "      <td>0.30</td>\n",
       "    </tr>\n",
       "    <tr>\n",
       "      <th>Central</th>\n",
       "      <td>99</td>\n",
       "      <td>0.21</td>\n",
       "    </tr>\n",
       "    <tr>\n",
       "      <th>Gulf</th>\n",
       "      <td>14</td>\n",
       "      <td>0.03</td>\n",
       "    </tr>\n",
       "    <tr>\n",
       "      <th>North</th>\n",
       "      <td>81</td>\n",
       "      <td>0.17</td>\n",
       "    </tr>\n",
       "    <tr>\n",
       "      <th>North Pacific Coast</th>\n",
       "      <td>76</td>\n",
       "      <td>0.16</td>\n",
       "    </tr>\n",
       "    <tr>\n",
       "      <th>South</th>\n",
       "      <td>11</td>\n",
       "      <td>0.02</td>\n",
       "    </tr>\n",
       "    <tr>\n",
       "      <th>South Pacific Coast</th>\n",
       "      <td>44</td>\n",
       "      <td>0.09</td>\n",
       "    </tr>\n",
       "  </tbody>\n",
       "</table>\n",
       "</div>"
      ],
      "text/plain": [
       "                     Restaurant  Percentage\n",
       "Culinary_region                            \n",
       "Bajio                       141        0.30\n",
       "Central                      99        0.21\n",
       "Gulf                         14        0.03\n",
       "North                        81        0.17\n",
       "North Pacific Coast          76        0.16\n",
       "South                        11        0.02\n",
       "South Pacific Coast          44        0.09"
      ]
     },
     "execution_count": 39,
     "metadata": {},
     "output_type": "execute_result"
    }
   ],
   "source": [
    "super_region_df"
   ]
  },
  {
   "cell_type": "markdown",
   "metadata": {},
   "source": [
    "## Grouping by Cities and Culinary Regions"
   ]
  },
  {
   "cell_type": "code",
   "execution_count": 40,
   "metadata": {
    "ExecuteTime": {
     "end_time": "2021-03-04T23:03:56.294010Z",
     "start_time": "2021-03-04T23:03:56.290340Z"
    }
   },
   "outputs": [],
   "source": [
    "region_to_cul_reg_dict = {}\n",
    "for key, value in cul_reg_dict.items():\n",
    "    for item in value:\n",
    "        region_to_cul_reg_dict[item] = key\n",
    "# cul_reg_dict"
   ]
  },
  {
   "cell_type": "code",
   "execution_count": 41,
   "metadata": {
    "ExecuteTime": {
     "end_time": "2021-03-04T23:03:56.308835Z",
     "start_time": "2021-03-04T23:03:56.296814Z"
    }
   },
   "outputs": [],
   "source": [
    "pct_df['Cul_reg'] = pct_df['Region'].replace(region_to_cul_reg_dict)\n",
    "pct_df.drop(columns = pct_df.columns[1:5], inplace=True)\n",
    "# region_to_cul_reg_dict"
   ]
  },
  {
   "cell_type": "code",
   "execution_count": 42,
   "metadata": {
    "ExecuteTime": {
     "end_time": "2021-03-04T23:03:56.318040Z",
     "start_time": "2021-03-04T23:03:56.311603Z"
    }
   },
   "outputs": [],
   "source": [
    "city_w_cul_reg_pct = pct_df.groupby(\"Cul_reg\").sum()"
   ]
  },
  {
   "cell_type": "code",
   "execution_count": 43,
   "metadata": {
    "ExecuteTime": {
     "end_time": "2021-03-04T23:03:56.332948Z",
     "start_time": "2021-03-04T23:03:56.321741Z"
    },
    "scrolled": true
   },
   "outputs": [
    {
     "data": {
      "text/html": [
       "<div>\n",
       "<style scoped>\n",
       "    .dataframe tbody tr th:only-of-type {\n",
       "        vertical-align: middle;\n",
       "    }\n",
       "\n",
       "    .dataframe tbody tr th {\n",
       "        vertical-align: top;\n",
       "    }\n",
       "\n",
       "    .dataframe thead th {\n",
       "        text-align: right;\n",
       "    }\n",
       "</style>\n",
       "<table border=\"1\" class=\"dataframe\">\n",
       "  <thead>\n",
       "    <tr style=\"text-align: right;\">\n",
       "      <th></th>\n",
       "      <th>NYC_pct</th>\n",
       "      <th>Chi_pct</th>\n",
       "      <th>Dal_pct</th>\n",
       "      <th>SF_pct</th>\n",
       "    </tr>\n",
       "    <tr>\n",
       "      <th>Cul_reg</th>\n",
       "      <th></th>\n",
       "      <th></th>\n",
       "      <th></th>\n",
       "      <th></th>\n",
       "    </tr>\n",
       "  </thead>\n",
       "  <tbody>\n",
       "    <tr>\n",
       "      <th>Bajio</th>\n",
       "      <td>0.04</td>\n",
       "      <td>0.33</td>\n",
       "      <td>0.44</td>\n",
       "      <td>0.20</td>\n",
       "    </tr>\n",
       "    <tr>\n",
       "      <th>Central</th>\n",
       "      <td>0.57</td>\n",
       "      <td>0.15</td>\n",
       "      <td>0.14</td>\n",
       "      <td>0.00</td>\n",
       "    </tr>\n",
       "    <tr>\n",
       "      <th>Gulf</th>\n",
       "      <td>0.05</td>\n",
       "      <td>0.02</td>\n",
       "      <td>0.03</td>\n",
       "      <td>0.00</td>\n",
       "    </tr>\n",
       "    <tr>\n",
       "      <th>North</th>\n",
       "      <td>0.13</td>\n",
       "      <td>0.13</td>\n",
       "      <td>0.25</td>\n",
       "      <td>0.40</td>\n",
       "    </tr>\n",
       "    <tr>\n",
       "      <th>North Pacific Coast</th>\n",
       "      <td>0.03</td>\n",
       "      <td>0.25</td>\n",
       "      <td>0.06</td>\n",
       "      <td>0.20</td>\n",
       "    </tr>\n",
       "    <tr>\n",
       "      <th>South</th>\n",
       "      <td>0.01</td>\n",
       "      <td>0.01</td>\n",
       "      <td>0.03</td>\n",
       "      <td>0.14</td>\n",
       "    </tr>\n",
       "    <tr>\n",
       "      <th>South Pacific Coast</th>\n",
       "      <td>0.12</td>\n",
       "      <td>0.09</td>\n",
       "      <td>0.09</td>\n",
       "      <td>0.07</td>\n",
       "    </tr>\n",
       "  </tbody>\n",
       "</table>\n",
       "</div>"
      ],
      "text/plain": [
       "                     NYC_pct  Chi_pct  Dal_pct  SF_pct\n",
       "Cul_reg                                               \n",
       "Bajio                   0.04     0.33     0.44    0.20\n",
       "Central                 0.57     0.15     0.14    0.00\n",
       "Gulf                    0.05     0.02     0.03    0.00\n",
       "North                   0.13     0.13     0.25    0.40\n",
       "North Pacific Coast     0.03     0.25     0.06    0.20\n",
       "South                   0.01     0.01     0.03    0.14\n",
       "South Pacific Coast     0.12     0.09     0.09    0.07"
      ]
     },
     "execution_count": 43,
     "metadata": {},
     "output_type": "execute_result"
    }
   ],
   "source": [
    "city_w_cul_reg_pct"
   ]
  },
  {
   "cell_type": "markdown",
   "metadata": {},
   "source": [
    "# Finding Uniqueness of each city's Mexican Food"
   ]
  },
  {
   "cell_type": "code",
   "execution_count": 55,
   "metadata": {
    "ExecuteTime": {
     "end_time": "2021-03-04T23:04:44.636700Z",
     "start_time": "2021-03-04T23:04:44.599171Z"
    }
   },
   "outputs": [
    {
     "name": "stdout",
     "output_type": "stream",
     "text": [
      "The mean number of regions is 6.6 and the mean number of culinary_regions is 4.6\n",
      "The mean number of regions is 6.4 and the mean number of culinary_regions is 3.8\n",
      "The mean number of regions is 6.0 and the mean number of culinary_regions is 4.6\n"
     ]
    }
   ],
   "source": [
    "# we didn't do San Francisco because the number of regions represented is very small\n",
    "## From this, we see that Chicago is the most diverse city\n",
    "num_chi_rand_reg, num_chi_rand_cul_reg = get_5_samples_of_rand_regions('Chi', rest_df)\n",
    "num_dal_rand_reg, num_dal_rand_cul_reg = get_5_samples_of_rand_regions('Dal', rest_df)\n",
    "num_nyc_rand_reg, num_nyc_rand_cul_reg = get_5_samples_of_rand_regions('NYC', rest_df)"
   ]
  },
  {
   "cell_type": "markdown",
   "metadata": {},
   "source": [
    "# Saving Data"
   ]
  },
  {
   "cell_type": "code",
   "execution_count": 51,
   "metadata": {
    "ExecuteTime": {
     "end_time": "2021-03-04T23:03:56.413910Z",
     "start_time": "2021-03-04T23:03:56.411822Z"
    }
   },
   "outputs": [],
   "source": [
    "# rest_df.to_csv(\"../my_saved_data/final_correct_restaurants_and_regions.csv\")"
   ]
  },
  {
   "cell_type": "code",
   "execution_count": 52,
   "metadata": {
    "ExecuteTime": {
     "end_time": "2021-03-04T23:03:56.418330Z",
     "start_time": "2021-03-04T23:03:56.415836Z"
    }
   },
   "outputs": [],
   "source": [
    "# pct_df.to_csv(\"../my_saved_data/city_region_pct_df.csv\")"
   ]
  },
  {
   "cell_type": "code",
   "execution_count": 53,
   "metadata": {
    "ExecuteTime": {
     "end_time": "2021-03-04T23:03:56.422933Z",
     "start_time": "2021-03-04T23:03:56.420553Z"
    }
   },
   "outputs": [],
   "source": [
    "# city_w_cul_reg_pct.to_csv(\"../my_saved_data/city_w_culinary_region_pct.csv\")"
   ]
  },
  {
   "cell_type": "code",
   "execution_count": 54,
   "metadata": {
    "ExecuteTime": {
     "end_time": "2021-03-04T23:03:56.427630Z",
     "start_time": "2021-03-04T23:03:56.425383Z"
    }
   },
   "outputs": [],
   "source": [
    "# super_region_df.to_csv(\"../my_saved_data/culinary_region_pct_overal.csv\")"
   ]
  }
 ],
 "metadata": {
  "kernelspec": {
   "display_name": "Python [conda env:learn-env] *",
   "language": "python",
   "name": "conda-env-learn-env-py"
  },
  "language_info": {
   "codemirror_mode": {
    "name": "ipython",
    "version": 3
   },
   "file_extension": ".py",
   "mimetype": "text/x-python",
   "name": "python",
   "nbconvert_exporter": "python",
   "pygments_lexer": "ipython3",
   "version": "3.6.9"
  },
  "toc": {
   "base_numbering": 1,
   "nav_menu": {},
   "number_sections": true,
   "sideBar": true,
   "skip_h1_title": false,
   "title_cell": "Table of Contents",
   "title_sidebar": "Contents",
   "toc_cell": false,
   "toc_position": {
    "height": "calc(100% - 180px)",
    "left": "10px",
    "top": "150px",
    "width": "330.1875px"
   },
   "toc_section_display": true,
   "toc_window_display": true
  },
  "varInspector": {
   "cols": {
    "lenName": 16,
    "lenType": 16,
    "lenVar": 40
   },
   "kernels_config": {
    "python": {
     "delete_cmd_postfix": "",
     "delete_cmd_prefix": "del ",
     "library": "var_list.py",
     "varRefreshCmd": "print(var_dic_list())"
    },
    "r": {
     "delete_cmd_postfix": ") ",
     "delete_cmd_prefix": "rm(",
     "library": "var_list.r",
     "varRefreshCmd": "cat(var_dic_list()) "
    }
   },
   "types_to_exclude": [
    "module",
    "function",
    "builtin_function_or_method",
    "instance",
    "_Feature"
   ],
   "window_display": false
  }
 },
 "nbformat": 4,
 "nbformat_minor": 2
}
