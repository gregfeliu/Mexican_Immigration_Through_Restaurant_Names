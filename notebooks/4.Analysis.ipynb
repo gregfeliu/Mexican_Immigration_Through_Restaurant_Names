{
 "cells": [
  {
   "cell_type": "markdown",
   "metadata": {},
   "source": [
    "import pandas as pd\n",
    "# ^^^ pyforest auto-imports - don't write above this line\n",
    "# Imports"
   ]
  },
  {
   "cell_type": "markdown",
   "metadata": {},
   "source": [
    "Things to add to this notebook\n",
    "- bar chart showing difference between total num of restaurants and num of restaurants that match\n",
    "- the \"uniqueness\" of the city's data "
   ]
  },
  {
   "cell_type": "markdown",
   "metadata": {},
   "source": [
    "## Libraries"
   ]
  },
  {
   "cell_type": "code",
   "execution_count": 2,
   "metadata": {
    "ExecuteTime": {
     "end_time": "2021-03-03T22:43:57.528170Z",
     "start_time": "2021-03-03T22:43:57.504819Z"
    },
    "scrolled": true
   },
   "outputs": [],
   "source": [
    "# import geopandas\n",
    "import random\n",
    "import warnings\n",
    "warnings.filterwarnings('ignore')\n",
    "from functions import *"
   ]
  },
  {
   "cell_type": "markdown",
   "metadata": {},
   "source": [
    "## Data"
   ]
  },
  {
   "cell_type": "code",
   "execution_count": null,
   "metadata": {
    "ExecuteTime": {
     "end_time": "2021-03-03T16:07:29.101809Z",
     "start_time": "2021-03-03T16:07:29.089400Z"
    }
   },
   "outputs": [],
   "source": [
    "original_df = pd.read_csv(\"../my_saved_data/all_correct_restaurants.csv\", index_col=0)\n",
    "# original_df.shape"
   ]
  },
  {
   "cell_type": "code",
   "execution_count": null,
   "metadata": {
    "ExecuteTime": {
     "end_time": "2021-03-03T16:07:29.795801Z",
     "start_time": "2021-03-03T16:07:29.788902Z"
    }
   },
   "outputs": [],
   "source": [
    "rest_df = pd.read_csv(\"../my_saved_data/all_correct_restaurants_and_regions.csv\", index_col=0)\n",
    "# 282 more restaurants in this version than last one! \n",
    "# rest_df.shape[0]"
   ]
  },
  {
   "cell_type": "code",
   "execution_count": null,
   "metadata": {
    "ExecuteTime": {
     "end_time": "2021-03-03T16:07:30.373986Z",
     "start_time": "2021-03-03T16:07:30.366242Z"
    }
   },
   "outputs": [],
   "source": [
    "with open(\"../my_saved_data/demonym_dictionary.pickle\", \"rb+\") as f:\n",
    "    demonym_dict = pickle.load(f)"
   ]
  },
  {
   "cell_type": "markdown",
   "metadata": {},
   "source": [
    "### Checking differences between the original data set and the new data set \n",
    "(March 2)"
   ]
  },
  {
   "cell_type": "code",
   "execution_count": null,
   "metadata": {
    "ExecuteTime": {
     "end_time": "2021-03-03T16:07:13.652602Z",
     "start_time": "2021-03-03T16:07:13.649449Z"
    }
   },
   "outputs": [],
   "source": [
    "# # how many restaurants in total \n",
    "# print(f\"The original dataset had {rest_df.shape[0] - original_df.shape[0]} fewer matches than this one\")"
   ]
  },
  {
   "cell_type": "code",
   "execution_count": null,
   "metadata": {
    "ExecuteTime": {
     "end_time": "2021-03-03T16:07:14.340281Z",
     "start_time": "2021-03-03T16:07:14.337862Z"
    }
   },
   "outputs": [],
   "source": [
    "# original_dataset_groupby = original_df.groupby(\"City\").count()\n",
    "# rest_df_groupby = rest_df.groupby(\"City\").count()"
   ]
  },
  {
   "cell_type": "code",
   "execution_count": null,
   "metadata": {
    "ExecuteTime": {
     "end_time": "2021-03-03T16:07:14.910737Z",
     "start_time": "2021-03-03T16:07:14.908361Z"
    },
    "scrolled": true
   },
   "outputs": [],
   "source": [
    "# original_df_values = original_dataset_groupby['Match'].values\n",
    "# rest_df_values = rest_df_groupby['Restaurant'].values"
   ]
  },
  {
   "cell_type": "code",
   "execution_count": null,
   "metadata": {
    "ExecuteTime": {
     "end_time": "2021-03-03T16:07:15.577720Z",
     "start_time": "2021-03-03T16:07:15.575835Z"
    }
   },
   "outputs": [],
   "source": [
    "# value_differences = rest_df_values - original_df_values\n",
    "# for idx, item in enumerate(value_differences):\n",
    "#     print(f\"{original_dataset_groupby.index[idx]} had {item} more values ({round(item / original_df_values[idx], 2) * 100}%) in the new iteration of this project than the old one.\")"
   ]
  },
  {
   "cell_type": "markdown",
   "metadata": {},
   "source": [
    "# Data Collection"
   ]
  },
  {
   "cell_type": "markdown",
   "metadata": {},
   "source": [
    "## Count of Restaurants for each city"
   ]
  },
  {
   "cell_type": "code",
   "execution_count": null,
   "metadata": {
    "ExecuteTime": {
     "end_time": "2021-03-02T22:34:31.602624Z",
     "start_time": "2021-03-02T22:34:31.595122Z"
    }
   },
   "outputs": [],
   "source": [
    "rest_count_dict = {}\n",
    "rest_count_dict['Chicago'] = len(rest_df[rest_df['City'] == 'Chi'])\n",
    "rest_count_dict['Dallas'] = len(rest_df[rest_df['City'] == 'Dal'])\n",
    "rest_count_dict['NYC'] = len(rest_df[rest_df['City'] == 'NYC'])\n",
    "rest_count_dict['SF'] = len(rest_df[rest_df['City'] == 'SF'])"
   ]
  },
  {
   "cell_type": "code",
   "execution_count": null,
   "metadata": {
    "ExecuteTime": {
     "end_time": "2021-03-02T22:34:31.609495Z",
     "start_time": "2021-03-02T22:34:31.605410Z"
    }
   },
   "outputs": [],
   "source": [
    "# chicago has many more because smaller types of businesses were also counted (paleterias, food trucks, etc.)\n",
    "rest_count_dict"
   ]
  },
  {
   "cell_type": "markdown",
   "metadata": {},
   "source": [
    "## Count of Regions for Each City"
   ]
  },
  {
   "cell_type": "code",
   "execution_count": null,
   "metadata": {
    "ExecuteTime": {
     "end_time": "2021-03-02T22:34:31.619859Z",
     "start_time": "2021-03-02T22:34:31.612367Z"
    }
   },
   "outputs": [],
   "source": [
    "nyc_regions = count_regions_in_city(\"NYC\", rest_df)\n",
    "dal_regions = count_regions_in_city(\"Dal\", rest_df)\n",
    "sf_regions = count_regions_in_city(\"SF\", rest_df)\n",
    "chi_regions = count_regions_in_city(\"Chi\", rest_df)"
   ]
  },
  {
   "cell_type": "markdown",
   "metadata": {},
   "source": [
    "## Percent of restaurants representing a region for each city"
   ]
  },
  {
   "cell_type": "code",
   "execution_count": null,
   "metadata": {
    "ExecuteTime": {
     "end_time": "2021-03-02T22:34:31.624705Z",
     "start_time": "2021-03-02T22:34:31.621846Z"
    }
   },
   "outputs": [],
   "source": [
    "regions = list(demonym_dict.keys())"
   ]
  },
  {
   "cell_type": "code",
   "execution_count": null,
   "metadata": {
    "ExecuteTime": {
     "end_time": "2021-03-02T22:34:31.631049Z",
     "start_time": "2021-03-02T22:34:31.626667Z"
    }
   },
   "outputs": [],
   "source": [
    "pct_df = pd.DataFrame(data = regions, columns = ['Region'])\n",
    "\n",
    "pct_df.sort_values(by = 'Region', inplace=True)\n",
    "pct_df.reset_index(inplace=True, drop=True)"
   ]
  },
  {
   "cell_type": "code",
   "execution_count": null,
   "metadata": {
    "ExecuteTime": {
     "end_time": "2021-03-02T22:34:31.638698Z",
     "start_time": "2021-03-02T22:34:31.632827Z"
    }
   },
   "outputs": [],
   "source": [
    "pct_df['NYC'] = add_regions_for_city_regions_count(nyc_regions, regions)\n",
    "pct_df['Chi'] = add_regions_for_city_regions_count(chi_regions, regions)\n",
    "pct_df['Dal'] = add_regions_for_city_regions_count(dal_regions, regions)\n",
    "pct_df['SF'] = add_regions_for_city_regions_count(sf_regions, regions)"
   ]
  },
  {
   "cell_type": "code",
   "execution_count": null,
   "metadata": {
    "ExecuteTime": {
     "end_time": "2021-03-02T22:34:31.652018Z",
     "start_time": "2021-03-02T22:34:31.640527Z"
    }
   },
   "outputs": [],
   "source": [
    "pct_df['NYC_pct'] = round(pct_df['NYC'] / sum(list(nyc_regions.values())), 2)\n",
    "pct_df['Chi_pct'] = round(pct_df['Chi'] / sum(list(chi_regions.values())), 2)\n",
    "pct_df['Dal_pct'] = round(pct_df['Dal'] / sum(list(dal_regions.values())), 2)\n",
    "pct_df['SF_pct'] = round(pct_df['SF'] / sum(list(sf_regions.values())), 2)"
   ]
  },
  {
   "cell_type": "markdown",
   "metadata": {},
   "source": [
    "## Most prevalent regions for each city"
   ]
  },
  {
   "cell_type": "code",
   "execution_count": null,
   "metadata": {
    "ExecuteTime": {
     "end_time": "2021-03-02T22:34:31.671655Z",
     "start_time": "2021-03-02T22:34:31.654177Z"
    }
   },
   "outputs": [],
   "source": [
    "pct_df.sort_values(by=['NYC_pct'], ascending=False)[0:5]"
   ]
  },
  {
   "cell_type": "code",
   "execution_count": null,
   "metadata": {
    "ExecuteTime": {
     "end_time": "2021-03-02T22:34:31.686510Z",
     "start_time": "2021-03-02T22:34:31.674273Z"
    }
   },
   "outputs": [],
   "source": [
    "pct_df.sort_values(by=['Chi_pct'], ascending=False)[0:5]"
   ]
  },
  {
   "cell_type": "code",
   "execution_count": null,
   "metadata": {
    "ExecuteTime": {
     "end_time": "2021-03-02T22:34:31.702130Z",
     "start_time": "2021-03-02T22:34:31.688647Z"
    }
   },
   "outputs": [],
   "source": [
    "pct_df.sort_values(by=['Dal_pct'], ascending=False)[0:5]"
   ]
  },
  {
   "cell_type": "code",
   "execution_count": null,
   "metadata": {
    "ExecuteTime": {
     "end_time": "2021-03-02T22:34:31.715952Z",
     "start_time": "2021-03-02T22:34:31.704153Z"
    }
   },
   "outputs": [],
   "source": [
    "pct_df.sort_values(by=['SF_pct'], ascending=False)[0:5]"
   ]
  },
  {
   "cell_type": "markdown",
   "metadata": {},
   "source": [
    "## Regions That are Over 20% of a city's mex restaurants "
   ]
  },
  {
   "cell_type": "code",
   "execution_count": null,
   "metadata": {
    "ExecuteTime": {
     "end_time": "2021-03-02T22:34:31.725302Z",
     "start_time": "2021-03-02T22:34:31.717720Z"
    }
   },
   "outputs": [],
   "source": [
    "over_20_regions = []\n",
    "for idx, x in enumerate(pct_df['Region']):\n",
    "    for col in pct_df.columns[-4:]:\n",
    "        if pct_df[col][idx] >= 0.20:\n",
    "            if x not in over_20_regions:\n",
    "                over_20_regions.append(x)\n",
    "over_20_regions"
   ]
  },
  {
   "cell_type": "code",
   "execution_count": null,
   "metadata": {
    "ExecuteTime": {
     "end_time": "2021-03-02T22:34:31.731396Z",
     "start_time": "2021-03-02T22:34:31.726985Z"
    }
   },
   "outputs": [],
   "source": [
    "over_20_df = pct_df[pct_df['Region'].isin(over_20_regions)][['Region',\"Chi_pct\", \"Dal_pct\", 'NYC_pct', \"SF_pct\"]]"
   ]
  },
  {
   "cell_type": "markdown",
   "metadata": {},
   "source": [
    "## Saving Data "
   ]
  },
  {
   "cell_type": "code",
   "execution_count": null,
   "metadata": {
    "ExecuteTime": {
     "end_time": "2021-03-02T22:34:31.735150Z",
     "start_time": "2021-03-02T22:34:31.733076Z"
    }
   },
   "outputs": [],
   "source": [
    "# pct_df.to_csv(\"../my_saved_data/new_corrected_pct_df.csv\")\n",
    "# over_20_df.to_csv(\"../my_saved_data/regions_over_20_pct_of_city.csv\")"
   ]
  },
  {
   "cell_type": "markdown",
   "metadata": {},
   "source": [
    "# Culinary Regions of Mexico"
   ]
  },
  {
   "cell_type": "markdown",
   "metadata": {},
   "source": [
    "## Adding Culinary Regions to DataFrame"
   ]
  },
  {
   "cell_type": "code",
   "execution_count": null,
   "metadata": {
    "ExecuteTime": {
     "end_time": "2021-03-02T22:34:31.739440Z",
     "start_time": "2021-03-02T22:34:31.736825Z"
    }
   },
   "outputs": [],
   "source": [
    "region_to_cul_region = {}\n",
    "for key, value in cul_reg_dict.items():\n",
    "    for item in value:\n",
    "        region_to_cul_region[item] = key"
   ]
  },
  {
   "cell_type": "code",
   "execution_count": null,
   "metadata": {
    "ExecuteTime": {
     "end_time": "2021-03-02T22:34:31.747537Z",
     "start_time": "2021-03-02T22:34:31.741203Z"
    }
   },
   "outputs": [],
   "source": [
    "rest_df['Culinary_region'] = rest_df['Final_region'].replace(region_to_cul_region)"
   ]
  },
  {
   "cell_type": "code",
   "execution_count": null,
   "metadata": {
    "ExecuteTime": {
     "end_time": "2021-03-02T22:34:31.760053Z",
     "start_time": "2021-03-02T22:34:31.749247Z"
    }
   },
   "outputs": [],
   "source": [
    "rest_df"
   ]
  },
  {
   "cell_type": "markdown",
   "metadata": {},
   "source": [
    "## Grouping Culinary Regions Together"
   ]
  },
  {
   "cell_type": "code",
   "execution_count": null,
   "metadata": {
    "ExecuteTime": {
     "end_time": "2021-03-02T22:34:31.767206Z",
     "start_time": "2021-03-02T22:34:31.761830Z"
    }
   },
   "outputs": [],
   "source": [
    "orig_super_region_df = rest_df.groupby('Culinary_region').count()"
   ]
  },
  {
   "cell_type": "code",
   "execution_count": null,
   "metadata": {
    "ExecuteTime": {
     "end_time": "2021-03-02T22:34:31.774039Z",
     "start_time": "2021-03-02T22:34:31.768691Z"
    }
   },
   "outputs": [],
   "source": [
    "super_region_df = orig_super_region_df[['Restaurant']]\n",
    "super_region_df['Percentage'] = round(super_region_df['Restaurant'] / rest_df.shape[0], 2)"
   ]
  },
  {
   "cell_type": "code",
   "execution_count": null,
   "metadata": {
    "ExecuteTime": {
     "end_time": "2021-03-02T22:34:31.781424Z",
     "start_time": "2021-03-02T22:34:31.775677Z"
    }
   },
   "outputs": [],
   "source": [
    "super_region_df"
   ]
  },
  {
   "cell_type": "markdown",
   "metadata": {},
   "source": [
    "## Grouping by Cities and Culinary Regions"
   ]
  },
  {
   "cell_type": "code",
   "execution_count": null,
   "metadata": {},
   "outputs": [],
   "source": [
    "nyc_regions = count_regions_in_city(\"NYC\", rest_df)\n",
    "dal_regions = count_regions_in_city(\"Dal\", rest_df)\n",
    "sf_regions = count_regions_in_city(\"SF\", rest_df)\n",
    "chi_regions = count_regions_in_city(\"Chi\", rest_df)"
   ]
  },
  {
   "cell_type": "code",
   "execution_count": null,
   "metadata": {
    "ExecuteTime": {
     "end_time": "2021-03-02T22:40:53.296688Z",
     "start_time": "2021-03-02T22:40:53.290076Z"
    }
   },
   "outputs": [],
   "source": [
    "nyc_regions"
   ]
  },
  {
   "cell_type": "code",
   "execution_count": null,
   "metadata": {
    "ExecuteTime": {
     "end_time": "2021-03-02T22:50:02.315390Z",
     "start_time": "2021-03-02T22:50:02.309906Z"
    }
   },
   "outputs": [],
   "source": [
    "sum(nyc_regions.values())"
   ]
  },
  {
   "cell_type": "code",
   "execution_count": null,
   "metadata": {
    "ExecuteTime": {
     "end_time": "2021-03-02T22:53:02.817844Z",
     "start_time": "2021-03-02T22:53:02.781084Z"
    }
   },
   "outputs": [],
   "source": [
    "cities_cul_regions_list = []\n",
    "for item in [nyc_regions, dal_regions, sf_regions, chi_regions]:\n",
    "    item_df = pd.DataFrame.from_dict(item, orient = 'index').reset_index()\n",
    "    item_df.columns = ['Region', 'Count']\n",
    "    item_df['Culinary_region'] = item_df['Region'].replace(region_to_cul_region)\n",
    "    num_of_restaurants = sum(item.values())\n",
    "    item_df['Percentage'] = item_df['Count'] / num_of_restaurants\n",
    "    cities_cul_regions_list.append(item_df)\n",
    "cities_cul_regions_list[0]['City'] = 'NYC'\n",
    "cities_cul_regions_list[1]['City'] = 'Dal'\n",
    "cities_cul_regions_list[2]['City'] = 'SF'\n",
    "cities_cul_regions_list[3]['City'] = 'Chi'\n",
    "orig_cities_cul_regions_df = pd.concat(cities_cul_regions_list)"
   ]
  },
  {
   "cell_type": "code",
   "execution_count": null,
   "metadata": {
    "ExecuteTime": {
     "end_time": "2021-03-02T22:54:01.643730Z",
     "start_time": "2021-03-02T22:54:01.633644Z"
    }
   },
   "outputs": [],
   "source": [
    "cities_cul_regions_df = orig_cities_cul_regions_df.groupby([\"City\", \"Culinary_region\"]).sum()\n",
    "cities_cul_regions_df['Percentage'] = round(cities_cul_regions_df['Percentage'], 2)"
   ]
  },
  {
   "cell_type": "code",
   "execution_count": null,
   "metadata": {
    "ExecuteTime": {
     "end_time": "2021-03-03T14:40:48.409619Z",
     "start_time": "2021-03-03T14:40:48.399747Z"
    }
   },
   "outputs": [],
   "source": [
    "cities_cul_regions_df2 = orig_cities_cul_regions_df.groupby([\"Culinary_region\", \"City\"]).sum()\n",
    "cities_cul_regions_df2['Percentage'] = round(cities_cul_regions_df2['Percentage'], 2)"
   ]
  },
  {
   "cell_type": "code",
   "execution_count": null,
   "metadata": {
    "ExecuteTime": {
     "end_time": "2021-03-03T14:42:29.179054Z",
     "start_time": "2021-03-03T14:42:29.165276Z"
    }
   },
   "outputs": [],
   "source": [
    "# can I reshape this so that the cities are in separate columns\n",
    "cities_cul_regions_df2"
   ]
  },
  {
   "cell_type": "code",
   "execution_count": null,
   "metadata": {
    "ExecuteTime": {
     "end_time": "2021-03-02T22:54:02.296615Z",
     "start_time": "2021-03-02T22:54:02.288036Z"
    }
   },
   "outputs": [],
   "source": [
    "cities_cul_regions_df"
   ]
  }
 ],
 "metadata": {
  "kernelspec": {
   "display_name": "Python [conda env:learn-env] *",
   "language": "python",
   "name": "conda-env-learn-env-py"
  },
  "toc": {
   "base_numbering": 1,
   "nav_menu": {},
   "number_sections": true,
   "sideBar": true,
   "skip_h1_title": false,
   "title_cell": "Table of Contents",
   "title_sidebar": "Contents",
   "toc_cell": false,
   "toc_position": {
    "height": "calc(100% - 180px)",
    "left": "10px",
    "top": "150px",
    "width": "330.1875px"
   },
   "toc_section_display": true,
   "toc_window_display": true
  },
  "varInspector": {
   "cols": {
    "lenName": 16,
    "lenType": 16,
    "lenVar": 40
   },
   "kernels_config": {
    "python": {
     "delete_cmd_postfix": "",
     "delete_cmd_prefix": "del ",
     "library": "var_list.py",
     "varRefreshCmd": "print(var_dic_list())"
    },
    "r": {
     "delete_cmd_postfix": ") ",
     "delete_cmd_prefix": "rm(",
     "library": "var_list.r",
     "varRefreshCmd": "cat(var_dic_list()) "
    }
   },
   "types_to_exclude": [
    "module",
    "function",
    "builtin_function_or_method",
    "instance",
    "_Feature"
   ],
   "window_display": false
  }
 },
 "nbformat": 4,
 "nbformat_minor": 2
}
